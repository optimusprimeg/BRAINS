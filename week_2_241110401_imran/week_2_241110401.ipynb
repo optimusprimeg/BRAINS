{
  "cells": [
    {
      "cell_type": "markdown",
      "source": [
        "# Problem Statement 1: Trade Logic & Risk Control Basics"
      ],
      "metadata": {
        "id": "pk6UvIoQl-Fc"
      }
    },
    {
      "cell_type": "markdown",
      "source": [
        "1. What does leverage less than 1 mean? Does it normally make financial sense? Think of\n",
        "its utility/applicability in our backtesting engine, if any. (Hint: Think of position sizing)"
      ],
      "metadata": {
        "id": "h7RkDTMjmH28"
      }
    },
    {
      "cell_type": "markdown",
      "source": [
        "leverage less than 1 mean you only trade some of your capital without investing full capital that you have and also not borrowing any funds from others."
      ],
      "metadata": {
        "id": "PbnbCNFWmVte"
      }
    },
    {
      "cell_type": "markdown",
      "source": [
        "In normal cases it makes sense, but sometimes not.\n",
        "\n",
        "It makes sense when we want to avoid risk during volatile times means likely to change suddenly and unexpectedly.\n",
        "\n",
        "It doesn't make sense when there is no (or) less volitality, you can invest there because stock won't change suddenly, then in those cases if you are not investing full capital then you won't get full profits which means you are not using your money well which doesn't make sense."
      ],
      "metadata": {
        "id": "iX6R_o0cmsUk"
      }
    },
    {
      "cell_type": "markdown",
      "source": [
        "position_size = (capital_list[-1] * lev) // (current_price * lot_size)\n",
        "\n",
        "so, lev is multiplying with our current capital, which means if it is >1 then we are investing more than our capital and it may leads to high profits or high losses, if it is <1 then we are not investing fully our capital which is good during volatile times and not good otherwise. when lev=1, means no leverage, position size will take you whole capital without borrowing any"
      ],
      "metadata": {
        "id": "cHetvHE1okI5"
      }
    },
    {
      "cell_type": "markdown",
      "source": [
        "2. Explain the difference between a static stop loss and a trailing stop loss in the context of\n",
        "trade risk management. Discuss how each behaves in a trending market versus a volatile\n",
        "market."
      ],
      "metadata": {
        "id": "R3aLC4AJs-A1"
      }
    },
    {
      "cell_type": "markdown",
      "source": [
        "A static stop loss is a stop loss that calculates the same way regardless of the current market price and market volatility.\n",
        "\n",
        " A Trailing Stop Loss is a dynamic stop-loss that moves up with the stock price but doesn't move down.\n",
        "\n",
        " In trade risk management static stop loss is good for beginners to understand the trade and not to get huge losses, where as trailing stop loss is good for experienced people for not letting out too early and getting good profits.\n",
        "\n",
        " In trending market trailing stop loss is good because it increases stop loss with increase in profit.\n",
        "\n",
        " In volatile market where the prices changing suddenly, static stop loss is good because it cuts down at stop loss by avoiding risk of getting more losses as the market is volatile."
      ],
      "metadata": {
        "id": "yCodZoc8tEeX"
      }
    },
    {
      "cell_type": "markdown",
      "source": [
        "3. Analyze whether implementing a trailing take profit is necessary. Is its behavior captured by some other already defined risk management method? If yes, then name it.\n"
      ],
      "metadata": {
        "id": "YLU3ZG3zzxFt"
      }
    },
    {
      "cell_type": "markdown",
      "source": [
        "Trailing-Take-Profit (TTP) is a condition that monitors the price trend and automatically closes your position once a certain profit is achieved, while also defining the maximum acceptable loss.\n",
        "\n",
        "It is not strictly necessary to implement a trailing take profit,if we have defined trailing stop loss which also works in similar way.\n",
        "\n",
        "yes, it's behaviour has been captured by some other already defined risk management methos, it's name is 'Trailing stop loss'"
      ],
      "metadata": {
        "id": "QKS_h9A5zxmW"
      }
    },
    {
      "cell_type": "markdown",
      "source": [
        "4. In what scenarios can a trade remain open even after the price falls below the set stop-loss\n",
        "level?"
      ],
      "metadata": {
        "id": "QwBzkmUq5x-H"
      }
    },
    {
      "cell_type": "markdown",
      "source": [
        "In volatile markets, sudden price changes can cause the price to fall past the stop-loss level before the order executes. As a result, the trade may remain open if the order doesn’t execute at all or may close at a worse price due to slippage\n",
        "\n",
        "Technical issues, trade delays, or problems with the broker’s platform can prevent the stop-loss order from executing as expected, and the trade remains open.\n",
        "\n",
        "If the price falls below the stop-loss level after the  regular trading hours, the trade remains open until market reopens."
      ],
      "metadata": {
        "id": "yywz2X0p5ycP"
      }
    },
    {
      "cell_type": "markdown",
      "source": [
        "# Problem Statement 2: Probabilistic Pattern Validator"
      ],
      "metadata": {
        "id": "s9d5zBGN_Kgo"
      }
    },
    {
      "cell_type": "markdown",
      "source": [
        "\n",
        "\n",
        "# 1. Pattern Identification:\n",
        "For each of the specified candlestick patterns, scan a given OHLCV dataset and locate all\n",
        "occurrences of the pattern. Use data from any NSE-listed stock of your choice, covering a\n",
        "period of the last 5 years."
      ],
      "metadata": {
        "id": "C_aIwsdC_L3a"
      }
    },
    {
      "cell_type": "code",
      "source": [
        "!pip uninstall -y yfinance"
      ],
      "metadata": {
        "collapsed": true,
        "colab": {
          "base_uri": "https://localhost:8080/"
        },
        "id": "L5ArHdmbhIIP",
        "outputId": "0f844f63-bd9b-48cc-c3a2-118eb58ede45"
      },
      "execution_count": null,
      "outputs": [
        {
          "output_type": "stream",
          "name": "stdout",
          "text": [
            "Found existing installation: yfinance 0.2.37\n",
            "Uninstalling yfinance-0.2.37:\n",
            "  Successfully uninstalled yfinance-0.2.37\n"
          ]
        }
      ]
    },
    {
      "cell_type": "code",
      "source": [
        "!pip install yfinance==0.2.28"
      ],
      "metadata": {
        "collapsed": true,
        "colab": {
          "base_uri": "https://localhost:8080/"
        },
        "id": "kQM-J6b4hXdu",
        "outputId": "0e24ad3e-3acd-459a-95e3-f717480b7f55"
      },
      "execution_count": null,
      "outputs": [
        {
          "output_type": "stream",
          "name": "stdout",
          "text": [
            "Collecting yfinance==0.2.28\n",
            "  Downloading yfinance-0.2.28-py2.py3-none-any.whl.metadata (11 kB)\n",
            "Requirement already satisfied: pandas>=1.3.0 in /usr/local/lib/python3.11/dist-packages (from yfinance==0.2.28) (2.2.2)\n",
            "Requirement already satisfied: numpy>=1.16.5 in /usr/local/lib/python3.11/dist-packages (from yfinance==0.2.28) (2.0.2)\n",
            "Requirement already satisfied: requests>=2.31 in /usr/local/lib/python3.11/dist-packages (from yfinance==0.2.28) (2.31.0)\n",
            "Requirement already satisfied: multitasking>=0.0.7 in /usr/local/lib/python3.11/dist-packages (from yfinance==0.2.28) (0.0.11)\n",
            "Requirement already satisfied: lxml>=4.9.1 in /usr/local/lib/python3.11/dist-packages (from yfinance==0.2.28) (5.4.0)\n",
            "Requirement already satisfied: appdirs>=1.4.4 in /usr/local/lib/python3.11/dist-packages (from yfinance==0.2.28) (1.4.4)\n",
            "Requirement already satisfied: pytz>=2022.5 in /usr/local/lib/python3.11/dist-packages (from yfinance==0.2.28) (2025.2)\n",
            "Requirement already satisfied: frozendict>=2.3.4 in /usr/local/lib/python3.11/dist-packages (from yfinance==0.2.28) (2.4.6)\n",
            "Requirement already satisfied: beautifulsoup4>=4.11.1 in /usr/local/lib/python3.11/dist-packages (from yfinance==0.2.28) (4.13.4)\n",
            "Requirement already satisfied: html5lib>=1.1 in /usr/local/lib/python3.11/dist-packages (from yfinance==0.2.28) (1.1)\n",
            "Requirement already satisfied: soupsieve>1.2 in /usr/local/lib/python3.11/dist-packages (from beautifulsoup4>=4.11.1->yfinance==0.2.28) (2.7)\n",
            "Requirement already satisfied: typing-extensions>=4.0.0 in /usr/local/lib/python3.11/dist-packages (from beautifulsoup4>=4.11.1->yfinance==0.2.28) (4.9.0)\n",
            "Requirement already satisfied: six>=1.9 in /usr/local/lib/python3.11/dist-packages (from html5lib>=1.1->yfinance==0.2.28) (1.17.0)\n",
            "Requirement already satisfied: webencodings in /usr/local/lib/python3.11/dist-packages (from html5lib>=1.1->yfinance==0.2.28) (0.5.1)\n",
            "Requirement already satisfied: python-dateutil>=2.8.2 in /usr/local/lib/python3.11/dist-packages (from pandas>=1.3.0->yfinance==0.2.28) (2.9.0.post0)\n",
            "Requirement already satisfied: tzdata>=2022.7 in /usr/local/lib/python3.11/dist-packages (from pandas>=1.3.0->yfinance==0.2.28) (2025.2)\n",
            "Requirement already satisfied: charset-normalizer<4,>=2 in /usr/local/lib/python3.11/dist-packages (from requests>=2.31->yfinance==0.2.28) (3.3.2)\n",
            "Requirement already satisfied: idna<4,>=2.5 in /usr/local/lib/python3.11/dist-packages (from requests>=2.31->yfinance==0.2.28) (3.6)\n",
            "Requirement already satisfied: urllib3<3,>=1.21.1 in /usr/local/lib/python3.11/dist-packages (from requests>=2.31->yfinance==0.2.28) (1.26.18)\n",
            "Requirement already satisfied: certifi>=2017.4.17 in /usr/local/lib/python3.11/dist-packages (from requests>=2.31->yfinance==0.2.28) (2023.11.17)\n",
            "Downloading yfinance-0.2.28-py2.py3-none-any.whl (65 kB)\n",
            "\u001b[2K   \u001b[90m━━━━━━━━━━━━━━━━━━━━━━━━━━━━━━━━━━━━━━━━\u001b[0m \u001b[32m65.3/65.3 kB\u001b[0m \u001b[31m1.8 MB/s\u001b[0m eta \u001b[36m0:00:00\u001b[0m\n",
            "\u001b[?25hInstalling collected packages: yfinance\n",
            "Successfully installed yfinance-0.2.28\n"
          ]
        }
      ]
    },
    {
      "cell_type": "code",
      "source": [
        "!pip uninstall yfinance -y"
      ],
      "metadata": {
        "colab": {
          "base_uri": "https://localhost:8080/"
        },
        "id": "SVvrl_H9hq-q",
        "outputId": "a5ceba40-a922-469e-b9d7-56cbdba83956"
      },
      "execution_count": null,
      "outputs": [
        {
          "output_type": "stream",
          "name": "stdout",
          "text": [
            "Found existing installation: yfinance 0.2.28\n",
            "Uninstalling yfinance-0.2.28:\n",
            "  Successfully uninstalled yfinance-0.2.28\n"
          ]
        }
      ]
    },
    {
      "cell_type": "code",
      "source": [
        "!pip cache purge"
      ],
      "metadata": {
        "colab": {
          "base_uri": "https://localhost:8080/"
        },
        "id": "oQxcazyMhtzx",
        "outputId": "0becc26d-1e9c-4c36-a7c3-4f87a82a939a"
      },
      "execution_count": null,
      "outputs": [
        {
          "output_type": "stream",
          "name": "stdout",
          "text": [
            "Files removed: 280\n"
          ]
        }
      ]
    },
    {
      "cell_type": "code",
      "source": [
        "!pip install yfinance==0.2.28"
      ],
      "metadata": {
        "colab": {
          "base_uri": "https://localhost:8080/"
        },
        "collapsed": true,
        "id": "DAI5wJrjhv14",
        "outputId": "1ad5799f-37f7-4e72-8a6a-d37fc153774d"
      },
      "execution_count": null,
      "outputs": [
        {
          "output_type": "stream",
          "name": "stdout",
          "text": [
            "Collecting yfinance==0.2.28\n",
            "  Downloading yfinance-0.2.28-py2.py3-none-any.whl.metadata (11 kB)\n",
            "Requirement already satisfied: pandas>=1.3.0 in /usr/local/lib/python3.11/dist-packages (from yfinance==0.2.28) (2.2.2)\n",
            "Requirement already satisfied: numpy>=1.16.5 in /usr/local/lib/python3.11/dist-packages (from yfinance==0.2.28) (2.0.2)\n",
            "Requirement already satisfied: requests>=2.31 in /usr/local/lib/python3.11/dist-packages (from yfinance==0.2.28) (2.31.0)\n",
            "Requirement already satisfied: multitasking>=0.0.7 in /usr/local/lib/python3.11/dist-packages (from yfinance==0.2.28) (0.0.11)\n",
            "Requirement already satisfied: lxml>=4.9.1 in /usr/local/lib/python3.11/dist-packages (from yfinance==0.2.28) (5.4.0)\n",
            "Requirement already satisfied: appdirs>=1.4.4 in /usr/local/lib/python3.11/dist-packages (from yfinance==0.2.28) (1.4.4)\n",
            "Requirement already satisfied: pytz>=2022.5 in /usr/local/lib/python3.11/dist-packages (from yfinance==0.2.28) (2025.2)\n",
            "Requirement already satisfied: frozendict>=2.3.4 in /usr/local/lib/python3.11/dist-packages (from yfinance==0.2.28) (2.4.6)\n",
            "Requirement already satisfied: beautifulsoup4>=4.11.1 in /usr/local/lib/python3.11/dist-packages (from yfinance==0.2.28) (4.13.4)\n",
            "Requirement already satisfied: html5lib>=1.1 in /usr/local/lib/python3.11/dist-packages (from yfinance==0.2.28) (1.1)\n",
            "Requirement already satisfied: soupsieve>1.2 in /usr/local/lib/python3.11/dist-packages (from beautifulsoup4>=4.11.1->yfinance==0.2.28) (2.7)\n",
            "Requirement already satisfied: typing-extensions>=4.0.0 in /usr/local/lib/python3.11/dist-packages (from beautifulsoup4>=4.11.1->yfinance==0.2.28) (4.9.0)\n",
            "Requirement already satisfied: six>=1.9 in /usr/local/lib/python3.11/dist-packages (from html5lib>=1.1->yfinance==0.2.28) (1.17.0)\n",
            "Requirement already satisfied: webencodings in /usr/local/lib/python3.11/dist-packages (from html5lib>=1.1->yfinance==0.2.28) (0.5.1)\n",
            "Requirement already satisfied: python-dateutil>=2.8.2 in /usr/local/lib/python3.11/dist-packages (from pandas>=1.3.0->yfinance==0.2.28) (2.9.0.post0)\n",
            "Requirement already satisfied: tzdata>=2022.7 in /usr/local/lib/python3.11/dist-packages (from pandas>=1.3.0->yfinance==0.2.28) (2025.2)\n",
            "Requirement already satisfied: charset-normalizer<4,>=2 in /usr/local/lib/python3.11/dist-packages (from requests>=2.31->yfinance==0.2.28) (3.3.2)\n",
            "Requirement already satisfied: idna<4,>=2.5 in /usr/local/lib/python3.11/dist-packages (from requests>=2.31->yfinance==0.2.28) (3.6)\n",
            "Requirement already satisfied: urllib3<3,>=1.21.1 in /usr/local/lib/python3.11/dist-packages (from requests>=2.31->yfinance==0.2.28) (1.26.18)\n",
            "Requirement already satisfied: certifi>=2017.4.17 in /usr/local/lib/python3.11/dist-packages (from requests>=2.31->yfinance==0.2.28) (2023.11.17)\n",
            "Downloading yfinance-0.2.28-py2.py3-none-any.whl (65 kB)\n",
            "\u001b[2K   \u001b[90m━━━━━━━━━━━━━━━━━━━━━━━━━━━━━━━━━━━━━━━━\u001b[0m \u001b[32m65.3/65.3 kB\u001b[0m \u001b[31m2.0 MB/s\u001b[0m eta \u001b[36m0:00:00\u001b[0m\n",
            "\u001b[?25hInstalling collected packages: yfinance\n",
            "Successfully installed yfinance-0.2.28\n"
          ]
        }
      ]
    },
    {
      "cell_type": "code",
      "execution_count": null,
      "metadata": {
        "colab": {
          "base_uri": "https://localhost:8080/"
        },
        "collapsed": true,
        "id": "7MJhdDO95B35",
        "outputId": "683bbb2a-9b72-4123-81d9-e060ad1be85b"
      },
      "outputs": [
        {
          "output_type": "stream",
          "name": "stdout",
          "text": [
            "Requirement already satisfied: numpy in /usr/local/lib/python3.11/dist-packages (2.0.2)\n",
            "Requirement already satisfied: pandas in /usr/local/lib/python3.11/dist-packages (2.2.2)\n",
            "Requirement already satisfied: yfinance in /usr/local/lib/python3.11/dist-packages (0.2.28)\n",
            "Requirement already satisfied: matplotlib in /usr/local/lib/python3.11/dist-packages (3.10.0)\n",
            "Requirement already satisfied: seaborn in /usr/local/lib/python3.11/dist-packages (0.13.2)\n",
            "Requirement already satisfied: python-dateutil>=2.8.2 in /usr/local/lib/python3.11/dist-packages (from pandas) (2.9.0.post0)\n",
            "Requirement already satisfied: pytz>=2020.1 in /usr/local/lib/python3.11/dist-packages (from pandas) (2025.2)\n",
            "Requirement already satisfied: tzdata>=2022.7 in /usr/local/lib/python3.11/dist-packages (from pandas) (2025.2)\n",
            "Requirement already satisfied: requests>=2.31 in /usr/local/lib/python3.11/dist-packages (from yfinance) (2.31.0)\n",
            "Requirement already satisfied: multitasking>=0.0.7 in /usr/local/lib/python3.11/dist-packages (from yfinance) (0.0.11)\n",
            "Requirement already satisfied: lxml>=4.9.1 in /usr/local/lib/python3.11/dist-packages (from yfinance) (5.4.0)\n",
            "Requirement already satisfied: appdirs>=1.4.4 in /usr/local/lib/python3.11/dist-packages (from yfinance) (1.4.4)\n",
            "Requirement already satisfied: frozendict>=2.3.4 in /usr/local/lib/python3.11/dist-packages (from yfinance) (2.4.6)\n",
            "Requirement already satisfied: beautifulsoup4>=4.11.1 in /usr/local/lib/python3.11/dist-packages (from yfinance) (4.13.4)\n",
            "Requirement already satisfied: html5lib>=1.1 in /usr/local/lib/python3.11/dist-packages (from yfinance) (1.1)\n",
            "Requirement already satisfied: contourpy>=1.0.1 in /usr/local/lib/python3.11/dist-packages (from matplotlib) (1.3.2)\n",
            "Requirement already satisfied: cycler>=0.10 in /usr/local/lib/python3.11/dist-packages (from matplotlib) (0.12.1)\n",
            "Requirement already satisfied: fonttools>=4.22.0 in /usr/local/lib/python3.11/dist-packages (from matplotlib) (4.58.1)\n",
            "Requirement already satisfied: kiwisolver>=1.3.1 in /usr/local/lib/python3.11/dist-packages (from matplotlib) (1.4.8)\n",
            "Requirement already satisfied: packaging>=20.0 in /usr/local/lib/python3.11/dist-packages (from matplotlib) (23.2)\n",
            "Requirement already satisfied: pillow>=8 in /usr/local/lib/python3.11/dist-packages (from matplotlib) (11.2.1)\n",
            "Requirement already satisfied: pyparsing>=2.3.1 in /usr/local/lib/python3.11/dist-packages (from matplotlib) (3.2.3)\n",
            "Requirement already satisfied: soupsieve>1.2 in /usr/local/lib/python3.11/dist-packages (from beautifulsoup4>=4.11.1->yfinance) (2.7)\n",
            "Requirement already satisfied: typing-extensions>=4.0.0 in /usr/local/lib/python3.11/dist-packages (from beautifulsoup4>=4.11.1->yfinance) (4.9.0)\n",
            "Requirement already satisfied: six>=1.9 in /usr/local/lib/python3.11/dist-packages (from html5lib>=1.1->yfinance) (1.17.0)\n",
            "Requirement already satisfied: webencodings in /usr/local/lib/python3.11/dist-packages (from html5lib>=1.1->yfinance) (0.5.1)\n",
            "Requirement already satisfied: charset-normalizer<4,>=2 in /usr/local/lib/python3.11/dist-packages (from requests>=2.31->yfinance) (3.3.2)\n",
            "Requirement already satisfied: idna<4,>=2.5 in /usr/local/lib/python3.11/dist-packages (from requests>=2.31->yfinance) (3.6)\n",
            "Requirement already satisfied: urllib3<3,>=1.21.1 in /usr/local/lib/python3.11/dist-packages (from requests>=2.31->yfinance) (1.26.18)\n",
            "Requirement already satisfied: certifi>=2017.4.17 in /usr/local/lib/python3.11/dist-packages (from requests>=2.31->yfinance) (2023.11.17)\n"
          ]
        }
      ],
      "source": [
        "!pip install numpy pandas yfinance matplotlib seaborn"
      ]
    },
    {
      "cell_type": "code",
      "source": [
        "!pip install yfinance --upgrade --no-cache-dir"
      ],
      "metadata": {
        "colab": {
          "base_uri": "https://localhost:8080/",
          "height": 1000
        },
        "collapsed": true,
        "id": "V9IpdlNKKsLT",
        "outputId": "94a18554-ca69-41af-c353-60d20120b1f7"
      },
      "execution_count": null,
      "outputs": [
        {
          "output_type": "stream",
          "name": "stdout",
          "text": [
            "Requirement already satisfied: yfinance in /usr/local/lib/python3.11/dist-packages (0.2.28)\n",
            "Collecting yfinance\n",
            "  Downloading yfinance-0.2.63-py2.py3-none-any.whl.metadata (5.8 kB)\n",
            "Requirement already satisfied: pandas>=1.3.0 in /usr/local/lib/python3.11/dist-packages (from yfinance) (2.2.2)\n",
            "Requirement already satisfied: numpy>=1.16.5 in /usr/local/lib/python3.11/dist-packages (from yfinance) (2.0.2)\n",
            "Requirement already satisfied: requests>=2.31 in /usr/local/lib/python3.11/dist-packages (from yfinance) (2.31.0)\n",
            "Requirement already satisfied: multitasking>=0.0.7 in /usr/local/lib/python3.11/dist-packages (from yfinance) (0.0.11)\n",
            "Requirement already satisfied: platformdirs>=2.0.0 in /usr/local/lib/python3.11/dist-packages (from yfinance) (4.1.0)\n",
            "Requirement already satisfied: pytz>=2022.5 in /usr/local/lib/python3.11/dist-packages (from yfinance) (2025.2)\n",
            "Requirement already satisfied: frozendict>=2.3.4 in /usr/local/lib/python3.11/dist-packages (from yfinance) (2.4.6)\n",
            "Requirement already satisfied: peewee>=3.16.2 in /usr/local/lib/python3.11/dist-packages (from yfinance) (3.18.1)\n",
            "Requirement already satisfied: beautifulsoup4>=4.11.1 in /usr/local/lib/python3.11/dist-packages (from yfinance) (4.13.4)\n",
            "Requirement already satisfied: curl_cffi>=0.7 in /usr/local/lib/python3.11/dist-packages (from yfinance) (0.11.1)\n",
            "Requirement already satisfied: protobuf>=3.19.0 in /usr/local/lib/python3.11/dist-packages (from yfinance) (5.29.5)\n",
            "Collecting websockets>=13.0 (from yfinance)\n",
            "  Downloading websockets-15.0.1-cp311-cp311-manylinux_2_5_x86_64.manylinux1_x86_64.manylinux_2_17_x86_64.manylinux2014_x86_64.whl.metadata (6.8 kB)\n",
            "Requirement already satisfied: soupsieve>1.2 in /usr/local/lib/python3.11/dist-packages (from beautifulsoup4>=4.11.1->yfinance) (2.7)\n",
            "Requirement already satisfied: typing-extensions>=4.0.0 in /usr/local/lib/python3.11/dist-packages (from beautifulsoup4>=4.11.1->yfinance) (4.9.0)\n",
            "Requirement already satisfied: cffi>=1.12.0 in /usr/local/lib/python3.11/dist-packages (from curl_cffi>=0.7->yfinance) (1.17.1)\n",
            "Collecting certifi>=2024.2.2 (from curl_cffi>=0.7->yfinance)\n",
            "  Downloading certifi-2025.4.26-py3-none-any.whl.metadata (2.5 kB)\n",
            "Requirement already satisfied: python-dateutil>=2.8.2 in /usr/local/lib/python3.11/dist-packages (from pandas>=1.3.0->yfinance) (2.9.0.post0)\n",
            "Requirement already satisfied: tzdata>=2022.7 in /usr/local/lib/python3.11/dist-packages (from pandas>=1.3.0->yfinance) (2025.2)\n",
            "Requirement already satisfied: charset-normalizer<4,>=2 in /usr/local/lib/python3.11/dist-packages (from requests>=2.31->yfinance) (3.3.2)\n",
            "Requirement already satisfied: idna<4,>=2.5 in /usr/local/lib/python3.11/dist-packages (from requests>=2.31->yfinance) (3.6)\n",
            "Requirement already satisfied: urllib3<3,>=1.21.1 in /usr/local/lib/python3.11/dist-packages (from requests>=2.31->yfinance) (1.26.18)\n",
            "Requirement already satisfied: pycparser in /usr/local/lib/python3.11/dist-packages (from cffi>=1.12.0->curl_cffi>=0.7->yfinance) (2.22)\n",
            "Requirement already satisfied: six>=1.5 in /usr/local/lib/python3.11/dist-packages (from python-dateutil>=2.8.2->pandas>=1.3.0->yfinance) (1.17.0)\n",
            "Downloading yfinance-0.2.63-py2.py3-none-any.whl (118 kB)\n",
            "\u001b[2K   \u001b[90m━━━━━━━━━━━━━━━━━━━━━━━━━━━━━━━━━━━━━━━━\u001b[0m \u001b[32m118.4/118.4 kB\u001b[0m \u001b[31m6.2 MB/s\u001b[0m eta \u001b[36m0:00:00\u001b[0m\n",
            "\u001b[?25hDownloading websockets-15.0.1-cp311-cp311-manylinux_2_5_x86_64.manylinux1_x86_64.manylinux_2_17_x86_64.manylinux2014_x86_64.whl (182 kB)\n",
            "\u001b[2K   \u001b[90m━━━━━━━━━━━━━━━━━━━━━━━━━━━━━━━━━━━━━━━\u001b[0m \u001b[32m182.3/182.3 kB\u001b[0m \u001b[31m167.1 MB/s\u001b[0m eta \u001b[36m0:00:00\u001b[0m\n",
            "\u001b[?25hDownloading certifi-2025.4.26-py3-none-any.whl (159 kB)\n",
            "\u001b[2K   \u001b[90m━━━━━━━━━━━━━━━━━━━━━━━━━━━━━━━━━━━━━━━\u001b[0m \u001b[32m159.6/159.6 kB\u001b[0m \u001b[31m147.2 MB/s\u001b[0m eta \u001b[36m0:00:00\u001b[0m\n",
            "\u001b[?25hInstalling collected packages: websockets, certifi, yfinance\n",
            "  Attempting uninstall: websockets\n",
            "    Found existing installation: websockets 12.0\n",
            "    Uninstalling websockets-12.0:\n",
            "      Successfully uninstalled websockets-12.0\n",
            "  Attempting uninstall: certifi\n",
            "    Found existing installation: certifi 2023.11.17\n",
            "    Uninstalling certifi-2023.11.17:\n",
            "      Successfully uninstalled certifi-2023.11.17\n",
            "  Attempting uninstall: yfinance\n",
            "    Found existing installation: yfinance 0.2.28\n",
            "    Uninstalling yfinance-0.2.28:\n",
            "      Successfully uninstalled yfinance-0.2.28\n",
            "\u001b[31mERROR: pip's dependency resolver does not currently take into account all the packages that are installed. This behaviour is the source of the following dependency conflicts.\n",
            "polygon-api-client 1.13.3 requires certifi<2024.0.0,>=2022.5.18, but you have certifi 2025.4.26 which is incompatible.\n",
            "polygon-api-client 1.13.3 requires websockets<13.0,>=10.3, but you have websockets 15.0.1 which is incompatible.\n",
            "candlestick-patterns 1.2.0 requires certifi==2023.11.17, but you have certifi 2025.4.26 which is incompatible.\n",
            "candlestick-patterns 1.2.0 requires websockets==12.0, but you have websockets 15.0.1 which is incompatible.\n",
            "google-colab 1.0.0 requires requests==2.32.3, but you have requests 2.31.0 which is incompatible.\n",
            "langchain 0.3.25 requires pydantic<3.0.0,>=2.7.4, but you have pydantic 2.5.2 which is incompatible.\n",
            "google-cloud-bigquery 3.34.0 requires packaging>=24.2.0, but you have packaging 23.2 which is incompatible.\n",
            "google-genai 1.18.0 requires typing-extensions<5.0.0,>=4.11.0, but you have typing-extensions 4.9.0 which is incompatible.\n",
            "openai 1.84.0 requires typing-extensions<5,>=4.11, but you have typing-extensions 4.9.0 which is incompatible.\n",
            "langchain-core 0.3.63 requires pydantic>=2.7.4, but you have pydantic 2.5.2 which is incompatible.\u001b[0m\u001b[31m\n",
            "\u001b[0mSuccessfully installed certifi-2025.4.26 websockets-15.0.1 yfinance-0.2.63\n"
          ]
        },
        {
          "output_type": "display_data",
          "data": {
            "application/vnd.colab-display-data+json": {
              "pip_warning": {
                "packages": [
                  "certifi",
                  "websockets"
                ]
              },
              "id": "a74b7c107e0e4874964386494fdf3ec0"
            }
          },
          "metadata": {}
        }
      ]
    },
    {
      "cell_type": "code",
      "source": [
        "from datetime import datetime\n",
        "import matplotlib.pyplot as plt\n",
        "import seaborn as sb\n",
        "import numpy as np\n",
        "import pandas as pd\n",
        "import yfinance as yf"
      ],
      "metadata": {
        "id": "UZvFKGNdDH1w"
      },
      "execution_count": null,
      "outputs": []
    },
    {
      "cell_type": "code",
      "source": [
        "last_date=datetime(year=2025, month=6, day=10)\n",
        "begin_date=datetime(year=2020,month=6,day=10)"
      ],
      "metadata": {
        "id": "jDYrSJ5JmFjt"
      },
      "execution_count": null,
      "outputs": []
    },
    {
      "cell_type": "code",
      "source": [
        "ticker = \"TCS.NS\"\n",
        "stock = yf.download(\n",
        "    tickers=ticker,\n",
        "    start=begin_date,\n",
        "    end=last_date,\n",
        "    interval=\"1d\",\n",
        "    group_by='ticker',\n",
        "    auto_adjust=True,\n",
        "    progress=False\n",
        ")"
      ],
      "metadata": {
        "id": "UmNnCx7PDUrc"
      },
      "execution_count": null,
      "outputs": []
    },
    {
      "cell_type": "code",
      "source": [
        "stock = stock['TCS.NS']"
      ],
      "metadata": {
        "id": "diKTjeGV_qEh"
      },
      "execution_count": null,
      "outputs": []
    },
    {
      "cell_type": "code",
      "source": [
        "stock"
      ],
      "metadata": {
        "colab": {
          "base_uri": "https://localhost:8080/",
          "height": 455
        },
        "collapsed": true,
        "id": "0ta8SGyIEHSn",
        "outputId": "aa4c3e05-d30a-49e8-d444-9c4e6e798a7e"
      },
      "execution_count": null,
      "outputs": [
        {
          "output_type": "execute_result",
          "data": {
            "text/plain": [
              "Price              Open         High          Low        Close   Volume\n",
              "Date                                                                   \n",
              "2020-06-10  1899.715995  1949.974438  1896.469042  1928.709473  5168397\n",
              "2020-06-11  1920.706152  1925.279262  1885.767637  1891.118042  2269513\n",
              "2020-06-12  1839.487614  1874.243248  1839.304734  1865.371460  2842642\n",
              "2020-06-15  1865.005664  1883.206664  1830.112813  1856.591187  2399022\n",
              "2020-06-16  1888.694487  1896.880310  1857.597338  1871.133789  2146528\n",
              "...                 ...          ...          ...          ...      ...\n",
              "2025-06-03  3415.640549  3442.898273  3370.541407  3375.199951  2848125\n",
              "2025-06-04  3389.000000  3394.800049  3370.000000  3380.899902  2544807\n",
              "2025-06-05  3409.000000  3409.000000  3363.699951  3371.100098  3584683\n",
              "2025-06-06  3371.100098  3390.899902  3358.699951  3384.199951  2070390\n",
              "2025-06-09  3400.000000  3434.000000  3390.899902  3421.899902  1718678\n",
              "\n",
              "[1239 rows x 5 columns]"
            ],
            "text/html": [
              "\n",
              "  <div id=\"df-a7f250a5-f114-4007-92b9-f3942f12f232\" class=\"colab-df-container\">\n",
              "    <div>\n",
              "<style scoped>\n",
              "    .dataframe tbody tr th:only-of-type {\n",
              "        vertical-align: middle;\n",
              "    }\n",
              "\n",
              "    .dataframe tbody tr th {\n",
              "        vertical-align: top;\n",
              "    }\n",
              "\n",
              "    .dataframe thead th {\n",
              "        text-align: right;\n",
              "    }\n",
              "</style>\n",
              "<table border=\"1\" class=\"dataframe\">\n",
              "  <thead>\n",
              "    <tr style=\"text-align: right;\">\n",
              "      <th>Price</th>\n",
              "      <th>Open</th>\n",
              "      <th>High</th>\n",
              "      <th>Low</th>\n",
              "      <th>Close</th>\n",
              "      <th>Volume</th>\n",
              "    </tr>\n",
              "    <tr>\n",
              "      <th>Date</th>\n",
              "      <th></th>\n",
              "      <th></th>\n",
              "      <th></th>\n",
              "      <th></th>\n",
              "      <th></th>\n",
              "    </tr>\n",
              "  </thead>\n",
              "  <tbody>\n",
              "    <tr>\n",
              "      <th>2020-06-10</th>\n",
              "      <td>1899.715995</td>\n",
              "      <td>1949.974438</td>\n",
              "      <td>1896.469042</td>\n",
              "      <td>1928.709473</td>\n",
              "      <td>5168397</td>\n",
              "    </tr>\n",
              "    <tr>\n",
              "      <th>2020-06-11</th>\n",
              "      <td>1920.706152</td>\n",
              "      <td>1925.279262</td>\n",
              "      <td>1885.767637</td>\n",
              "      <td>1891.118042</td>\n",
              "      <td>2269513</td>\n",
              "    </tr>\n",
              "    <tr>\n",
              "      <th>2020-06-12</th>\n",
              "      <td>1839.487614</td>\n",
              "      <td>1874.243248</td>\n",
              "      <td>1839.304734</td>\n",
              "      <td>1865.371460</td>\n",
              "      <td>2842642</td>\n",
              "    </tr>\n",
              "    <tr>\n",
              "      <th>2020-06-15</th>\n",
              "      <td>1865.005664</td>\n",
              "      <td>1883.206664</td>\n",
              "      <td>1830.112813</td>\n",
              "      <td>1856.591187</td>\n",
              "      <td>2399022</td>\n",
              "    </tr>\n",
              "    <tr>\n",
              "      <th>2020-06-16</th>\n",
              "      <td>1888.694487</td>\n",
              "      <td>1896.880310</td>\n",
              "      <td>1857.597338</td>\n",
              "      <td>1871.133789</td>\n",
              "      <td>2146528</td>\n",
              "    </tr>\n",
              "    <tr>\n",
              "      <th>...</th>\n",
              "      <td>...</td>\n",
              "      <td>...</td>\n",
              "      <td>...</td>\n",
              "      <td>...</td>\n",
              "      <td>...</td>\n",
              "    </tr>\n",
              "    <tr>\n",
              "      <th>2025-06-03</th>\n",
              "      <td>3415.640549</td>\n",
              "      <td>3442.898273</td>\n",
              "      <td>3370.541407</td>\n",
              "      <td>3375.199951</td>\n",
              "      <td>2848125</td>\n",
              "    </tr>\n",
              "    <tr>\n",
              "      <th>2025-06-04</th>\n",
              "      <td>3389.000000</td>\n",
              "      <td>3394.800049</td>\n",
              "      <td>3370.000000</td>\n",
              "      <td>3380.899902</td>\n",
              "      <td>2544807</td>\n",
              "    </tr>\n",
              "    <tr>\n",
              "      <th>2025-06-05</th>\n",
              "      <td>3409.000000</td>\n",
              "      <td>3409.000000</td>\n",
              "      <td>3363.699951</td>\n",
              "      <td>3371.100098</td>\n",
              "      <td>3584683</td>\n",
              "    </tr>\n",
              "    <tr>\n",
              "      <th>2025-06-06</th>\n",
              "      <td>3371.100098</td>\n",
              "      <td>3390.899902</td>\n",
              "      <td>3358.699951</td>\n",
              "      <td>3384.199951</td>\n",
              "      <td>2070390</td>\n",
              "    </tr>\n",
              "    <tr>\n",
              "      <th>2025-06-09</th>\n",
              "      <td>3400.000000</td>\n",
              "      <td>3434.000000</td>\n",
              "      <td>3390.899902</td>\n",
              "      <td>3421.899902</td>\n",
              "      <td>1718678</td>\n",
              "    </tr>\n",
              "  </tbody>\n",
              "</table>\n",
              "<p>1239 rows × 5 columns</p>\n",
              "</div>\n",
              "    <div class=\"colab-df-buttons\">\n",
              "\n",
              "  <div class=\"colab-df-container\">\n",
              "    <button class=\"colab-df-convert\" onclick=\"convertToInteractive('df-a7f250a5-f114-4007-92b9-f3942f12f232')\"\n",
              "            title=\"Convert this dataframe to an interactive table.\"\n",
              "            style=\"display:none;\">\n",
              "\n",
              "  <svg xmlns=\"http://www.w3.org/2000/svg\" height=\"24px\" viewBox=\"0 -960 960 960\">\n",
              "    <path d=\"M120-120v-720h720v720H120Zm60-500h600v-160H180v160Zm220 220h160v-160H400v160Zm0 220h160v-160H400v160ZM180-400h160v-160H180v160Zm440 0h160v-160H620v160ZM180-180h160v-160H180v160Zm440 0h160v-160H620v160Z\"/>\n",
              "  </svg>\n",
              "    </button>\n",
              "\n",
              "  <style>\n",
              "    .colab-df-container {\n",
              "      display:flex;\n",
              "      gap: 12px;\n",
              "    }\n",
              "\n",
              "    .colab-df-convert {\n",
              "      background-color: #E8F0FE;\n",
              "      border: none;\n",
              "      border-radius: 50%;\n",
              "      cursor: pointer;\n",
              "      display: none;\n",
              "      fill: #1967D2;\n",
              "      height: 32px;\n",
              "      padding: 0 0 0 0;\n",
              "      width: 32px;\n",
              "    }\n",
              "\n",
              "    .colab-df-convert:hover {\n",
              "      background-color: #E2EBFA;\n",
              "      box-shadow: 0px 1px 2px rgba(60, 64, 67, 0.3), 0px 1px 3px 1px rgba(60, 64, 67, 0.15);\n",
              "      fill: #174EA6;\n",
              "    }\n",
              "\n",
              "    .colab-df-buttons div {\n",
              "      margin-bottom: 4px;\n",
              "    }\n",
              "\n",
              "    [theme=dark] .colab-df-convert {\n",
              "      background-color: #3B4455;\n",
              "      fill: #D2E3FC;\n",
              "    }\n",
              "\n",
              "    [theme=dark] .colab-df-convert:hover {\n",
              "      background-color: #434B5C;\n",
              "      box-shadow: 0px 1px 3px 1px rgba(0, 0, 0, 0.15);\n",
              "      filter: drop-shadow(0px 1px 2px rgba(0, 0, 0, 0.3));\n",
              "      fill: #FFFFFF;\n",
              "    }\n",
              "  </style>\n",
              "\n",
              "    <script>\n",
              "      const buttonEl =\n",
              "        document.querySelector('#df-a7f250a5-f114-4007-92b9-f3942f12f232 button.colab-df-convert');\n",
              "      buttonEl.style.display =\n",
              "        google.colab.kernel.accessAllowed ? 'block' : 'none';\n",
              "\n",
              "      async function convertToInteractive(key) {\n",
              "        const element = document.querySelector('#df-a7f250a5-f114-4007-92b9-f3942f12f232');\n",
              "        const dataTable =\n",
              "          await google.colab.kernel.invokeFunction('convertToInteractive',\n",
              "                                                    [key], {});\n",
              "        if (!dataTable) return;\n",
              "\n",
              "        const docLinkHtml = 'Like what you see? Visit the ' +\n",
              "          '<a target=\"_blank\" href=https://colab.research.google.com/notebooks/data_table.ipynb>data table notebook</a>'\n",
              "          + ' to learn more about interactive tables.';\n",
              "        element.innerHTML = '';\n",
              "        dataTable['output_type'] = 'display_data';\n",
              "        await google.colab.output.renderOutput(dataTable, element);\n",
              "        const docLink = document.createElement('div');\n",
              "        docLink.innerHTML = docLinkHtml;\n",
              "        element.appendChild(docLink);\n",
              "      }\n",
              "    </script>\n",
              "  </div>\n",
              "\n",
              "\n",
              "    <div id=\"df-58c7502b-8898-43d9-a4cc-0365c3f43245\">\n",
              "      <button class=\"colab-df-quickchart\" onclick=\"quickchart('df-58c7502b-8898-43d9-a4cc-0365c3f43245')\"\n",
              "                title=\"Suggest charts\"\n",
              "                style=\"display:none;\">\n",
              "\n",
              "<svg xmlns=\"http://www.w3.org/2000/svg\" height=\"24px\"viewBox=\"0 0 24 24\"\n",
              "     width=\"24px\">\n",
              "    <g>\n",
              "        <path d=\"M19 3H5c-1.1 0-2 .9-2 2v14c0 1.1.9 2 2 2h14c1.1 0 2-.9 2-2V5c0-1.1-.9-2-2-2zM9 17H7v-7h2v7zm4 0h-2V7h2v10zm4 0h-2v-4h2v4z\"/>\n",
              "    </g>\n",
              "</svg>\n",
              "      </button>\n",
              "\n",
              "<style>\n",
              "  .colab-df-quickchart {\n",
              "      --bg-color: #E8F0FE;\n",
              "      --fill-color: #1967D2;\n",
              "      --hover-bg-color: #E2EBFA;\n",
              "      --hover-fill-color: #174EA6;\n",
              "      --disabled-fill-color: #AAA;\n",
              "      --disabled-bg-color: #DDD;\n",
              "  }\n",
              "\n",
              "  [theme=dark] .colab-df-quickchart {\n",
              "      --bg-color: #3B4455;\n",
              "      --fill-color: #D2E3FC;\n",
              "      --hover-bg-color: #434B5C;\n",
              "      --hover-fill-color: #FFFFFF;\n",
              "      --disabled-bg-color: #3B4455;\n",
              "      --disabled-fill-color: #666;\n",
              "  }\n",
              "\n",
              "  .colab-df-quickchart {\n",
              "    background-color: var(--bg-color);\n",
              "    border: none;\n",
              "    border-radius: 50%;\n",
              "    cursor: pointer;\n",
              "    display: none;\n",
              "    fill: var(--fill-color);\n",
              "    height: 32px;\n",
              "    padding: 0;\n",
              "    width: 32px;\n",
              "  }\n",
              "\n",
              "  .colab-df-quickchart:hover {\n",
              "    background-color: var(--hover-bg-color);\n",
              "    box-shadow: 0 1px 2px rgba(60, 64, 67, 0.3), 0 1px 3px 1px rgba(60, 64, 67, 0.15);\n",
              "    fill: var(--button-hover-fill-color);\n",
              "  }\n",
              "\n",
              "  .colab-df-quickchart-complete:disabled,\n",
              "  .colab-df-quickchart-complete:disabled:hover {\n",
              "    background-color: var(--disabled-bg-color);\n",
              "    fill: var(--disabled-fill-color);\n",
              "    box-shadow: none;\n",
              "  }\n",
              "\n",
              "  .colab-df-spinner {\n",
              "    border: 2px solid var(--fill-color);\n",
              "    border-color: transparent;\n",
              "    border-bottom-color: var(--fill-color);\n",
              "    animation:\n",
              "      spin 1s steps(1) infinite;\n",
              "  }\n",
              "\n",
              "  @keyframes spin {\n",
              "    0% {\n",
              "      border-color: transparent;\n",
              "      border-bottom-color: var(--fill-color);\n",
              "      border-left-color: var(--fill-color);\n",
              "    }\n",
              "    20% {\n",
              "      border-color: transparent;\n",
              "      border-left-color: var(--fill-color);\n",
              "      border-top-color: var(--fill-color);\n",
              "    }\n",
              "    30% {\n",
              "      border-color: transparent;\n",
              "      border-left-color: var(--fill-color);\n",
              "      border-top-color: var(--fill-color);\n",
              "      border-right-color: var(--fill-color);\n",
              "    }\n",
              "    40% {\n",
              "      border-color: transparent;\n",
              "      border-right-color: var(--fill-color);\n",
              "      border-top-color: var(--fill-color);\n",
              "    }\n",
              "    60% {\n",
              "      border-color: transparent;\n",
              "      border-right-color: var(--fill-color);\n",
              "    }\n",
              "    80% {\n",
              "      border-color: transparent;\n",
              "      border-right-color: var(--fill-color);\n",
              "      border-bottom-color: var(--fill-color);\n",
              "    }\n",
              "    90% {\n",
              "      border-color: transparent;\n",
              "      border-bottom-color: var(--fill-color);\n",
              "    }\n",
              "  }\n",
              "</style>\n",
              "\n",
              "      <script>\n",
              "        async function quickchart(key) {\n",
              "          const quickchartButtonEl =\n",
              "            document.querySelector('#' + key + ' button');\n",
              "          quickchartButtonEl.disabled = true;  // To prevent multiple clicks.\n",
              "          quickchartButtonEl.classList.add('colab-df-spinner');\n",
              "          try {\n",
              "            const charts = await google.colab.kernel.invokeFunction(\n",
              "                'suggestCharts', [key], {});\n",
              "          } catch (error) {\n",
              "            console.error('Error during call to suggestCharts:', error);\n",
              "          }\n",
              "          quickchartButtonEl.classList.remove('colab-df-spinner');\n",
              "          quickchartButtonEl.classList.add('colab-df-quickchart-complete');\n",
              "        }\n",
              "        (() => {\n",
              "          let quickchartButtonEl =\n",
              "            document.querySelector('#df-58c7502b-8898-43d9-a4cc-0365c3f43245 button');\n",
              "          quickchartButtonEl.style.display =\n",
              "            google.colab.kernel.accessAllowed ? 'block' : 'none';\n",
              "        })();\n",
              "      </script>\n",
              "    </div>\n",
              "\n",
              "  <div id=\"id_809be775-5aa4-4630-b424-86448abf93fd\">\n",
              "    <style>\n",
              "      .colab-df-generate {\n",
              "        background-color: #E8F0FE;\n",
              "        border: none;\n",
              "        border-radius: 50%;\n",
              "        cursor: pointer;\n",
              "        display: none;\n",
              "        fill: #1967D2;\n",
              "        height: 32px;\n",
              "        padding: 0 0 0 0;\n",
              "        width: 32px;\n",
              "      }\n",
              "\n",
              "      .colab-df-generate:hover {\n",
              "        background-color: #E2EBFA;\n",
              "        box-shadow: 0px 1px 2px rgba(60, 64, 67, 0.3), 0px 1px 3px 1px rgba(60, 64, 67, 0.15);\n",
              "        fill: #174EA6;\n",
              "      }\n",
              "\n",
              "      [theme=dark] .colab-df-generate {\n",
              "        background-color: #3B4455;\n",
              "        fill: #D2E3FC;\n",
              "      }\n",
              "\n",
              "      [theme=dark] .colab-df-generate:hover {\n",
              "        background-color: #434B5C;\n",
              "        box-shadow: 0px 1px 3px 1px rgba(0, 0, 0, 0.15);\n",
              "        filter: drop-shadow(0px 1px 2px rgba(0, 0, 0, 0.3));\n",
              "        fill: #FFFFFF;\n",
              "      }\n",
              "    </style>\n",
              "    <button class=\"colab-df-generate\" onclick=\"generateWithVariable('stock')\"\n",
              "            title=\"Generate code using this dataframe.\"\n",
              "            style=\"display:none;\">\n",
              "\n",
              "  <svg xmlns=\"http://www.w3.org/2000/svg\" height=\"24px\"viewBox=\"0 0 24 24\"\n",
              "       width=\"24px\">\n",
              "    <path d=\"M7,19H8.4L18.45,9,17,7.55,7,17.6ZM5,21V16.75L18.45,3.32a2,2,0,0,1,2.83,0l1.4,1.43a1.91,1.91,0,0,1,.58,1.4,1.91,1.91,0,0,1-.58,1.4L9.25,21ZM18.45,9,17,7.55Zm-12,3A5.31,5.31,0,0,0,4.9,8.1,5.31,5.31,0,0,0,1,6.5,5.31,5.31,0,0,0,4.9,4.9,5.31,5.31,0,0,0,6.5,1,5.31,5.31,0,0,0,8.1,4.9,5.31,5.31,0,0,0,12,6.5,5.46,5.46,0,0,0,6.5,12Z\"/>\n",
              "  </svg>\n",
              "    </button>\n",
              "    <script>\n",
              "      (() => {\n",
              "      const buttonEl =\n",
              "        document.querySelector('#id_809be775-5aa4-4630-b424-86448abf93fd button.colab-df-generate');\n",
              "      buttonEl.style.display =\n",
              "        google.colab.kernel.accessAllowed ? 'block' : 'none';\n",
              "\n",
              "      buttonEl.onclick = () => {\n",
              "        google.colab.notebook.generateWithVariable('stock');\n",
              "      }\n",
              "      })();\n",
              "    </script>\n",
              "  </div>\n",
              "\n",
              "    </div>\n",
              "  </div>\n"
            ],
            "application/vnd.google.colaboratory.intrinsic+json": {
              "type": "dataframe",
              "variable_name": "stock",
              "summary": "{\n  \"name\": \"stock\",\n  \"rows\": 1239,\n  \"fields\": [\n    {\n      \"column\": \"Date\",\n      \"properties\": {\n        \"dtype\": \"date\",\n        \"min\": \"2020-06-10 00:00:00\",\n        \"max\": \"2025-06-09 00:00:00\",\n        \"num_unique_values\": 1239,\n        \"samples\": [\n          \"2022-02-04 00:00:00\",\n          \"2021-06-22 00:00:00\",\n          \"2021-10-06 00:00:00\"\n        ],\n        \"semantic_type\": \"\",\n        \"description\": \"\"\n      }\n    },\n    {\n      \"column\": \"Open\",\n      \"properties\": {\n        \"dtype\": \"number\",\n        \"std\": 552.4036012042295,\n        \"min\": 1839.4876142146832,\n        \"max\": 4513.88990259323,\n        \"num_unique_values\": 1239,\n        \"samples\": [\n          3556.950199337599,\n          3062.297116600964,\n          3563.1386587326674\n        ],\n        \"semantic_type\": \"\",\n        \"description\": \"\"\n      }\n    },\n    {\n      \"column\": \"High\",\n      \"properties\": {\n        \"dtype\": \"number\",\n        \"std\": 556.4902425872946,\n        \"min\": 1869.4873178946448,\n        \"max\": 4529.919825961176,\n        \"num_unique_values\": 1239,\n        \"samples\": [\n          3565.7135951616374,\n          3083.660947734099,\n          3583.0628376295485\n        ],\n        \"semantic_type\": \"\",\n        \"description\": \"\"\n      }\n    },\n    {\n      \"column\": \"Low\",\n      \"properties\": {\n        \"dtype\": \"number\",\n        \"std\": 548.4976776105208,\n        \"min\": 1830.112813113807,\n        \"max\": 4450.758575284233,\n        \"num_unique_values\": 1239,\n        \"samples\": [\n          3513.785319563825,\n          3044.6870544897597,\n          3525.0550599297376\n        ],\n        \"semantic_type\": \"\",\n        \"description\": \"\"\n      }\n    },\n    {\n      \"column\": \"Close\",\n      \"properties\": {\n        \"dtype\": \"number\",\n        \"std\": 552.1792678461684,\n        \"min\": 1843.9696044921875,\n        \"max\": 4491.9423828125,\n        \"num_unique_values\": 1232,\n        \"samples\": [\n          3063.42529296875,\n          4446.6650390625,\n          2900.5166015625\n        ],\n        \"semantic_type\": \"\",\n        \"description\": \"\"\n      }\n    },\n    {\n      \"column\": \"Volume\",\n      \"properties\": {\n        \"dtype\": \"number\",\n        \"std\": 1595748,\n        \"min\": 0,\n        \"max\": 19839329,\n        \"num_unique_values\": 1239,\n        \"samples\": [\n          2307366,\n          1708688,\n          1678154\n        ],\n        \"semantic_type\": \"\",\n        \"description\": \"\"\n      }\n    }\n  ]\n}"
            }
          },
          "metadata": {},
          "execution_count": 5
        }
      ]
    },
    {
      "cell_type": "code",
      "source": [
        "def Doji_pattern(r, threshold=0.001):\n",
        "  body_of_candle=abs(r['Close']-r['Open'])\n",
        "  candle_Range=r['High']-r['Low']\n",
        "  return body_of_candle <= candle_Range*threshold"
      ],
      "metadata": {
        "id": "I1q3oPju1CN-"
      },
      "execution_count": null,
      "outputs": []
    },
    {
      "cell_type": "code",
      "source": [
        "def Hammer_pattern(r,body_multiplier=2, upper_shadow_threshold=0.1):\n",
        "  body=abs(r['Close']-r['Open'])\n",
        "  candle_range= r['High']-r['Low']\n",
        "  lower_shadow = min(r['Open'], r['Close']) - r['Low']\n",
        "  upper_shadow = r['High'] - max(r['Open'], r['Close'])\n",
        "\n",
        "  return (body > 0 and\n",
        "          lower_shadow >= body_multiplier *  body and\n",
        "          upper_shadow <= upper_shadow_threshold * body)"
      ],
      "metadata": {
        "id": "bvZNRhTk15II"
      },
      "execution_count": null,
      "outputs": []
    },
    {
      "cell_type": "code",
      "source": [
        "def Engulfing_pattern(df, indx):\n",
        "  if indx == 0:\n",
        "    return None\n",
        "\n",
        "  current=df.iloc[indx]\n",
        "  previous = df.iloc[indx - 1]\n",
        "\n",
        "  current_body = abs(current['Close'] - current['Open'])\n",
        "  previous_body = abs(previous['Close'] - previous['Open'])\n",
        "\n",
        "  bullish_engulfing = (\n",
        "    previous['Close'] < previous['Open'] and  # Previous is bearish\n",
        "    current['Close'] > current['Open'] and    # Current is bullish\n",
        "    current['Open'] <= previous['Close'] and  # Current engulfs previous\n",
        "    current['Close'] >= previous['Open'] and\n",
        "    current_body > previous_body\n",
        "  )\n",
        "\n",
        "\n",
        "  bearish_engulfing = (\n",
        "    previous['Close'] > previous['Open'] and  # Previous is bullish\n",
        "    current['Close'] < current['Open'] and    # Current is bearish\n",
        "    current['Open'] >= previous['Close'] and  # Current engulfs previous\n",
        "    current['Close'] <= previous['Open'] and\n",
        "    current_body > previous_body\n",
        "  )\n",
        "\n",
        "  if bullish_engulfing:\n",
        "       return \"Bullish Engulfing\"\n",
        "  elif bearish_engulfing:\n",
        "        return \"Bearish Engulfing\"\n",
        "  return None"
      ],
      "metadata": {
        "id": "YYxy4jdf3dOm"
      },
      "execution_count": null,
      "outputs": []
    },
    {
      "cell_type": "code",
      "source": [
        "stock['Doji_pattern'] = stock.apply(Doji_pattern, axis=1)\n",
        "stock['Hammer_pattern'] = stock.apply(Hammer_pattern, axis=1)\n",
        "stock['Engulfing_pattern'] = [Engulfing_pattern(stock, i) for i in range(len(stock))]"
      ],
      "metadata": {
        "id": "g-hfPuIk_z5L"
      },
      "execution_count": null,
      "outputs": []
    },
    {
      "cell_type": "code",
      "source": [
        "import plotly.graph_objects as pg\n",
        "\n",
        "chart = pg.Figure(\n",
        "    data=[\n",
        "        pg.Candlestick(\n",
        "            x=stock.index,\n",
        "            low=stock['Low'],\n",
        "            high=stock['High'],\n",
        "            close=stock['Close'],\n",
        "            open=stock['Open'],\n",
        "            increasing_line_color='green',\n",
        "            decreasing_line_color='black'\n",
        "        )\n",
        "    ]\n",
        ")"
      ],
      "metadata": {
        "id": "mZceSPjD_0-H"
      },
      "execution_count": null,
      "outputs": []
    },
    {
      "cell_type": "code",
      "source": [
        "annotations = []\n",
        "for idx, row in stock[stock['Doji_pattern']].iterrows():\n",
        "    annotations.append(\n",
        "        dict(\n",
        "            x=idx,\n",
        "            y=row['High'] * 1.01,  # Slightly above high\n",
        "            text=\"Doji_pattern\",\n",
        "            showarrow=True,\n",
        "            arrowhead=2,\n",
        "            ax=0,\n",
        "            ay=-30,\n",
        "            font=dict(color=\"blue\")\n",
        "        )\n",
        "    )\n",
        "\n",
        "for idx, row in stock[stock['Hammer_pattern']].iterrows():\n",
        "    annotations.append(\n",
        "        dict(\n",
        "            x=idx,\n",
        "            y=row['Low'] * 0.99,  # Slightly below low\n",
        "            text=\"Hammer_pattern\",\n",
        "            showarrow=True,\n",
        "            arrowhead=2,\n",
        "            ax=0,\n",
        "            ay=30,\n",
        "            font=dict(color=\"green\")\n",
        "        )\n",
        "    )\n",
        "\n",
        "for idx, row in stock[stock['Engulfing_pattern'].notnull()].iterrows():\n",
        "    annotations.append(\n",
        "        dict(\n",
        "            x=idx,\n",
        "            y=row['High'] * 1.02,  # Slightly above high\n",
        "            text=row['Engulfing_pattern'],\n",
        "            showarrow=True,\n",
        "            arrowhead=2,\n",
        "            ax=0,\n",
        "            ay=-50,\n",
        "            font=dict(color=\"red\")\n",
        "        )\n",
        "    )"
      ],
      "metadata": {
        "id": "eJm60Hxc_3JG"
      },
      "execution_count": null,
      "outputs": []
    },
    {
      "cell_type": "code",
      "source": [
        "chart.update_layout(\n",
        "    title='TCS Ltd with Candlestick Patterns',\n",
        "    xaxis_title='Date',\n",
        "    yaxis_title='TCS INR (Indian Rupees)',\n",
        "    annotations=annotations,\n",
        "    xaxis_rangeslider_visible=False\n",
        ")"
      ],
      "metadata": {
        "colab": {
          "base_uri": "https://localhost:8080/",
          "height": 542
        },
        "id": "jkP5Lryc_7Zg",
        "outputId": "949763ce-ffdf-47b8-e8a9-e9d45d01efd1"
      },
      "execution_count": null,
      "outputs": [
        {
          "output_type": "display_data",
          "data": {
            "text/html": [
              "<html>\n",
              "<head><meta charset=\"utf-8\" /></head>\n",
              "<body>\n",
              "    <div>            <script src=\"https://cdnjs.cloudflare.com/ajax/libs/mathjax/2.7.5/MathJax.js?config=TeX-AMS-MML_SVG\"></script><script type=\"text/javascript\">if (window.MathJax && window.MathJax.Hub && window.MathJax.Hub.Config) {window.MathJax.Hub.Config({SVG: {font: \"STIX-Web\"}});}</script>                <script type=\"text/javascript\">window.PlotlyConfig = {MathJaxConfig: 'local'};</script>\n",
              "        <script charset=\"utf-8\" src=\"https://cdn.plot.ly/plotly-2.35.2.min.js\"></script>                <div id=\"0a28b0b1-608d-41d0-8738-69cd3de886ee\" class=\"plotly-graph-div\" style=\"height:525px; width:100%;\"></div>            <script type=\"text/javascript\">                                    window.PLOTLYENV=window.PLOTLYENV || {};                                    if (document.getElementById(\"0a28b0b1-608d-41d0-8738-69cd3de886ee\")) {                    Plotly.newPlot(                        \"0a28b0b1-608d-41d0-8738-69cd3de886ee\",                        [{\"close\":[1928.70947265625,1891.1180419921875,1865.3714599609375,1856.5911865234375,1871.1337890625,1872.963134765625,1864.0911865234375,1870.0361328125,1854.807861328125,1861.5301513671875,1867.84130859375,1843.9696044921875,1937.9468994140625,1922.215576171875,1904.38037109375,1913.4349365234375,1972.9765625,2011.848388671875,2069.97265625,2076.10009765625,2029.4544677734375,2016.1463623046875,2032.6099853515625,2030.460693359375,1986.5126953125,2043.1741943359375,2048.536376953125,2017.369873046875,2023.9239501953125,2039.6444091796875,2008.3856201171875,1990.2818603515625,1977.6318359375,2022.9158935546875,2117.287109375,2086.39501953125,2089.55810546875,2091.299560546875,2066.31982421875,2062.240234375,2071.224853515625,2115.77490234375,2104.087158203125,2092.583251953125,2089.9248046875,2069.253173828125,2066.594970703125,2055.31982421875,2065.632080078125,2080.6201171875,2068.566162109375,2065.12841796875,2061.23291015625,2060.7744140625,2055.778564453125,2065.72412109375,2061.0498046875,2052.020263671875,2069.162109375,2059.17041015625,2076.403076171875,2107.891845703125,2098.0830078125,2133.145263671875,2152.532958984375,2133.696044921875,2136.90478515625,2176.274658203125,2283.800537109375,2283.800537109375,2294.4345703125,2255.888427734375,2245.7587890625,2259.875732421875,2312.721923828125,2261.845947265625,2137.912109375,2220.458984375,2224.1259765625,2281.050537109375,2284.62646484375,2313.18017578125,2480.3359375,2488.127685546875,2507.9736328125,2590.24462890625,2578.5576171875,2594.18701171875,2591.023681640625,2586.46728515625,2522.947265625,2543.84423828125,2496.20458984375,2521.473876953125,2462.9248046875,2459.01220703125,2473.41943359375,2474.708251953125,2421.2685546875,2413.9501953125,2423.5703125,2453.21337890625,2397.748291015625,2424.44482421875,2442.441650390625,2472.40673828125,2492.4296875,2510.058837890625,2439.174560546875,2474.34033203125,2458.920654296875,2445.8486328125,2458.2763671875,2454.3173828125,2418.046875,2427.482177734375,2448.97802734375,2507.895263671875,2505.87060546875,2486.7685546875,2504.53564453125,2466.837646484375,2510.242919921875,2531.186279296875,2494.270751953125,2510.933349609375,2520.27783203125,2575.144287109375,2587.57177734375,2563.1767578125,2562.53271484375,2575.512451171875,2542.233154296875,2590.7021484375,2612.795654296875,2633.785400390625,2596.178955078125,2644.3720703125,2677.7431640625,2678.295654296875,2696.753662109375,2697.765380859375,2678.25,2635.396240234375,2695.694580078125,2798.063232421875,2847.3603515625,2809.15625,2791.94140625,2873.04443359375,2924.1826171875,2922.709716796875,2908.072509765625,2998.230712890625,2982.228271484375,2971.529052734375,3007.45361328125,3051.818115234375,3019.5830078125,3046.56103515625,3035.677490234375,3007.77685546875,2948.2861328125,2869.70361328125,2895.529541015625,2954.64990234375,2951.514404296875,2940.815673828125,2912.68408203125,2964.47314453125,2930.162353515625,2963.7353515625,2957.002685546875,2942.983642578125,2895.990234375,2867.3515625,2834.424560546875,2819.89697265625,2833.271240234375,2728.677978515625,2748.73974609375,2719.13232421875,2762.666748046875,2669.510986328125,2697.088623046875,2772.8583984375,2821.511962890625,2812.841552734375,2774.426513671875,2773.41162109375,2813.994140625,2832.441650390625,2820.450927734375,2828.014404296875,2868.504150390625,2871.178466796875,2800.666748046875,2813.302490234375,2886.582275390625,2898.526123046875,2878.6962890625,2826.814697265625,2828.61376953125,2913.2373046875,2931.038330078125,2919.1865234375,2987.346923828125,3011.14306640625,3017.3232421875,3059.704345703125,3064.223876953125,2994.403076171875,2862.970458984375,2968.94677734375,2946.99462890625,2916.235595703125,2900.324951171875,2876.5751953125,2867.9970703125,2859.97314453125,2888.74951171875,2881.463134765625,2873.30029296875,2799.88232421875,2801.1279296875,2812.887939453125,2855.26953125,2869.796142578125,2889.5791015625,2901.200927734375,2880.080078125,2847.7978515625,2814.501953125,2831.334228515625,2848.904296875,2842.633056640625,2822.341796875,2841.249267578125,2842.17138671875,2886.197265625,2927.441650390625,2947.368896484375,2913.631591796875,2928.04345703125,2922.34375,2900.5166015625,2911.453369140625,2913.7705078125,2950.334716796875,2966.044189453125,2966.13720703125,2981.476806640625,3034.30712890625,3036.670166015625,3024.065673828125,3034.81640625,3075.041748046875,3056.08740234375,3033.658203125,3059.701904296875,3022.81396484375,3126.806884765625,3133.479248046875,3092.651611328125,3096.4521484375,3100.9931640625,3097.05419921875,3082.1787109375,3078.054443359375,3023.6484375,3035.372802734375,3020.12646484375,2973.45947265625,2959.510498046875,2954.3662109375,2979.390869140625,2975.118408203125,2967.54833984375,2958.073974609375,2977.765869140625,2987.565185546875,2984.31396484375,2970.102294921875,2956.541015625,2970.33447265625,2968.4775390625,2942.143798828125,2990.398193359375,3051.238525390625,3041.06787109375,3050.3564453125,3074.367919921875,3086.3505859375,3096.753173828125,3106.32080078125,3113.333740234375,3217.0419921875,3225.91259765625,3300.315673828125,3307.281982421875,3306.306640625,3378.6650390625,3356.1865234375,3398.72900390625,3410.664794921875,3455.52880859375,3438.02001953125,3517.11279296875,3450.698974609375,3563.834716796875,3568.75830078125,3578.000244140625,3544.46826171875,3505.687744140625,3521.710693359375,3571.823486328125,3609.489013671875,3673.255615234375,3625.650634765625,3555.568359375,3551.528076171875,3588.17138671875,3587.427978515625,3594.023193359375,3595.927734375,3564.020751953125,3510.332763671875,3522.17529296875,3506.988525390625,3464.8642578125,3504.89794921875,3560.63037109375,3539.823974609375,3615.990478515625,3655.7001953125,3423.43701171875,3393.016845703125,3395.198974609375,3360.997314453125,3394.22216796875,3382.1240234375,3358.578125,3287.522705078125,3256.206787109375,3250.7158203125,3241.083251953125,3247.738037109375,3184.360107421875,3162.117919921875,3235.31298828125,3242.572509765625,3250.06396484375,3265.326904296875,3259.836181640625,3262.5810546875,3242.665771484375,3246.295166015625,3281.52001953125,3306.880615234375,3309.765380859375,3277.65771484375,3234.661376953125,3218.561279296875,3224.005859375,3204.5087890625,3206.92822265625,3207.8125,3259.13818359375,3284.404541015625,3329.681884765625,3390.266845703125,3387.986328125,3291.152587890625,3335.916748046875,3375.3759765625,3351.970458984375,3384.59033203125,3359.322509765625,3372.490966796875,3322.748046875,3333.217529296875,3335.77685546875,3310.23046875,3358.06591796875,3378.959228515625,3408.693603515625,3416.32470703125,3439.77685546875,3449.5029296875,3438.47412109375,3474.81640625,3479.097412109375,3552.990966796875,3615.34423828125,3593.195068359375,3543.405517578125,3586.261962890625,3610.7841796875,3644.333984375,3592.2177734375,3627.58203125,3692.9609375,3740.424072265625,3713.85400390625,3649.57275390625,3567.4384765625,3573.91796875,3515.976806640625,3514.624267578125,3402.143798828125,3440.181396484375,3483.2529296875,3543.29248046875,3595.080322265625,3565.62060546875,3556.5771484375,3523.108154296875,3489.965576171875,3505.90771484375,3515.0439453125,3444.74951171875,3480.92236328125,3559.28076171875,3554.8994140625,3527.9560546875,3536.999267578125,3467.54345703125,3343.5498046875,3322.47998046875,3171.309814453125,3282.345703125,3313.5302734375,3306.025390625,3304.393798828125,3285.701416015625,3248.9228515625,3356.18212890625,3386.62158203125,3375.76025390625,3355.436767578125,3396.3173828125,3350.541748046875,3408.343017578125,3424.052490234375,3381.12109375,3450.343017578125,3461.017822265625,3495.932373046875,3456.402587890625,3456.636474609375,3454.4453125,3478.87109375,3486.7021484375,3504.2294921875,3515.0439453125,3556.484375,3501.059814453125,3434.6806640625,3436.079345703125,3446.10107421875,3441.16015625,3413.98388671875,3289.151123046875,3236.80322265625,3315.954345703125,3382.93896484375,3367.9296875,3307.93603515625,3306.1650390625,3320.05615234375,3341.593017578125,3306.538330078125,3302.529296875,3244.121337890625,3275.492919921875,3200.16455078125,3211.81787109375,3205.89794921875,3180.959228515625,3177.836181640625,3183.662841796875,3148.14306640625,3217.877685546875,3215.267333984375,3041.069091796875,3070.017578125,3096.8203125,3065.35546875,2973.04736328125,3028.70458984375,3060.944580078125,3167.893798828125,3157.663818359375,3149.07568359375,3212.710693359375,3228.806640625,3220.171875,3156.11474609375,3195.018310546875,3216.55908203125,3153.486572265625,3021.806640625,3013.3125,3009.323486328125,2948.973876953125,2899.1357421875,2921.19189453125,3014.626220703125,3024.950927734375,3105.5263671875,3090.791259765625,3111.064208984375,3114.301513671875,3088.350830078125,3066.38818359375,3111.439453125,3036.307373046875,3018.709228515625,3060.427978515625,3085.86376953125,3064.839111328125,2922.505859375,2895.19384765625,2852.06640625,2821.953369140625,2818.04833984375,2882.8857421875,2893.001953125,2978.213623046875,2989.9765625,2984.04833984375,2980.048583984375,2932.196533203125,3000.845703125,3068.271484375,3107.230224609375,3104.313232421875,3097.72607421875,3142.61376953125,3157.15283203125,3166.657470703125,3175.50341796875,3156.494140625,3220.720947265625,3201.00537109375,3192.677001953125,3200.582275390625,3181.902099609375,3186.13720703125,3156.777099609375,3090.950927734375,3063.42529296875,3028.46484375,3032.229248046875,2947.864990234375,3021.83056640625,2947.06494140625,2945.841552734375,2948.664306640625,2942.68896484375,2963.909912109375,2982.77734375,3027.947509765625,3051.75634765625,3038.957763671875,2936.431396484375,2921.327392578125,2831.31689453125,2850.231689453125,2861.053466796875,2824.258544921875,2830.0927734375,2806.2373046875,2817.85986328125,2839.550537109375,2856.677490234375,2820.58837890625,2827.41162109375,2808.967041015625,2908.90576171875,2919.068603515625,2884.203125,2934.690673828125,2888.5791015625,2917.939697265625,2920.339599609375,2916.433837890625,2935.86962890625,2966.957275390625,2945.399169921875,2978.84521484375,2960.070068359375,2982.996337890625,2983.3740234375,2978.939453125,2984.458984375,3012.668212890625,3075.457275390625,3058.474853515625,3025.500244140625,3035.548095703125,3050.9267578125,3034.2744140625,3024.4619140625,3128.52783203125,3146.972900390625,3144.237060546875,3165.701416015625,3159.710205078125,3154.473876953125,3097.912353515625,3127.58447265625,3121.310546875,3189.099365234375,3198.0625,3203.345703125,3205.326904296875,3199.147216796875,3279.20166015625,3244.7646484375,3232.263671875,3194.005615234375,3189.524169921875,3161.1728515625,3106.639404296875,3100.6953125,3143.76513671875,3175.13623046875,3118.29150390625,3057.106689453125,3021.065673828125,3060.597900390625,3083.80712890625,3075.457275390625,3045.87939453125,3069.041748046875,3075.268798828125,3073.004150390625,3083.995849609375,3072.627197265625,3077.108642578125,3124.188232421875,3127.301025390625,3123.952392578125,3030.029052734375,3132.302490234375,3100.6484375,3140.5576171875,3145.888427734375,3183.816162109375,3209.324951171875,3252.01513671875,3263.181396484375,3246.9140625,3237.287841796875,3287.150146484375,3307.749755859375,3301.444580078125,3283.444091796875,3305.198486328125,3233.052490234375,3280.845458984375,3330.94775390625,3352.02880859375,3330.5146484375,3342.64306640625,3388.41455078125,3408.388427734375,3405.211669921875,3352.124755859375,3369.1630859375,3388.944091796875,3424.9443359375,3370.17333984375,3356.841796875,3321.8994140625,3274.299560546875,3286.091064453125,3273.24072265625,3207.206787109375,3188.917236328125,3259.042236328125,3197.19580078125,3217.121337890625,3245.710205078125,3263.56640625,3212.01953125,3206.388427734375,3159.17333984375,3094.679931640625,3079.23046875,3065.850341796875,3060.364013671875,3025.710205078125,2989.90234375,3013.677734375,3007.757568359375,3003.763427734375,3005.49609375,2999.33544921875,3021.47509765625,3085.96826171875,3080.289306640625,3118.6005859375,3100.214599609375,3141.3173828125,3093.5732421875,3120.381103515625,3069.556396484375,3022.052734375,3013.630126953125,2974.01953125,2988.65087890625,3042.603759765625,3056.031982421875,3057.18701171875,3078.508544921875,3068.690185546875,3098.819091796875,3098.96337890625,3060.941162109375,3100.214599609375,3109.840576171875,3128.996337890625,3160.4248046875,3163.842529296875,3159.36572265625,3151.81005859375,3133.2802734375,3136.263671875,3088.663818359375,3080.145263671875,3102.28515625,3175.296630859375,3173.70849609375,3179.773193359375,3170.29150390625,3204.3671875,3196.13720703125,3192.142578125,3166.44091796875,3199.650390625,3181.938720703125,3165.86328125,3111.381103515625,3152.38720703125,3115.375244140625,3089.241455078125,3125.43505859375,3122.354736328125,3129.429443359375,3119.004638671875,3078.85693359375,3113.282958984375,3130.059814453125,3159.636962890625,3140.533203125,3119.053466796875,3093.16064453125,3100.628173828125,3118.18017578125,3202.35498046875,3173.310546875,3208.754638671875,3219.51953125,3222.379638671875,3228.537841796875,3172.97119140625,3173.4072265625,3161.28564453125,3239.496337890625,3408.3291015625,3386.073974609375,3391.06787109375,3365.078857421875,3367.2666015625,3274.90087890625,3300.616943359375,3304.894775390625,3294.345947265625,3302.707275390625,3262.358154296875,3326.57666015625,3356.328125,3345.244140625,3305.6728515625,3348.06396484375,3387.441162109375,3374.3642578125,3366.48828125,3346.654052734375,3353.168212890625,3354.189697265625,3362.502197265625,3340.480224609375,3273.733642578125,3307.325439453125,3288.3662109375,3304.02001953125,3293.81103515625,3287.5400390625,3281.948974609375,3282.532958984375,3296.922607421875,3263.719482421875,3285.498291015625,3323.708251953125,3334.257568359375,3334.79248046875,3359.439697265625,3346.45947265625,3384.135009765625,3481.508056640625,3468.9169921875,3461.333740234375,3498.522705078125,3506.154541015625,3506.0576171875,3485.88330078125,3503.724609375,3477.958984375,3486.272216796875,3489.772216796875,3438.6796875,3430.755615234375,3416.41455078125,3439.65185546875,3489.821044921875,3520.98193359375,3537.462646484375,3528.27392578125,3509.80126953125,3444.31884765625,3471.834228515625,3426.33203125,3409.802978515625,3390.552001953125,3368.521728515625,3406.44091796875,3324.169189453125,3304.625,3252.61962890625,3266.4619140625,3293.36572265625,3283.812744140625,3246.673583984375,3275.380859375,3266.412841796875,3295.022705078125,3285.47021484375,3296.290283203125,3263.0498046875,3249.40283203125,3247.551025390625,3318.466796875,3409.658203125,3414.14208984375,3430.859619140625,3421.696533203125,3441.1435546875,3419.79541015625,3369.935302734375,3382.65625,3425.156982421875,3399.666259765625,3423.110107421875,3423.889404296875,3442.556884765625,3513.22900390625,3523.75634765625,3535.259033203125,3551.050537109375,3579.5146484375,3502.945068359375,3574.787109375,3763.651611328125,3761.89697265625,3719.981201171875,3684.742431640625,3692.0048828125,3727.58447265625,3699.852294921875,3715.107421875,3704.09228515625,3697.755859375,3715.009765625,3687.813232421875,3598.669189453125,3574.34814453125,3643.655517578125,3585.558349609375,3596.865478515625,3619.431884765625,3641.364990234375,3784.90234375,3805.373046875,3763.944091796875,3786.656494140625,3804.203125,3852.517822265625,3769.66455078125,3753.59228515625,3722.815673828125,3713.728759765625,3713.289306640625,3728.335693359375,3765.658447265625,3875.233642578125,3882.0732421875,4041.037109375,3989.64501953125,4039.18115234375,4038.790283203125,4026.088623046875,4054.22705078125,4005.9619140625,4008.99072265625,4033.51416015625,4009.57666015625,3938.106201171875,3899.855224609375,3993.260009765625,3959.06396484375,3909.185546875,4010.16259765625,4024.37890625,4001.07666015625,4000.343994140625,3987.007080078125,3919.98193359375,3970.983642578125,4014.2666015625,4027.70068359375,4095.996337890625,4053.73876953125,4110.9931640625,4122.3759765625,4057.158203125,3885.981201171875,3879.727783203125,3881.730712890625,3821.10546875,3788.472900390625,3752.712890625,3787.300048828125,3826.821044921875,3794.6279296875,3856.669921875,3911.38427734375,3887.886474609375,3881.34033203125,3855.937255859375,3893.162353515625,3909.527587890625,3850.709716796875,3783.88037109375,3773.32861328125,3738.3505859375,3775.868896484375,3785.736328125,3743.08935546875,3763.75341796875,3733.61181640625,3781.33984375,3732.927734375,3774.5986328125,3755.1552734375,3831.022705078125,3887.59326171875,3885.63916015625,3869.273681640625,3804.495849609375,3857.158447265625,3811.628662109375,3791.3056640625,3839.0859375,3773.296142578125,3759.616455078125,3771.2294921875,3831.704833984375,3788.451904296875,3786.04052734375,3779.004150390625,3743.328857421875,3676.850341796875,3612.7333984375,3644.127685546875,3656.0849609375,3687.0361328125,3769.654541015625,3832.197021484375,3797.506103515625,3791.0107421875,3770.884765625,3816.6474609375,3771.27880859375,3754.597412109375,3741.40966796875,3727.18896484375,3750.316162109375,3756.2705078125,3777.576904296875,3794.701171875,3871.75927734375,3842.2353515625,3915.11083984375,3953.68896484375,3902.3662109375,3957.182861328125,3948.177978515625,3929.873046875,3922.295166015625,3847.15576171875,3861.474853515625,4117.59814453125,4103.08203125,4112.18505859375,4247.11083984375,4244.00341796875,4229.158203125,4243.95458984375,4247.8017578125,4263.83056640625,4328.2939453125,4321.63525390625,4306.099609375,4325.828125,4337.41796875,4224.916015625,4098.65380859375,4114.58447265625,4143.4375,4115.91552734375,4171.35302734375,4138.7021484375,4139.9853515625,4236.951171875,4356.11083984375,4429.05712890625,4461.9052734375,4489.72265625,4440.89404296875,4403.3115234375,4441.33837890625,4436.11083984375,4444.88916015625,4450.5615234375,4491.9423828125,4459.685546875,4451.10400390625,4418.45361328125,4415.1982421875,4396.2587890625,4389.15625,4446.6650390625,4418.5517578125,4456.3818359375,4461.21484375,4451.99169921875,4444.4951171875,4287.15966796875,4237.837890625,4226.74072265625,4210.5634765625,4213.32568359375,4216.72900390625,4234.23828125,4250.21826171875,4210.5634765625,4229.70068359375,4175.29833984375,4194.53466796875,4214.85498046875,4195.52099609375,4195.22509765625,4170.021484375,4092.883056640625,4080.5029296875,4060.92236328125,4039.369384765625,4053.228515625,4077.009765625,4034.29248046875,3970.660888671875,4020.844482421875,4002.69921875,4012.24169921875,4045.169677734375,4029.743896484375,4039.038818359375,3924.136474609375,3939.710205078125,3919.88427734375,3927.004150390625,4093.42431640625,4104.548828125,4100.69287109375,4151.8154296875,4150.529296875,4104.0048828125,4099.60498046875,3974.616455078125,3994.4423828125,4027.37060546875,4197.203125,4266.91552734375,4304.095703125,4284.17041015625,4197.4990234375,4223.15966796875,4228.89501953125,4254.70361328125,4305.77685546875,4414.20166015625,4395.859375,4402.43505859375,4383.05419921875,4378.01123046875,4405.20361328125,4423.9423828125,4365.89794921875,4280.166015625,4299.2998046875,4224.19775390625,4123.73193359375,4111.8662109375,4132.82958984375,4122.5458984375,4118.34326171875,4112.36083984375,4049.075439453125,4066.528564453125,4129.12158203125,4054.118408203125,4049.273193359375,3983.318115234375,4062.523681640625,3993.750244140625,4218.017578125,4243.18359375,4185.78125,4202.14697265625,4159.330078125,4087.964599609375,4041.87451171875,4000.294189453125,4119.98046875,4108.9287109375,4115.767578125,4029.335693359375,4004.704833984375,4063.680419921875,4063.92822265625,4076.16943359375,4037.265380859375,4032.804931640625,4070.866455078125,4055.057373046875,4046.78076171875,3993.900634765625,4001.38427734375,3928.631103515625,3915.348876953125,3875.701416015625,3900.183837890625,3870.10107421875,3839.076904296875,3750.761962890625,3746.103271484375,3752.645263671875,3643.218017578125,3597.573486328125,3580.723388671875,3452.5625,3462.276123046875,3500.9326171875,3515.80029296875,3569.869873046875,3579.385009765625,3558.02490234375,3543.801513671875,3475.31005859375,3480.117431640625,3466.885009765625,3466.885009765625,3466.29052734375,3531.75830078125,3546.576904296875,3596.978759765625,3625.525146484375,3603.7685546875,3619.03271484375,3574.379638671875,3519.517333984375,3512.7275390625,3373.16796875,3270.33203125,3245.20556640625,3263.93896484375,3217.997314453125,3203.0302734375,3219.583251953125,3244.957763671875,3269.83642578125,3292.336669921875,3285.199951171875,3382.931396484375,3371.6318359375,3417.623046875,3413.16259765625,3441.9072265625,3423.272705078125,3400.772705078125,3423.867431640625,3429.517333984375,3414.74853515625,3418.514892578125,3409.990966796875,3588.50390625,3484.03271484375,3517.435791015625,3548.36083984375,3529.9248046875,3487.79931640625,3467.47998046875,3494.737548828125,3446.367431640625,3483.63623046875,3506.13623046875,3467.876220703125,3466.885009765625,3467.28173828125,3432.88720703125,3419.4072265625,3375.199951171875,3380.89990234375,3371.10009765625,3384.199951171875,3421.89990234375],\"decreasing\":{\"line\":{\"color\":\"black\"}},\"high\":[1949.974437796384,1925.2792621619267,1874.2432481830656,1883.2066639120314,1896.8803098255491,1883.069753380212,1883.3896895393643,1911.5599942517217,1877.0332232365972,1869.4873178946448,1888.0087716445876,1884.121537251608,1949.97408930487,1945.95019989715,1931.590379353129,1933.4650683429204,1980.1564338071769,2016.7417061663978,2076.1005795547044,2106.099739713104,2080.2159838032744,2052.8683329405258,2057.762086569151,2053.2804659520452,2047.8381292372217,2067.0459201661542,2138.5995603229176,2056.924258148861,2041.3407520226465,2052.1110344600565,2045.0984359934125,2008.3861656324868,1982.7652983972541,2030.4325743526451,2126.6830149366815,2146.8495994883883,2161.5170049113017,2140.2500767458037,2111.8786837848256,2080.5278251086115,2108.3501496286513,2126.224894219132,2134.0164662891625,2131.2668462963256,2119.350127376326,2105.0490977173235,2108.3495023460005,2091.207733455457,2080.848950468292,2098.266085798959,2094.2330282055077,2086.853539724711,2081.766314892534,2071.6368640756677,2062.5162069146454,2071.590743079163,2096.75443728319,2089.970471025016,2086.5330345890216,2088.1830482390596,2079.703190588242,2130.3503585188355,2130.5790487923905,2148.224499052992,2191.2624195959825,2162.4338629716176,2152.8091706559953,2184.432962880466,2296.9548929011066,2326.517616754668,2298.651359401319,2287.7887219271015,2292.05081051985,2296.1758769052863,2342.1013613988694,2309.879772189012,2245.8504311153392,2236.684065830785,2240.351060184894,2301.8133287953606,2296.2681789155095,2328.3511700938784,2500.777807378877,2508.019461811282,2539.1864203930395,2644.60341986961,2594.0495392640782,2616.187184256294,2617.011242646481,2616.2940521485607,2603.1759016838273,2551.5309629875383,2553.694900530851,2540.713949165844,2530.679724610387,2473.2812262186576,2487.4122331824615,2494.730908547742,2502.2797672509478,2445.0198393552387,2444.145411799356,2461.9589091408047,2453.213364008476,2453.351008869194,2505.6858034152965,2494.776923169925,2497.769108042903,2526.0768739399546,2497.6773765222324,2478.9432420079615,2497.5390251613685,2453.2591388876067,2475.445132519894,2480.9681834694256,2452.614777690011,2463.6150151588777,2463.477192433747,2513.1886096445696,2525.156755938396,2515.904889224462,2514.0635340097115,2501.8658390918085,2518.620080861762,2535.927186689259,2553.6022144528424,2521.335970623403,2526.0775448140334,2582.739089239219,2614.4527252018734,2602.761787677484,2584.7186111255937,2581.312163250731,2572.7503563427863,2595.8574981927527,2627.0646745697,2667.846938249574,2657.259654036495,2654.636470780568,2687.1791305194456,2689.3426396278787,2715.441527489054,2717.557892611116,2713.600268699021,2674.290831501479,2706.511419936716,2808.465855152464,2866.9227206121936,2866.232339628052,2836.1754206049563,2879.580656057643,2973.479827702331,2955.0680826927573,2924.6890600777074,3012.803633299529,3019.7210527611333,3003.810737174727,3024.3323659403495,3069.4807173908043,3052.141215193401,3066.760056433727,3080.410682617971,3049.650722310856,3020.643173880776,2967.0098378135626,2919.187319743758,2973.6039052745487,2984.6722602986633,2986.3791066231925,2956.864007726472,2975.4488266347153,2993.7112916585247,2969.361452838104,2969.2697722913135,2993.4352719767685,2959.7695345540014,2921.6307753089845,2889.5340142291157,2857.2974233170166,2847.3827675629286,2855.545018815692,2792.827356399033,2770.091265888512,2794.579365559871,2741.499190493235,2734.719889496351,2790.059834286313,2826.0313093122995,2842.125653048899,2825.293137832109,2797.438462019993,2828.70531906425,2852.963582601582,2874.914790014469,2858.313167342811,2897.050335177704,2909.962641491884,2902.0773102719527,2858.3124243663906,2895.6211928823363,2922.875643893105,2907.473060344156,2887.68872505648,2875.837222178394,2940.8149936801574,2956.079600742874,2965.3032141711096,3009.575258993796,3020.6431494387875,3022.995731178182,3075.983448394325,3093.830885965333,3078.842787160953,2964.3810217073224,2985.825533403227,2994.81772452663,2941.323034688461,2974.849571239363,2903.5073018696075,2876.7592417767128,2908.1189314722124,2892.5311704360206,2906.273824087155,2912.1306349733136,2888.7954317497965,2817.7299391489337,2850.011880616495,2858.682122268121,2890.594819772829,2914.4361744296443,2918.448524519761,2885.152914842573,2877.6813757777654,2857.8516473071645,2836.360902771401,2881.370397159281,2875.8370767701067,2848.9050588226005,2848.3511927939917,2863.8462293563907,2899.4048157326292,2933.466146425939,2982.3573165605653,2964.0518962680408,2938.424306188774,2938.0537353694685,2928.3219665322417,2923.7804593023056,2925.912274238025,2957.0543470509856,2994.6374602965834,2984.442405012304,2988.150049335865,3066.932048322512,3066.653480410551,3056.7369833070743,3053.677574870365,3092.003066451752,3112.3468732296883,3045.614419982728,3083.660947734099,3085.468814092156,3135.519144225477,3150.950149598834,3143.39640063515,3120.040323207468,3134.5913116220204,3116.0545317292945,3095.386260976069,3127.177263443099,3084.542147989943,3042.5558557800478,3056.73686698011,3041.907107310772,2999.2720800419725,2978.881227431708,2986.2958219831294,3001.9628357203183,2990.816534934762,2972.192726916752,2986.3114116511083,2995.5533156272436,3010.972433950367,2994.9030283080347,2981.666945992069,2976.511354847079,2996.01839512297,2994.2069114663122,2995.506968461065,3055.9758430912043,3070.0950011320892,3079.197846058069,3087.5578026045846,3099.633447684933,3111.6150629767517,3120.9969628064796,3128.4278472766096,3232.4612948208546,3245.79051213997,3307.514403404311,3339.281449145719,3320.7040989561388,3411.7328370961673,3406.4848723606156,3434.7226494108595,3425.294469089213,3464.2138166344153,3474.292369209378,3533.5074520289486,3545.2113167085595,3584.6412717263115,3582.5518582117256,3601.7793603566392,3594.673635947243,3543.6320999309264,3537.7801580750292,3578.3718258335934,3619.3351077544853,3696.8952644726573,3698.5202865232536,3664.385182252246,3595.6493220508246,3596.159743990576,3619.659884234374,3603.0796580838705,3663.8278680045687,3626.301409372157,3576.1431775318392,3535.272425507136,3534.3436496764593,3538.9879885978694,3514.5115977206483,3566.853742424861,3583.0628376295485,3621.656664545668,3706.091297294818,3490.2225501115577,3443.314976185788,3414.00855552267,3415.4869403743073,3399.387324123594,3434.194109913676,3378.2612920574893,3357.27491066115,3314.605109469051,3270.8179632441243,3284.2653406689083,3267.7470256609477,3274.028371586658,3220.981567463648,3245.1779734922993,3269.9337714926546,3275.796358354773,3269.6079876358863,3301.9481186099315,3289.849156789651,3275.610710219653,3266.629971184871,3289.058151746823,3322.0502645058677,3327.587474440752,3315.7680323746526,3276.6803765930513,3272.1202557051033,3239.5476766310876,3250.808649659928,3222.8424358772163,3247.969974851076,3284.5915666881256,3316.6051335113707,3341.0357770619044,3395.013254459157,3411.7179141997867,3404.3197881905357,3348.4805299128625,3393.570238034242,3382.681925673203,3389.4296699731403,3408.042154662733,3382.914205840632,3371.746703980278,3358.2053559545466,3398.1304323312743,3355.9254963703224,3388.6842255568145,3384.589709358636,3415.952722990872,3448.059978826824,3443.4063009562046,3466.6733873318253,3461.973044607168,3480.6329720455306,3499.2459046927165,3564.3914354874023,3619.4390092671506,3601.6175009805906,3569.044986587318,3596.871288479326,3702.127428962716,3652.8029943029487,3656.525813860084,3650.9414467100237,3701.1972858592912,3762.6201787973323,3761.4101084854806,3740.330873497902,3654.5605440095283,3590.7457746306964,3588.974616474517,3551.4495579480435,3480.595554238355,3477.239758485097,3503.5301464745735,3550.1448731976993,3602.3521967559977,3619.5998659352276,3565.7135951616374,3572.332891680744,3542.40665758615,3522.1293981274207,3533.1768590559273,3498.4026072193265,3536.3933724851963,3575.3160319072317,3593.123135507985,3575.316221209912,3557.5562165126394,3568.6033668425785,3419.531099719309,3377.577931381812,3247.94388722025,3290.9693480171127,3322.433648694811,3330.0784111836547,3336.2781562434966,3320.05600977655,3307.750179450265,3364.6193606885404,3406.5724076609317,3434.5409196737924,3393.3809864922196,3401.305203199452,3411.233642903754,3419.623764989249,3458.780134441367,3462.463035295058,3459.7125352041226,3477.2397322636384,3503.716823746309,3523.573818387873,3461.577635527943,3469.9677801721723,3484.884291588518,3500.406703846548,3508.191707110492,3524.0404124648053,3575.8759676679274,3551.356591352153,3491.8764893529465,3454.1191684360706,3460.9712145316403,3485.816554362379,3458.6405124098774,3365.5519025710037,3322.2473592505344,3327.467939346778,3397.2496437113764,3372.0783144967513,3341.311908333802,3344.9479901466675,3326.8152244078083,3360.3318310834607,3377.904860685236,3307.703528853113,3305.3724661311744,3293.7658130986515,3239.227237475578,3221.9796951767858,3230.1840410006866,3214.9410012469025,3216.106562630598,3206.9699879273653,3197.7406306662397,3232.2347954986344,3258.338892709584,3174.4325978540296,3089.50226308595,3112.8089227011037,3099.710288815255,3090.55596493597,3042.360766832857,3077.463200083107,3178.5466109105864,3175.543312841961,3179.8606852891808,3221.1577854540974,3263.674493211081,3240.8672940790375,3208.8153461734273,3204.2163001620074,3225.8507921907485,3184.5531863117317,3090.6972809517392,3039.920703165368,3035.321712433674,3045.505465505117,2927.152022338682,2945.923193242441,3038.8412629282725,3050.8554382839343,3114.16112616945,3139.5027352111842,3156.3030375886356,3125.4236082589678,3128.2398774199637,3107.497179193185,3128.23968862884,3114.114387130745,3070.987297749766,3067.7018623869726,3115.4753382856607,3101.9594280734095,3026.8743171326923,2943.5299858591416,2918.9392096873717,2876.7691369613644,2850.3259410273686,2895.542726834641,2897.4248100559025,2984.941990158565,2996.2815059003533,3008.515465935184,2998.5870892640173,2982.071824814024,3005.786179929785,3071.565135715381,3121.7224266854273,3130.8506036722483,3117.581948034906,3151.5536799401575,3188.1601594643284,3177.9028910100633,3179.6910145728057,3185.431218906052,3226.5553702345896,3217.426528102961,3213.5212452662213,3216.4387162352214,3192.0183133086875,3219.779503465236,3184.5849772904817,3144.8725252476324,3112.9711291073277,3084.880331371408,3064.977596221768,2957.4164870363597,3036.2756704050144,3001.927805876822,2976.519653071357,2962.356529458172,2955.6754059837144,2975.484560286907,2995.810883342887,3042.863136134058,3077.0234523576473,3071.047196978159,2956.193305616552,2952.758141867613,2911.9173899930306,2862.65341374089,2898.36573490754,2862.088432116921,2851.3133401401205,2844.302447824823,2847.455857788892,2846.655458666327,2870.1344529641738,2875.6864954173316,2841.6683348275956,2842.6093376567746,2915.3519999052232,2939.818649858523,2921.939048083334,2942.642443884765,2959.5807626209976,2926.550150631724,2926.64454351258,2964.285974811326,2951.5784559698864,2977.005461254595,2980.449312658744,2981.392561153657,2981.7700790980143,2998.3750856252773,3004.271984043807,2994.601291144702,2998.8470344853986,3018.187654128994,3078.193501650304,3085.175346774662,3045.596386006907,3038.0484523134796,3059.512505364031,3066.1168169852795,3042.7183160956506,3152.728196437741,3159.7098616124126,3151.171490462325,3177.541889681157,3170.088470905494,3172.6830622980115,3145.2749388304514,3131.358387217525,3141.7839880562005,3201.1759383959493,3210.988342530607,3223.8663625883587,3235.1879078981165,3221.884912381836,3283.305884648653,3272.8331394983957,3244.7647649813816,3215.328095022316,3201.883602627178,3189.524434782939,3183.3914865753063,3109.7055795283945,3147.869130425864,3186.127665517016,3174.5699155099574,3105.931709491455,3062.0597726127144,3065.3625142326623,3097.487569071201,3107.8186387967226,3082.2033225880577,3087.062283218144,3088.76059020191,3081.4954575424736,3086.5904159073257,3112.53639443566,3082.2035658996638,3132.349230901942,3139.2833870256677,3148.671488266819,3114.9421353891516,3138.9540620428043,3111.592883015303,3160.182020931683,3160.653777873517,3188.0145963470104,3227.565994416191,3255.2880849054277,3281.422437230201,3260.293976253125,3267.657380662842,3291.0968614677604,3322.8142030616546,3306.498179916425,3317.086579899126,3329.0707756350903,3319.9744546778475,3291.0969539135917,3339.2261254181835,3372.9169745913014,3343.220794872277,3362.327991470493,3407.4736526375923,3414.8859131553013,3409.8321507801293,3416.233371284592,3392.9872006914725,3394.094044886677,3441.26019391135,3406.511128035548,3390.243639220747,3377.6333032743164,3318.0492490749675,3323.246911870269,3305.4875034598304,3263.181322577766,3265.1061613918455,3262.218831616518,3243.833258130298,3232.3784893851807,3277.571803082417,3268.9570065063363,3258.3681601154485,3212.4046173691213,3243.7369957639744,3180.783595144603,3138.3818393753368,3099.348533820189,3100.8889325852583,3051.0743190494477,3038.657456903809,3025.902584086707,3028.6459650521024,3051.4116538753306,3034.806924826692,3031.7267584344513,3032.1599457537855,3092.8027471018627,3104.305890326854,3142.232228479106,3135.4936758758054,3149.595754164433,3150.51037343042,3138.959145399996,3109.166896221193,3045.058552253396,3038.753832331483,3022.533995648519,2996.5440736020123,3046.0689439733064,3061.9518192500896,3071.8183383249893,3088.375097006355,3079.5193281357388,3106.5198148641657,3113.979882854357,3095.690770042235,3103.8243133128526,3122.643074743668,3133.087346946345,3174.6230125209395,3182.8055153065875,3185.8851329558615,3166.9226821423026,3168.847945631356,3162.1093169157693,3157.296561967034,3108.156505837672,3113.499242545562,3184.6818864476804,3203.452443302462,3193.104929820546,3182.3238839878736,3213.752444189794,3245.854908407655,3202.490426029261,3203.2118218918486,3215.051836548586,3211.1050199881647,3202.538067276782,3165.8156395020055,3156.1896271172773,3147.6701948229315,3128.418837830393,3132.654487478063,3142.857960838299,3134.049924098425,3149.212233868017,3102.6157912564317,3117.6468306955603,3134.714658512862,3162.7401131434094,3168.801301373695,3151.103493926267,3116.6770641780477,3112.5559014093496,3133.211289142848,3209.8705383758233,3218.403887408528,3214.7185013705403,3228.295810829344,3227.7617942778174,3255.3513151133234,3224.174002065527,3195.3236534551897,3189.650811521825,3265.582501503939,3418.2207333014203,3442.5133430380633,3417.396469395099,3410.4631754062852,3382.4338885407697,3339.653993430364,3318.7983633985186,3312.3327907396247,3325.993416466978,3317.048272685953,3299.5961826216435,3331.632422025976,3364.0576319112915,3350.8346989074603,3338.049524439375,3374.75275723884,3391.2815854673668,3393.177561638869,3370.863500676895,3368.8216412978018,3370.5231075107654,3359.1967987031817,3369.8915523981113,3364.835661627741,3315.443971791031,3315.200929232985,3316.4163237516354,3307.6660358847384,3318.4095385936553,3291.915258641404,3299.8873246424755,3295.5615340661993,3313.597199049331,3322.638965165538,3295.0265947981547,3337.6604350733273,3351.4180561470384,3348.4042755810974,3364.057984961743,3368.919027789856,3389.0450258602564,3490.355580349542,3489.3346820685274,3497.9396518118956,3507.321804896822,3518.9400455175996,3524.4821037453266,3505.0369922104205,3532.9900640558785,3519.6208901361356,3495.2657239069254,3513.7872621213783,3502.898238786819,3469.500472948857,3436.2001232231196,3449.617633581549,3523.510140472255,3534.1562524786277,3576.985371693498,3546.8443957181303,3548.78943470748,3489.140400534687,3477.813600618944,3475.5288066859207,3436.1513795787328,3425.0189609939,3389.18739794889,3411.2660645479145,3391.2345704764457,3338.6449659185428,3288.637951066666,3277.2333562420463,3297.557353152062,3313.3000422512755,3286.5912941245306,3290.831085654029,3302.4799517281363,3306.768932276105,3318.320483330421,3316.1758383192764,3305.9892079113683,3263.049846480183,3271.384515158219,3326.947394555642,3440.3639882215098,3435.6361870718983,3444.7988795971214,3449.819227210914,3443.580521707231,3454.6440343743316,3416.1888855205752,3393.476478453867,3429.299826157284,3427.983623592758,3428.276525264746,3458.348208404735,3448.7954245963174,3521.758387927568,3539.0119023066877,3553.0976781968425,3560.8959784249623,3605.151350495278,3557.9717342969016,3585.2660681113234,3797.7203603682356,3829.9371353065544,3757.9005490824243,3800.4983497118624,3710.720741156084,3748.9809938811045,3737.3328018978846,3721.930929506797,3741.2317576210826,3726.219822071097,3735.3827128890694,3715.0099258876053,3676.7497077730904,3625.231965882633,3653.2572628392472,3645.458951132516,3657.741100508355,3635.223382060857,3677.870709419166,3806.7862604438683,3865.0299559755135,3800.6935043470535,3811.3671940910194,3810.2467556648635,3872.5471433187313,3843.5775307942863,3794.481265658784,3772.351555639592,3732.2925183648217,3759.454445234937,3745.9713128444027,3815.2432249834083,3892.9179227399877,3929.6550444719596,4054.617868849802,4059.6011785761307,4062.5323128888126,4088.667982453084,4064.095380840602,4074.2563686607573,4020.4219156482127,4051.1007650402103,4052.7133783788563,4033.5141407471942,4003.909940929918,3970.0556451864563,4000.9296301266336,4035.1752870720366,3957.0116023619535,4029.312675719214,4059.5032063270137,4043.0893807940647,4044.945776674674,4023.352920369135,3970.6902097062093,3978.5068027249704,4029.3129220065616,4057.6468622776492,4132.8309402969135,4143.626445307793,4127.993562848106,4141.672516359173,4157.060533352461,3964.82828068296,3925.7464595642887,3916.366730440695,3847.5833469733466,3856.0840260445266,3805.570850743876,3825.111447614759,3842.9911030440308,3820.079868924885,3889.5961211619815,3936.1520982076913,3910.1141349215854,3940.0602933991827,3923.646175498843,3898.5849732406655,3921.203406202995,3970.8856279493107,3838.496808957248,3845.6295758350593,3764.0956866300507,3788.961137129501,3805.5702851487176,3808.5021395322874,3784.7108781374122,3787.788635494728,3788.765442542452,3792.624973050054,3782.219592424851,3804.202870082432,3849.4886654971474,3896.4355214290244,3892.820499533096,3879.8257611331596,3882.366126166036,3864.193087353525,3855.2047445166286,3836.786920692225,3847.500393627829,3857.8337816344565,3783.777171461276,3780.3327992863346,3843.071713867899,3822.207998672868,3846.368432165817,3808.6269001661344,3787.861250030871,3734.2255863537325,3690.333034788264,3692.05531849711,3685.6092001913694,3723.7939065496334,3779.003882873569,3852.913244197244,3843.9575262561775,3818.418932828839,3831.7539987096065,3828.309631371978,3827.325608940374,3781.0707158604055,3773.0499526908975,3749.5289232595674,3816.3028791048064,3795.8329394491216,3786.6309556742867,3805.6249956950664,3879.4848824129754,3897.1997420112984,3938.238160206123,3959.593812348531,3962.2513039394535,3983.1643354755647,3962.8908423867747,3967.3196719251787,3943.4049489268573,3939.81280674454,3916.8820522074047,4133.3444051789775,4172.759041904442,4128.029347750371,4256.4111674420465,4299.588675611983,4261.315822000346,4302.499132625875,4280.205984824061,4284.052319237096,4362.424416923816,4370.857862915022,4338.30635765025,4354.089164729378,4359.316357697218,4338.305993169386,4181.464557904526,4200.452749877146,4187.333501660908,4174.558801467272,4195.914962436193,4181.4638531747505,4176.532282440025,4247.752741716466,4366.91240835155,4433.24944356056,4503.039473999533,4498.1072860595405,4499.0441032075605,4444.840197736464,4490.363511152708,4448.78652527648,4500.573156585277,4494.161793197222,4529.919825961176,4525.727026463666,4494.06270742408,4426.098423350554,4437.935192488152,4457.614744708202,4429.304023252001,4478.329442027619,4487.601645922096,4471.079503177753,4485.283566204235,4484.346312458599,4474.235797589848,4436.011407960433,4362.1772921379525,4271.9193657547075,4250.908242874686,4232.758489221414,4231.377541831965,4258.208266860882,4318.577461028275,4240.402892086927,4237.444232692173,4220.920582645184,4239.663708137971,4238.9237045208565,4221.315968016163,4236.704162276141,4235.569752458276,4184.374159897653,4108.86270438394,4113.351342135271,4059.1472952077797,4073.894353796949,4099.851916021619,4093.7214708106585,4044.1312654389644,4067.6161169001703,4033.452038630661,4046.306967413721,4087.8377473021505,4057.678444076715,4061.139344520973,4032.759937234877,3954.2954985465944,3947.3244073529545,3941.4904650926896,4103.460879411139,4158.835690041854,4123.188835120126,4187.017516194887,4170.899361874765,4149.886656952062,4113.547630300692,4165.955747044194,4086.00821936708,4046.7515971644048,4207.4376491547855,4279.77036282847,4317.840392000199,4328.519689433695,4291.487932738633,4250.69877762643,4240.31633704029,4276.705160058429,4337.963678279428,4438.873247255035,4415.141628472613,4419.49243681023,4443.62025747674,4398.974211726839,4434.917864256952,4444.707887644289,4425.030000564014,4383.449872920127,4313.291702065844,4315.269416292494,4333.068167592305,4169.910931380412,4170.899679378141,4153.051508900216,4134.263577490246,4152.408599254037,4093.721416555209,4087.83773347844,4136.29062507016,4133.274820319709,4103.312847713527,4094.116959386962,4079.9272487780195,4091.545779894736,4249.017605323046,4274.678037775706,4265.728531143597,4208.920578752618,4246.050967542871,4123.945085907447,4109.275187749958,4074.782019875334,4126.472569686494,4154.424234386973,4141.191502882228,4119.732409603993,4065.8612059687466,4071.6597895180053,4093.5153399092133,4092.0783226009103,4099.462552267958,4041.0814645977634,4082.562786773872,4113.438365339778,4103.030791288902,4053.9668417349,4016.3017347020295,4004.407529279412,3986.3181740377236,3949.346880165372,3913.2178888247336,3899.3411770973394,3889.825781845942,3840.8114240852815,3754.6276020123996,3783.3721530468956,3730.046115354277,3625.7727916542253,3605.9491251101153,3568.2839302375655,3492.210011310126,3519.715618910179,3568.63076468625,3577.6505690745926,3593.063479132406,3590.1892097689415,3557.132970240765,3537.804631618307,3493.250698135823,3499.346480347681,3466.885009765625,3515.7508098576654,3547.419150066534,3584.3907045989267,3617.5955593477447,3677.314822898512,3648.074698112849,3630.728804709229,3628.6968978080436,3552.4247920304606,3532.70016154505,3471.147191731695,3369.698823950673,3262.402567174577,3319.4952110862437,3241.1910619537834,3269.885986123682,3285.199980380262,3249.2199289296423,3274.4952121330816,3324.451127849391,3304.528155653945,3390.7617005183133,3382.435709613338,3447.1605566409517,3427.33666235926,3464.20900124865,3478.9775322470646,3460.7396968173343,3473.6251178455746,3442.4028037363396,3429.021573396319,3446.367426731265,3415.838890934778,3598.5150212844183,3591.0812306910116,3529.6274760198758,3568.283854829107,3562.2374517479043,3518.7243950862435,3526.6539743040653,3505.8388277898753,3466.984230851952,3503.856408277913,3513.7683446247133,3508.812413930258,3497.909303330544,3501.3785765264042,3475.8057806517286,3429.517315916676,3442.898272790372,3394.800048828125,3409.0,3390.89990234375,3434.0],\"increasing\":{\"line\":{\"color\":\"green\"}},\"low\":[1896.4690416373369,1885.767637402963,1839.3047344846507,1830.112813113807,1857.5973383922878,1853.5274156208063,1852.2925396934272,1858.5119178562195,1846.7592537576718,1838.3901707280997,1858.1463361410586,1837.7044653994144,1847.4906503179145,1912.7493707793187,1897.8866879744041,1901.9563861435072,1918.876765878733,1975.8123676852429,2016.741695610183,2041.5731219928734,2019.1194188224727,2003.9818494662734,1990.2171727081036,2021.3144740199182,1980.1561187130794,1994.882326696616,2035.1071979084968,2007.561508108916,2008.2489628290978,2017.7357783238983,2002.198074423348,1982.765180893117,1948.023453191599,1983.2238711566356,2030.43227503653,2058.894811168888,2082.912219851444,2069.345267347596,2044.823871827551,2039.6443231468309,2065.2664726579787,2076.587097115094,2096.4328429567504,2086.3957030445226,2085.983285824115,2059.3530545075555,2062.9741543607274,2047.024106363274,2051.7445653681298,2060.957511208475,2064.8077100549453,2053.3949499435807,2054.3119778241567,2044.1825291277855,2047.4369665168913,2031.7613167662776,2054.9540118917034,2048.857783692001,2042.3493984660538,2054.541162414516,2054.861246980107,2079.0166149400684,2074.38690090677,2093.0866736506073,2133.1454013568814,2126.683578674927,2130.625701713164,2135.986678611996,2183.3791224058673,2259.2338634564776,2270.876097909746,2246.400987827876,2233.383694217466,2247.82133890821,2253.184010300752,2208.2664267921946,2110.7328253091882,2156.108528551954,2168.850494434312,2224.1252398198153,2255.017852348165,2284.6258798873996,2386.1477074094205,2429.2772736366423,2477.769275928659,2566.686161398582,2548.3532591096755,2567.3743014386177,2577.869326607494,2566.1684070427355,2510.4272597972936,2514.3856148286422,2491.647753122231,2502.0955826016448,2451.5557527071796,2428.5871555973144,2458.04576118869,2458.4139970540014,2415.6992136249273,2399.0368111222806,2393.743543137957,2413.398201785776,2393.559597399476,2394.4798354265467,2402.7186333829686,2455.191901879775,2468.356558133905,2481.0605064295796,2428.8180113338726,2433.466356587175,2450.3591965437795,2426.6544062012463,2448.794327121937,2439.5880726323476,2400.00360075107,2421.9128373719946,2418.875043821474,2453.350785605413,2490.1746353676126,2474.7088388743564,2467.159922961907,2457.0796114228942,2416.0212669241314,2487.8267772605855,2486.307807882527,2484.650689913977,2491.23341880876,2515.444449557827,2571.323371154917,2559.4483553981754,2544.995578894321,2537.354368744589,2536.2032975140187,2541.2208596539754,2582.2323784047285,2620.1607402967475,2563.8205911975188,2594.798634550694,2637.881914469691,2654.222297245501,2671.5297973417723,2688.09927046899,2671.5297045867437,2619.055908991982,2650.355910883607,2707.3858951334973,2798.2013587688034,2795.99188115162,2761.976414283643,2816.981076578129,2896.6573055870635,2899.8331652592483,2877.969522841653,2878.0505627211833,2960.691685816505,2939.8467952191086,2980.982679694788,3013.3568409014674,3008.745584203155,2990.1140232975076,3024.009831752597,2976.3713427475886,2936.5263769447197,2859.235033650892,2807.6772212034316,2905.3512101782967,2917.018984104347,2929.3326610459458,2885.982562609572,2910.1013871002315,2918.2643367780506,2912.0846568979828,2937.6798340567593,2934.867057596696,2888.334817841253,2859.234979457963,2809.0142151102723,2795.5933900645746,2781.89706622284,2714.566228444957,2737.487316311866,2694.2752485460187,2737.901993008142,2656.3215668458,2676.4284346953646,2719.0401294135704,2764.1426093010477,2781.805108141987,2763.865835626018,2763.312110851269,2759.7149339451266,2822.3421377765794,2805.1403199755864,2804.817793446108,2822.3413007461872,2845.6760316586146,2755.0573839962867,2771.6130478286555,2784.2032098189748,2880.3100315458055,2869.5188870486872,2813.1179509410267,2806.7083384771327,2823.171279090715,2888.7492385418664,2900.739847144056,2906.2738710050417,2979.1381290648196,2983.5659541854325,3012.3885732602066,3051.0806185449433,2963.6431514793376,2834.378109366165,2847.6598647968276,2935.4195203391196,2891.609323703472,2883.538520148597,2864.077525136785,2850.980056030993,2848.213386720825,2862.0018310546875,2870.3028056360604,2864.307538661248,2785.4478912776576,2770.6909123415376,2799.2835138094056,2815.332421042087,2835.254778551907,2870.1179959845117,2882.2930850961443,2851.0724952966198,2832.1181773996086,2803.8951130591513,2800.2054622602614,2838.9430481614168,2828.890371714259,2815.0554489743477,2817.8220791571753,2833.4092162907673,2856.630980808611,2876.7432443957287,2930.50035245874,2906.262989079015,2899.7285120321367,2902.879995242626,2887.123729358202,2894.213952670228,2896.392154883201,2904.3633131716283,2954.0415868878795,2953.1149829582223,2959.41783732302,2976.1011807686873,3031.1090933423698,3013.685047703715,3015.028165924506,3021.516418847958,3035.4187045346125,3013.823572959889,3044.6870544897597,3018.1797371265798,3038.663764216147,3104.9323619702454,3089.175940827644,3083.151823843722,3094.2735345505957,3088.5736535128835,3054.141631031064,3060.444375782191,3017.9020400525455,3004.4626392675164,2995.4722807409207,2966.8326174594094,2955.107981860163,2942.7342554746956,2952.002542835589,2966.805083021686,2964.9474633806262,2950.0856168011924,2931.6474246502867,2963.0894189159544,2978.5548012060344,2963.87892388856,2936.2916433471705,2909.5863625014276,2963.3687631017415,2937.4067066475914,2941.72559037306,2989.9797236780732,3029.224802038108,3030.432269310543,3032.754580476525,3074.554004146577,3079.7550695339282,3090.4372915887793,3089.4153859982193,3118.674941770408,3192.055398928226,3216.6710351396073,3285.035632587052,3251.038977999017,3308.535491226736,3338.7237559821715,3350.4743425781917,3388.4182200859395,3391.390643307694,3425.2945701555855,3440.0167358226468,3443.3145175594677,3457.2471013013537,3533.9257414500366,3542.7032531548143,3537.362510321546,3488.828877415612,3497.1886643509993,3499.046570869825,3552.9210284000787,3591.004294585752,3615.247358161808,3534.3436295233955,3536.991377449977,3549.8090845019665,3578.418002956908,3562.209458301532,3580.787136407022,3532.392744767003,3484.417427199042,3457.386734986847,3483.348874061087,3460.034188327313,3443.7318958318947,3475.4532059850058,3525.0550599297376,3548.32257456691,3622.5861332910517,3399.657893122635,3372.3495248992044,3385.724564393126,3357.9727006775893,3351.6914819547237,3373.794745427402,3330.146706976165,3267.746383073055,3243.3171860314037,3210.7444242983024,3234.0102178590128,3241.4561453548113,3178.171372645946,3151.136197942516,3176.263265321075,3229.1246551378736,3225.680969014592,3261.9301207325925,3239.780617045366,3253.5537912691993,3238.850013328261,3197.715253302026,3243.9681835063952,3283.335111087659,3296.364104407396,3263.2326329309253,3212.232839837619,3201.7166432422487,3171.4706862958174,3186.5471896601734,3195.9001513974904,3175.286085962699,3170.214479259087,3248.900321596126,3289.849992176555,3326.238268724434,3379.052220281416,3277.751310554146,3279.891632871575,3351.2722211459486,3318.699703404812,3327.16923232289,3351.9238836811737,3328.657242049197,3311.3939292010177,3322.4218938839012,3325.8652923730688,3266.7225605538515,3319.071529485793,3356.158291767396,3378.2613770485946,3392.034866178222,3399.7588903495293,3437.683712842412,3429.4468573047684,3424.793940408437,3472.5362805961568,3485.2861425327214,3547.360179297551,3548.011940314714,3510.4139998454666,3533.1217245872776,3593.241328110871,3588.5881136387698,3570.48722059206,3589.5185215295846,3592.357748052221,3687.516724751511,3703.9890176487743,3645.703858627504,3552.94138602559,3515.7434201039655,3486.8428698905464,3470.154278906347,3379.629188839471,3399.1141598649506,3469.4083940789947,3483.393108592975,3543.291802486666,3557.6495158120797,3513.785319563825,3501.805332021349,3469.0358034225274,3492.4362293868876,3503.5301243499307,3440.134742342256,3458.78057389312,3494.20716755888,3548.2800932076652,3523.108213807629,3503.1574726183794,3454.6314362214725,3328.2604081418153,3314.881715088758,3161.4743816171413,3227.5739044859047,3221.886530219007,3268.5942046247064,3291.0622935703286,3250.9271115747797,3199.185538276154,3225.708780266653,3353.4787754004647,3370.21319886557,3349.5635483873284,3337.583373721864,3342.617318977544,3371.377982590614,3412.4455781621255,3370.2133946748977,3379.535957993787,3440.134710729127,3444.7964003899633,3423.3531052044636,3413.285179146932,3441.0669201008836,3455.2375578718566,3468.2895043297726,3475.6083616773035,3484.045441684337,3516.5824920813334,3478.498314431226,3429.8794832010385,3395.8513012222365,3408.5301392838305,3401.3049388926875,3408.0173487350335,3283.9768910820944,3206.270860398216,3244.354747141002,3325.8364564251656,3329.6593033522663,3293.8586578220275,3279.9210583305585,3268.8737528608285,3298.474786694101,3297.3554506004552,3256.241395565854,3230.6498543276803,3249.342484670309,3192.612944232297,3120.2207920859028,3190.2821613163396,3153.1304056516915,3123.251025319351,3153.130480365933,3138.6337957668575,3123.5301826336013,3209.9066905986583,3011.2826111801805,3048.621661479155,3045.7776656694514,3053.7952167848603,2960.283008039301,2985.1552323007913,3030.8165273170234,3084.455401864584,3120.7311639056634,3134.8565044766124,3140.722743224983,3220.4065235959915,3169.676995571409,3149.826401906427,3140.9100900297044,3147.105209868865,3146.0719954367596,2996.3244408325013,2979.6648241342305,3004.349041898636,2940.5737584916783,2838.0822215963167,2880.458233392609,2933.3933090554183,2987.4552657814593,3024.9504067297107,3076.149541002887,3103.3680147640744,3071.5500317133474,3070.0487965918696,3055.0314466207774,3052.2628359290425,3026.921714935815,3009.9335466283806,3005.5218873577123,3064.464422683774,3050.338318075214,2915.1850012446953,2891.017275717612,2848.546785016454,2792.075246766231,2778.9008469183054,2836.5864643191403,2851.407891136462,2915.398988229111,2958.6868765479944,2958.1696487855024,2963.439263233777,2913.940386285814,2926.6443548343877,3012.8909977958383,3081.916256265813,3078.1521865379996,3078.763915752838,3083.8456675820694,3112.3593136425075,3157.1999405800307,3139.320350169917,3138.3790590994636,3176.068485122166,3181.9021492097504,3187.7836235946907,3172.3509780148474,3163.7870192640944,3172.492079806277,3150.04850162986,3077.211603599361,3058.578782292652,3025.218291020151,3027.1477068416616,2899.3541662039174,2956.8517218319826,2936.9958251227463,2936.3371542258706,2928.761337318611,2923.209418007233,2919.1161615104593,2973.79056541904,2981.6953291605887,3034.8646662385045,3034.864134103874,2930.220648605258,2917.233762979715,2823.1298638753906,2811.6489182620085,2851.3606766332055,2821.3883174777166,2803.649601610818,2803.3670776079894,2753.5867920230608,2800.544345451566,2804.3085318652325,2813.7187186938504,2776.171860660605,2798.6626632385533,2844.7737558791123,2910.128694049026,2877.8042152300336,2827.835159537486,2873.33424819408,2881.521371439081,2872.393491381272,2889.943564649391,2897.847394023007,2951.7201872742276,2936.105812280472,2929.501234931046,2950.2579817271935,2976.6750771390025,2973.042747627764,2957.1924541086732,2967.2404981773097,2998.1859564437514,3022.386601913905,3039.935589210589,3014.4143696980736,2987.1948152198825,3014.5086214001262,3020.688183943907,2990.82699597619,3071.0700771628226,3121.97071725156,3105.931734983696,3133.717349195389,3130.2264953412805,3133.2928257800004,3088.0058270311074,3071.2588438975154,3104.9883197276145,3121.3105603414374,3158.7667040766187,3175.324434891601,3191.787895135412,3184.2402091568283,3226.6971624995385,3220.092772801236,3214.4320161089063,3177.636168134268,3164.4275444867308,3150.7001450369244,3091.1664461774567,3053.1913014544975,3083.0994166410856,3152.0679912882792,3112.4889717700507,3042.907289731172,3013.9423643849377,2984.8365093260554,3056.870767892485,3061.6826254575462,3035.170819707786,3042.7660046540764,3048.8513954327614,3043.661874651546,3045.5490944670173,3062.7206703964,3052.3423260388654,3061.8714192749435,3100.45910721121,3096.449850471855,3019.131827725383,3039.0867359214594,3047.5307687368777,3086.2603699534707,3128.150981360399,3118.1971710348826,3174.6716926574154,3196.7625447628498,3246.0954171959984,3235.2666236158116,3230.0684138558518,3230.068718846854,3289.4605365047496,3277.6204665547093,3255.7696172837873,3258.898028344936,3225.64059078732,3229.4911612694063,3292.1555484690202,3323.7285080422034,3308.278950928496,3331.910043321964,3347.9375775823487,3374.1682908493435,3376.9113715447056,3343.461442153666,3364.253780409461,3330.7073675439983,3395.055861237855,3359.4405507119245,3345.0500636040024,3315.883224164531,3267.9945461588377,3280.507993284667,3255.7697995969875,3191.949635890228,3176.4515044572313,3190.987142758559,3193.8749109404357,3206.484902219457,3233.3408256896014,3206.244335793791,3206.243989459544,3166.9222237304393,3149.595612900135,3089.337507967198,3072.5886887078336,3053.336666932398,3026.3845221311904,2979.2652220579876,2981.575795205435,2989.9018011547705,2984.992402664486,2989.80586654157,2989.8058230153692,2993.800554204942,2987.977137690062,3034.084736652683,3055.0213084220886,3066.3318775173375,3094.7278817815695,3094.728101967803,3072.733017893545,3079.326716598641,3061.037377703837,2955.393345346343,2994.234022901927,2956.5965502020463,2962.853407821071,2984.800163045224,3009.2018194764514,3029.7531862042715,3062.0002127542307,3052.037323719846,3076.679512978415,3089.915123326889,3054.443676817775,3059.1120399072556,3089.963179578828,3110.4182968243445,3124.568313718305,3143.868776252081,3149.595524917794,3138.044967715473,3126.830964049035,3128.8517731412458,3078.6047955216663,3075.4766058071873,3083.2258156938915,3096.7012254997567,3167.0185402984303,3153.446251075901,3144.87921117683,3167.885104216492,3188.0994829911488,3177.8482501640474,3143.001749227213,3174.1417458140604,3174.093468430649,3162.1574494383894,3100.1188424512707,3119.7554864734507,3112.054354698024,3085.4392699536315,3090.878153003819,3117.830608010796,3105.17221323863,3112.8951708919826,3060.528766670332,3078.953929558462,3104.2160899287974,3126.423051037216,3132.3874034604783,3112.071081960276,3077.0144139912986,3086.033398783572,3096.797157486778,3116.8716649116777,3169.8678896552733,3178.1590049804972,3205.0218248095475,3202.11197435998,3202.1121734965177,3166.4253835969585,3162.1582777567055,3151.782290806944,3173.7472825922123,3250.599480994937,3371.8672404253302,3360.1812617633423,3341.4168306795527,3340.772213666878,3265.907370996994,3278.595100383834,3286.470287968445,3291.1374054227995,3291.186006426719,3238.6348358573714,3267.705601956503,3320.305437276607,3318.9443998189768,3274.6088395286724,3306.9368526530116,3345.827911694259,3360.752462076864,3330.0767803825624,3334.938139889844,3319.333135215664,3316.41686841579,3339.9455557566375,3318.55546519023,3263.427475459412,3278.497700234218,3271.740519547004,3282.3869891672184,3284.428715083038,3257.3509764938926,3266.9274371790816,3271.692231234873,3289.241760753957,3250.9339757925063,3263.719514402011,3276.601771766878,3310.7284208303363,3303.8744500388284,3327.4034121951495,3339.799558703476,3349.4736430665575,3386.419905028698,3446.700506106715,3447.284470462897,3463.666695593728,3476.1114657543703,3480.729912112626,3430.172124415635,3466.1950878215866,3459.971971538669,3437.9503936365068,3457.1038174746377,3429.5404344417016,3408.3447207549916,3383.6004045074023,3380.8781188532926,3452.728763465419,3475.9173173530494,3530.3163589614273,3501.488051231089,3505.0372361973878,3439.992288967966,3427.2555052227503,3421.5193367597617,3406.2056233736766,3387.3921212430105,3364.866278212813,3357.2141895047785,3315.5424688601106,3292.0501068263734,3246.039818463419,3252.8636852408413,3249.695229974027,3265.5842801783215,3227.519118418231,3258.90682148721,3259.9793920055704,3274.3084879394783,3281.1324610587926,3284.5928418442,3257.786051518633,3238.5828419377663,3243.1156978341464,3271.433333122492,3328.11714213323,3404.491795407471,3403.2243189506144,3412.7285423569247,3393.330452148424,3411.753419952077,3365.938581943495,3346.443016310844,3388.1638724285867,3393.2325722197993,3402.0548544939506,3409.8037844595065,3414.482979557432,3436.2693999772937,3501.141343806709,3511.230635182451,3523.854082125989,3539.4508163794744,3473.1652847396876,3536.1369056020326,3574.250499737059,3733.579370011988,3694.4418355521393,3671.5828114809474,3648.9681422108315,3667.147695118413,3694.5883031140743,3672.99667951578,3696.489138465235,3670.4618311343893,3677.8702963806,3672.2654311564665,3594.0877390639707,3558.9464661031175,3582.195399668658,3579.806964673361,3589.89584855394,3595.01342978895,3613.5347786421544,3725.245437467194,3787.0470060441035,3758.3390680343728,3716.4230651030316,3764.6266850588518,3825.160700827236,3754.5204308986326,3718.223485188841,3691.941113467618,3694.041500665269,3700.050367336708,3709.2834135992116,3717.685928594729,3783.0987266068837,3871.1304414365304,3898.3892810459984,3980.412039287007,3992.234332718896,4005.8638456437407,4011.28608647811,3987.7883378150796,3956.52359323354,3989.254323809279,4005.9619175856756,3961.8972978073148,3917.930420480471,3889.2055838470033,3879.8255780113236,3953.4946458954487,3891.3056689647083,3907.182684335872,3995.116368822172,3971.228039996073,3992.9672941113954,3982.3172403713465,3888.618856946534,3867.5638651727977,3944.9943230945923,3995.1163062492915,4026.430892304819,4037.031290902204,3992.1850172301447,4081.0960369974673,4023.3038658507253,3875.5269209825756,3869.2735036036975,3857.353614528129,3766.4890306201755,3782.5617602148955,3741.4769304751785,3752.321970514555,3798.7800473772877,3784.075850175179,3762.58092504265,3844.8966576768908,3869.5669743520584,3869.0784322221007,3834.9308958803363,3828.042732713417,3854.911149717256,3829.068377804211,3774.1588712853645,3761.6041328671186,3713.631425002928,3724.4764968379727,3771.9602091098495,3736.6407956829753,3723.499417914543,3715.2434171075956,3731.510807921281,3722.5223539178737,3691.3059738473044,3710.4070342574464,3764.5350859720807,3823.6460414023286,3848.1698194715227,3820.2752220506995,3795.8491889826905,3781.144689774498,3803.5191818453127,3786.5182638004826,3782.547068143896,3769.2610672601963,3749.6275172327923,3757.008698340933,3764.832481792995,3783.3344176312457,3780.4309704451666,3769.261247451239,3739.7368378825076,3656.52768015115,3595.8062164065136,3637.3862215773665,3534.5435093424044,3641.3228173885186,3682.1644801577736,3776.445512155457,3780.972481111325,3780.086677810311,3766.7514203836445,3790.912262222329,3767.292988177874,3734.8653318190068,3732.798432201804,3720.1031958675203,3737.817616642503,3731.1749050238163,3732.74922264632,3780.086578062631,3757.5498752909507,3836.035453278953,3822.4047781896293,3919.3917864147957,3892.2787628164206,3918.9491164757837,3924.7553683338815,3914.9634020759663,3912.060192564383,3840.1192477234713,3833.820629418889,3908.320354948728,4091.1243302256744,4079.16683245519,4094.0278512274945,4227.086291291368,4207.111461736829,4208.393605070966,4210.169659760562,4216.186336544361,4278.183163133731,4311.672245272301,4268.56576947123,4286.025695683994,4305.802696516272,4212.043335796562,4054.7086730989754,4104.325246589068,4123.560610554091,4103.536061933803,4148.467729099171,4129.528570437414,4126.224501050218,4131.3047288803955,4266.395591555812,4330.75977693066,4438.921715881248,4431.572589791713,4436.159386361879,4394.532419200165,4424.125035326902,4425.901222329688,4396.800844236572,4399.4647931649715,4426.887323250824,4450.758575284233,4434.8770869703185,4376.4813325945515,4393.693844016225,4379.73613584731,4370.365007520292,4380.179955731091,4410.561603000488,4371.154150444191,4443.85363223006,4433.447064107537,4405.383379439724,4262.3511249124385,4223.682568077095,4170.119912312439,4195.27385869048,4182.450709461383,4182.450664147026,4202.179400844496,4241.685282736974,4202.227976093334,4185.361074254107,4152.8571285198,4166.71723087503,4171.994531838529,4146.8903335016785,4189.059928619177,4141.612578885341,4056.6318647840667,4066.2493493106026,4039.418447965807,4011.996034232936,4037.3963142165476,4034.440676617236,4024.552373858137,3961.6131587823234,3950.538319406618,3959.289522597981,3987.6690884447044,4005.7645656315945,4014.763164872312,4014.7136581495483,3915.7808793492077,3931.6513089816535,3869.552748054801,3897.0919359979875,3930.860192931048,4039.434287799142,4071.6705088499857,4071.670184427067,4117.848545504403,4084.9201081020024,4070.4841216775367,3945.6435837740178,3969.2766187118827,3979.065992566774,4008.7313474231564,4204.717996833455,4261.872320185588,4275.765325361396,4185.732001925564,4148.799195321535,4182.81527828795,4217.820314512186,4241.156484280645,4311.313735360202,4363.475077501124,4366.243655203445,4362.832841709957,4357.78939153351,4376.5766927985,4345.330114520725,4347.900986029043,4269.783263363463,4241.700253645469,4214.40839877145,4106.130891357154,4068.9509329664197,4111.866126630934,4096.885475626031,4100.9396957106965,4066.083622101197,3987.026137705559,4039.829818248196,4051.2016935812703,4046.6034183811225,4020.99245861776,3966.7551537812965,3972.886016427021,3980.351502046472,4123.435749173168,4180.194705698588,4171.937581674834,4160.4677368549255,4145.041724021425,4063.9282428372853,4032.260017399004,3994.4956312570166,4008.570567070649,4103.575897842693,4067.8434484989616,4005.4481609662266,3992.810554493486,4018.2841131724467,4022.7444731997584,4049.258723379119,4020.2665694535635,3963.4712423764154,4030.2279094720234,4040.090307740948,4015.8556837274673,3972.689266912831,3978.9835293479905,3920.156380767345,3905.4369774714623,3867.871111944238,3865.640771635375,3822.2265522941643,3830.4536000436697,3734.9522896962358,3718.2509785534694,3741.742173893642,3637.6672568480726,3589.3465614482952,3568.9776906850625,3426.5437630086844,3445.524867602231,3433.779496043832,3489.831165175846,3504.946930370165,3542.9091721174527,3551.037206797617,3506.4830664704914,3456.130678783226,3453.4049115822995,3446.714439651225,3466.885009765625,3432.2430552113424,3481.0590326792085,3434.473222657527,3535.1782109049886,3605.949144394821,3593.906262847376,3578.6913320782614,3560.255181499984,3493.944584795584,3498.9500956939714,3366.2296391263217,3266.4664872326007,3029.1261531639934,3226.62075925165,3183.751654070316,3177.754930106955,3210.0679733173506,3200.5524047344097,3189.649255707432,3255.1670463994083,3265.9709624830452,3307.8983635128925,3357.854150417322,3375.001877786942,3375.0017845272346,3400.1780313538507,3336.345394272942,3389.869615670996,3416.036885981391,3406.7199644232073,3390.464381796455,3398.4929041569826,3368.162797668319,3471.3453055594405,3479.5723600167807,3477.6892184929848,3483.1407340889405,3514.858765899419,3472.832251056607,3463.217815126027,3467.479825400299,3420.8938985047307,3435.067923819353,3479.1759124424952,3452.4138027169333,3462.226465438818,3455.7838378087213,3422.678144045855,3388.482147718656,3370.5414068299006,3370.0,3363.699951171875,3358.699951171875,3390.89990234375],\"open\":[1899.7159949524273,1920.7061522755564,1839.4876142146832,1865.0056641118495,1888.694487336324,1871.316770367018,1870.402101027694,1867.6581379244094,1874.9753234913019,1853.9387443113724,1860.3414516289652,1861.2559846150593,1852.1095360423835,1928.0235162152874,1920.7064653679445,1902.139265878186,1922.5352535162522,1978.9219934691585,2016.741695610183,2080.7647585213676,2076.191736715851,2038.6916970926407,2016.9698621849934,2030.460693359375,2021.3140980858686,1998.4492635234722,2057.015607957406,2050.5992984236555,2017.598990629573,2044.1818982302123,2045.0984359934125,2008.3861656324868,1974.9735716120592,1984.5988819293348,2030.43227503653,2101.015918884452,2095.4247287706107,2111.2372161043972,2099.5951225632275,2071.636137322561,2071.6831905046747,2085.4329098290686,2115.682991492864,2124.8501289096266,2092.766583391069,2097.6700545128156,2083.5993125358514,2087.2659918295667,2074.4322356430594,2074.2492797729506,2086.67046944504,2068.9325242742643,2071.6829025350626,2063.066098512195,2057.932837565946,2055.182373859413,2077.1833571747966,2079.3828434425463,2053.349484992801,2079.932983518185,2059.7655401660736,2079.0166149400684,2085.4328647962516,2098.26578977269,2141.3037070910686,2131.266948456554,2140.434070036938,2136.720062175601,2185.441638023558,2283.800537109375,2281.5552583884773,2273.3511090370475,2277.934125178504,2259.600685550585,2277.934200812599,2300.850448837031,2245.8504311153392,2170.6835524128273,2236.684364505377,2231.962843998041,2281.601396136009,2300.8509594234783,2401.685283088259,2508.019461811282,2513.5195540497166,2566.686161398582,2575.853474136039,2580.89524081065,2607.9362639708975,2616.2940521485607,2587.7561522882993,2531.6926010573416,2553.694900530851,2508.585730082974,2521.473905313878,2449.6683908187806,2474.340015471316,2476.319270299818,2485.3411490700814,2439.542421133555,2400.8780542270138,2426.7466426700967,2448.748450804719,2397.1955073528634,2402.7186333829686,2471.76237590821,2484.6508145610596,2514.2014566707744,2482.9941361438764,2456.0666895231207,2472.68331057259,2444.835902605827,2465.2726559168113,2480.9681834694256,2449.6689599301335,2427.5743258194666,2444.144972313751,2476.365333312781,2517.239659803358,2512.268634758383,2472.683415326747,2490.1744917886053,2466.2390575212244,2503.062454288286,2553.6022144528424,2495.513601904277,2499.3806611407076,2522.394889184526,2591.438176564533,2594.2003292912714,2570.909878055416,2579.4709990829347,2564.7413382482964,2558.2977028728205,2587.755870123241,2640.2294751206964,2633.7848155892643,2608.9296596224976,2647.640174559908,2677.9733606574573,2678.8944556390616,2688.09927046899,2701.3564797545723,2669.687921292354,2651.276492999232,2715.717208129073,2798.2013587688034,2853.804481402589,2830.7899254802774,2844.5985381132086,2973.479827702331,2924.182513077563,2922.8478960487,2909.9634051921057,2983.7500322792503,2997.5849837469445,2981.9050134446934,3016.0315188434606,3048.3136194796452,2990.1140232975076,3051.956592854883,3043.7017139966047,2979.138153170964,2960.737922381333,2859.2356054362244,2927.487219398703,2963.4585823051934,2966.2721812313084,2950.499769173146,2941.783643072357,2946.856686474675,2937.6332590444213,2965.303691214349,2936.8961475472483,2959.7695345540014,2905.351672675027,2863.939247037782,2826.9527352517057,2820.496826732287,2855.545018815692,2739.3319843147715,2741.176011629577,2743.0209911377274,2730.1082770359612,2698.7488690274276,2730.108135367764,2799.283623943482,2788.215283489963,2781.8513465511696,2781.7587871586875,2773.411455176508,2836.1771482558765,2836.1767658949284,2804.817793446108,2822.3413007461872,2863.845959376323,2883.169466262415,2794.6713926525213,2811.919389273082,2896.127965233307,2869.565048777337,2870.4870654293077,2850.611298871768,2843.5549449925143,2909.9629143038273,2943.259526072106,2924.7205474316047,3020.6431494387875,3005.886391096367,3016.031747001332,3093.5079790204773,3064.223705222995,2964.3810217073224,2914.8519820855604,2978.215716814441,2922.8763552611267,2974.5266643204072,2903.5073018696075,2863.8465680399786,2861.1260619636446,2864.768832502694,2905.3053285545643,2901.293213115555,2858.3122566455168,2789.9675999223145,2824.9244424313715,2831.56559072182,2864.3083001928912,2889.671425002326,2901.6159329027996,2882.2935895300843,2877.6813757777654,2857.8516473071645,2817.7298047447625,2859.234388986482,2844.4777244255965,2828.8904577825583,2823.263758499153,2842.17138671875,2865.8066619500646,2891.758096950689,2930.6392887812176,2956.1737095518815,2919.5629124169486,2936.8026297605875,2920.351231009299,2923.7804593023056,2899.1726913518887,2914.929261955486,2964.0515623734054,2967.7591865991917,2975.1742116526448,2976.6109910978257,3039.126215934062,3056.7369833070743,3023.462549799777,3026.614069247855,3105.7661803350916,3026.1506637990283,3062.297116600964,3085.468814092156,3043.7614157955854,3128.3352103701704,3143.39640063515,3097.5179303429186,3101.2248754249795,3112.3471497760174,3087.32274936655,3097.518202260473,3070.639464029651,3035.4191902682196,3056.73686698011,3012.2480495917152,2998.3452345289807,2978.881227431708,2953.8562336003206,2998.015145800831,2984.453696692341,2953.8010898702114,2958.073907675301,2963.0894189159544,3000.243962043898,2972.37797645521,2972.378263917328,2961.2315198688916,2972.610957894032,2990.027004191115,2953.8008769770545,2999.3148928089663,3065.2649320486003,3042.0431209170965,3039.7675805274644,3087.4651825176416,3079.7550695339282,3111.7082813695556,3089.4153859982193,3121.6937633819507,3213.883800463164,3234.4125109984575,3319.6359758361978,3256.6121876755865,3325.348096053438,3396.8709958136224,3353.2144586230015,3399.6576160290447,3405.230688237503,3450.7454689069145,3445.5434560101576,3525.9837897641596,3468.393518608075,3552.9210517837632,3575.863801962908,3589.1469152189206,3538.987759039798,3520.1316628233244,3499.046570869825,3576.0962457010223,3605.959162621666,3650.4513658658598,3641.1634764078085,3538.0594853246166,3583.5735344594455,3587.7531730728024,3594.719844492028,3613.2975254535186,3622.585936616653,3576.1431775318392,3492.3587593385328,3534.3436496764593,3512.7474608608904,3459.8478476266696,3486.971080485138,3563.1386587326674,3557.5647666606587,3645.8078392736866,3487.900379419534,3442.38610783505,3390.3689053593716,3373.607672713042,3353.5527831125332,3414.557289997674,3361.509583171254,3354.1573679884527,3313.1159776963555,3260.068903859986,3252.1579010959194,3241.4561453548113,3274.028371586658,3164.258461638043,3199.529525526784,3251.6929303413017,3261.1851920426484,3269.3287470338455,3301.9481186099315,3264.721596044723,3255.415638635164,3238.663877034648,3262.860432823473,3283.335111087659,3321.4916681620543,3304.367564411291,3271.3754878289287,3237.1742874519796,3206.090838001551,3231.404496596066,3205.0669217981053,3187.4776973825033,3208.091910708162,3248.900321596126,3289.849992176555,3340.290955902597,3393.570230730832,3387.986825230094,3315.442436857858,3351.2722211459486,3359.648325656582,3336.3825828813037,3396.874348585193,3354.994693825441,3368.9547525279067,3333.589698569225,3352.668069361859,3340.10443884445,3334.194598639843,3372.6773377788677,3395.0130863562736,3429.4469694944255,3416.417440759521,3452.71362872512,3436.1940729670373,3426.050409504112,3483.2387614216796,3489.939395059467,3565.4149338671104,3596.9642483953444,3547.640023173626,3555.085168870426,3702.127428962716,3588.5881136387698,3652.8032118607352,3646.2881948024146,3608.923373501257,3715.808410626372,3754.1975670566417,3740.330873497902,3645.2376854788918,3549.212392599778,3579.978147849645,3514.251444288803,3478.3581594650227,3399.1141598649506,3495.139574010957,3514.7180073412096,3568.6965895885296,3590.2328612277042,3556.950199337599,3534.295584265534,3534.808618611448,3496.0720532787545,3533.1768590559273,3498.4026072193265,3471.8325760587545,3529.6340278489643,3583.706956986407,3565.9933627452187,3513.785440482106,3552.008635308089,3402.8432744307074,3366.4838220701395,3238.760781295956,3233.1676200916,3253.677568276363,3311.9454968423474,3321.594654447571,3264.3985953125502,3216.3861666018643,3225.708780266653,3360.8904021942144,3434.5409196737924,3359.2592308818853,3337.583373721864,3411.233642903754,3393.985909608332,3446.2875964278855,3445.7285495763267,3393.52024471652,3456.915855659513,3449.4578298898145,3505.3009275453255,3444.79648889732,3444.5629918837008,3484.884291588518,3486.748808248147,3494.2074191469906,3507.2592676435443,3516.5824920813334,3551.356591352153,3491.8764893529465,3440.1348803047504,3440.13453625631,3433.608550338765,3455.9834068776463,3365.5519025710037,3309.6148401838363,3263.0004640785937,3337.583349200529,3338.6093396043234,3317.0724804273627,3333.061346696411,3305.885453676043,3345.042430527066,3353.432356002151,3281.552865295233,3298.8931256917813,3274.281130438888,3224.7768065701607,3167.9071192739348,3201.46959145538,3202.401802447588,3149.261710391833,3202.4018783293286,3183.7563421939385,3141.8030749438703,3230.3703185232353,3166.974312748939,3085.8664389899027,3081.018113934501,3090.6669351810956,3090.55596493597,2994.96319819949,3053.342105712753,3094.451034660048,3148.090264257227,3179.8606852891808,3148.888219754807,3246.8740300110517,3208.0174952685056,3192.1088313480245,3172.492733926312,3177.045368509073,3174.228964369666,3087.881583459223,2994.02492682169,3020.773942939944,3040.9533295124525,2902.0453877583022,2903.922376707961,2937.710803170564,3003.316937866922,3024.9504067297107,3133.8713401704467,3144.1956296566304,3103.836598352074,3070.0487965918696,3070.987064007122,3059.7243879177972,3108.5299663830733,3055.031679148988,3020.7735793460215,3070.048843568673,3097.2665998917555,3009.1822624129572,2923.5384886963343,2913.3078157136983,2875.8280937369736,2840.5862807835315,2844.7734939229026,2851.407891136462,2924.574159606987,2980.283771729403,2997.222946200676,2978.401758367584,2978.1194891640466,2931.3495708389446,3026.3950601901547,3096.031903241076,3130.8506036722483,3096.032150497066,3086.6216990754606,3152.4947141492703,3163.0343624791194,3166.6106050125213,3185.431218906052,3199.5474713522644,3217.426528102961,3209.898137293429,3185.525583456877,3190.136227039048,3187.3135111023685,3166.6109569289088,3124.2166706774387,3097.9144368262764,3082.857180614982,3043.6159622711616,2940.760067960806,2968.9910863560576,3001.927805876822,2976.519653071357,2939.4891365743206,2950.640733340792,2919.1161615104593,2983.1068007529293,3006.63297354208,3048.8861196194193,3071.047196978159,2950.170720446457,2945.4650574601637,2894.649153760234,2857.00715454219,2870.18153918524,2849.478546300857,2813.718716284945,2826.89315244525,2785.3470022445827,2831.9750939890073,2804.3085318652325,2873.9454738765953,2814.519374160841,2818.4245717550325,2851.313960542821,2927.585089535808,2914.7870280797774,2832.5403761090956,2917.2338200715717,2903.0240706731206,2917.939893342969,2959.580758978292,2898.979522311487,2971.9577583221276,2980.449312658744,2929.501234931046,2979.317172610712,2990.921696586142,3000.733938997041,2982.052978796564,2971.957891656129,3018.187654128994,3032.8120869496247,3085.175346774662,3045.596386006907,3035.170796382281,3046.4924543807642,3066.1168169852795,2990.82699597619,3084.797736924429,3136.12289638688,3133.29261600269,3150.181006794873,3151.2188966739136,3160.6537086308344,3134.7080233152624,3094.609940245404,3141.7839880562005,3128.811169772484,3191.7884587488657,3175.7489541915174,3191.787895135412,3191.788037800756,3231.4145560119646,3262.6437539074536,3238.962462959165,3207.8747056481393,3177.9193358997372,3170.0886799064374,3183.3914865753063,3071.4946948284855,3091.9680233487975,3159.521611446853,3168.9562633845435,3089.8925724740325,3044.6054186477368,3018.094135865514,3065.3620755810753,3107.8186387967226,3035.170819707786,3045.8795304089917,3084.4204960789375,3066.1167107436136,3048.473970430385,3100.31839069858,3076.6841232200345,3068.1926803894926,3119.8004171260745,3141.972697409822,3113.4796973418015,3046.4931368609,3099.327659401234,3104.139476243874,3140.8407243405786,3153.9549224027433,3192.9127359017316,3205.425857892288,3253.5554926599375,3253.5558428507716,3239.116669538966,3261.2565564939378,3296.872436294346,3297.1610995976234,3297.8347715421955,3292.059221158926,3319.9744546778475,3237.1918853499296,3298.7973282813823,3372.9169745913014,3343.220794872277,3339.129470729931,3347.9375775823487,3383.505371045337,3388.3181616315746,3416.233371284592,3373.879685360561,3356.55301602945,3395.2483322891835,3394.238100235669,3370.9918297987097,3363.290800560526,3287.1981784492127,3293.02166814168,3294.465889559796,3263.181322577766,3203.981679891733,3198.6878658783385,3235.266297670526,3228.5281278731077,3236.13224356354,3238.1541136299516,3258.3681601154485,3188.9654485491865,3208.3136240208282,3157.296483598848,3128.4189343046555,3087.9899204032577,3032.641360360787,3051.0743190494477,3025.710662123288,3012.9557916557173,2998.372313304238,3031.10090186076,3017.7209449945854,3010.020297074465,3011.945546115427,3070.6149928732734,3104.305890326854,3066.3318775173375,3104.3537849908435,3099.541053914876,3141.8952358849792,3107.1936619214857,3089.915088814251,3016.854839919422,3036.924769426129,3013.630034037134,2974.404493231679,2993.6559471413957,3033.21863743978,3063.9251443012536,3062.0002127542307,3065.850590713949,3080.6741690666045,3113.979882854357,3095.690770042235,3061.181515094289,3099.5409064964892,3123.60573783777,3130.921504107758,3166.9227719215705,3185.211366733796,3156.4784814216223,3161.1472215836498,3134.3866676837924,3134.1462154791748,3105.26873437682,3089.915773248185,3109.1667231001798,3182.3236325500193,3153.446251075901,3170.772799109515,3170.2915802907983,3235.073942664726,3190.987516523223,3185.211429566376,3190.0244869227586,3201.8161172136415,3190.9869831747915,3157.29662016718,3131.3065712737225,3139.0068823601164,3123.6058857721923,3094.728515075453,3138.0450083714713,3122.3543101957603,3147.1273676300893,3100.2884876568605,3093.500168595746,3116.7742961980944,3151.685066381868,3161.3828137061914,3139.369668655459,3108.0463904324333,3105.137413596128,3110.955591226229,3122.5930917130363,3214.040015743993,3190.474772099269,3219.5680660719204,3206.5243807308048,3202.1121734965177,3224.174002065527,3195.3236534551897,3181.6989146225155,3184.6569631144525,3263.2062212255264,3403.82043620044,3370.848503864178,3394.1228037774413,3357.3494836592317,3309.6595716366173,3287.2482172466443,3303.2906232371693,3306.0618605404884,3300.8113944088027,3291.137472043591,3271.108550553357,3320.305437276607,3339.702243366992,3325.1669332506117,3306.9368526530116,3358.175707148822,3387.4412569557744,3368.8216366626725,3354.3348985682655,3342.7649608490333,3345.2932738856025,3354.335215168345,3359.1964421233765,3315.443971791031,3281.4145131347823,3305.7213429362537,3294.0542414983815,3313.499522636706,3281.414684177864,3299.8873246424755,3287.297229767389,3303.777166085249,3306.6938150194046,3272.664360605072,3284.33127836702,3325.1667397803517,3338.7788868428565,3335.667716493466,3359.4393855038675,3366.002250303751,3395.17034405978,3472.076872764326,3471.0564511310204,3468.9171012936326,3480.7784134552658,3480.729912112626,3489.0431815647958,3484.6195774547696,3502.6061482639307,3468.67425341486,3490.4527589971635,3500.175832331943,3439.117003581703,3436.2001232231196,3389.6285581718475,3455.451169767769,3491.4249915763594,3543.9768153707187,3539.114889204918,3548.78943470748,3475.868995681339,3432.116860549307,3467.118756585347,3432.1165499711556,3413.643437911656,3382.022620161361,3363.4039422730884,3385.4346364762705,3305.0148195465167,3283.13050122335,3265.535914161468,3265.535514184624,3313.3000422512755,3270.4097379320942,3258.90682148721,3296.7288050682514,3289.905074961518,3292.829902987701,3286.4448415320085,3304.624601677971,3253.8381593241625,3271.384515158219,3297.801364025315,3343.5676085583573,3409.6582132106073,3403.2243189506144,3430.8596717948312,3411.753827623567,3440.9970206945236,3406.1485345948618,3369.9354729068727,3393.2327159901947,3411.217339606261,3411.753935943405,3455.277487591692,3448.7954245963174,3443.531751617766,3514.1060545174696,3541.4002372809678,3531.554802215179,3547.200323723311,3551.6844071853598,3538.4762988700663,3574.250499737059,3760.8248500238014,3748.0551075720255,3730.752315268566,3661.542796320648,3704.1895910287003,3723.5396630942982,3703.2150704565947,3727.5847423509695,3696.3912531569854,3694.441670628803,3715.0099258876053,3672.021896572065,3608.4168942473884,3582.34152249596,3643.65550035066,3616.4100001506504,3596.963003232436,3630.1061547513846,3750.9797145350503,3860.1560216048,3800.6935043470535,3722.710391694669,3799.7190104503893,3854.4230026587647,3810.455970465075,3790.915165105672,3751.7359155935674,3713.533399487398,3720.0307870212905,3723.6947534177966,3732.2926282154012,3786.078746193084,3891.5504828771295,3905.22856048643,4057.647098586443,3996.093593005109,4041.5744654395935,4035.1749035512157,4030.729432097055,4012.703394841375,4033.2211238512623,4018.809898550615,4028.3846806205634,3988.375100262774,3920.86158495739,3879.8255780113236,4035.1752870720366,3943.3330437365044,3907.182684335872,4001.564927927652,4004.8870208000344,4012.899054103066,4010.749199783877,3968.736129878598,3902.346583911271,3971.667562550115,3995.1163062492915,4027.7013306704184,4108.45300696045,4058.0865490793394,4096.337956250925,4118.467457127672,3958.2332607483595,3894.481181638441,3898.4381909815875,3807.524708774792,3786.0303001969496,3799.2200906591943,3761.7016495549483,3808.2083870391257,3800.6855298686924,3762.58092504265,3884.6132382388314,3886.6651745922204,3891.550352409249,3892.5273561158324,3865.5609734239574,3879.8256686167088,3909.527472759576,3812.4098899646215,3787.7888534990448,3749.879706217061,3748.9024969484,3788.0324672284205,3800.685819081734,3723.694778206353,3766.6355768439216,3749.87920609066,3783.098833167981,3691.3059738473044,3800.8318914043552,3764.5350859720807,3840.5488811155587,3870.055419944041,3871.0324013119057,3871.618686479537,3795.3117693615086,3845.6297041518987,3814.852421883366,3829.392289903493,3856.8496403636314,3769.8516685113605,3774.1819161114463,3780.0374165764197,3816.745966447423,3793.8644019866833,3796.8172043516656,3787.861250030871,3717.1016241451225,3680.6884021513133,3673.6026692399196,3641.3228413105653,3657.0690782204692,3721.038059461858,3776.445512155457,3833.2304818624966,3784.023242952524,3812.956804521837,3795.6361884844796,3827.325608940374,3765.3737108381824,3766.9480848466633,3735.800200817711,3766.3084569684647,3748.3481224077887,3756.467122698594,3783.5310724711753,3770.2452015535537,3855.6690251375812,3822.4047781896293,3930.266595289873,3956.2479460232644,3936.417624326299,3946.406476183266,3958.216364770994,3921.80309536376,3920.5235416837954,3868.6591324691726,3916.8823361221557,4168.527426600624,4105.837155531789,4094.0278512274945,4258.799822932141,4241.587280561955,4224.8671297584115,4229.306249433055,4236.703824803897,4290.957585849686,4355.07503154363,4331.5001070351855,4290.957831122066,4339.686558037175,4305.753901815455,4181.464557904526,4114.3378659075925,4170.613371288095,4124.251027631064,4159.762510507501,4172.586010599008,4155.817313632458,4151.871831074297,4290.957527971367,4360.993667459807,4443.853851121115,4456.677350530045,4498.106804961683,4438.921635555723,4428.070743273682,4443.854389439144,4437.688435767235,4399.4647931649715,4438.92192646857,4513.88990259323,4459.685629879758,4416.185023599646,4420.179506010093,4413.225527115155,4394.532470037897,4382.152809727,4460.080429706317,4449.032761490448,4468.514307214688,4465.555070595088,4451.992059394612,4436.011407960433,4330.463281527035,4258.306384913849,4241.635925786283,4193.942488311093,4194.633134464164,4202.179400844496,4276.1610994877965,4228.713636286269,4197.789670443426,4204.743278285263,4167.654529288722,4215.890536225329,4214.608456504791,4202.179215668535,4195.520719150492,4086.76701664548,4083.807556287233,4074.978947623988,4029.554483821089,4056.976745538161,4044.3290116089447,4086.4534479677714,4020.5969800373164,3954.9388219010452,3959.289522597981,4011.7472824338756,4023.5140789268585,4050.113964037839,4029.4966712741575,4024.552570442241,3945.297258950291,3922.0104142471764,3897.0919359979875,3958.893717952785,4123.139187393775,4108.6035397623655,4082.102667599903,4168.921695036513,4131.4450102278615,4088.826791176288,4165.955747044194,3975.0116598366994,3999.7325160916207,4025.5415183422965,4232.207374969235,4272.798737062877,4310.276000958651,4270.7716787896325,4172.877387714522,4222.319372811503,4266.174179178051,4265.382907054126,4351.657945990761,4403.2756263356205,4380.977660911499,4376.725760717574,4382.362001459759,4380.581274995901,4385.427605214681,4409.208664249149,4360.7559498455,4263.553570434912,4234.185068873616,4280.6599948669755,4153.150010175141,4111.866126630934,4132.82967041397,4116.5138231945575,4104.648131162954,4088.826497628441,4048.6798298866042,4073.994113145842,4133.274820319709,4059.6559451372195,4069.000684555231,3989.844415333019,4055.2061490781975,4153.100754562903,4197.598272132331,4253.9615096329735,4170.899737234007,4212.430629187851,4123.251059336668,4109.275187749958,4059.22038554109,4014.319517493651,4131.2798514749675,4067.8434484989616,4065.861139494707,4034.9361276903833,4018.2841131724467,4063.7796409573857,4073.7906745213095,4076.764398462157,3995.387510672127,4047.7223151411663,4113.438365339778,4069.2311172534987,4053.9668417349,4004.4074551323297,3982.9977288616255,3936.114499958995,3933.0418533396723,3890.4205201714994,3822.523957670536,3864.054842888474,3838.085651740005,3728.3610678378145,3742.8325796673616,3710.1727076920765,3593.0635237142064,3579.8807803981495,3553.3664726312627,3454.2969955057943,3443.393990451693,3489.831165175846,3525.662703832945,3568.2837310004584,3574.7265497742465,3526.6538789597053,3533.592074446807,3471.444519804173,3458.261705673071,3466.885009765625,3515.7508098576654,3481.0590326792085,3444.385122290016,3568.283858799063,3612.8874742493467,3615.613226474975,3583.003105177864,3618.8346059350924,3541.224297162105,3512.7771469574404,3460.2441023230576,3332.975429816177,3072.6889039036473,3272.958890370874,3231.824365539661,3260.568897534981,3285.199980380262,3219.583203710541,3216.90697930344,3261.114186163003,3293.3279025458705,3335.354277518289,3371.1362409617327,3389.8697274688225,3404.7374830693248,3424.5614018066053,3441.411529683795,3441.411492868333,3419.605266533666,3429.517333984375,3390.464381796455,3417.6229184266326,3369.0547718623234,3474.1206857462844,3588.5040399950904,3489.9798773001917,3532.601016280816,3562.2374517479043,3518.7243950862435,3500.6848450385046,3477.0943194478036,3464.208850613743,3446.3673922439334,3489.9797860151243,3500.8828943507547,3488.9885938576126,3473.823446903422,3459.252956735212,3419.6054161596917,3415.6405493121124,3389.0,3409.0,3371.10009765625,3400.0],\"x\":[\"2020-06-10T00:00:00\",\"2020-06-11T00:00:00\",\"2020-06-12T00:00:00\",\"2020-06-15T00:00:00\",\"2020-06-16T00:00:00\",\"2020-06-17T00:00:00\",\"2020-06-18T00:00:00\",\"2020-06-19T00:00:00\",\"2020-06-22T00:00:00\",\"2020-06-23T00:00:00\",\"2020-06-24T00:00:00\",\"2020-06-25T00:00:00\",\"2020-06-26T00:00:00\",\"2020-06-29T00:00:00\",\"2020-06-30T00:00:00\",\"2020-07-01T00:00:00\",\"2020-07-02T00:00:00\",\"2020-07-03T00:00:00\",\"2020-07-06T00:00:00\",\"2020-07-07T00:00:00\",\"2020-07-08T00:00:00\",\"2020-07-09T00:00:00\",\"2020-07-10T00:00:00\",\"2020-07-13T00:00:00\",\"2020-07-14T00:00:00\",\"2020-07-15T00:00:00\",\"2020-07-16T00:00:00\",\"2020-07-17T00:00:00\",\"2020-07-20T00:00:00\",\"2020-07-21T00:00:00\",\"2020-07-22T00:00:00\",\"2020-07-23T00:00:00\",\"2020-07-24T00:00:00\",\"2020-07-27T00:00:00\",\"2020-07-28T00:00:00\",\"2020-07-29T00:00:00\",\"2020-07-30T00:00:00\",\"2020-07-31T00:00:00\",\"2020-08-03T00:00:00\",\"2020-08-04T00:00:00\",\"2020-08-05T00:00:00\",\"2020-08-06T00:00:00\",\"2020-08-07T00:00:00\",\"2020-08-10T00:00:00\",\"2020-08-11T00:00:00\",\"2020-08-12T00:00:00\",\"2020-08-13T00:00:00\",\"2020-08-14T00:00:00\",\"2020-08-17T00:00:00\",\"2020-08-18T00:00:00\",\"2020-08-19T00:00:00\",\"2020-08-20T00:00:00\",\"2020-08-21T00:00:00\",\"2020-08-24T00:00:00\",\"2020-08-25T00:00:00\",\"2020-08-26T00:00:00\",\"2020-08-27T00:00:00\",\"2020-08-28T00:00:00\",\"2020-08-31T00:00:00\",\"2020-09-01T00:00:00\",\"2020-09-02T00:00:00\",\"2020-09-03T00:00:00\",\"2020-09-04T00:00:00\",\"2020-09-07T00:00:00\",\"2020-09-08T00:00:00\",\"2020-09-09T00:00:00\",\"2020-09-10T00:00:00\",\"2020-09-11T00:00:00\",\"2020-09-14T00:00:00\",\"2020-09-15T00:00:00\",\"2020-09-16T00:00:00\",\"2020-09-17T00:00:00\",\"2020-09-18T00:00:00\",\"2020-09-21T00:00:00\",\"2020-09-22T00:00:00\",\"2020-09-23T00:00:00\",\"2020-09-24T00:00:00\",\"2020-09-25T00:00:00\",\"2020-09-28T00:00:00\",\"2020-09-29T00:00:00\",\"2020-09-30T00:00:00\",\"2020-10-01T00:00:00\",\"2020-10-05T00:00:00\",\"2020-10-06T00:00:00\",\"2020-10-07T00:00:00\",\"2020-10-08T00:00:00\",\"2020-10-09T00:00:00\",\"2020-10-12T00:00:00\",\"2020-10-13T00:00:00\",\"2020-10-14T00:00:00\",\"2020-10-15T00:00:00\",\"2020-10-16T00:00:00\",\"2020-10-19T00:00:00\",\"2020-10-20T00:00:00\",\"2020-10-21T00:00:00\",\"2020-10-22T00:00:00\",\"2020-10-23T00:00:00\",\"2020-10-26T00:00:00\",\"2020-10-27T00:00:00\",\"2020-10-28T00:00:00\",\"2020-10-29T00:00:00\",\"2020-10-30T00:00:00\",\"2020-11-02T00:00:00\",\"2020-11-03T00:00:00\",\"2020-11-04T00:00:00\",\"2020-11-05T00:00:00\",\"2020-11-06T00:00:00\",\"2020-11-09T00:00:00\",\"2020-11-10T00:00:00\",\"2020-11-11T00:00:00\",\"2020-11-12T00:00:00\",\"2020-11-13T00:00:00\",\"2020-11-14T00:00:00\",\"2020-11-17T00:00:00\",\"2020-11-18T00:00:00\",\"2020-11-19T00:00:00\",\"2020-11-20T00:00:00\",\"2020-11-23T00:00:00\",\"2020-11-24T00:00:00\",\"2020-11-25T00:00:00\",\"2020-11-26T00:00:00\",\"2020-11-27T00:00:00\",\"2020-12-01T00:00:00\",\"2020-12-02T00:00:00\",\"2020-12-03T00:00:00\",\"2020-12-04T00:00:00\",\"2020-12-07T00:00:00\",\"2020-12-08T00:00:00\",\"2020-12-09T00:00:00\",\"2020-12-10T00:00:00\",\"2020-12-11T00:00:00\",\"2020-12-14T00:00:00\",\"2020-12-15T00:00:00\",\"2020-12-16T00:00:00\",\"2020-12-17T00:00:00\",\"2020-12-18T00:00:00\",\"2020-12-21T00:00:00\",\"2020-12-22T00:00:00\",\"2020-12-23T00:00:00\",\"2020-12-24T00:00:00\",\"2020-12-28T00:00:00\",\"2020-12-29T00:00:00\",\"2020-12-30T00:00:00\",\"2020-12-31T00:00:00\",\"2021-01-01T00:00:00\",\"2021-01-04T00:00:00\",\"2021-01-05T00:00:00\",\"2021-01-06T00:00:00\",\"2021-01-07T00:00:00\",\"2021-01-08T00:00:00\",\"2021-01-11T00:00:00\",\"2021-01-12T00:00:00\",\"2021-01-13T00:00:00\",\"2021-01-14T00:00:00\",\"2021-01-15T00:00:00\",\"2021-01-18T00:00:00\",\"2021-01-19T00:00:00\",\"2021-01-20T00:00:00\",\"2021-01-21T00:00:00\",\"2021-01-22T00:00:00\",\"2021-01-25T00:00:00\",\"2021-01-27T00:00:00\",\"2021-01-28T00:00:00\",\"2021-01-29T00:00:00\",\"2021-02-01T00:00:00\",\"2021-02-02T00:00:00\",\"2021-02-03T00:00:00\",\"2021-02-04T00:00:00\",\"2021-02-05T00:00:00\",\"2021-02-08T00:00:00\",\"2021-02-09T00:00:00\",\"2021-02-10T00:00:00\",\"2021-02-11T00:00:00\",\"2021-02-12T00:00:00\",\"2021-02-15T00:00:00\",\"2021-02-16T00:00:00\",\"2021-02-17T00:00:00\",\"2021-02-18T00:00:00\",\"2021-02-19T00:00:00\",\"2021-02-22T00:00:00\",\"2021-02-23T00:00:00\",\"2021-02-24T00:00:00\",\"2021-02-25T00:00:00\",\"2021-02-26T00:00:00\",\"2021-03-01T00:00:00\",\"2021-03-02T00:00:00\",\"2021-03-03T00:00:00\",\"2021-03-04T00:00:00\",\"2021-03-05T00:00:00\",\"2021-03-08T00:00:00\",\"2021-03-09T00:00:00\",\"2021-03-10T00:00:00\",\"2021-03-12T00:00:00\",\"2021-03-15T00:00:00\",\"2021-03-16T00:00:00\",\"2021-03-17T00:00:00\",\"2021-03-18T00:00:00\",\"2021-03-19T00:00:00\",\"2021-03-22T00:00:00\",\"2021-03-23T00:00:00\",\"2021-03-24T00:00:00\",\"2021-03-25T00:00:00\",\"2021-03-26T00:00:00\",\"2021-03-30T00:00:00\",\"2021-03-31T00:00:00\",\"2021-04-01T00:00:00\",\"2021-04-05T00:00:00\",\"2021-04-06T00:00:00\",\"2021-04-07T00:00:00\",\"2021-04-08T00:00:00\",\"2021-04-09T00:00:00\",\"2021-04-12T00:00:00\",\"2021-04-13T00:00:00\",\"2021-04-15T00:00:00\",\"2021-04-16T00:00:00\",\"2021-04-19T00:00:00\",\"2021-04-20T00:00:00\",\"2021-04-22T00:00:00\",\"2021-04-23T00:00:00\",\"2021-04-26T00:00:00\",\"2021-04-27T00:00:00\",\"2021-04-28T00:00:00\",\"2021-04-29T00:00:00\",\"2021-04-30T00:00:00\",\"2021-05-03T00:00:00\",\"2021-05-04T00:00:00\",\"2021-05-05T00:00:00\",\"2021-05-06T00:00:00\",\"2021-05-07T00:00:00\",\"2021-05-10T00:00:00\",\"2021-05-11T00:00:00\",\"2021-05-12T00:00:00\",\"2021-05-14T00:00:00\",\"2021-05-17T00:00:00\",\"2021-05-18T00:00:00\",\"2021-05-19T00:00:00\",\"2021-05-20T00:00:00\",\"2021-05-21T00:00:00\",\"2021-05-24T00:00:00\",\"2021-05-25T00:00:00\",\"2021-05-26T00:00:00\",\"2021-05-27T00:00:00\",\"2021-05-28T00:00:00\",\"2021-05-31T00:00:00\",\"2021-06-01T00:00:00\",\"2021-06-02T00:00:00\",\"2021-06-03T00:00:00\",\"2021-06-04T00:00:00\",\"2021-06-07T00:00:00\",\"2021-06-08T00:00:00\",\"2021-06-09T00:00:00\",\"2021-06-10T00:00:00\",\"2021-06-11T00:00:00\",\"2021-06-14T00:00:00\",\"2021-06-15T00:00:00\",\"2021-06-16T00:00:00\",\"2021-06-17T00:00:00\",\"2021-06-18T00:00:00\",\"2021-06-21T00:00:00\",\"2021-06-22T00:00:00\",\"2021-06-23T00:00:00\",\"2021-06-24T00:00:00\",\"2021-06-25T00:00:00\",\"2021-06-28T00:00:00\",\"2021-06-29T00:00:00\",\"2021-06-30T00:00:00\",\"2021-07-01T00:00:00\",\"2021-07-02T00:00:00\",\"2021-07-05T00:00:00\",\"2021-07-06T00:00:00\",\"2021-07-07T00:00:00\",\"2021-07-08T00:00:00\",\"2021-07-09T00:00:00\",\"2021-07-12T00:00:00\",\"2021-07-13T00:00:00\",\"2021-07-14T00:00:00\",\"2021-07-15T00:00:00\",\"2021-07-16T00:00:00\",\"2021-07-19T00:00:00\",\"2021-07-20T00:00:00\",\"2021-07-22T00:00:00\",\"2021-07-23T00:00:00\",\"2021-07-26T00:00:00\",\"2021-07-27T00:00:00\",\"2021-07-28T00:00:00\",\"2021-07-29T00:00:00\",\"2021-07-30T00:00:00\",\"2021-08-02T00:00:00\",\"2021-08-03T00:00:00\",\"2021-08-04T00:00:00\",\"2021-08-05T00:00:00\",\"2021-08-06T00:00:00\",\"2021-08-09T00:00:00\",\"2021-08-10T00:00:00\",\"2021-08-11T00:00:00\",\"2021-08-12T00:00:00\",\"2021-08-13T00:00:00\",\"2021-08-16T00:00:00\",\"2021-08-17T00:00:00\",\"2021-08-18T00:00:00\",\"2021-08-20T00:00:00\",\"2021-08-23T00:00:00\",\"2021-08-24T00:00:00\",\"2021-08-25T00:00:00\",\"2021-08-26T00:00:00\",\"2021-08-27T00:00:00\",\"2021-08-30T00:00:00\",\"2021-08-31T00:00:00\",\"2021-09-01T00:00:00\",\"2021-09-02T00:00:00\",\"2021-09-03T00:00:00\",\"2021-09-06T00:00:00\",\"2021-09-07T00:00:00\",\"2021-09-08T00:00:00\",\"2021-09-09T00:00:00\",\"2021-09-13T00:00:00\",\"2021-09-14T00:00:00\",\"2021-09-15T00:00:00\",\"2021-09-16T00:00:00\",\"2021-09-17T00:00:00\",\"2021-09-20T00:00:00\",\"2021-09-21T00:00:00\",\"2021-09-22T00:00:00\",\"2021-09-23T00:00:00\",\"2021-09-24T00:00:00\",\"2021-09-27T00:00:00\",\"2021-09-28T00:00:00\",\"2021-09-29T00:00:00\",\"2021-09-30T00:00:00\",\"2021-10-01T00:00:00\",\"2021-10-04T00:00:00\",\"2021-10-05T00:00:00\",\"2021-10-06T00:00:00\",\"2021-10-07T00:00:00\",\"2021-10-08T00:00:00\",\"2021-10-11T00:00:00\",\"2021-10-12T00:00:00\",\"2021-10-13T00:00:00\",\"2021-10-14T00:00:00\",\"2021-10-18T00:00:00\",\"2021-10-19T00:00:00\",\"2021-10-20T00:00:00\",\"2021-10-21T00:00:00\",\"2021-10-22T00:00:00\",\"2021-10-25T00:00:00\",\"2021-10-26T00:00:00\",\"2021-10-27T00:00:00\",\"2021-10-28T00:00:00\",\"2021-10-29T00:00:00\",\"2021-11-01T00:00:00\",\"2021-11-02T00:00:00\",\"2021-11-03T00:00:00\",\"2021-11-04T00:00:00\",\"2021-11-08T00:00:00\",\"2021-11-09T00:00:00\",\"2021-11-10T00:00:00\",\"2021-11-11T00:00:00\",\"2021-11-12T00:00:00\",\"2021-11-15T00:00:00\",\"2021-11-16T00:00:00\",\"2021-11-17T00:00:00\",\"2021-11-18T00:00:00\",\"2021-11-22T00:00:00\",\"2021-11-23T00:00:00\",\"2021-11-24T00:00:00\",\"2021-11-25T00:00:00\",\"2021-11-26T00:00:00\",\"2021-11-29T00:00:00\",\"2021-11-30T00:00:00\",\"2021-12-01T00:00:00\",\"2021-12-02T00:00:00\",\"2021-12-03T00:00:00\",\"2021-12-06T00:00:00\",\"2021-12-07T00:00:00\",\"2021-12-08T00:00:00\",\"2021-12-09T00:00:00\",\"2021-12-10T00:00:00\",\"2021-12-13T00:00:00\",\"2021-12-14T00:00:00\",\"2021-12-15T00:00:00\",\"2021-12-16T00:00:00\",\"2021-12-17T00:00:00\",\"2021-12-20T00:00:00\",\"2021-12-21T00:00:00\",\"2021-12-22T00:00:00\",\"2021-12-23T00:00:00\",\"2021-12-24T00:00:00\",\"2021-12-27T00:00:00\",\"2021-12-28T00:00:00\",\"2021-12-29T00:00:00\",\"2021-12-30T00:00:00\",\"2021-12-31T00:00:00\",\"2022-01-03T00:00:00\",\"2022-01-04T00:00:00\",\"2022-01-05T00:00:00\",\"2022-01-06T00:00:00\",\"2022-01-07T00:00:00\",\"2022-01-10T00:00:00\",\"2022-01-11T00:00:00\",\"2022-01-12T00:00:00\",\"2022-01-13T00:00:00\",\"2022-01-14T00:00:00\",\"2022-01-17T00:00:00\",\"2022-01-18T00:00:00\",\"2022-01-19T00:00:00\",\"2022-01-20T00:00:00\",\"2022-01-21T00:00:00\",\"2022-01-24T00:00:00\",\"2022-01-25T00:00:00\",\"2022-01-27T00:00:00\",\"2022-01-28T00:00:00\",\"2022-01-31T00:00:00\",\"2022-02-01T00:00:00\",\"2022-02-02T00:00:00\",\"2022-02-03T00:00:00\",\"2022-02-04T00:00:00\",\"2022-02-07T00:00:00\",\"2022-02-08T00:00:00\",\"2022-02-09T00:00:00\",\"2022-02-10T00:00:00\",\"2022-02-11T00:00:00\",\"2022-02-14T00:00:00\",\"2022-02-15T00:00:00\",\"2022-02-16T00:00:00\",\"2022-02-17T00:00:00\",\"2022-02-18T00:00:00\",\"2022-02-21T00:00:00\",\"2022-02-22T00:00:00\",\"2022-02-23T00:00:00\",\"2022-02-24T00:00:00\",\"2022-02-25T00:00:00\",\"2022-02-28T00:00:00\",\"2022-03-02T00:00:00\",\"2022-03-03T00:00:00\",\"2022-03-04T00:00:00\",\"2022-03-07T00:00:00\",\"2022-03-08T00:00:00\",\"2022-03-09T00:00:00\",\"2022-03-10T00:00:00\",\"2022-03-11T00:00:00\",\"2022-03-14T00:00:00\",\"2022-03-15T00:00:00\",\"2022-03-16T00:00:00\",\"2022-03-17T00:00:00\",\"2022-03-21T00:00:00\",\"2022-03-22T00:00:00\",\"2022-03-23T00:00:00\",\"2022-03-24T00:00:00\",\"2022-03-25T00:00:00\",\"2022-03-28T00:00:00\",\"2022-03-29T00:00:00\",\"2022-03-30T00:00:00\",\"2022-03-31T00:00:00\",\"2022-04-01T00:00:00\",\"2022-04-04T00:00:00\",\"2022-04-05T00:00:00\",\"2022-04-06T00:00:00\",\"2022-04-07T00:00:00\",\"2022-04-08T00:00:00\",\"2022-04-11T00:00:00\",\"2022-04-12T00:00:00\",\"2022-04-13T00:00:00\",\"2022-04-18T00:00:00\",\"2022-04-19T00:00:00\",\"2022-04-20T00:00:00\",\"2022-04-21T00:00:00\",\"2022-04-22T00:00:00\",\"2022-04-25T00:00:00\",\"2022-04-26T00:00:00\",\"2022-04-27T00:00:00\",\"2022-04-28T00:00:00\",\"2022-04-29T00:00:00\",\"2022-05-02T00:00:00\",\"2022-05-04T00:00:00\",\"2022-05-05T00:00:00\",\"2022-05-06T00:00:00\",\"2022-05-09T00:00:00\",\"2022-05-10T00:00:00\",\"2022-05-11T00:00:00\",\"2022-05-12T00:00:00\",\"2022-05-13T00:00:00\",\"2022-05-16T00:00:00\",\"2022-05-17T00:00:00\",\"2022-05-18T00:00:00\",\"2022-05-19T00:00:00\",\"2022-05-20T00:00:00\",\"2022-05-23T00:00:00\",\"2022-05-24T00:00:00\",\"2022-05-25T00:00:00\",\"2022-05-26T00:00:00\",\"2022-05-27T00:00:00\",\"2022-05-30T00:00:00\",\"2022-05-31T00:00:00\",\"2022-06-01T00:00:00\",\"2022-06-02T00:00:00\",\"2022-06-03T00:00:00\",\"2022-06-06T00:00:00\",\"2022-06-07T00:00:00\",\"2022-06-08T00:00:00\",\"2022-06-09T00:00:00\",\"2022-06-10T00:00:00\",\"2022-06-13T00:00:00\",\"2022-06-14T00:00:00\",\"2022-06-15T00:00:00\",\"2022-06-16T00:00:00\",\"2022-06-17T00:00:00\",\"2022-06-20T00:00:00\",\"2022-06-21T00:00:00\",\"2022-06-22T00:00:00\",\"2022-06-23T00:00:00\",\"2022-06-24T00:00:00\",\"2022-06-27T00:00:00\",\"2022-06-28T00:00:00\",\"2022-06-29T00:00:00\",\"2022-06-30T00:00:00\",\"2022-07-01T00:00:00\",\"2022-07-04T00:00:00\",\"2022-07-05T00:00:00\",\"2022-07-06T00:00:00\",\"2022-07-07T00:00:00\",\"2022-07-08T00:00:00\",\"2022-07-11T00:00:00\",\"2022-07-12T00:00:00\",\"2022-07-13T00:00:00\",\"2022-07-14T00:00:00\",\"2022-07-15T00:00:00\",\"2022-07-18T00:00:00\",\"2022-07-19T00:00:00\",\"2022-07-20T00:00:00\",\"2022-07-21T00:00:00\",\"2022-07-22T00:00:00\",\"2022-07-25T00:00:00\",\"2022-07-26T00:00:00\",\"2022-07-27T00:00:00\",\"2022-07-28T00:00:00\",\"2022-07-29T00:00:00\",\"2022-08-01T00:00:00\",\"2022-08-02T00:00:00\",\"2022-08-03T00:00:00\",\"2022-08-04T00:00:00\",\"2022-08-05T00:00:00\",\"2022-08-08T00:00:00\",\"2022-08-10T00:00:00\",\"2022-08-11T00:00:00\",\"2022-08-12T00:00:00\",\"2022-08-16T00:00:00\",\"2022-08-17T00:00:00\",\"2022-08-18T00:00:00\",\"2022-08-19T00:00:00\",\"2022-08-22T00:00:00\",\"2022-08-23T00:00:00\",\"2022-08-24T00:00:00\",\"2022-08-25T00:00:00\",\"2022-08-26T00:00:00\",\"2022-08-29T00:00:00\",\"2022-08-30T00:00:00\",\"2022-09-01T00:00:00\",\"2022-09-02T00:00:00\",\"2022-09-05T00:00:00\",\"2022-09-06T00:00:00\",\"2022-09-07T00:00:00\",\"2022-09-08T00:00:00\",\"2022-09-09T00:00:00\",\"2022-09-12T00:00:00\",\"2022-09-13T00:00:00\",\"2022-09-14T00:00:00\",\"2022-09-15T00:00:00\",\"2022-09-16T00:00:00\",\"2022-09-19T00:00:00\",\"2022-09-20T00:00:00\",\"2022-09-21T00:00:00\",\"2022-09-22T00:00:00\",\"2022-09-23T00:00:00\",\"2022-09-26T00:00:00\",\"2022-09-27T00:00:00\",\"2022-09-28T00:00:00\",\"2022-09-29T00:00:00\",\"2022-09-30T00:00:00\",\"2022-10-03T00:00:00\",\"2022-10-04T00:00:00\",\"2022-10-06T00:00:00\",\"2022-10-07T00:00:00\",\"2022-10-10T00:00:00\",\"2022-10-11T00:00:00\",\"2022-10-12T00:00:00\",\"2022-10-13T00:00:00\",\"2022-10-14T00:00:00\",\"2022-10-17T00:00:00\",\"2022-10-18T00:00:00\",\"2022-10-19T00:00:00\",\"2022-10-20T00:00:00\",\"2022-10-21T00:00:00\",\"2022-10-24T00:00:00\",\"2022-10-25T00:00:00\",\"2022-10-27T00:00:00\",\"2022-10-28T00:00:00\",\"2022-10-31T00:00:00\",\"2022-11-01T00:00:00\",\"2022-11-02T00:00:00\",\"2022-11-03T00:00:00\",\"2022-11-04T00:00:00\",\"2022-11-07T00:00:00\",\"2022-11-09T00:00:00\",\"2022-11-10T00:00:00\",\"2022-11-11T00:00:00\",\"2022-11-14T00:00:00\",\"2022-11-15T00:00:00\",\"2022-11-16T00:00:00\",\"2022-11-17T00:00:00\",\"2022-11-18T00:00:00\",\"2022-11-21T00:00:00\",\"2022-11-22T00:00:00\",\"2022-11-23T00:00:00\",\"2022-11-24T00:00:00\",\"2022-11-25T00:00:00\",\"2022-11-28T00:00:00\",\"2022-11-29T00:00:00\",\"2022-11-30T00:00:00\",\"2022-12-01T00:00:00\",\"2022-12-02T00:00:00\",\"2022-12-05T00:00:00\",\"2022-12-06T00:00:00\",\"2022-12-07T00:00:00\",\"2022-12-08T00:00:00\",\"2022-12-09T00:00:00\",\"2022-12-12T00:00:00\",\"2022-12-13T00:00:00\",\"2022-12-14T00:00:00\",\"2022-12-15T00:00:00\",\"2022-12-16T00:00:00\",\"2022-12-19T00:00:00\",\"2022-12-20T00:00:00\",\"2022-12-21T00:00:00\",\"2022-12-22T00:00:00\",\"2022-12-23T00:00:00\",\"2022-12-26T00:00:00\",\"2022-12-27T00:00:00\",\"2022-12-28T00:00:00\",\"2022-12-29T00:00:00\",\"2022-12-30T00:00:00\",\"2023-01-02T00:00:00\",\"2023-01-03T00:00:00\",\"2023-01-04T00:00:00\",\"2023-01-05T00:00:00\",\"2023-01-06T00:00:00\",\"2023-01-09T00:00:00\",\"2023-01-10T00:00:00\",\"2023-01-11T00:00:00\",\"2023-01-12T00:00:00\",\"2023-01-13T00:00:00\",\"2023-01-16T00:00:00\",\"2023-01-17T00:00:00\",\"2023-01-18T00:00:00\",\"2023-01-19T00:00:00\",\"2023-01-20T00:00:00\",\"2023-01-23T00:00:00\",\"2023-01-24T00:00:00\",\"2023-01-25T00:00:00\",\"2023-01-27T00:00:00\",\"2023-01-30T00:00:00\",\"2023-01-31T00:00:00\",\"2023-02-01T00:00:00\",\"2023-02-02T00:00:00\",\"2023-02-03T00:00:00\",\"2023-02-06T00:00:00\",\"2023-02-07T00:00:00\",\"2023-02-08T00:00:00\",\"2023-02-09T00:00:00\",\"2023-02-10T00:00:00\",\"2023-02-13T00:00:00\",\"2023-02-14T00:00:00\",\"2023-02-15T00:00:00\",\"2023-02-16T00:00:00\",\"2023-02-17T00:00:00\",\"2023-02-20T00:00:00\",\"2023-02-21T00:00:00\",\"2023-02-22T00:00:00\",\"2023-02-23T00:00:00\",\"2023-02-24T00:00:00\",\"2023-02-27T00:00:00\",\"2023-02-28T00:00:00\",\"2023-03-01T00:00:00\",\"2023-03-02T00:00:00\",\"2023-03-03T00:00:00\",\"2023-03-06T00:00:00\",\"2023-03-08T00:00:00\",\"2023-03-09T00:00:00\",\"2023-03-10T00:00:00\",\"2023-03-13T00:00:00\",\"2023-03-14T00:00:00\",\"2023-03-15T00:00:00\",\"2023-03-16T00:00:00\",\"2023-03-17T00:00:00\",\"2023-03-20T00:00:00\",\"2023-03-21T00:00:00\",\"2023-03-22T00:00:00\",\"2023-03-23T00:00:00\",\"2023-03-24T00:00:00\",\"2023-03-27T00:00:00\",\"2023-03-28T00:00:00\",\"2023-03-29T00:00:00\",\"2023-03-31T00:00:00\",\"2023-04-03T00:00:00\",\"2023-04-05T00:00:00\",\"2023-04-06T00:00:00\",\"2023-04-10T00:00:00\",\"2023-04-11T00:00:00\",\"2023-04-12T00:00:00\",\"2023-04-13T00:00:00\",\"2023-04-17T00:00:00\",\"2023-04-18T00:00:00\",\"2023-04-19T00:00:00\",\"2023-04-20T00:00:00\",\"2023-04-21T00:00:00\",\"2023-04-24T00:00:00\",\"2023-04-25T00:00:00\",\"2023-04-26T00:00:00\",\"2023-04-27T00:00:00\",\"2023-04-28T00:00:00\",\"2023-05-02T00:00:00\",\"2023-05-03T00:00:00\",\"2023-05-04T00:00:00\",\"2023-05-05T00:00:00\",\"2023-05-08T00:00:00\",\"2023-05-09T00:00:00\",\"2023-05-10T00:00:00\",\"2023-05-11T00:00:00\",\"2023-05-12T00:00:00\",\"2023-05-15T00:00:00\",\"2023-05-16T00:00:00\",\"2023-05-17T00:00:00\",\"2023-05-18T00:00:00\",\"2023-05-19T00:00:00\",\"2023-05-22T00:00:00\",\"2023-05-23T00:00:00\",\"2023-05-24T00:00:00\",\"2023-05-25T00:00:00\",\"2023-05-26T00:00:00\",\"2023-05-29T00:00:00\",\"2023-05-30T00:00:00\",\"2023-05-31T00:00:00\",\"2023-06-01T00:00:00\",\"2023-06-02T00:00:00\",\"2023-06-05T00:00:00\",\"2023-06-06T00:00:00\",\"2023-06-07T00:00:00\",\"2023-06-08T00:00:00\",\"2023-06-09T00:00:00\",\"2023-06-12T00:00:00\",\"2023-06-13T00:00:00\",\"2023-06-14T00:00:00\",\"2023-06-15T00:00:00\",\"2023-06-16T00:00:00\",\"2023-06-19T00:00:00\",\"2023-06-20T00:00:00\",\"2023-06-21T00:00:00\",\"2023-06-22T00:00:00\",\"2023-06-23T00:00:00\",\"2023-06-26T00:00:00\",\"2023-06-27T00:00:00\",\"2023-06-28T00:00:00\",\"2023-06-30T00:00:00\",\"2023-07-03T00:00:00\",\"2023-07-04T00:00:00\",\"2023-07-05T00:00:00\",\"2023-07-06T00:00:00\",\"2023-07-07T00:00:00\",\"2023-07-10T00:00:00\",\"2023-07-11T00:00:00\",\"2023-07-12T00:00:00\",\"2023-07-13T00:00:00\",\"2023-07-14T00:00:00\",\"2023-07-17T00:00:00\",\"2023-07-18T00:00:00\",\"2023-07-19T00:00:00\",\"2023-07-20T00:00:00\",\"2023-07-21T00:00:00\",\"2023-07-24T00:00:00\",\"2023-07-25T00:00:00\",\"2023-07-26T00:00:00\",\"2023-07-27T00:00:00\",\"2023-07-28T00:00:00\",\"2023-07-31T00:00:00\",\"2023-08-01T00:00:00\",\"2023-08-02T00:00:00\",\"2023-08-03T00:00:00\",\"2023-08-04T00:00:00\",\"2023-08-07T00:00:00\",\"2023-08-08T00:00:00\",\"2023-08-09T00:00:00\",\"2023-08-10T00:00:00\",\"2023-08-11T00:00:00\",\"2023-08-14T00:00:00\",\"2023-08-16T00:00:00\",\"2023-08-17T00:00:00\",\"2023-08-18T00:00:00\",\"2023-08-21T00:00:00\",\"2023-08-22T00:00:00\",\"2023-08-23T00:00:00\",\"2023-08-24T00:00:00\",\"2023-08-25T00:00:00\",\"2023-08-28T00:00:00\",\"2023-08-29T00:00:00\",\"2023-08-30T00:00:00\",\"2023-08-31T00:00:00\",\"2023-09-01T00:00:00\",\"2023-09-04T00:00:00\",\"2023-09-05T00:00:00\",\"2023-09-06T00:00:00\",\"2023-09-07T00:00:00\",\"2023-09-08T00:00:00\",\"2023-09-11T00:00:00\",\"2023-09-12T00:00:00\",\"2023-09-13T00:00:00\",\"2023-09-14T00:00:00\",\"2023-09-15T00:00:00\",\"2023-09-18T00:00:00\",\"2023-09-20T00:00:00\",\"2023-09-21T00:00:00\",\"2023-09-22T00:00:00\",\"2023-09-25T00:00:00\",\"2023-09-26T00:00:00\",\"2023-09-27T00:00:00\",\"2023-09-28T00:00:00\",\"2023-09-29T00:00:00\",\"2023-10-03T00:00:00\",\"2023-10-04T00:00:00\",\"2023-10-05T00:00:00\",\"2023-10-06T00:00:00\",\"2023-10-09T00:00:00\",\"2023-10-10T00:00:00\",\"2023-10-11T00:00:00\",\"2023-10-12T00:00:00\",\"2023-10-13T00:00:00\",\"2023-10-16T00:00:00\",\"2023-10-17T00:00:00\",\"2023-10-18T00:00:00\",\"2023-10-19T00:00:00\",\"2023-10-20T00:00:00\",\"2023-10-23T00:00:00\",\"2023-10-25T00:00:00\",\"2023-10-26T00:00:00\",\"2023-10-27T00:00:00\",\"2023-10-30T00:00:00\",\"2023-10-31T00:00:00\",\"2023-11-01T00:00:00\",\"2023-11-02T00:00:00\",\"2023-11-03T00:00:00\",\"2023-11-06T00:00:00\",\"2023-11-07T00:00:00\",\"2023-11-08T00:00:00\",\"2023-11-09T00:00:00\",\"2023-11-10T00:00:00\",\"2023-11-13T00:00:00\",\"2023-11-15T00:00:00\",\"2023-11-16T00:00:00\",\"2023-11-17T00:00:00\",\"2023-11-20T00:00:00\",\"2023-11-21T00:00:00\",\"2023-11-22T00:00:00\",\"2023-11-23T00:00:00\",\"2023-11-24T00:00:00\",\"2023-11-28T00:00:00\",\"2023-11-29T00:00:00\",\"2023-11-30T00:00:00\",\"2023-12-01T00:00:00\",\"2023-12-04T00:00:00\",\"2023-12-05T00:00:00\",\"2023-12-06T00:00:00\",\"2023-12-07T00:00:00\",\"2023-12-08T00:00:00\",\"2023-12-11T00:00:00\",\"2023-12-12T00:00:00\",\"2023-12-13T00:00:00\",\"2023-12-14T00:00:00\",\"2023-12-15T00:00:00\",\"2023-12-18T00:00:00\",\"2023-12-19T00:00:00\",\"2023-12-20T00:00:00\",\"2023-12-21T00:00:00\",\"2023-12-22T00:00:00\",\"2023-12-26T00:00:00\",\"2023-12-27T00:00:00\",\"2023-12-28T00:00:00\",\"2023-12-29T00:00:00\",\"2024-01-01T00:00:00\",\"2024-01-02T00:00:00\",\"2024-01-03T00:00:00\",\"2024-01-04T00:00:00\",\"2024-01-05T00:00:00\",\"2024-01-08T00:00:00\",\"2024-01-09T00:00:00\",\"2024-01-10T00:00:00\",\"2024-01-11T00:00:00\",\"2024-01-12T00:00:00\",\"2024-01-15T00:00:00\",\"2024-01-16T00:00:00\",\"2024-01-17T00:00:00\",\"2024-01-18T00:00:00\",\"2024-01-19T00:00:00\",\"2024-01-23T00:00:00\",\"2024-01-24T00:00:00\",\"2024-01-25T00:00:00\",\"2024-01-29T00:00:00\",\"2024-01-30T00:00:00\",\"2024-01-31T00:00:00\",\"2024-02-01T00:00:00\",\"2024-02-02T00:00:00\",\"2024-02-05T00:00:00\",\"2024-02-06T00:00:00\",\"2024-02-07T00:00:00\",\"2024-02-08T00:00:00\",\"2024-02-09T00:00:00\",\"2024-02-12T00:00:00\",\"2024-02-13T00:00:00\",\"2024-02-14T00:00:00\",\"2024-02-15T00:00:00\",\"2024-02-16T00:00:00\",\"2024-02-19T00:00:00\",\"2024-02-20T00:00:00\",\"2024-02-21T00:00:00\",\"2024-02-22T00:00:00\",\"2024-02-23T00:00:00\",\"2024-02-26T00:00:00\",\"2024-02-27T00:00:00\",\"2024-02-28T00:00:00\",\"2024-02-29T00:00:00\",\"2024-03-01T00:00:00\",\"2024-03-04T00:00:00\",\"2024-03-05T00:00:00\",\"2024-03-06T00:00:00\",\"2024-03-07T00:00:00\",\"2024-03-11T00:00:00\",\"2024-03-12T00:00:00\",\"2024-03-13T00:00:00\",\"2024-03-14T00:00:00\",\"2024-03-15T00:00:00\",\"2024-03-18T00:00:00\",\"2024-03-19T00:00:00\",\"2024-03-20T00:00:00\",\"2024-03-21T00:00:00\",\"2024-03-22T00:00:00\",\"2024-03-26T00:00:00\",\"2024-03-27T00:00:00\",\"2024-03-28T00:00:00\",\"2024-04-01T00:00:00\",\"2024-04-02T00:00:00\",\"2024-04-03T00:00:00\",\"2024-04-04T00:00:00\",\"2024-04-05T00:00:00\",\"2024-04-08T00:00:00\",\"2024-04-09T00:00:00\",\"2024-04-10T00:00:00\",\"2024-04-12T00:00:00\",\"2024-04-15T00:00:00\",\"2024-04-16T00:00:00\",\"2024-04-18T00:00:00\",\"2024-04-19T00:00:00\",\"2024-04-22T00:00:00\",\"2024-04-23T00:00:00\",\"2024-04-24T00:00:00\",\"2024-04-25T00:00:00\",\"2024-04-26T00:00:00\",\"2024-04-29T00:00:00\",\"2024-04-30T00:00:00\",\"2024-05-02T00:00:00\",\"2024-05-03T00:00:00\",\"2024-05-06T00:00:00\",\"2024-05-07T00:00:00\",\"2024-05-08T00:00:00\",\"2024-05-09T00:00:00\",\"2024-05-10T00:00:00\",\"2024-05-13T00:00:00\",\"2024-05-14T00:00:00\",\"2024-05-15T00:00:00\",\"2024-05-16T00:00:00\",\"2024-05-17T00:00:00\",\"2024-05-21T00:00:00\",\"2024-05-22T00:00:00\",\"2024-05-23T00:00:00\",\"2024-05-24T00:00:00\",\"2024-05-27T00:00:00\",\"2024-05-28T00:00:00\",\"2024-05-29T00:00:00\",\"2024-05-30T00:00:00\",\"2024-05-31T00:00:00\",\"2024-06-03T00:00:00\",\"2024-06-04T00:00:00\",\"2024-06-05T00:00:00\",\"2024-06-06T00:00:00\",\"2024-06-07T00:00:00\",\"2024-06-10T00:00:00\",\"2024-06-11T00:00:00\",\"2024-06-12T00:00:00\",\"2024-06-13T00:00:00\",\"2024-06-14T00:00:00\",\"2024-06-18T00:00:00\",\"2024-06-19T00:00:00\",\"2024-06-20T00:00:00\",\"2024-06-21T00:00:00\",\"2024-06-24T00:00:00\",\"2024-06-25T00:00:00\",\"2024-06-26T00:00:00\",\"2024-06-27T00:00:00\",\"2024-06-28T00:00:00\",\"2024-07-01T00:00:00\",\"2024-07-02T00:00:00\",\"2024-07-03T00:00:00\",\"2024-07-04T00:00:00\",\"2024-07-05T00:00:00\",\"2024-07-08T00:00:00\",\"2024-07-09T00:00:00\",\"2024-07-10T00:00:00\",\"2024-07-11T00:00:00\",\"2024-07-12T00:00:00\",\"2024-07-15T00:00:00\",\"2024-07-16T00:00:00\",\"2024-07-18T00:00:00\",\"2024-07-19T00:00:00\",\"2024-07-22T00:00:00\",\"2024-07-23T00:00:00\",\"2024-07-24T00:00:00\",\"2024-07-25T00:00:00\",\"2024-07-26T00:00:00\",\"2024-07-29T00:00:00\",\"2024-07-30T00:00:00\",\"2024-07-31T00:00:00\",\"2024-08-01T00:00:00\",\"2024-08-02T00:00:00\",\"2024-08-05T00:00:00\",\"2024-08-06T00:00:00\",\"2024-08-07T00:00:00\",\"2024-08-08T00:00:00\",\"2024-08-09T00:00:00\",\"2024-08-12T00:00:00\",\"2024-08-13T00:00:00\",\"2024-08-14T00:00:00\",\"2024-08-16T00:00:00\",\"2024-08-19T00:00:00\",\"2024-08-20T00:00:00\",\"2024-08-21T00:00:00\",\"2024-08-22T00:00:00\",\"2024-08-23T00:00:00\",\"2024-08-26T00:00:00\",\"2024-08-27T00:00:00\",\"2024-08-28T00:00:00\",\"2024-08-29T00:00:00\",\"2024-08-30T00:00:00\",\"2024-09-02T00:00:00\",\"2024-09-03T00:00:00\",\"2024-09-04T00:00:00\",\"2024-09-05T00:00:00\",\"2024-09-06T00:00:00\",\"2024-09-09T00:00:00\",\"2024-09-10T00:00:00\",\"2024-09-11T00:00:00\",\"2024-09-12T00:00:00\",\"2024-09-13T00:00:00\",\"2024-09-16T00:00:00\",\"2024-09-17T00:00:00\",\"2024-09-18T00:00:00\",\"2024-09-19T00:00:00\",\"2024-09-20T00:00:00\",\"2024-09-23T00:00:00\",\"2024-09-24T00:00:00\",\"2024-09-25T00:00:00\",\"2024-09-26T00:00:00\",\"2024-09-27T00:00:00\",\"2024-09-30T00:00:00\",\"2024-10-01T00:00:00\",\"2024-10-03T00:00:00\",\"2024-10-04T00:00:00\",\"2024-10-07T00:00:00\",\"2024-10-08T00:00:00\",\"2024-10-09T00:00:00\",\"2024-10-10T00:00:00\",\"2024-10-11T00:00:00\",\"2024-10-14T00:00:00\",\"2024-10-15T00:00:00\",\"2024-10-16T00:00:00\",\"2024-10-17T00:00:00\",\"2024-10-18T00:00:00\",\"2024-10-21T00:00:00\",\"2024-10-22T00:00:00\",\"2024-10-23T00:00:00\",\"2024-10-24T00:00:00\",\"2024-10-25T00:00:00\",\"2024-10-28T00:00:00\",\"2024-10-29T00:00:00\",\"2024-10-30T00:00:00\",\"2024-10-31T00:00:00\",\"2024-11-01T00:00:00\",\"2024-11-04T00:00:00\",\"2024-11-05T00:00:00\",\"2024-11-06T00:00:00\",\"2024-11-07T00:00:00\",\"2024-11-08T00:00:00\",\"2024-11-11T00:00:00\",\"2024-11-12T00:00:00\",\"2024-11-13T00:00:00\",\"2024-11-14T00:00:00\",\"2024-11-18T00:00:00\",\"2024-11-19T00:00:00\",\"2024-11-21T00:00:00\",\"2024-11-22T00:00:00\",\"2024-11-25T00:00:00\",\"2024-11-26T00:00:00\",\"2024-11-27T00:00:00\",\"2024-11-28T00:00:00\",\"2024-11-29T00:00:00\",\"2024-12-02T00:00:00\",\"2024-12-03T00:00:00\",\"2024-12-04T00:00:00\",\"2024-12-05T00:00:00\",\"2024-12-06T00:00:00\",\"2024-12-09T00:00:00\",\"2024-12-10T00:00:00\",\"2024-12-11T00:00:00\",\"2024-12-12T00:00:00\",\"2024-12-13T00:00:00\",\"2024-12-16T00:00:00\",\"2024-12-17T00:00:00\",\"2024-12-18T00:00:00\",\"2024-12-19T00:00:00\",\"2024-12-20T00:00:00\",\"2024-12-23T00:00:00\",\"2024-12-24T00:00:00\",\"2024-12-26T00:00:00\",\"2024-12-27T00:00:00\",\"2024-12-30T00:00:00\",\"2024-12-31T00:00:00\",\"2025-01-01T00:00:00\",\"2025-01-02T00:00:00\",\"2025-01-03T00:00:00\",\"2025-01-06T00:00:00\",\"2025-01-07T00:00:00\",\"2025-01-08T00:00:00\",\"2025-01-09T00:00:00\",\"2025-01-10T00:00:00\",\"2025-01-13T00:00:00\",\"2025-01-14T00:00:00\",\"2025-01-15T00:00:00\",\"2025-01-16T00:00:00\",\"2025-01-17T00:00:00\",\"2025-01-20T00:00:00\",\"2025-01-21T00:00:00\",\"2025-01-22T00:00:00\",\"2025-01-23T00:00:00\",\"2025-01-24T00:00:00\",\"2025-01-27T00:00:00\",\"2025-01-28T00:00:00\",\"2025-01-29T00:00:00\",\"2025-01-30T00:00:00\",\"2025-01-31T00:00:00\",\"2025-02-01T00:00:00\",\"2025-02-03T00:00:00\",\"2025-02-04T00:00:00\",\"2025-02-05T00:00:00\",\"2025-02-06T00:00:00\",\"2025-02-07T00:00:00\",\"2025-02-10T00:00:00\",\"2025-02-11T00:00:00\",\"2025-02-12T00:00:00\",\"2025-02-13T00:00:00\",\"2025-02-14T00:00:00\",\"2025-02-17T00:00:00\",\"2025-02-18T00:00:00\",\"2025-02-19T00:00:00\",\"2025-02-20T00:00:00\",\"2025-02-21T00:00:00\",\"2025-02-24T00:00:00\",\"2025-02-25T00:00:00\",\"2025-02-27T00:00:00\",\"2025-02-28T00:00:00\",\"2025-03-03T00:00:00\",\"2025-03-04T00:00:00\",\"2025-03-05T00:00:00\",\"2025-03-06T00:00:00\",\"2025-03-07T00:00:00\",\"2025-03-10T00:00:00\",\"2025-03-11T00:00:00\",\"2025-03-12T00:00:00\",\"2025-03-13T00:00:00\",\"2025-03-17T00:00:00\",\"2025-03-18T00:00:00\",\"2025-03-19T00:00:00\",\"2025-03-20T00:00:00\",\"2025-03-21T00:00:00\",\"2025-03-24T00:00:00\",\"2025-03-25T00:00:00\",\"2025-03-26T00:00:00\",\"2025-03-27T00:00:00\",\"2025-03-28T00:00:00\",\"2025-04-01T00:00:00\",\"2025-04-02T00:00:00\",\"2025-04-03T00:00:00\",\"2025-04-04T00:00:00\",\"2025-04-07T00:00:00\",\"2025-04-08T00:00:00\",\"2025-04-09T00:00:00\",\"2025-04-11T00:00:00\",\"2025-04-15T00:00:00\",\"2025-04-16T00:00:00\",\"2025-04-17T00:00:00\",\"2025-04-21T00:00:00\",\"2025-04-22T00:00:00\",\"2025-04-23T00:00:00\",\"2025-04-24T00:00:00\",\"2025-04-25T00:00:00\",\"2025-04-28T00:00:00\",\"2025-04-29T00:00:00\",\"2025-04-30T00:00:00\",\"2025-05-02T00:00:00\",\"2025-05-05T00:00:00\",\"2025-05-06T00:00:00\",\"2025-05-07T00:00:00\",\"2025-05-08T00:00:00\",\"2025-05-09T00:00:00\",\"2025-05-12T00:00:00\",\"2025-05-13T00:00:00\",\"2025-05-14T00:00:00\",\"2025-05-15T00:00:00\",\"2025-05-16T00:00:00\",\"2025-05-19T00:00:00\",\"2025-05-20T00:00:00\",\"2025-05-21T00:00:00\",\"2025-05-22T00:00:00\",\"2025-05-23T00:00:00\",\"2025-05-26T00:00:00\",\"2025-05-27T00:00:00\",\"2025-05-28T00:00:00\",\"2025-05-29T00:00:00\",\"2025-05-30T00:00:00\",\"2025-06-02T00:00:00\",\"2025-06-03T00:00:00\",\"2025-06-04T00:00:00\",\"2025-06-05T00:00:00\",\"2025-06-06T00:00:00\",\"2025-06-09T00:00:00\"],\"type\":\"candlestick\"}],                        {\"template\":{\"data\":{\"histogram2dcontour\":[{\"type\":\"histogram2dcontour\",\"colorbar\":{\"outlinewidth\":0,\"ticks\":\"\"},\"colorscale\":[[0.0,\"#0d0887\"],[0.1111111111111111,\"#46039f\"],[0.2222222222222222,\"#7201a8\"],[0.3333333333333333,\"#9c179e\"],[0.4444444444444444,\"#bd3786\"],[0.5555555555555556,\"#d8576b\"],[0.6666666666666666,\"#ed7953\"],[0.7777777777777778,\"#fb9f3a\"],[0.8888888888888888,\"#fdca26\"],[1.0,\"#f0f921\"]]}],\"choropleth\":[{\"type\":\"choropleth\",\"colorbar\":{\"outlinewidth\":0,\"ticks\":\"\"}}],\"histogram2d\":[{\"type\":\"histogram2d\",\"colorbar\":{\"outlinewidth\":0,\"ticks\":\"\"},\"colorscale\":[[0.0,\"#0d0887\"],[0.1111111111111111,\"#46039f\"],[0.2222222222222222,\"#7201a8\"],[0.3333333333333333,\"#9c179e\"],[0.4444444444444444,\"#bd3786\"],[0.5555555555555556,\"#d8576b\"],[0.6666666666666666,\"#ed7953\"],[0.7777777777777778,\"#fb9f3a\"],[0.8888888888888888,\"#fdca26\"],[1.0,\"#f0f921\"]]}],\"heatmap\":[{\"type\":\"heatmap\",\"colorbar\":{\"outlinewidth\":0,\"ticks\":\"\"},\"colorscale\":[[0.0,\"#0d0887\"],[0.1111111111111111,\"#46039f\"],[0.2222222222222222,\"#7201a8\"],[0.3333333333333333,\"#9c179e\"],[0.4444444444444444,\"#bd3786\"],[0.5555555555555556,\"#d8576b\"],[0.6666666666666666,\"#ed7953\"],[0.7777777777777778,\"#fb9f3a\"],[0.8888888888888888,\"#fdca26\"],[1.0,\"#f0f921\"]]}],\"heatmapgl\":[{\"type\":\"heatmapgl\",\"colorbar\":{\"outlinewidth\":0,\"ticks\":\"\"},\"colorscale\":[[0.0,\"#0d0887\"],[0.1111111111111111,\"#46039f\"],[0.2222222222222222,\"#7201a8\"],[0.3333333333333333,\"#9c179e\"],[0.4444444444444444,\"#bd3786\"],[0.5555555555555556,\"#d8576b\"],[0.6666666666666666,\"#ed7953\"],[0.7777777777777778,\"#fb9f3a\"],[0.8888888888888888,\"#fdca26\"],[1.0,\"#f0f921\"]]}],\"contourcarpet\":[{\"type\":\"contourcarpet\",\"colorbar\":{\"outlinewidth\":0,\"ticks\":\"\"}}],\"contour\":[{\"type\":\"contour\",\"colorbar\":{\"outlinewidth\":0,\"ticks\":\"\"},\"colorscale\":[[0.0,\"#0d0887\"],[0.1111111111111111,\"#46039f\"],[0.2222222222222222,\"#7201a8\"],[0.3333333333333333,\"#9c179e\"],[0.4444444444444444,\"#bd3786\"],[0.5555555555555556,\"#d8576b\"],[0.6666666666666666,\"#ed7953\"],[0.7777777777777778,\"#fb9f3a\"],[0.8888888888888888,\"#fdca26\"],[1.0,\"#f0f921\"]]}],\"surface\":[{\"type\":\"surface\",\"colorbar\":{\"outlinewidth\":0,\"ticks\":\"\"},\"colorscale\":[[0.0,\"#0d0887\"],[0.1111111111111111,\"#46039f\"],[0.2222222222222222,\"#7201a8\"],[0.3333333333333333,\"#9c179e\"],[0.4444444444444444,\"#bd3786\"],[0.5555555555555556,\"#d8576b\"],[0.6666666666666666,\"#ed7953\"],[0.7777777777777778,\"#fb9f3a\"],[0.8888888888888888,\"#fdca26\"],[1.0,\"#f0f921\"]]}],\"mesh3d\":[{\"type\":\"mesh3d\",\"colorbar\":{\"outlinewidth\":0,\"ticks\":\"\"}}],\"scatter\":[{\"fillpattern\":{\"fillmode\":\"overlay\",\"size\":10,\"solidity\":0.2},\"type\":\"scatter\"}],\"parcoords\":[{\"type\":\"parcoords\",\"line\":{\"colorbar\":{\"outlinewidth\":0,\"ticks\":\"\"}}}],\"scatterpolargl\":[{\"type\":\"scatterpolargl\",\"marker\":{\"colorbar\":{\"outlinewidth\":0,\"ticks\":\"\"}}}],\"bar\":[{\"error_x\":{\"color\":\"#2a3f5f\"},\"error_y\":{\"color\":\"#2a3f5f\"},\"marker\":{\"line\":{\"color\":\"#E5ECF6\",\"width\":0.5},\"pattern\":{\"fillmode\":\"overlay\",\"size\":10,\"solidity\":0.2}},\"type\":\"bar\"}],\"scattergeo\":[{\"type\":\"scattergeo\",\"marker\":{\"colorbar\":{\"outlinewidth\":0,\"ticks\":\"\"}}}],\"scatterpolar\":[{\"type\":\"scatterpolar\",\"marker\":{\"colorbar\":{\"outlinewidth\":0,\"ticks\":\"\"}}}],\"histogram\":[{\"marker\":{\"pattern\":{\"fillmode\":\"overlay\",\"size\":10,\"solidity\":0.2}},\"type\":\"histogram\"}],\"scattergl\":[{\"type\":\"scattergl\",\"marker\":{\"colorbar\":{\"outlinewidth\":0,\"ticks\":\"\"}}}],\"scatter3d\":[{\"type\":\"scatter3d\",\"line\":{\"colorbar\":{\"outlinewidth\":0,\"ticks\":\"\"}},\"marker\":{\"colorbar\":{\"outlinewidth\":0,\"ticks\":\"\"}}}],\"scattermapbox\":[{\"type\":\"scattermapbox\",\"marker\":{\"colorbar\":{\"outlinewidth\":0,\"ticks\":\"\"}}}],\"scatterternary\":[{\"type\":\"scatterternary\",\"marker\":{\"colorbar\":{\"outlinewidth\":0,\"ticks\":\"\"}}}],\"scattercarpet\":[{\"type\":\"scattercarpet\",\"marker\":{\"colorbar\":{\"outlinewidth\":0,\"ticks\":\"\"}}}],\"carpet\":[{\"aaxis\":{\"endlinecolor\":\"#2a3f5f\",\"gridcolor\":\"white\",\"linecolor\":\"white\",\"minorgridcolor\":\"white\",\"startlinecolor\":\"#2a3f5f\"},\"baxis\":{\"endlinecolor\":\"#2a3f5f\",\"gridcolor\":\"white\",\"linecolor\":\"white\",\"minorgridcolor\":\"white\",\"startlinecolor\":\"#2a3f5f\"},\"type\":\"carpet\"}],\"table\":[{\"cells\":{\"fill\":{\"color\":\"#EBF0F8\"},\"line\":{\"color\":\"white\"}},\"header\":{\"fill\":{\"color\":\"#C8D4E3\"},\"line\":{\"color\":\"white\"}},\"type\":\"table\"}],\"barpolar\":[{\"marker\":{\"line\":{\"color\":\"#E5ECF6\",\"width\":0.5},\"pattern\":{\"fillmode\":\"overlay\",\"size\":10,\"solidity\":0.2}},\"type\":\"barpolar\"}],\"pie\":[{\"automargin\":true,\"type\":\"pie\"}]},\"layout\":{\"autotypenumbers\":\"strict\",\"colorway\":[\"#636efa\",\"#EF553B\",\"#00cc96\",\"#ab63fa\",\"#FFA15A\",\"#19d3f3\",\"#FF6692\",\"#B6E880\",\"#FF97FF\",\"#FECB52\"],\"font\":{\"color\":\"#2a3f5f\"},\"hovermode\":\"closest\",\"hoverlabel\":{\"align\":\"left\"},\"paper_bgcolor\":\"white\",\"plot_bgcolor\":\"#E5ECF6\",\"polar\":{\"bgcolor\":\"#E5ECF6\",\"angularaxis\":{\"gridcolor\":\"white\",\"linecolor\":\"white\",\"ticks\":\"\"},\"radialaxis\":{\"gridcolor\":\"white\",\"linecolor\":\"white\",\"ticks\":\"\"}},\"ternary\":{\"bgcolor\":\"#E5ECF6\",\"aaxis\":{\"gridcolor\":\"white\",\"linecolor\":\"white\",\"ticks\":\"\"},\"baxis\":{\"gridcolor\":\"white\",\"linecolor\":\"white\",\"ticks\":\"\"},\"caxis\":{\"gridcolor\":\"white\",\"linecolor\":\"white\",\"ticks\":\"\"}},\"coloraxis\":{\"colorbar\":{\"outlinewidth\":0,\"ticks\":\"\"}},\"colorscale\":{\"sequential\":[[0.0,\"#0d0887\"],[0.1111111111111111,\"#46039f\"],[0.2222222222222222,\"#7201a8\"],[0.3333333333333333,\"#9c179e\"],[0.4444444444444444,\"#bd3786\"],[0.5555555555555556,\"#d8576b\"],[0.6666666666666666,\"#ed7953\"],[0.7777777777777778,\"#fb9f3a\"],[0.8888888888888888,\"#fdca26\"],[1.0,\"#f0f921\"]],\"sequentialminus\":[[0.0,\"#0d0887\"],[0.1111111111111111,\"#46039f\"],[0.2222222222222222,\"#7201a8\"],[0.3333333333333333,\"#9c179e\"],[0.4444444444444444,\"#bd3786\"],[0.5555555555555556,\"#d8576b\"],[0.6666666666666666,\"#ed7953\"],[0.7777777777777778,\"#fb9f3a\"],[0.8888888888888888,\"#fdca26\"],[1.0,\"#f0f921\"]],\"diverging\":[[0,\"#8e0152\"],[0.1,\"#c51b7d\"],[0.2,\"#de77ae\"],[0.3,\"#f1b6da\"],[0.4,\"#fde0ef\"],[0.5,\"#f7f7f7\"],[0.6,\"#e6f5d0\"],[0.7,\"#b8e186\"],[0.8,\"#7fbc41\"],[0.9,\"#4d9221\"],[1,\"#276419\"]]},\"xaxis\":{\"gridcolor\":\"white\",\"linecolor\":\"white\",\"ticks\":\"\",\"title\":{\"standoff\":15},\"zerolinecolor\":\"white\",\"automargin\":true,\"zerolinewidth\":2},\"yaxis\":{\"gridcolor\":\"white\",\"linecolor\":\"white\",\"ticks\":\"\",\"title\":{\"standoff\":15},\"zerolinecolor\":\"white\",\"automargin\":true,\"zerolinewidth\":2},\"scene\":{\"xaxis\":{\"backgroundcolor\":\"#E5ECF6\",\"gridcolor\":\"white\",\"linecolor\":\"white\",\"showbackground\":true,\"ticks\":\"\",\"zerolinecolor\":\"white\",\"gridwidth\":2},\"yaxis\":{\"backgroundcolor\":\"#E5ECF6\",\"gridcolor\":\"white\",\"linecolor\":\"white\",\"showbackground\":true,\"ticks\":\"\",\"zerolinecolor\":\"white\",\"gridwidth\":2},\"zaxis\":{\"backgroundcolor\":\"#E5ECF6\",\"gridcolor\":\"white\",\"linecolor\":\"white\",\"showbackground\":true,\"ticks\":\"\",\"zerolinecolor\":\"white\",\"gridwidth\":2}},\"shapedefaults\":{\"line\":{\"color\":\"#2a3f5f\"}},\"annotationdefaults\":{\"arrowcolor\":\"#2a3f5f\",\"arrowhead\":0,\"arrowwidth\":1},\"geo\":{\"bgcolor\":\"white\",\"landcolor\":\"#E5ECF6\",\"subunitcolor\":\"white\",\"showland\":true,\"showlakes\":true,\"lakecolor\":\"white\"},\"title\":{\"x\":0.05},\"mapbox\":{\"style\":\"light\"}}},\"xaxis\":{\"rangeslider\":{\"visible\":false},\"title\":{\"text\":\"Date\"}},\"title\":{\"text\":\"TCS Ltd with Candlestick Patterns\"},\"yaxis\":{\"title\":{\"text\":\"TCS INR (Indian Rupees)\"}},\"annotations\":[{\"arrowhead\":2,\"ax\":0,\"ay\":-30,\"font\":{\"color\":\"blue\"},\"showarrow\":true,\"text\":\"Doji_pattern\",\"x\":\"2020-07-13T00:00:00\",\"y\":2073.8132706115657},{\"arrowhead\":2,\"ax\":0,\"ay\":-30,\"font\":{\"color\":\"blue\"},\"showarrow\":true,\"text\":\"Doji_pattern\",\"x\":\"2020-09-15T00:00:00\",\"y\":2349.7827929222144},{\"arrowhead\":2,\"ax\":0,\"ay\":-30,\"font\":{\"color\":\"blue\"},\"showarrow\":true,\"text\":\"Doji_pattern\",\"x\":\"2021-05-24T00:00:00\",\"y\":2892.4846916499546},{\"arrowhead\":2,\"ax\":0,\"ay\":-30,\"font\":{\"color\":\"blue\"},\"showarrow\":true,\"text\":\"Doji_pattern\",\"x\":\"2025-03-18T00:00:00\",\"y\":3501.553859863281},{\"arrowhead\":2,\"ax\":0,\"ay\":-30,\"font\":{\"color\":\"blue\"},\"showarrow\":true,\"text\":\"Doji_pattern\",\"x\":\"2025-05-06T00:00:00\",\"y\":3476.826831773703},{\"arrowhead\":2,\"ax\":0,\"ay\":30,\"font\":{\"color\":\"green\"},\"showarrow\":true,\"text\":\"Hammer_pattern\",\"x\":\"2020-10-06T00:00:00\",\"y\":2404.984500900276},{\"arrowhead\":2,\"ax\":0,\"ay\":30,\"font\":{\"color\":\"green\"},\"showarrow\":true,\"text\":\"Hammer_pattern\",\"x\":\"2021-04-06T00:00:00\",\"y\":2949.3467477741715},{\"arrowhead\":2,\"ax\":0,\"ay\":30,\"font\":{\"color\":\"green\"},\"showarrow\":true,\"text\":\"Hammer_pattern\",\"x\":\"2022-03-30T00:00:00\",\"y\":3420.685182293138},{\"arrowhead\":2,\"ax\":0,\"ay\":30,\"font\":{\"color\":\"green\"},\"showarrow\":true,\"text\":\"Hammer_pattern\",\"x\":\"2022-10-31T00:00:00\",\"y\":2968.204096879314},{\"arrowhead\":2,\"ax\":0,\"ay\":30,\"font\":{\"color\":\"green\"},\"showarrow\":true,\"text\":\"Hammer_pattern\",\"x\":\"2023-12-05T00:00:00\",\"y\":3380.3381497618575},{\"arrowhead\":2,\"ax\":0,\"ay\":-50,\"font\":{\"color\":\"red\"},\"showarrow\":true,\"text\":\"Bearish Engulfing\",\"x\":\"2020-06-22T00:00:00\",\"y\":1914.573887701329},{\"arrowhead\":2,\"ax\":0,\"ay\":-50,\"font\":{\"color\":\"red\"},\"showarrow\":true,\"text\":\"Bearish Engulfing\",\"x\":\"2020-08-19T00:00:00\",\"y\":2136.117688769618},{\"arrowhead\":2,\"ax\":0,\"ay\":-50,\"font\":{\"color\":\"red\"},\"showarrow\":true,\"text\":\"Bullish Engulfing\",\"x\":\"2020-08-26T00:00:00\",\"y\":2113.0225579407465},{\"arrowhead\":2,\"ax\":0,\"ay\":-50,\"font\":{\"color\":\"red\"},\"showarrow\":true,\"text\":\"Bullish Engulfing\",\"x\":\"2020-09-11T00:00:00\",\"y\":2228.1216221380755},{\"arrowhead\":2,\"ax\":0,\"ay\":-50,\"font\":{\"color\":\"red\"},\"showarrow\":true,\"text\":\"Bearish Engulfing\",\"x\":\"2020-10-19T00:00:00\",\"y\":2604.768798541468},{\"arrowhead\":2,\"ax\":0,\"ay\":-50,\"font\":{\"color\":\"red\"},\"showarrow\":true,\"text\":\"Bearish Engulfing\",\"x\":\"2020-10-21T00:00:00\",\"y\":2581.293319102595},{\"arrowhead\":2,\"ax\":0,\"ay\":-50,\"font\":{\"color\":\"red\"},\"showarrow\":true,\"text\":\"Bullish Engulfing\",\"x\":\"2020-12-01T00:00:00\",\"y\":2568.9924824789973},{\"arrowhead\":2,\"ax\":0,\"ay\":-50,\"font\":{\"color\":\"red\"},\"showarrow\":true,\"text\":\"Bearish Engulfing\",\"x\":\"2020-12-03T00:00:00\",\"y\":2604.6742587418994},{\"arrowhead\":2,\"ax\":0,\"ay\":-50,\"font\":{\"color\":\"red\"},\"showarrow\":true,\"text\":\"Bearish Engulfing\",\"x\":\"2020-12-30T00:00:00\",\"y\":2767.8722740730013},{\"arrowhead\":2,\"ax\":0,\"ay\":-50,\"font\":{\"color\":\"red\"},\"showarrow\":true,\"text\":\"Bearish Engulfing\",\"x\":\"2021-02-15T00:00:00\",\"y\":3018.9649252450813},{\"arrowhead\":2,\"ax\":0,\"ay\":-50,\"font\":{\"color\":\"red\"},\"showarrow\":true,\"text\":\"Bearish Engulfing\",\"x\":\"2021-02-22T00:00:00\",\"y\":2912.655919192006},{\"arrowhead\":2,\"ax\":0,\"ay\":-50,\"font\":{\"color\":\"red\"},\"showarrow\":true,\"text\":\"Bullish Engulfing\",\"x\":\"2021-03-09T00:00:00\",\"y\":2885.2794254455353},{\"arrowhead\":2,\"ax\":0,\"ay\":-50,\"font\":{\"color\":\"red\"},\"showarrow\":true,\"text\":\"Bearish Engulfing\",\"x\":\"2021-03-18T00:00:00\",\"y\":2960.118856477392},{\"arrowhead\":2,\"ax\":0,\"ay\":-50,\"font\":{\"color\":\"red\"},\"showarrow\":true,\"text\":\"Bearish Engulfing\",\"x\":\"2021-05-28T00:00:00\",\"y\":3023.332934193402},{\"arrowhead\":2,\"ax\":0,\"ay\":-50,\"font\":{\"color\":\"red\"},\"showarrow\":true,\"text\":\"Bearish Engulfing\",\"x\":\"2021-06-28T00:00:00\",\"y\":3206.264328647853},{\"arrowhead\":2,\"ax\":0,\"ay\":-50,\"font\":{\"color\":\"red\"},\"showarrow\":true,\"text\":\"Bullish Engulfing\",\"x\":\"2021-07-14T00:00:00\",\"y\":3046.021738422792},{\"arrowhead\":2,\"ax\":0,\"ay\":-50,\"font\":{\"color\":\"red\"},\"showarrow\":true,\"text\":\"Bullish Engulfing\",\"x\":\"2021-08-10T00:00:00\",\"y\":3173.847364236287},{\"arrowhead\":2,\"ax\":0,\"ay\":-50,\"font\":{\"color\":\"red\"},\"showarrow\":true,\"text\":\"Bullish Engulfing\",\"x\":\"2021-08-12T00:00:00\",\"y\":3190.996404222142},{\"arrowhead\":2,\"ax\":0,\"ay\":-50,\"font\":{\"color\":\"red\"},\"showarrow\":true,\"text\":\"Bullish Engulfing\",\"x\":\"2021-08-25T00:00:00\",\"y\":3503.4171023990766},{\"arrowhead\":2,\"ax\":0,\"ay\":-50,\"font\":{\"color\":\"red\"},\"showarrow\":true,\"text\":\"Bearish Engulfing\",\"x\":\"2021-09-07T00:00:00\",\"y\":3666.567108666188},{\"arrowhead\":2,\"ax\":0,\"ay\":-50,\"font\":{\"color\":\"red\"},\"showarrow\":true,\"text\":\"Bullish Engulfing\",\"x\":\"2021-10-18T00:00:00\",\"y\":3467.375070606066},{\"arrowhead\":2,\"ax\":0,\"ay\":-50,\"font\":{\"color\":\"red\"},\"showarrow\":true,\"text\":\"Bearish Engulfing\",\"x\":\"2021-10-28T00:00:00\",\"y\":3339.508939018391},{\"arrowhead\":2,\"ax\":0,\"ay\":-50,\"font\":{\"color\":\"red\"},\"showarrow\":true,\"text\":\"Bearish Engulfing\",\"x\":\"2021-11-24T00:00:00\",\"y\":3315.824822653127},{\"arrowhead\":2,\"ax\":0,\"ay\":-50,\"font\":{\"color\":\"red\"},\"showarrow\":true,\"text\":\"Bullish Engulfing\",\"x\":\"2021-12-10T00:00:00\",\"y\":3457.2182633726034},{\"arrowhead\":2,\"ax\":0,\"ay\":-50,\"font\":{\"color\":\"red\"},\"showarrow\":true,\"text\":\"Bullish Engulfing\",\"x\":\"2022-01-14T00:00:00\",\"y\":3775.2212315764773},{\"arrowhead\":2,\"ax\":0,\"ay\":-50,\"font\":{\"color\":\"red\"},\"showarrow\":true,\"text\":\"Bearish Engulfing\",\"x\":\"2022-01-18T00:00:00\",\"y\":3836.6383106551903},{\"arrowhead\":2,\"ax\":0,\"ay\":-50,\"font\":{\"color\":\"red\"},\"showarrow\":true,\"text\":\"Bearish Engulfing\",\"x\":\"2022-01-24T00:00:00\",\"y\":3660.7541088040075},{\"arrowhead\":2,\"ax\":0,\"ay\":-50,\"font\":{\"color\":\"red\"},\"showarrow\":true,\"text\":\"Bearish Engulfing\",\"x\":\"2022-02-21T00:00:00\",\"y\":3639.97543417943},{\"arrowhead\":2,\"ax\":0,\"ay\":-50,\"font\":{\"color\":\"red\"},\"showarrow\":true,\"text\":\"Bullish Engulfing\",\"x\":\"2022-03-14T00:00:00\",\"y\":3469.331307263441},{\"arrowhead\":2,\"ax\":0,\"ay\":-50,\"font\":{\"color\":\"red\"},\"showarrow\":true,\"text\":\"Bearish Engulfing\",\"x\":\"2022-04-13T00:00:00\",\"y\":3527.813322658075},{\"arrowhead\":2,\"ax\":0,\"ay\":-50,\"font\":{\"color\":\"red\"},\"showarrow\":true,\"text\":\"Bullish Engulfing\",\"x\":\"2022-05-17T00:00:00\",\"y\":3296.879491408607},{\"arrowhead\":2,\"ax\":0,\"ay\":-50,\"font\":{\"color\":\"red\"},\"showarrow\":true,\"text\":\"Bullish Engulfing\",\"x\":\"2022-06-02T00:00:00\",\"y\":3285.5809411631794},{\"arrowhead\":2,\"ax\":0,\"ay\":-50,\"font\":{\"color\":\"red\"},\"showarrow\":true,\"text\":\"Bullish Engulfing\",\"x\":\"2022-07-01T00:00:00\",\"y\":3190.804482401417},{\"arrowhead\":2,\"ax\":0,\"ay\":-50,\"font\":{\"color\":\"red\"},\"showarrow\":true,\"text\":\"Bearish Engulfing\",\"x\":\"2022-07-08T00:00:00\",\"y\":3163.9986166348776},{\"arrowhead\":2,\"ax\":0,\"ay\":-50,\"font\":{\"color\":\"red\"},\"showarrow\":true,\"text\":\"Bullish Engulfing\",\"x\":\"2022-07-27T00:00:00\",\"y\":3065.9019035283804},{\"arrowhead\":2,\"ax\":0,\"ay\":-50,\"font\":{\"color\":\"red\"},\"showarrow\":true,\"text\":\"Bearish Engulfing\",\"x\":\"2022-08-10T00:00:00\",\"y\":3249.139843284173},{\"arrowhead\":2,\"ax\":0,\"ay\":-50,\"font\":{\"color\":\"red\"},\"showarrow\":true,\"text\":\"Bullish Engulfing\",\"x\":\"2022-09-07T00:00:00\",\"y\":3034.994251492645},{\"arrowhead\":2,\"ax\":0,\"ay\":-50,\"font\":{\"color\":\"red\"},\"showarrow\":true,\"text\":\"Bearish Engulfing\",\"x\":\"2022-09-13T00:00:00\",\"y\":3132.468140917722},{\"arrowhead\":2,\"ax\":0,\"ay\":-50,\"font\":{\"color\":\"red\"},\"showarrow\":true,\"text\":\"Bullish Engulfing\",\"x\":\"2022-10-10T00:00:00\",\"y\":3001.49529276246},{\"arrowhead\":2,\"ax\":0,\"ay\":-50,\"font\":{\"color\":\"red\"},\"showarrow\":true,\"text\":\"Bearish Engulfing\",\"x\":\"2022-10-14T00:00:00\",\"y\":3023.5716943075527},{\"arrowhead\":2,\"ax\":0,\"ay\":-50,\"font\":{\"color\":\"red\"},\"showarrow\":true,\"text\":\"Bullish Engulfing\",\"x\":\"2022-10-28T00:00:00\",\"y\":3058.8239751751066},{\"arrowhead\":2,\"ax\":0,\"ay\":-50,\"font\":{\"color\":\"red\"},\"showarrow\":true,\"text\":\"Bearish Engulfing\",\"x\":\"2022-11-09T00:00:00\",\"y\":3127.439153324985},{\"arrowhead\":2,\"ax\":0,\"ay\":-50,\"font\":{\"color\":\"red\"},\"showarrow\":true,\"text\":\"Bullish Engulfing\",\"x\":\"2022-12-20T00:00:00\",\"y\":3126.669764517316},{\"arrowhead\":2,\"ax\":0,\"ay\":-50,\"font\":{\"color\":\"red\"},\"showarrow\":true,\"text\":\"Bearish Engulfing\",\"x\":\"2023-01-31T00:00:00\",\"y\":3386.3739437714044},{\"arrowhead\":2,\"ax\":0,\"ay\":-50,\"font\":{\"color\":\"red\"},\"showarrow\":true,\"text\":\"Bearish Engulfing\",\"x\":\"2023-02-13T00:00:00\",\"y\":3484.558038710284},{\"arrowhead\":2,\"ax\":0,\"ay\":-50,\"font\":{\"color\":\"red\"},\"showarrow\":true,\"text\":\"Bullish Engulfing\",\"x\":\"2023-02-15T00:00:00\",\"y\":3461.9759257844103},{\"arrowhead\":2,\"ax\":0,\"ay\":-50,\"font\":{\"color\":\"red\"},\"showarrow\":true,\"text\":\"Bearish Engulfing\",\"x\":\"2023-03-13T00:00:00\",\"y\":3308.611735679254},{\"arrowhead\":2,\"ax\":0,\"ay\":-50,\"font\":{\"color\":\"red\"},\"showarrow\":true,\"text\":\"Bullish Engulfing\",\"x\":\"2023-04-05T00:00:00\",\"y\":3205.0768730486884},{\"arrowhead\":2,\"ax\":0,\"ay\":-50,\"font\":{\"color\":\"red\"},\"showarrow\":true,\"text\":\"Bullish Engulfing\",\"x\":\"2023-04-10T00:00:00\",\"y\":3212.587669247722},{\"arrowhead\":2,\"ax\":0,\"ay\":-50,\"font\":{\"color\":\"red\"},\"showarrow\":true,\"text\":\"Bearish Engulfing\",\"x\":\"2023-04-11T00:00:00\",\"y\":3213.520580899028},{\"arrowhead\":2,\"ax\":0,\"ay\":-50,\"font\":{\"color\":\"red\"},\"showarrow\":true,\"text\":\"Bearish Engulfing\",\"x\":\"2023-04-18T00:00:00\",\"y\":3099.5289089781127},{\"arrowhead\":2,\"ax\":0,\"ay\":-50,\"font\":{\"color\":\"red\"},\"showarrow\":true,\"text\":\"Bearish Engulfing\",\"x\":\"2023-06-02T00:00:00\",\"y\":3275.327120387928},{\"arrowhead\":2,\"ax\":0,\"ay\":-50,\"font\":{\"color\":\"red\"},\"showarrow\":true,\"text\":\"Bearish Engulfing\",\"x\":\"2023-06-15T00:00:00\",\"y\":3212.1964785453774},{\"arrowhead\":2,\"ax\":0,\"ay\":-50,\"font\":{\"color\":\"red\"},\"showarrow\":true,\"text\":\"Bearish Engulfing\",\"x\":\"2023-06-22T00:00:00\",\"y\":3232.177327401169},{\"arrowhead\":2,\"ax\":0,\"ay\":-50,\"font\":{\"color\":\"red\"},\"showarrow\":true,\"text\":\"Bullish Engulfing\",\"x\":\"2023-07-06T00:00:00\",\"y\":3292.317030163374},{\"arrowhead\":2,\"ax\":0,\"ay\":-50,\"font\":{\"color\":\"red\"},\"showarrow\":true,\"text\":\"Bearish Engulfing\",\"x\":\"2023-07-19T00:00:00\",\"y\":3478.672438914411},{\"arrowhead\":2,\"ax\":0,\"ay\":-50,\"font\":{\"color\":\"red\"},\"showarrow\":true,\"text\":\"Bearish Engulfing\",\"x\":\"2023-07-26T00:00:00\",\"y\":3392.5132847963177},{\"arrowhead\":2,\"ax\":0,\"ay\":-50,\"font\":{\"color\":\"red\"},\"showarrow\":true,\"text\":\"Bearish Engulfing\",\"x\":\"2023-08-24T00:00:00\",\"y\":3384.7777293655286},{\"arrowhead\":2,\"ax\":0,\"ay\":-50,\"font\":{\"color\":\"red\"},\"showarrow\":true,\"text\":\"Bullish Engulfing\",\"x\":\"2023-09-22T00:00:00\",\"y\":3603.6498653369963},{\"arrowhead\":2,\"ax\":0,\"ay\":-50,\"font\":{\"color\":\"red\"},\"showarrow\":true,\"text\":\"Bullish Engulfing\",\"x\":\"2023-10-04T00:00:00\",\"y\":3518.60998625318},{\"arrowhead\":2,\"ax\":0,\"ay\":-50,\"font\":{\"color\":\"red\"},\"showarrow\":true,\"text\":\"Bullish Engulfing\",\"x\":\"2023-10-20T00:00:00\",\"y\":3479.4913858388727},{\"arrowhead\":2,\"ax\":0,\"ay\":-50,\"font\":{\"color\":\"red\"},\"showarrow\":true,\"text\":\"Bearish Engulfing\",\"x\":\"2023-11-09T00:00:00\",\"y\":3372.108992069596},{\"arrowhead\":2,\"ax\":0,\"ay\":-50,\"font\":{\"color\":\"red\"},\"showarrow\":true,\"text\":\"Bullish Engulfing\",\"x\":\"2023-11-22T00:00:00\",\"y\":3512.452132141376},{\"arrowhead\":2,\"ax\":0,\"ay\":-50,\"font\":{\"color\":\"red\"},\"showarrow\":true,\"text\":\"Bullish Engulfing\",\"x\":\"2023-12-11T00:00:00\",\"y\":3632.1138979934617},{\"arrowhead\":2,\"ax\":0,\"ay\":-50,\"font\":{\"color\":\"red\"},\"showarrow\":true,\"text\":\"Bearish Engulfing\",\"x\":\"2024-01-02T00:00:00\",\"y\":3789.3101244053573},{\"arrowhead\":2,\"ax\":0,\"ay\":-50,\"font\":{\"color\":\"red\"},\"showarrow\":true,\"text\":\"Bearish Engulfing\",\"x\":\"2024-01-30T00:00:00\",\"y\":3834.643534139636},{\"arrowhead\":2,\"ax\":0,\"ay\":-50,\"font\":{\"color\":\"red\"},\"showarrow\":true,\"text\":\"Bullish Engulfing\",\"x\":\"2024-02-22T00:00:00\",\"y\":4080.9482227291664},{\"arrowhead\":2,\"ax\":0,\"ay\":-50,\"font\":{\"color\":\"red\"},\"showarrow\":true,\"text\":\"Bullish Engulfing\",\"x\":\"2024-02-27T00:00:00\",\"y\":4109.898929233598},{\"arrowhead\":2,\"ax\":0,\"ay\":-50,\"font\":{\"color\":\"red\"},\"showarrow\":true,\"text\":\"Bullish Engulfing\",\"x\":\"2024-03-06T00:00:00\",\"y\":4058.07693877947},{\"arrowhead\":2,\"ax\":0,\"ay\":-50,\"font\":{\"color\":\"red\"},\"showarrow\":true,\"text\":\"Bearish Engulfing\",\"x\":\"2024-03-27T00:00:00\",\"y\":3881.6822677587534},{\"arrowhead\":2,\"ax\":0,\"ay\":-50,\"font\":{\"color\":\"red\"},\"showarrow\":true,\"text\":\"Bullish Engulfing\",\"x\":\"2024-04-03T00:00:00\",\"y\":3967.388043585221},{\"arrowhead\":2,\"ax\":0,\"ay\":-50,\"font\":{\"color\":\"red\"},\"showarrow\":true,\"text\":\"Bearish Engulfing\",\"x\":\"2024-04-08T00:00:00\",\"y\":4018.8614992671664},{\"arrowhead\":2,\"ax\":0,\"ay\":-50,\"font\":{\"color\":\"red\"},\"showarrow\":true,\"text\":\"Bearish Engulfing\",\"x\":\"2024-04-30T00:00:00\",\"y\":3868.477472511055},{\"arrowhead\":2,\"ax\":0,\"ay\":-50,\"font\":{\"color\":\"red\"},\"showarrow\":true,\"text\":\"Bearish Engulfing\",\"x\":\"2024-05-17T00:00:00\",\"y\":3934.9904572671458},{\"arrowhead\":2,\"ax\":0,\"ay\":-50,\"font\":{\"color\":\"red\"},\"showarrow\":true,\"text\":\"Bearish Engulfing\",\"x\":\"2024-06-12T00:00:00\",\"y\":3908.3890786837987},{\"arrowhead\":2,\"ax\":0,\"ay\":-50,\"font\":{\"color\":\"red\"},\"showarrow\":true,\"text\":\"Bearish Engulfing\",\"x\":\"2024-06-14T00:00:00\",\"y\":3903.8721211191814},{\"arrowhead\":2,\"ax\":0,\"ay\":-50,\"font\":{\"color\":\"red\"},\"showarrow\":true,\"text\":\"Bullish Engulfing\",\"x\":\"2024-07-01T00:00:00\",\"y\":4017.002923410246},{\"arrowhead\":2,\"ax\":0,\"ay\":-50,\"font\":{\"color\":\"red\"},\"showarrow\":true,\"text\":\"Bearish Engulfing\",\"x\":\"2024-07-03T00:00:00\",\"y\":4041.4963300182426},{\"arrowhead\":2,\"ax\":0,\"ay\":-50,\"font\":{\"color\":\"red\"},\"showarrow\":true,\"text\":\"Bearish Engulfing\",\"x\":\"2024-07-08T00:00:00\",\"y\":4046.6660653636823},{\"arrowhead\":2,\"ax\":0,\"ay\":-50,\"font\":{\"color\":\"red\"},\"showarrow\":true,\"text\":\"Bullish Engulfing\",\"x\":\"2024-07-23T00:00:00\",\"y\":4388.5491152783925},{\"arrowhead\":2,\"ax\":0,\"ay\":-50,\"font\":{\"color\":\"red\"},\"showarrow\":true,\"text\":\"Bearish Engulfing\",\"x\":\"2024-08-12T00:00:00\",\"y\":4265.093130238246},{\"arrowhead\":2,\"ax\":0,\"ay\":-50,\"font\":{\"color\":\"red\"},\"showarrow\":true,\"text\":\"Bearish Engulfing\",\"x\":\"2024-08-22T00:00:00\",\"y\":4589.024985271712},{\"arrowhead\":2,\"ax\":0,\"ay\":-50,\"font\":{\"color\":\"red\"},\"showarrow\":true,\"text\":\"Bearish Engulfing\",\"x\":\"2024-09-05T00:00:00\",\"y\":4526.693896337915},{\"arrowhead\":2,\"ax\":0,\"ay\":-50,\"font\":{\"color\":\"red\"},\"showarrow\":true,\"text\":\"Bullish Engulfing\",\"x\":\"2024-09-10T00:00:00\",\"y\":4567.896030868172},{\"arrowhead\":2,\"ax\":0,\"ay\":-50,\"font\":{\"color\":\"red\"},\"showarrow\":true,\"text\":\"Bullish Engulfing\",\"x\":\"2024-10-01T00:00:00\",\"y\":4322.193117346016},{\"arrowhead\":2,\"ax\":0,\"ay\":-50,\"font\":{\"color\":\"red\"},\"showarrow\":true,\"text\":\"Bullish Engulfing\",\"x\":\"2024-10-18T00:00:00\",\"y\":4181.848954342052},{\"arrowhead\":2,\"ax\":0,\"ay\":-50,\"font\":{\"color\":\"red\"},\"showarrow\":true,\"text\":\"Bearish Engulfing\",\"x\":\"2024-10-21T00:00:00\",\"y\":4175.595900226872},{\"arrowhead\":2,\"ax\":0,\"ay\":-50,\"font\":{\"color\":\"red\"},\"showarrow\":true,\"text\":\"Bullish Engulfing\",\"x\":\"2024-10-23T00:00:00\",\"y\":4148.968439238174},{\"arrowhead\":2,\"ax\":0,\"ay\":-50,\"font\":{\"color\":\"red\"},\"showarrow\":true,\"text\":\"Bullish Engulfing\",\"x\":\"2024-11-05T00:00:00\",\"y\":4020.3202743945435},{\"arrowhead\":2,\"ax\":0,\"ay\":-50,\"font\":{\"color\":\"red\"},\"showarrow\":true,\"text\":\"Bullish Engulfing\",\"x\":\"2024-11-11T00:00:00\",\"y\":4270.757866518785},{\"arrowhead\":2,\"ax\":0,\"ay\":-50,\"font\":{\"color\":\"red\"},\"showarrow\":true,\"text\":\"Bearish Engulfing\",\"x\":\"2024-11-18T00:00:00\",\"y\":4249.274861985078},{\"arrowhead\":2,\"ax\":0,\"ay\":-50,\"font\":{\"color\":\"red\"},\"showarrow\":true,\"text\":\"Bearish Engulfing\",\"x\":\"2025-01-03T00:00:00\",\"y\":4215.940316726103},{\"arrowhead\":2,\"ax\":0,\"ay\":-50,\"font\":{\"color\":\"red\"},\"showarrow\":true,\"text\":\"Bearish Engulfing\",\"x\":\"2025-01-14T00:00:00\",\"y\":4351.04310176647},{\"arrowhead\":2,\"ax\":0,\"ay\":-50,\"font\":{\"color\":\"red\"},\"showarrow\":true,\"text\":\"Bearish Engulfing\",\"x\":\"2025-01-16T00:00:00\",\"y\":4330.971986893729},{\"arrowhead\":2,\"ax\":0,\"ay\":-50,\"font\":{\"color\":\"red\"},\"showarrow\":true,\"text\":\"Bearish Engulfing\",\"x\":\"2025-02-01T00:00:00\",\"y\":4181.451803313317},{\"arrowhead\":2,\"ax\":0,\"ay\":-50,\"font\":{\"color\":\"red\"},\"showarrow\":true,\"text\":\"Bullish Engulfing\",\"x\":\"2025-03-27T00:00:00\",\"y\":3703.3433808034133},{\"arrowhead\":2,\"ax\":0,\"ay\":-50,\"font\":{\"color\":\"red\"},\"showarrow\":true,\"text\":\"Bearish Engulfing\",\"x\":\"2025-05-16T00:00:00\",\"y\":3633.4822007828625},{\"arrowhead\":2,\"ax\":0,\"ay\":-50,\"font\":{\"color\":\"red\"},\"showarrow\":true,\"text\":\"Bullish Engulfing\",\"x\":\"2025-05-23T00:00:00\",\"y\":3573.9335364434714}]},                        {\"responsive\": true}                    ).then(function(){\n",
              "                            \n",
              "var gd = document.getElementById('0a28b0b1-608d-41d0-8738-69cd3de886ee');\n",
              "var x = new MutationObserver(function (mutations, observer) {{\n",
              "        var display = window.getComputedStyle(gd).display;\n",
              "        if (!display || display === 'none') {{\n",
              "            console.log([gd, 'removed!']);\n",
              "            Plotly.purge(gd);\n",
              "            observer.disconnect();\n",
              "        }}\n",
              "}});\n",
              "\n",
              "// Listen for the removal of the full notebook cells\n",
              "var notebookContainer = gd.closest('#notebook-container');\n",
              "if (notebookContainer) {{\n",
              "    x.observe(notebookContainer, {childList: true});\n",
              "}}\n",
              "\n",
              "// Listen for the clearing of the current output cell\n",
              "var outputEl = gd.closest('.output');\n",
              "if (outputEl) {{\n",
              "    x.observe(outputEl, {childList: true});\n",
              "}}\n",
              "\n",
              "                        })                };                            </script>        </div>\n",
              "</body>\n",
              "</html>"
            ]
          },
          "metadata": {}
        }
      ]
    },
    {
      "cell_type": "markdown",
      "source": [
        "# 2. Win-Rate Calculation:"
      ],
      "metadata": {
        "id": "ja7pxCOsANaR"
      }
    },
    {
      "cell_type": "code",
      "source": [
        "def compute_win_rate(df, n):\n",
        "    results = {\n",
        "        'Doji': {'positive': 0, 'total': 0},\n",
        "        'Hammer': {'positive': 0, 'total': 0},\n",
        "        'Bullish Engulfing': {'positive': 0, 'total': 0},\n",
        "        'Bearish Engulfing': {'positive': 0, 'total': 0}\n",
        "    }\n",
        "\n",
        "    for idx in range(len(df) - n):\n",
        "        row = df.iloc[idx]\n",
        "        close_t = row['Close']\n",
        "        close_tn = df.iloc[idx + n]['Close']\n",
        "        return_n = (close_tn - close_t) / close_t\n",
        "\n",
        "        if row['Doji']:\n",
        "            results['Doji']['total'] += 1\n",
        "            if return_n > 0:\n",
        "                results['Doji']['positive'] += 1\n",
        "        if row['Hammer']:\n",
        "            results['Hammer']['total'] += 1\n",
        "            if return_n > 0:\n",
        "                results['Hammer']['positive'] += 1\n",
        "        if row['Engulfing'] == 'Bullish Engulfing':\n",
        "            results['Bullish Engulfing']['total'] += 1\n",
        "            if return_n > 0:\n",
        "                results['Bullish Engulfing']['positive'] += 1\n",
        "        if row['Engulfing'] == 'Bearish Engulfing':\n",
        "            results['Bearish Engulfing']['total'] += 1\n",
        "            if return_n > 0:\n",
        "                results['Bearish Engulfing']['positive'] += 1\n",
        "\n",
        "    win_rates = {}\n",
        "    for pattern in results:\n",
        "        total = results[pattern]['total']\n",
        "        positive = results[pattern]['positive']\n",
        "        win_rate = (positive / total * 100) if total > 0 else 0\n",
        "        win_rates[pattern] = {\n",
        "            'Win-Rate (%)': round(win_rate, 2),\n",
        "            'Positive Moves': positive,\n",
        "            'Total Occurrences': total\n",
        "        }\n",
        "\n",
        "    return win_rates"
      ],
      "metadata": {
        "id": "W_3KaNUEAPMa"
      },
      "execution_count": null,
      "outputs": []
    },
    {
      "cell_type": "code",
      "source": [
        "# Calculating win-rates for n=3 and n=5\n",
        "win_rates_n3 = compute_win_rate(stock, n=3)\n",
        "win_rates_n5 = compute_win_rate(stock, n=5)\n",
        "\n",
        "\n",
        "print(\"Win-Rates for n=3 Candles:\")\n",
        "print(pd.DataFrame(win_rates_n3).T)\n",
        "print(\"\\nWin-Rates for n=5 Candles:\")\n",
        "print(pd.DataFrame(win_rates_n5).T)"
      ],
      "metadata": {
        "colab": {
          "base_uri": "https://localhost:8080/"
        },
        "id": "jmyQYkAd61Wl",
        "outputId": "73cfed1f-9af3-4395-a110-7b48a40c1713"
      },
      "execution_count": null,
      "outputs": [
        {
          "output_type": "stream",
          "name": "stdout",
          "text": [
            "Win-Rates for n=3 Candles:\n",
            "                   Win-Rate (%)  Positive Moves  Total Occurrences\n",
            "Doji                      60.00             3.0                5.0\n",
            "Hammer                   100.00             5.0                5.0\n",
            "Bullish Engulfing         48.84            21.0               43.0\n",
            "Bearish Engulfing         52.73            29.0               55.0\n",
            "\n",
            "Win-Rates for n=5 Candles:\n",
            "                   Win-Rate (%)  Positive Moves  Total Occurrences\n",
            "Doji                      80.00             4.0                5.0\n",
            "Hammer                    80.00             4.0                5.0\n",
            "Bullish Engulfing         55.81            24.0               43.0\n",
            "Bearish Engulfing         54.55            30.0               55.0\n"
          ]
        }
      ]
    },
    {
      "cell_type": "markdown",
      "source": [
        "# 3. Baseline Win-Rate:"
      ],
      "metadata": {
        "id": "U4Apx3bHBAro"
      }
    },
    {
      "cell_type": "code",
      "source": [
        "def Baseline_win_rate(df, n, M):\n",
        "    valid_indices = df.index[:-n]\n",
        "\n",
        "    random_indices = np.random.choice(valid_indices, size=M, replace=False) # M random time stamps\n",
        "\n",
        "    positive = 0\n",
        "    total = M\n",
        "\n",
        "\n",
        "    for idx in random_indices:\n",
        "        close_t = df.loc[idx, 'Close']\n",
        "        close_tn = df.iloc[df.index.get_loc(idx) + n]['Close']\n",
        "        return_n = (close_tn - close_t) / close_t\n",
        "        if return_n > 0:\n",
        "            positive += 1\n",
        "\n",
        "\n",
        "    win_rate = (positive / total * 100) if total > 0 else 0\n",
        "    return {\n",
        "        'Win-Rate (%)': round(win_rate, 2),\n",
        "        'Positive Moves': positive,\n",
        "        'Total Entries': total\n",
        "    }"
      ],
      "metadata": {
        "id": "bSDAko5ZaLyL"
      },
      "execution_count": null,
      "outputs": []
    },
    {
      "cell_type": "code",
      "source": [
        "pattern_counts = {\n",
        "    'Doji': stock['Doji'].sum(),\n",
        "    'Hammer': stock['Hammer'].sum(),\n",
        "    'Bullish_Engulfing': (stock['Engulfing'] == 'Bullish_Engulfing').sum(),\n",
        "    'Bearish_Engulfing': (stock['Engulfing'] == 'Bearish_Engulfing').sum()\n",
        "}"
      ],
      "metadata": {
        "id": "1m3STV9t78XZ"
      },
      "execution_count": null,
      "outputs": []
    },
    {
      "cell_type": "code",
      "source": [
        "np.random.seed(42)"
      ],
      "metadata": {
        "id": "7UDy_5Fs8sfN"
      },
      "execution_count": null,
      "outputs": []
    },
    {
      "cell_type": "code",
      "source": [
        "random_win_rates = {}\n",
        "for n in [3, 5]:\n",
        "    random_win_rates[f'n={n}'] = {}\n",
        "    for pattern, M in pattern_counts.items():\n",
        "        if M > 0:\n",
        "            random_win_rates[f'n={n}'][pattern] = Baseline_win_rate(stock, n, M)\n",
        "        else:\n",
        "            random_win_rates[f'n={n}'][pattern] = {\n",
        "                'Win-Rate (%)': 0,\n",
        "                'Positive Moves': 0,\n",
        "                'Total Entries': 0\n",
        "            }"
      ],
      "metadata": {
        "id": "oV71nZQt8EcO"
      },
      "execution_count": null,
      "outputs": []
    },
    {
      "cell_type": "code",
      "source": [
        "for n in [3, 5]:\n",
        "    print(f\"\\nBaseline win_rates for n={n} candles:\")\n",
        "    print(pd.DataFrame(random_win_rates[f'n={n}']).T)"
      ],
      "metadata": {
        "colab": {
          "base_uri": "https://localhost:8080/"
        },
        "id": "H_ty5xGT8Hh1",
        "outputId": "2dbd73df-c088-4f0b-fe7a-be0456de5b50"
      },
      "execution_count": null,
      "outputs": [
        {
          "output_type": "stream",
          "name": "stdout",
          "text": [
            "\n",
            "Baseline win_rates for n=3 candles:\n",
            "                   Win-Rate (%)  Positive Moves  Total Entries\n",
            "Doji                       60.0             3.0            5.0\n",
            "Hammer                     80.0             4.0            5.0\n",
            "Bullish_Engulfing           0.0             0.0            0.0\n",
            "Bearish_Engulfing           0.0             0.0            0.0\n",
            "\n",
            "Baseline win_rates for n=5 candles:\n",
            "                   Win-Rate (%)  Positive Moves  Total Entries\n",
            "Doji                       40.0             2.0            5.0\n",
            "Hammer                     60.0             3.0            5.0\n",
            "Bullish_Engulfing           0.0             0.0            0.0\n",
            "Bearish_Engulfing           0.0             0.0            0.0\n"
          ]
        }
      ]
    },
    {
      "cell_type": "markdown",
      "source": [
        "# 4. Visualization:"
      ],
      "metadata": {
        "id": "iMeyiMT6BEgx"
      }
    },
    {
      "cell_type": "code",
      "source": [
        "import plotly.graph_objects as go\n",
        "\n",
        "def compute_pattern_win_rate(df, n):\n",
        "    results = {\n",
        "        'Doji': {'positive': 0, 'total': 0},\n",
        "        'Hammer': {'positive': 0, 'total': 0},\n",
        "        'Bullish Engulfing': {'positive': 0, 'total': 0},\n",
        "        'Bearish Engulfing': {'positive': 0, 'total': 0}\n",
        "    }\n",
        "\n",
        "    for idx in range(len(df) - n):\n",
        "        row = df.iloc[idx]\n",
        "        close_t = row['Close']\n",
        "        close_tn = df.iloc[idx + n]['Close']\n",
        "        return_n = (close_tn - close_t) / close_t\n",
        "\n",
        "        if row['Doji']:\n",
        "            results['Doji']['total'] += 1\n",
        "            if return_n > 0:\n",
        "                results['Doji']['positive'] += 1\n",
        "        if row['Hammer']:\n",
        "            results['Hammer']['total'] += 1\n",
        "            if return_n > 0:\n",
        "                results['Hammer']['positive'] += 1\n",
        "        if row['Engulfing'] == 'Bullish Engulfing':\n",
        "            results['Bullish Engulfing']['total'] += 1\n",
        "            if return_n > 0:\n",
        "                results['Bullish Engulfing']['positive'] += 1\n",
        "        if row['Engulfing'] == 'Bearish Engulfing':\n",
        "            results['Bearish Engulfing']['total'] += 1\n",
        "            if return_n > 0:\n",
        "                results['Bearish Engulfing']['positive'] += 1\n",
        "\n",
        "    # Calculate win-rates and combine Engulfing patterns\n",
        "    win_rates = {}\n",
        "    for pattern in ['Doji', 'Hammer']:\n",
        "        total = results[pattern]['total']\n",
        "        positive = results[pattern]['positive']\n",
        "        win_rates[pattern] = (positive / total * 100) if total > 0 else 0\n",
        "\n",
        "    # Combine Bullish and Bearish Engulfing patterns\n",
        "    total_engulfing = results['Bullish Engulfing']['total'] + results['Bearish Engulfing']['total']\n",
        "    positive_engulfing = results['Bullish Engulfing']['positive'] + results['Bearish Engulfing']['positive']\n",
        "    win_rates['Engulfing'] = (positive_engulfing / total_engulfing * 100) if total_engulfing > 0 else 0\n",
        "\n",
        "    return win_rates"
      ],
      "metadata": {
        "id": "Bf6joDSS-UXM"
      },
      "execution_count": null,
      "outputs": []
    },
    {
      "cell_type": "code",
      "source": [
        "def compute_random_win_rate(df, n, M):\n",
        "    valid_indices = df.index[:-n]\n",
        "    random_indices = np.random.choice(valid_indices, size=M, replace=False)\n",
        "    positive = 0\n",
        "    for idx in random_indices:\n",
        "        close_t = df.loc[idx, 'Close']\n",
        "        close_tn = df.iloc[df.index.get_loc(idx) + n]['Close']\n",
        "        return_n = (close_tn - close_t) / close_t\n",
        "        if return_n > 0:\n",
        "            positive += 1\n",
        "    return (positive / M * 100) if M > 0 else 0"
      ],
      "metadata": {
        "id": "gdFZISam_4J2"
      },
      "execution_count": null,
      "outputs": []
    },
    {
      "cell_type": "code",
      "source": [
        "win_rates_n3 = compute_pattern_win_rate(stock, n=3)\n",
        "win_rates_n5 = compute_pattern_win_rate(stock, n=5)\n",
        "\n",
        "\n",
        "M = stock['Doji'].sum()\n",
        "baseline_n3 = compute_random_win_rate(stock, n=3, M=M)\n",
        "baseline_n5 = compute_random_win_rate(stock, n=5, M=M)\n",
        "\n",
        "\n",
        "categories = ['Baseline', 'Doji', 'Hammer', 'Engulfing']\n",
        "win_rates_n3_values = [baseline_n3] + [win_rates_n3.get(pattern, 0) for pattern in ['Doji', 'Hammer', 'Engulfing']]\n",
        "win_rates_n5_values = [baseline_n5] + [win_rates_n5.get(pattern, 0) for pattern in ['Doji', 'Hammer', 'Engulfing']]\n"
      ],
      "metadata": {
        "id": "tVyr9a-U_96d"
      },
      "execution_count": null,
      "outputs": []
    },
    {
      "cell_type": "code",
      "source": [
        "fig = go.Figure(data=[\n",
        "    go.Bar(\n",
        "        name='n=3 Candles',\n",
        "        x=categories,\n",
        "        y=win_rates_n3_values,\n",
        "        marker_color='rgba(55, 128, 191, 0.7)',  # Blue for n=3\n",
        "        text=[f'{val:.2f}%' for val in win_rates_n3_values],\n",
        "        textposition='auto'\n",
        "    ),\n",
        "    go.Bar(\n",
        "        name='n=5 Candles',\n",
        "        x=categories,\n",
        "        y=win_rates_n5_values,\n",
        "        marker_color='rgba(50, 171, 96, 0.7)',  # Green for n=5\n",
        "        text=[f'{val:.2f}%' for val in win_rates_n5_values],\n",
        "        textposition='auto'\n",
        "    )\n",
        "])\n",
        "\n",
        "\n",
        "fig.update_layout(\n",
        "    title='Win-Rates: Baseline vs. Candlestick Patterns (TCS.NS)',\n",
        "    xaxis_title='Category',\n",
        "    yaxis_title='Win-Rate (%)',\n",
        "    yaxis=dict(range=[0, 100], gridcolor='lightgrey'),\n",
        "    barmode='group',\n",
        "    bargap=0.15,\n",
        "    bargroupgap=0.1,\n",
        "    template='plotly_white',\n",
        "    font=dict(family='Arial', size=12),\n",
        "    legend=dict(x=0.01, y=0.99, bgcolor='rgba(255, 255, 255, 0.5)'),\n",
        "    plot_bgcolor='white',\n",
        "    paper_bgcolor='white'\n",
        ")\n",
        "\n",
        "# Show the chart\n",
        "fig.show()"
      ],
      "metadata": {
        "colab": {
          "base_uri": "https://localhost:8080/",
          "height": 542
        },
        "id": "odr7hRMTABvW",
        "outputId": "ef8b5498-9888-4b44-ba63-b3387ce84876"
      },
      "execution_count": null,
      "outputs": [
        {
          "output_type": "display_data",
          "data": {
            "text/html": [
              "<html>\n",
              "<head><meta charset=\"utf-8\" /></head>\n",
              "<body>\n",
              "    <div>            <script src=\"https://cdnjs.cloudflare.com/ajax/libs/mathjax/2.7.5/MathJax.js?config=TeX-AMS-MML_SVG\"></script><script type=\"text/javascript\">if (window.MathJax && window.MathJax.Hub && window.MathJax.Hub.Config) {window.MathJax.Hub.Config({SVG: {font: \"STIX-Web\"}});}</script>                <script type=\"text/javascript\">window.PlotlyConfig = {MathJaxConfig: 'local'};</script>\n",
              "        <script charset=\"utf-8\" src=\"https://cdn.plot.ly/plotly-2.35.2.min.js\"></script>                <div id=\"2851df2d-bd06-44b8-9e5b-a36997cbaa9c\" class=\"plotly-graph-div\" style=\"height:525px; width:100%;\"></div>            <script type=\"text/javascript\">                                    window.PLOTLYENV=window.PLOTLYENV || {};                                    if (document.getElementById(\"2851df2d-bd06-44b8-9e5b-a36997cbaa9c\")) {                    Plotly.newPlot(                        \"2851df2d-bd06-44b8-9e5b-a36997cbaa9c\",                        [{\"marker\":{\"color\":\"rgba(55, 128, 191, 0.7)\"},\"name\":\"n=3 Candles\",\"text\":[\"60.00%\",\"60.00%\",\"100.00%\",\"51.02%\"],\"textposition\":\"auto\",\"x\":[\"Baseline\",\"Doji\",\"Hammer\",\"Engulfing\"],\"y\":[60.0,60.0,100.0,51.02040816326531],\"type\":\"bar\"},{\"marker\":{\"color\":\"rgba(50, 171, 96, 0.7)\"},\"name\":\"n=5 Candles\",\"text\":[\"40.00%\",\"80.00%\",\"80.00%\",\"55.10%\"],\"textposition\":\"auto\",\"x\":[\"Baseline\",\"Doji\",\"Hammer\",\"Engulfing\"],\"y\":[40.0,80.0,80.0,55.10204081632652],\"type\":\"bar\"}],                        {\"template\":{\"data\":{\"barpolar\":[{\"marker\":{\"line\":{\"color\":\"white\",\"width\":0.5},\"pattern\":{\"fillmode\":\"overlay\",\"size\":10,\"solidity\":0.2}},\"type\":\"barpolar\"}],\"bar\":[{\"error_x\":{\"color\":\"#2a3f5f\"},\"error_y\":{\"color\":\"#2a3f5f\"},\"marker\":{\"line\":{\"color\":\"white\",\"width\":0.5},\"pattern\":{\"fillmode\":\"overlay\",\"size\":10,\"solidity\":0.2}},\"type\":\"bar\"}],\"carpet\":[{\"aaxis\":{\"endlinecolor\":\"#2a3f5f\",\"gridcolor\":\"#C8D4E3\",\"linecolor\":\"#C8D4E3\",\"minorgridcolor\":\"#C8D4E3\",\"startlinecolor\":\"#2a3f5f\"},\"baxis\":{\"endlinecolor\":\"#2a3f5f\",\"gridcolor\":\"#C8D4E3\",\"linecolor\":\"#C8D4E3\",\"minorgridcolor\":\"#C8D4E3\",\"startlinecolor\":\"#2a3f5f\"},\"type\":\"carpet\"}],\"choropleth\":[{\"colorbar\":{\"outlinewidth\":0,\"ticks\":\"\"},\"type\":\"choropleth\"}],\"contourcarpet\":[{\"colorbar\":{\"outlinewidth\":0,\"ticks\":\"\"},\"type\":\"contourcarpet\"}],\"contour\":[{\"colorbar\":{\"outlinewidth\":0,\"ticks\":\"\"},\"colorscale\":[[0.0,\"#0d0887\"],[0.1111111111111111,\"#46039f\"],[0.2222222222222222,\"#7201a8\"],[0.3333333333333333,\"#9c179e\"],[0.4444444444444444,\"#bd3786\"],[0.5555555555555556,\"#d8576b\"],[0.6666666666666666,\"#ed7953\"],[0.7777777777777778,\"#fb9f3a\"],[0.8888888888888888,\"#fdca26\"],[1.0,\"#f0f921\"]],\"type\":\"contour\"}],\"heatmapgl\":[{\"colorbar\":{\"outlinewidth\":0,\"ticks\":\"\"},\"colorscale\":[[0.0,\"#0d0887\"],[0.1111111111111111,\"#46039f\"],[0.2222222222222222,\"#7201a8\"],[0.3333333333333333,\"#9c179e\"],[0.4444444444444444,\"#bd3786\"],[0.5555555555555556,\"#d8576b\"],[0.6666666666666666,\"#ed7953\"],[0.7777777777777778,\"#fb9f3a\"],[0.8888888888888888,\"#fdca26\"],[1.0,\"#f0f921\"]],\"type\":\"heatmapgl\"}],\"heatmap\":[{\"colorbar\":{\"outlinewidth\":0,\"ticks\":\"\"},\"colorscale\":[[0.0,\"#0d0887\"],[0.1111111111111111,\"#46039f\"],[0.2222222222222222,\"#7201a8\"],[0.3333333333333333,\"#9c179e\"],[0.4444444444444444,\"#bd3786\"],[0.5555555555555556,\"#d8576b\"],[0.6666666666666666,\"#ed7953\"],[0.7777777777777778,\"#fb9f3a\"],[0.8888888888888888,\"#fdca26\"],[1.0,\"#f0f921\"]],\"type\":\"heatmap\"}],\"histogram2dcontour\":[{\"colorbar\":{\"outlinewidth\":0,\"ticks\":\"\"},\"colorscale\":[[0.0,\"#0d0887\"],[0.1111111111111111,\"#46039f\"],[0.2222222222222222,\"#7201a8\"],[0.3333333333333333,\"#9c179e\"],[0.4444444444444444,\"#bd3786\"],[0.5555555555555556,\"#d8576b\"],[0.6666666666666666,\"#ed7953\"],[0.7777777777777778,\"#fb9f3a\"],[0.8888888888888888,\"#fdca26\"],[1.0,\"#f0f921\"]],\"type\":\"histogram2dcontour\"}],\"histogram2d\":[{\"colorbar\":{\"outlinewidth\":0,\"ticks\":\"\"},\"colorscale\":[[0.0,\"#0d0887\"],[0.1111111111111111,\"#46039f\"],[0.2222222222222222,\"#7201a8\"],[0.3333333333333333,\"#9c179e\"],[0.4444444444444444,\"#bd3786\"],[0.5555555555555556,\"#d8576b\"],[0.6666666666666666,\"#ed7953\"],[0.7777777777777778,\"#fb9f3a\"],[0.8888888888888888,\"#fdca26\"],[1.0,\"#f0f921\"]],\"type\":\"histogram2d\"}],\"histogram\":[{\"marker\":{\"pattern\":{\"fillmode\":\"overlay\",\"size\":10,\"solidity\":0.2}},\"type\":\"histogram\"}],\"mesh3d\":[{\"colorbar\":{\"outlinewidth\":0,\"ticks\":\"\"},\"type\":\"mesh3d\"}],\"parcoords\":[{\"line\":{\"colorbar\":{\"outlinewidth\":0,\"ticks\":\"\"}},\"type\":\"parcoords\"}],\"pie\":[{\"automargin\":true,\"type\":\"pie\"}],\"scatter3d\":[{\"line\":{\"colorbar\":{\"outlinewidth\":0,\"ticks\":\"\"}},\"marker\":{\"colorbar\":{\"outlinewidth\":0,\"ticks\":\"\"}},\"type\":\"scatter3d\"}],\"scattercarpet\":[{\"marker\":{\"colorbar\":{\"outlinewidth\":0,\"ticks\":\"\"}},\"type\":\"scattercarpet\"}],\"scattergeo\":[{\"marker\":{\"colorbar\":{\"outlinewidth\":0,\"ticks\":\"\"}},\"type\":\"scattergeo\"}],\"scattergl\":[{\"marker\":{\"colorbar\":{\"outlinewidth\":0,\"ticks\":\"\"}},\"type\":\"scattergl\"}],\"scattermapbox\":[{\"marker\":{\"colorbar\":{\"outlinewidth\":0,\"ticks\":\"\"}},\"type\":\"scattermapbox\"}],\"scatterpolargl\":[{\"marker\":{\"colorbar\":{\"outlinewidth\":0,\"ticks\":\"\"}},\"type\":\"scatterpolargl\"}],\"scatterpolar\":[{\"marker\":{\"colorbar\":{\"outlinewidth\":0,\"ticks\":\"\"}},\"type\":\"scatterpolar\"}],\"scatter\":[{\"fillpattern\":{\"fillmode\":\"overlay\",\"size\":10,\"solidity\":0.2},\"type\":\"scatter\"}],\"scatterternary\":[{\"marker\":{\"colorbar\":{\"outlinewidth\":0,\"ticks\":\"\"}},\"type\":\"scatterternary\"}],\"surface\":[{\"colorbar\":{\"outlinewidth\":0,\"ticks\":\"\"},\"colorscale\":[[0.0,\"#0d0887\"],[0.1111111111111111,\"#46039f\"],[0.2222222222222222,\"#7201a8\"],[0.3333333333333333,\"#9c179e\"],[0.4444444444444444,\"#bd3786\"],[0.5555555555555556,\"#d8576b\"],[0.6666666666666666,\"#ed7953\"],[0.7777777777777778,\"#fb9f3a\"],[0.8888888888888888,\"#fdca26\"],[1.0,\"#f0f921\"]],\"type\":\"surface\"}],\"table\":[{\"cells\":{\"fill\":{\"color\":\"#EBF0F8\"},\"line\":{\"color\":\"white\"}},\"header\":{\"fill\":{\"color\":\"#C8D4E3\"},\"line\":{\"color\":\"white\"}},\"type\":\"table\"}]},\"layout\":{\"annotationdefaults\":{\"arrowcolor\":\"#2a3f5f\",\"arrowhead\":0,\"arrowwidth\":1},\"autotypenumbers\":\"strict\",\"coloraxis\":{\"colorbar\":{\"outlinewidth\":0,\"ticks\":\"\"}},\"colorscale\":{\"diverging\":[[0,\"#8e0152\"],[0.1,\"#c51b7d\"],[0.2,\"#de77ae\"],[0.3,\"#f1b6da\"],[0.4,\"#fde0ef\"],[0.5,\"#f7f7f7\"],[0.6,\"#e6f5d0\"],[0.7,\"#b8e186\"],[0.8,\"#7fbc41\"],[0.9,\"#4d9221\"],[1,\"#276419\"]],\"sequential\":[[0.0,\"#0d0887\"],[0.1111111111111111,\"#46039f\"],[0.2222222222222222,\"#7201a8\"],[0.3333333333333333,\"#9c179e\"],[0.4444444444444444,\"#bd3786\"],[0.5555555555555556,\"#d8576b\"],[0.6666666666666666,\"#ed7953\"],[0.7777777777777778,\"#fb9f3a\"],[0.8888888888888888,\"#fdca26\"],[1.0,\"#f0f921\"]],\"sequentialminus\":[[0.0,\"#0d0887\"],[0.1111111111111111,\"#46039f\"],[0.2222222222222222,\"#7201a8\"],[0.3333333333333333,\"#9c179e\"],[0.4444444444444444,\"#bd3786\"],[0.5555555555555556,\"#d8576b\"],[0.6666666666666666,\"#ed7953\"],[0.7777777777777778,\"#fb9f3a\"],[0.8888888888888888,\"#fdca26\"],[1.0,\"#f0f921\"]]},\"colorway\":[\"#636efa\",\"#EF553B\",\"#00cc96\",\"#ab63fa\",\"#FFA15A\",\"#19d3f3\",\"#FF6692\",\"#B6E880\",\"#FF97FF\",\"#FECB52\"],\"font\":{\"color\":\"#2a3f5f\"},\"geo\":{\"bgcolor\":\"white\",\"lakecolor\":\"white\",\"landcolor\":\"white\",\"showlakes\":true,\"showland\":true,\"subunitcolor\":\"#C8D4E3\"},\"hoverlabel\":{\"align\":\"left\"},\"hovermode\":\"closest\",\"mapbox\":{\"style\":\"light\"},\"paper_bgcolor\":\"white\",\"plot_bgcolor\":\"white\",\"polar\":{\"angularaxis\":{\"gridcolor\":\"#EBF0F8\",\"linecolor\":\"#EBF0F8\",\"ticks\":\"\"},\"bgcolor\":\"white\",\"radialaxis\":{\"gridcolor\":\"#EBF0F8\",\"linecolor\":\"#EBF0F8\",\"ticks\":\"\"}},\"scene\":{\"xaxis\":{\"backgroundcolor\":\"white\",\"gridcolor\":\"#DFE8F3\",\"gridwidth\":2,\"linecolor\":\"#EBF0F8\",\"showbackground\":true,\"ticks\":\"\",\"zerolinecolor\":\"#EBF0F8\"},\"yaxis\":{\"backgroundcolor\":\"white\",\"gridcolor\":\"#DFE8F3\",\"gridwidth\":2,\"linecolor\":\"#EBF0F8\",\"showbackground\":true,\"ticks\":\"\",\"zerolinecolor\":\"#EBF0F8\"},\"zaxis\":{\"backgroundcolor\":\"white\",\"gridcolor\":\"#DFE8F3\",\"gridwidth\":2,\"linecolor\":\"#EBF0F8\",\"showbackground\":true,\"ticks\":\"\",\"zerolinecolor\":\"#EBF0F8\"}},\"shapedefaults\":{\"line\":{\"color\":\"#2a3f5f\"}},\"ternary\":{\"aaxis\":{\"gridcolor\":\"#DFE8F3\",\"linecolor\":\"#A2B1C6\",\"ticks\":\"\"},\"baxis\":{\"gridcolor\":\"#DFE8F3\",\"linecolor\":\"#A2B1C6\",\"ticks\":\"\"},\"bgcolor\":\"white\",\"caxis\":{\"gridcolor\":\"#DFE8F3\",\"linecolor\":\"#A2B1C6\",\"ticks\":\"\"}},\"title\":{\"x\":0.05},\"xaxis\":{\"automargin\":true,\"gridcolor\":\"#EBF0F8\",\"linecolor\":\"#EBF0F8\",\"ticks\":\"\",\"title\":{\"standoff\":15},\"zerolinecolor\":\"#EBF0F8\",\"zerolinewidth\":2},\"yaxis\":{\"automargin\":true,\"gridcolor\":\"#EBF0F8\",\"linecolor\":\"#EBF0F8\",\"ticks\":\"\",\"title\":{\"standoff\":15},\"zerolinecolor\":\"#EBF0F8\",\"zerolinewidth\":2}}},\"yaxis\":{\"title\":{\"text\":\"Win-Rate (%)\"},\"range\":[0,100],\"gridcolor\":\"lightgrey\"},\"font\":{\"family\":\"Arial\",\"size\":12},\"legend\":{\"x\":0.01,\"y\":0.99,\"bgcolor\":\"rgba(255, 255, 255, 0.5)\"},\"title\":{\"text\":\"Win-Rates: Baseline vs. Candlestick Patterns (TCS.NS)\"},\"xaxis\":{\"title\":{\"text\":\"Category\"}},\"barmode\":\"group\",\"bargap\":0.15,\"bargroupgap\":0.1,\"plot_bgcolor\":\"white\",\"paper_bgcolor\":\"white\"},                        {\"responsive\": true}                    ).then(function(){\n",
              "                            \n",
              "var gd = document.getElementById('2851df2d-bd06-44b8-9e5b-a36997cbaa9c');\n",
              "var x = new MutationObserver(function (mutations, observer) {{\n",
              "        var display = window.getComputedStyle(gd).display;\n",
              "        if (!display || display === 'none') {{\n",
              "            console.log([gd, 'removed!']);\n",
              "            Plotly.purge(gd);\n",
              "            observer.disconnect();\n",
              "        }}\n",
              "}});\n",
              "\n",
              "// Listen for the removal of the full notebook cells\n",
              "var notebookContainer = gd.closest('#notebook-container');\n",
              "if (notebookContainer) {{\n",
              "    x.observe(notebookContainer, {childList: true});\n",
              "}}\n",
              "\n",
              "// Listen for the clearing of the current output cell\n",
              "var outputEl = gd.closest('.output');\n",
              "if (outputEl) {{\n",
              "    x.observe(outputEl, {childList: true});\n",
              "}}\n",
              "\n",
              "                        })                };                            </script>        </div>\n",
              "</body>\n",
              "</html>"
            ]
          },
          "metadata": {}
        }
      ]
    },
    {
      "cell_type": "markdown",
      "source": [
        "# **# Questions**"
      ],
      "metadata": {
        "id": "MSomXSn4AkwI"
      }
    },
    {
      "cell_type": "markdown",
      "source": [
        "# 1) Interpret whether each pattern provides a statistically significant edge over the baseline"
      ],
      "metadata": {
        "id": "JXmRuxTGAt2u"
      }
    },
    {
      "cell_type": "markdown",
      "source": [
        "For randomly chosen candles, for 3 candles it is 60% and 5 candles 40% ,\n",
        "For 5 candles Doji pattern shows a lmost double the win rates of baseline win rates, but for 3 candles both are same.\n",
        "\n",
        "For both n=3 and n=5, Hammer pattern shows a clear edge over the baseline, especially with n=3 which shows 100% win rates.\n",
        "\n",
        "Coming to engulfing pattern, it is less than baseline for 3 candles and slightly better than for 5 candles.\n",
        "\n",
        "\n",
        "So, Hammer pattern is the most promising one which shows consistent strong performance, where as doji pattern can be effective with more no. of candles(like for n=5 candles).Engulfing pattern does not show a strong edge and is close to baseline"
      ],
      "metadata": {
        "id": "sx5P6yeDA0GA"
      }
    },
    {
      "cell_type": "markdown",
      "source": [
        "# 2) How does changing n affect the win-rates? No need to show your results. Answer qualitatively.\n"
      ],
      "metadata": {
        "id": "X4b9w8KEAvTs"
      }
    },
    {
      "cell_type": "markdown",
      "source": [
        "It affects different for different patterns,\n",
        "for baseline with increase in 'n', win rates decreasing,for doji increase in 'n', win rates increasing, for hammer pattern, with decrease in n, win rates decreases, but for n=3 it acheives 100% win rates. For engulfing pattern, with increase in 'n',justa slight increase will happen in win rates compared to other patterns."
      ],
      "metadata": {
        "id": "IeD7vXJuDNyJ"
      }
    },
    {
      "cell_type": "markdown",
      "source": [
        "# 3. Which pattern shows the most consistent performance on different n? Why would that\n"
      ],
      "metadata": {
        "id": "MWUMw-kkEHfv"
      }
    },
    {
      "cell_type": "markdown",
      "source": [
        "Engulfing pattern shows the most consistent performance across n=3 and n=5 candles because it relies on short-term price reversals that do not heavily depend on longer holding periods."
      ],
      "metadata": {
        "id": "nGUIJi1IEjce"
      }
    },
    {
      "cell_type": "markdown",
      "source": [
        "# **Problem Statement 3: Strategy X - Visual Interpretation and Implementation**"
      ],
      "metadata": {
        "id": "7N2lubHLE0MF"
      }
    },
    {
      "cell_type": "markdown",
      "source": [
        "# 1) Chart Interpretation:"
      ],
      "metadata": {
        "id": "DtmF6iWRE3YK"
      }
    },
    {
      "cell_type": "markdown",
      "source": [
        "# Analyze the image to understand the underlying trading logic or intuition."
      ],
      "metadata": {
        "id": "ZHK6ivHZJKpt"
      }
    },
    {
      "cell_type": "markdown",
      "source": [
        "The image shows a trading chart for the NIFTY index, combining with candle stick patterns and money flow index(MFI).\n",
        "\n",
        "# Two main technical indicators are:\n",
        "\n",
        "i)Candlestick Chart\n",
        "ii)Money Flow Index (MFI): It measures the strength of money flowing in and out of a security, ranging from 0 to 100.  Overbought(>80) and Oversold(<20)\n",
        "\n",
        "# Marked Zones:\n",
        "\n",
        "Uptrend Zone: A period where the price is rising, a bullish market sentiment where buying pressure is increasing.\n",
        "\n",
        "Downtrend Zone: A period where the price is falling, a bearish sentiment with increasing selling pressure.\n",
        "\n",
        "# Arrows:\n",
        "\n",
        "Green Arrows : uptrend, MFI value rises,  Indicating potential buy signals as buying pressure increases.\n",
        "\n",
        "Red Arrows : downtrend, MFI values fall,  indicating potential sell signals as selling pressure increases.\n",
        "\n",
        "Annotations:\n",
        "\n",
        "Selling Pressure is increasing: a strengthening bearish momentum and a possible sell signal.\n",
        "\n",
        "Buying Pressure is increasing: a strengthening bullish momentum and a possible buy signal.\n",
        "\n",
        "\n",
        "Buy Signal: Occurs when the MFI rises with an uptrend and \"Buying Pressure is increasing\" is occured, indicating a potential entry point for a long position.\n",
        "\n",
        "Sell Signal: Occurs when the MFI falls with a downtrend and \"Selling Pressure is increasing\" is occured, indicating a potential exit or short-selling opportunity.\n",
        "\n",
        "\n",
        "\n",
        "\n",
        "\n",
        "\n",
        "\n",
        "\n",
        "\n",
        "\n",
        "\n",
        "\n",
        "\n",
        "\n",
        "\n"
      ],
      "metadata": {
        "id": "DoiGpD0fJy96"
      }
    },
    {
      "cell_type": "markdown",
      "source": [
        "# 2) Entry and Exit Rules:"
      ],
      "metadata": {
        "id": "Ij3OXzulLMxu"
      }
    },
    {
      "cell_type": "markdown",
      "source": [
        "Long positions:\n",
        "Enter when the chart shows an \"UPTREND\" zone with a rising MFI and \"Buying Pressure is increasing,\" MFI > 40.\n",
        "Exit when MFI > 80 or \"DOWNTREND\" with \"Selling Pressure is increasing\".\n",
        "\n",
        "Short positions:\n",
        "Enter when the chart shows an \"DOWNTREND\" zone with a falling MFI and \"selling Pressure is increasing\" MFI < 40.\n",
        "Exit when MFI < 20 or \"UPTREND\" with \"Buying Pressure is increasing\"."
      ],
      "metadata": {
        "id": "WA7qjDZ1N5ic"
      }
    },
    {
      "cell_type": "markdown",
      "source": [
        "Alternative rule variants:\n",
        "Setting time-based or percentage -based exits could be benificial.\n"
      ],
      "metadata": {
        "id": "xmmrgMmQQP3J"
      }
    },
    {
      "cell_type": "markdown",
      "source": [
        "# 3. Strategy Implementation and Backtest:"
      ],
      "metadata": {
        "id": "NLabbUAVQiwx"
      }
    },
    {
      "cell_type": "code",
      "source": [
        "def download_flat_yf(ticker, start, end, interval):\n",
        "  data = yf.download(ticker, start=start, end=end, interval=interval,\n",
        "  progress=False)\n",
        "  if isinstance(data.columns, pd.MultiIndex):\n",
        "    data = data.xs(ticker, axis=1, level=1)\n",
        "  data.columns.name = None\n",
        "  data.reset_index(inplace=True)\n",
        "  data.columns = [col.lower() for col in data.columns]\n",
        "  if data.columns[0] in ['date', 'datetime']:\n",
        "    data.rename(columns={data.columns[0]: 'datetime'}, inplace=True)\n",
        "  data['datetime'] = pd.to_datetime(data['datetime'])\n",
        "  return data"
      ],
      "metadata": {
        "id": "xw4gzTtrAnmP"
      },
      "execution_count": null,
      "outputs": []
    },
    {
      "cell_type": "code",
      "source": [
        "stock_symbol = 'CAMS.NS'\n",
        "data = download_flat_yf(stock_symbol, start='2024-01-01', end='2025-05-04', interval='1d')\n",
        "data.rename(columns={'datetime': 'timestamp'}, inplace=True)"
      ],
      "metadata": {
        "id": "v6Xd-9SPAdch"
      },
      "execution_count": null,
      "outputs": []
    },
    {
      "cell_type": "code",
      "source": [
        "!pip install yfinance plotly mplfinance --quiet"
      ],
      "metadata": {
        "colab": {
          "base_uri": "https://localhost:8080/"
        },
        "id": "QWqjj2ySS3KC",
        "outputId": "58a3c0f0-9f89-4c35-e9cd-a753be97a409"
      },
      "execution_count": null,
      "outputs": [
        {
          "output_type": "stream",
          "name": "stdout",
          "text": [
            "\u001b[?25l   \u001b[90m━━━━━━━━━━━━━━━━━━━━━━━━━━━━━━━━━━━━━━━━\u001b[0m \u001b[32m0.0/75.0 kB\u001b[0m \u001b[31m?\u001b[0m eta \u001b[36m-:--:--\u001b[0m\r\u001b[2K   \u001b[90m━━━━━━━━━━━━━━━━━━━━━━━━━━━━━━━━━━━━━━━━\u001b[0m \u001b[32m75.0/75.0 kB\u001b[0m \u001b[31m5.0 MB/s\u001b[0m eta \u001b[36m0:00:00\u001b[0m\n",
            "\u001b[?25h"
          ]
        }
      ]
    },
    {
      "cell_type": "code",
      "source": [
        "import yfinance as yf\n",
        "import mplfinance as mpf\n",
        "import pandas as pd\n",
        "import numpy as np\n",
        "import plotly.graph_objects as go\n",
        "import plotly.express as px\n",
        "import plotly.subplots as sp\n",
        "import matplotlib.pyplot as plt\n",
        "import statistics"
      ],
      "metadata": {
        "id": "Bm4MQMmRSy1K"
      },
      "execution_count": null,
      "outputs": []
    },
    {
      "cell_type": "code",
      "source": [
        "#@title Backtest Engine\n",
        "def perform_backtest(dataframe, lev=1, initial_capital=100000 , lot_size=1, tsl=100):\n",
        "    \"\"\"\n",
        "    Backtesting engine for trading strategies.\n",
        "\n",
        "    Parameters:\n",
        "    - dataframe: Pandas DataFrame with columns ['timestamp', 'close', 'high', 'signals']\n",
        "                 signals: 1 for long entry/close short, -1 for short entry/close long, 0 no action\n",
        "    - lev: Leverage multiplier for position sizing (default 1)\n",
        "    - initial_capital: Starting capital for backtest (default 100000)\n",
        "    - lot_size: Number of units per lot (default 1)\n",
        "    - tsl: Trailing stop loss percentage (default 100%)\n",
        "\n",
        "    Returns:\n",
        "    - trade_log: DataFrame summarizing all trades with entry/exit dates, profit/loss, size and type\n",
        "    \"\"\"\n",
        "    capital_list = [initial_capital]\n",
        "    trade = 0  # 0 = no open trade, 1 = long trade open, -1 = short trade open\n",
        "    position_size = 0\n",
        "    trade_profit = []\n",
        "    entry, exit = [], []\n",
        "    entry_index, exit_index = [], []\n",
        "    nol, nos = 0, 0  # Number of long and short trades\n",
        "    long_profit, short_profit = [], []\n",
        "    trade_type = []\n",
        "    position_size_list = []\n",
        "\n",
        "    # Calculate benchmark returns over entire backtest period\n",
        "    benchmark_returns = (dataframe.loc[dataframe.index[-1], 'close'] / dataframe.loc[dataframe.index[0], 'close'] - 1) * 100\n",
        "\n",
        "    # Calculate backtest period in years and months\n",
        "    backtest_period = dataframe.loc[dataframe.index[-1], 'timestamp'] - dataframe.loc[dataframe.index[0], 'timestamp']\n",
        "    total_days = backtest_period.days\n",
        "    years = total_days // 365\n",
        "    remaining_days = total_days % 365\n",
        "    months = remaining_days // 30\n",
        "\n",
        "    max_price = 0  # For tracking trailing stop price\n",
        "\n",
        "    for i in range(len(dataframe)):\n",
        "        date = dataframe.loc[i, 'timestamp']\n",
        "        current_price = dataframe.loc[i, 'close']\n",
        "        high_price = dataframe.loc[i, 'high']\n",
        "\n",
        "        # Stop if capital is exhausted\n",
        "        if capital_list[-1] <= 0:\n",
        "            print(f'Complete capital lost on {date}')\n",
        "            break\n",
        "\n",
        "        # Open Long trade if no trade is open and signal is long (1)\n",
        "        if trade == 0 and dataframe.loc[i, 'signals'] == 1:\n",
        "            position_size = (capital_list[-1] * lev) // (current_price * lot_size)\n",
        "            cost = position_size * current_price * lot_size\n",
        "            if cost > 0:\n",
        "                position_size_list.append(position_size * lot_size)\n",
        "                trade = 1\n",
        "                entry.append(date)\n",
        "                entry_index.append(i)\n",
        "                max_price = current_price  # Initialize max price for trailing stop\n",
        "            else:\n",
        "                position_size = 0\n",
        "\n",
        "        # Open Short trade if no trade is open and signal is short (-1)\n",
        "        elif trade == 0 and dataframe.loc[i, 'signals'] == -1:\n",
        "            position_size = (capital_list[-1] * lev) // (current_price * lot_size)\n",
        "            cost = position_size * current_price * lot_size\n",
        "            if cost > 0:\n",
        "                position_size_list.append(position_size * lot_size)\n",
        "                trade = -1\n",
        "                entry.append(date)\n",
        "                entry_index.append(i)\n",
        "                max_price = current_price  # Initialize min price for trailing stop (will update below)\n",
        "            else:\n",
        "                position_size = 0\n",
        "\n",
        "        # Manage open trade and trailing stop\n",
        "        elif trade != 0:\n",
        "            if trade == 1:\n",
        "                # Update max price seen during long trade for trailing stop loss\n",
        "                max_price = max(max_price, high_price)\n",
        "                # Check if current close triggers trailing stop loss exit\n",
        "                if dataframe.loc[i, 'close'] <= (1 - tsl / 100) * max_price:\n",
        "                    # Set signal to close long and open short (or just close)\n",
        "                    dataframe.loc[i, 'signals'] = -1  # force exit long\n",
        "                    max_price = 0\n",
        "\n",
        "            elif trade == -1:\n",
        "                # For short, track minimum price for trailing stop loss\n",
        "                max_price = min(max_price, high_price)\n",
        "                # Check if current close triggers trailing stop loss exit\n",
        "                if dataframe.loc[i, 'close'] >= (1 + tsl / 100) * max_price:\n",
        "                    dataframe.loc[i, 'signals'] = 1  # force exit short\n",
        "                    max_price = 0\n",
        "\n",
        "            # If signal indicates closing current trade (opposite signal)\n",
        "            if dataframe.loc[i, 'signals'] * trade == -1:\n",
        "                exit.append(date)\n",
        "                exit_index.append(i)\n",
        "                if trade == 1:\n",
        "                    nol += 1\n",
        "                    profit = lot_size * current_price * position_size - cost\n",
        "                else:\n",
        "                    nos += 1\n",
        "                    profit = cost - lot_size * current_price * position_size\n",
        "\n",
        "                capital_list.append(capital_list[-1] + profit)\n",
        "                trade_profit.append(profit)\n",
        "\n",
        "                if trade == 1:\n",
        "                    long_profit.append(profit)\n",
        "                else:\n",
        "                    short_profit.append(profit)\n",
        "\n",
        "                trade_type.append('Long' if trade == 1 else 'Short')\n",
        "                trade = 0\n",
        "                position_size = 0\n",
        "                cost = 0\n",
        "\n",
        "    # Close any open trade at last price in dataframe\n",
        "    if trade != 0:\n",
        "        exit.append(dataframe.iloc[-1]['timestamp'])\n",
        "        exit_index.append(len(dataframe) - 1)\n",
        "        if trade == 1:\n",
        "            nol += 1\n",
        "            profit = dataframe.iloc[-1]['close'] * position_size * lot_size - cost\n",
        "            trade_type.append('Long')\n",
        "        else:\n",
        "            nos += 1\n",
        "            profit = cost - dataframe.iloc[-1]['close'] * position_size * lot_size\n",
        "            trade_type.append('Short')\n",
        "        capital_list.append(capital_list[-1] + profit)\n",
        "        trade_profit.append(profit)\n",
        "\n",
        "    # Calculate returns for performance metrics\n",
        "    returns = np.diff(capital_list) / capital_list[:-1]\n",
        "    downside_returns = returns[returns < 0]\n",
        "\n",
        "    sharpe_ratio = np.mean(returns) / np.std(returns) * np.sqrt(252) if len(returns) > 0 and np.std(returns) > 0 else float('nan')\n",
        "    sortino_ratio = np.mean(returns) / np.std(downside_returns) * np.sqrt(252) if len(downside_returns) > 0 and np.std(downside_returns) > 0 else float('nan')\n",
        "\n",
        "    number_of_trades = len(trade_profit)\n",
        "\n",
        "    capital_series = pd.Series(capital_list)\n",
        "    running_max = capital_series.cummax()\n",
        "    drawdowns = (capital_series - running_max) / running_max\n",
        "    drawdowns = drawdowns[drawdowns <= 0]\n",
        "\n",
        "    print(f'BACKTEST RESULTS:')\n",
        "    if number_of_trades == 0:\n",
        "        print('No trades taken')\n",
        "        return\n",
        "\n",
        "    print(f\"Backtest Period: {years} years and {months} months\")\n",
        "    print(f'Benchmark Returns: {benchmark_returns * lev:.2f} %')\n",
        "    print(f'Initial Capital: {capital_list[0]}')\n",
        "    print(f'Final Capital: {capital_list[-1]:.2f}')\n",
        "    print(f'Profit percentage: {(capital_list[-1] - capital_list[0]) / capital_list[0] * 100:.2f} %')\n",
        "    print(f'Leverage applied: {lev}')\n",
        "    print(f'Maximum Portfolio balance: {max(capital_list):.2f}')\n",
        "    print(f'Minimum Portfolio balance: {min(capital_list):.2f}')\n",
        "    print(f'Number of trades: {number_of_trades}')\n",
        "\n",
        "    win = sum(1 for profit in trade_profit if profit > 0)\n",
        "    print(f'Winning Trades: {win}')\n",
        "    print(f'Losing Trades: {number_of_trades - win}')\n",
        "    print(f'Win Rate: {win / number_of_trades * 100:.2f} %')\n",
        "\n",
        "    try:\n",
        "        avg_profit = statistics.mean([x for x in trade_profit if x > 0])\n",
        "    except:\n",
        "        avg_profit = 0\n",
        "    try:\n",
        "        avg_loss = statistics.mean([x for x in trade_profit if x <= 0])\n",
        "    except:\n",
        "        avg_loss = 0\n",
        "\n",
        "    print(f'Average Profit: {avg_profit:.2f}')\n",
        "    print(f'Average Loss: {avg_loss:.2f}')\n",
        "    print(f'No of Long Trades: {nol}')\n",
        "    print(f'No of Short Trades: {nos}')\n",
        "    print(f'Average drawdown: {np.mean(drawdowns) * 100:.2f} %')\n",
        "    print(f'Maximum drawdown: {np.min(drawdowns) * 100:.2f} %')\n",
        "    print(f'Sharpe Ratio: {sharpe_ratio:.2f}')\n",
        "    print(f'Sortino Ratio: {sortino_ratio:.2f}')\n",
        "\n",
        "    # Calculate and print holding times if any trades happened\n",
        "    if entry and exit:\n",
        "        holding_times = [(exit[i] - entry[i]) for i in range(len(entry))]\n",
        "        max_holding_time = max(holding_times)\n",
        "        days = max_holding_time.days\n",
        "        hours, remainder = divmod(max_holding_time.seconds, 3600)\n",
        "        minutes, seconds = divmod(remainder, 60)\n",
        "        print(f'Maximum Holding Time: {days} days, {hours:02}:{minutes:02}:{seconds:02}')\n",
        "\n",
        "        avg_holding_time = sum(holding_times, pd.Timedelta(0)) / len(holding_times)\n",
        "        days_avg = avg_holding_time.days\n",
        "        hours_avg, remainder_avg = divmod(avg_holding_time.seconds, 3600)\n",
        "        minutes_avg, seconds_avg = divmod(remainder_avg, 60)\n",
        "        print(f'Average Holding Time: {days_avg} days, {hours_avg:02}:{minutes_avg:02}:{seconds_avg:02}')\n",
        "\n",
        "    # Plotting equity curve and price chart with entry/exit points\n",
        "    fig = sp.make_subplots(\n",
        "        rows=2, cols=1, shared_xaxes=True,\n",
        "        subplot_titles=('Equity Curve', 'Price Action with Entry and Exit Points'),\n",
        "        vertical_spacing=0.1\n",
        "    )\n",
        "\n",
        "    # Equity Curve\n",
        "    fig.add_trace(go.Scatter(\n",
        "        y=capital_list,\n",
        "        mode='lines',\n",
        "        name='Capital',\n",
        "        line=dict(color='green')\n",
        "    ), row=1, col=1)\n",
        "\n",
        "    # Price chart\n",
        "    fig.add_trace(go.Scatter(\n",
        "        x=dataframe['timestamp'],\n",
        "        y=dataframe['close'],\n",
        "        mode='lines',\n",
        "        name='Close Price',\n",
        "        line=dict(color='blue')\n",
        "    ), row=2, col=1)\n",
        "\n",
        "    # Entry markers\n",
        "    fig.add_trace(go.Scatter(\n",
        "        x=[dataframe['timestamp'].iloc[i] for i in entry_index],\n",
        "        y=[dataframe['close'].iloc[i] for i in entry_index],\n",
        "        mode='markers',\n",
        "        marker=dict(symbol='triangle-up', color='green', size=10),\n",
        "        name='Entry'\n",
        "    ), row=2, col=1)\n",
        "\n",
        "    # Exit markers\n",
        "    fig.add_trace(go.Scatter(\n",
        "        x=[dataframe['timestamp'].iloc[i] for i in exit_index],\n",
        "        y=[dataframe['close'].iloc[i] for i in exit_index],\n",
        "        mode='markers',\n",
        "        marker=dict(symbol='triangle-down', color='red', size=10),\n",
        "        name='Exit'\n",
        "    ), row=2, col=1)\n",
        "\n",
        "    fig.update_layout(\n",
        "        height=800,\n",
        "        title_text='Backtest Visualizations',\n",
        "        showlegend=True,\n",
        "        template='plotly_white'\n",
        "    )\n",
        "\n",
        "    fig.update_xaxes(title_text='Time', row=2, col=1)\n",
        "    fig.update_yaxes(title_text='Capital', row=1, col=1)\n",
        "    fig.update_yaxes(title_text='Price', row=2, col=1)\n",
        "\n",
        "    fig.show()\n",
        "\n",
        "    # Prepare trade log DataFrame\n",
        "    trade_log = pd.DataFrame({\n",
        "        'Entry Candle': entry,\n",
        "        'Exit Candle': exit,\n",
        "        'PnL': trade_profit,\n",
        "        'Number of units': position_size_list,\n",
        "        'Trade type': trade_type\n",
        "    })\n",
        "\n",
        "    return trade_log"
      ],
      "metadata": {
        "id": "1dBkhYUUQ3uP"
      },
      "execution_count": null,
      "outputs": []
    },
    {
      "cell_type": "code",
      "source": [
        "data['signals'] = 0\n",
        "data.loc[data['close'] > data['close'].rolling(5).mean(), 'signals'] = 1\n",
        "data.loc[data['close'] < data['close'].rolling(5).mean(), 'signals'] = -1"
      ],
      "metadata": {
        "id": "qGI_ll2NprDo"
      },
      "execution_count": null,
      "outputs": []
    },
    {
      "cell_type": "code",
      "source": [
        "perform_backtest(data, lev=1, initial_capital=100000 , lot_size=1, tsl=100)"
      ],
      "metadata": {
        "colab": {
          "base_uri": "https://localhost:8080/",
          "height": 1000
        },
        "id": "8sFheX50S3ub",
        "outputId": "edfb1fa2-8395-445d-e83f-6f3e247657e9",
        "collapsed": true
      },
      "execution_count": null,
      "outputs": [
        {
          "output_type": "stream",
          "name": "stdout",
          "text": [
            "BACKTEST RESULTS:\n",
            "Backtest Period: 1 years and 4 months\n",
            "Benchmark Returns: 47.80 %\n",
            "Initial Capital: 100000\n",
            "Final Capital: 51590.81\n",
            "Profit percentage: -48.41 %\n",
            "Leverage applied: 1\n",
            "Maximum Portfolio balance: 103902.83\n",
            "Minimum Portfolio balance: 41535.70\n",
            "Number of trades: 72\n",
            "Winning Trades: 26\n",
            "Losing Trades: 46\n",
            "Win Rate: 36.11 %\n",
            "Average Profit: 1573.93\n",
            "Average Loss: -1941.99\n",
            "No of Long Trades: 36\n",
            "No of Short Trades: 36\n",
            "Average drawdown: -38.34 %\n",
            "Maximum drawdown: -60.02 %\n",
            "Sharpe Ratio: -4.02\n",
            "Sortino Ratio: -8.62\n",
            "Maximum Holding Time: 14 days, 00:00:00\n",
            "Average Holding Time: 5 days, 02:40:00\n"
          ]
        },
        {
          "output_type": "display_data",
          "data": {
            "text/html": [
              "<html>\n",
              "<head><meta charset=\"utf-8\" /></head>\n",
              "<body>\n",
              "    <div>            <script src=\"https://cdnjs.cloudflare.com/ajax/libs/mathjax/2.7.5/MathJax.js?config=TeX-AMS-MML_SVG\"></script><script type=\"text/javascript\">if (window.MathJax && window.MathJax.Hub && window.MathJax.Hub.Config) {window.MathJax.Hub.Config({SVG: {font: \"STIX-Web\"}});}</script>                <script type=\"text/javascript\">window.PlotlyConfig = {MathJaxConfig: 'local'};</script>\n",
              "        <script charset=\"utf-8\" src=\"https://cdn.plot.ly/plotly-2.35.2.min.js\"></script>                <div id=\"185bf8cd-8951-4a02-b7e6-78c2982762ae\" class=\"plotly-graph-div\" style=\"height:800px; width:100%;\"></div>            <script type=\"text/javascript\">                                    window.PLOTLYENV=window.PLOTLYENV || {};                                    if (document.getElementById(\"185bf8cd-8951-4a02-b7e6-78c2982762ae\")) {                    Plotly.newPlot(                        \"185bf8cd-8951-4a02-b7e6-78c2982762ae\",                        [{\"line\":{\"color\":\"green\"},\"mode\":\"lines\",\"name\":\"Capital\",\"y\":[100000,102753.77197265625,103902.83154296875,102313.25048828125,101191.96875,99333.9169921875,98372.46240234375,101399.57592773438,100193.28735351562,101409.33251953125,98629.80615234375,95237.9326171875,91506.04248046875,86525.390625,84262.6611328125,81270.5283203125,78130.04467773438,75949.98022460938,76063.49389648438,74047.73706054688,71240.64233398438,69657.71899414062,68055.83325195312,70450.09594726562,69069.69555664062,68435.16918945312,63810.2509765625,63710.05126953125,66064.408203125,63440.7197265625,61201.247802734375,60511.98828125,65181.296875,62628.7919921875,59166.329833984375,55288.366943359375,51899.673828125,49325.201171875,48190.7509765625,46613.265625,46763.0751953125,46365.7265625,45987.23046875,44770.384765625,44904.8134765625,43398.7685546875,42466.56103515625,41535.6982421875,41643.2939453125,43735.84228515625,43920.88134765625,44479.966796875,44919.75830078125,43968.32275390625,46816.64697265625,46158.60400390625,47537.58447265625,47751.20703125,51409.69384765625,49548.078125,53447.357421875,51791.857421875,51901.358154296875,50491.358154296875,51428.107421875,51745.359619140625,55460.108154296875,54878.107421875,53681.107421875,51721.107421875,49091.20947265625,50353.61181640625,51590.81298828125],\"type\":\"scatter\",\"xaxis\":\"x\",\"yaxis\":\"y\"},{\"line\":{\"color\":\"blue\"},\"mode\":\"lines\",\"name\":\"Close Price\",\"x\":[\"2024-01-01T00:00:00\",\"2024-01-02T00:00:00\",\"2024-01-03T00:00:00\",\"2024-01-04T00:00:00\",\"2024-01-05T00:00:00\",\"2024-01-08T00:00:00\",\"2024-01-09T00:00:00\",\"2024-01-10T00:00:00\",\"2024-01-11T00:00:00\",\"2024-01-12T00:00:00\",\"2024-01-15T00:00:00\",\"2024-01-16T00:00:00\",\"2024-01-17T00:00:00\",\"2024-01-18T00:00:00\",\"2024-01-19T00:00:00\",\"2024-01-23T00:00:00\",\"2024-01-24T00:00:00\",\"2024-01-25T00:00:00\",\"2024-01-29T00:00:00\",\"2024-01-30T00:00:00\",\"2024-01-31T00:00:00\",\"2024-02-01T00:00:00\",\"2024-02-02T00:00:00\",\"2024-02-05T00:00:00\",\"2024-02-06T00:00:00\",\"2024-02-07T00:00:00\",\"2024-02-08T00:00:00\",\"2024-02-09T00:00:00\",\"2024-02-12T00:00:00\",\"2024-02-13T00:00:00\",\"2024-02-14T00:00:00\",\"2024-02-15T00:00:00\",\"2024-02-16T00:00:00\",\"2024-02-19T00:00:00\",\"2024-02-20T00:00:00\",\"2024-02-21T00:00:00\",\"2024-02-22T00:00:00\",\"2024-02-23T00:00:00\",\"2024-02-26T00:00:00\",\"2024-02-27T00:00:00\",\"2024-02-28T00:00:00\",\"2024-02-29T00:00:00\",\"2024-03-01T00:00:00\",\"2024-03-04T00:00:00\",\"2024-03-05T00:00:00\",\"2024-03-06T00:00:00\",\"2024-03-07T00:00:00\",\"2024-03-11T00:00:00\",\"2024-03-12T00:00:00\",\"2024-03-13T00:00:00\",\"2024-03-14T00:00:00\",\"2024-03-15T00:00:00\",\"2024-03-18T00:00:00\",\"2024-03-19T00:00:00\",\"2024-03-20T00:00:00\",\"2024-03-21T00:00:00\",\"2024-03-22T00:00:00\",\"2024-03-26T00:00:00\",\"2024-03-27T00:00:00\",\"2024-03-28T00:00:00\",\"2024-04-01T00:00:00\",\"2024-04-02T00:00:00\",\"2024-04-03T00:00:00\",\"2024-04-04T00:00:00\",\"2024-04-05T00:00:00\",\"2024-04-08T00:00:00\",\"2024-04-09T00:00:00\",\"2024-04-10T00:00:00\",\"2024-04-12T00:00:00\",\"2024-04-15T00:00:00\",\"2024-04-16T00:00:00\",\"2024-04-18T00:00:00\",\"2024-04-19T00:00:00\",\"2024-04-22T00:00:00\",\"2024-04-23T00:00:00\",\"2024-04-24T00:00:00\",\"2024-04-25T00:00:00\",\"2024-04-26T00:00:00\",\"2024-04-29T00:00:00\",\"2024-04-30T00:00:00\",\"2024-05-02T00:00:00\",\"2024-05-03T00:00:00\",\"2024-05-06T00:00:00\",\"2024-05-07T00:00:00\",\"2024-05-08T00:00:00\",\"2024-05-09T00:00:00\",\"2024-05-10T00:00:00\",\"2024-05-13T00:00:00\",\"2024-05-14T00:00:00\",\"2024-05-15T00:00:00\",\"2024-05-16T00:00:00\",\"2024-05-17T00:00:00\",\"2024-05-21T00:00:00\",\"2024-05-22T00:00:00\",\"2024-05-23T00:00:00\",\"2024-05-24T00:00:00\",\"2024-05-27T00:00:00\",\"2024-05-28T00:00:00\",\"2024-05-29T00:00:00\",\"2024-05-30T00:00:00\",\"2024-05-31T00:00:00\",\"2024-06-03T00:00:00\",\"2024-06-04T00:00:00\",\"2024-06-05T00:00:00\",\"2024-06-06T00:00:00\",\"2024-06-07T00:00:00\",\"2024-06-10T00:00:00\",\"2024-06-11T00:00:00\",\"2024-06-12T00:00:00\",\"2024-06-13T00:00:00\",\"2024-06-14T00:00:00\",\"2024-06-18T00:00:00\",\"2024-06-19T00:00:00\",\"2024-06-20T00:00:00\",\"2024-06-21T00:00:00\",\"2024-06-24T00:00:00\",\"2024-06-25T00:00:00\",\"2024-06-26T00:00:00\",\"2024-06-27T00:00:00\",\"2024-06-28T00:00:00\",\"2024-07-01T00:00:00\",\"2024-07-02T00:00:00\",\"2024-07-03T00:00:00\",\"2024-07-04T00:00:00\",\"2024-07-05T00:00:00\",\"2024-07-08T00:00:00\",\"2024-07-09T00:00:00\",\"2024-07-10T00:00:00\",\"2024-07-11T00:00:00\",\"2024-07-12T00:00:00\",\"2024-07-15T00:00:00\",\"2024-07-16T00:00:00\",\"2024-07-18T00:00:00\",\"2024-07-19T00:00:00\",\"2024-07-22T00:00:00\",\"2024-07-23T00:00:00\",\"2024-07-24T00:00:00\",\"2024-07-25T00:00:00\",\"2024-07-26T00:00:00\",\"2024-07-29T00:00:00\",\"2024-07-30T00:00:00\",\"2024-07-31T00:00:00\",\"2024-08-01T00:00:00\",\"2024-08-02T00:00:00\",\"2024-08-05T00:00:00\",\"2024-08-06T00:00:00\",\"2024-08-07T00:00:00\",\"2024-08-08T00:00:00\",\"2024-08-09T00:00:00\",\"2024-08-12T00:00:00\",\"2024-08-13T00:00:00\",\"2024-08-14T00:00:00\",\"2024-08-16T00:00:00\",\"2024-08-19T00:00:00\",\"2024-08-20T00:00:00\",\"2024-08-21T00:00:00\",\"2024-08-22T00:00:00\",\"2024-08-23T00:00:00\",\"2024-08-26T00:00:00\",\"2024-08-27T00:00:00\",\"2024-08-28T00:00:00\",\"2024-08-29T00:00:00\",\"2024-08-30T00:00:00\",\"2024-09-02T00:00:00\",\"2024-09-03T00:00:00\",\"2024-09-04T00:00:00\",\"2024-09-05T00:00:00\",\"2024-09-06T00:00:00\",\"2024-09-09T00:00:00\",\"2024-09-10T00:00:00\",\"2024-09-11T00:00:00\",\"2024-09-12T00:00:00\",\"2024-09-13T00:00:00\",\"2024-09-16T00:00:00\",\"2024-09-17T00:00:00\",\"2024-09-18T00:00:00\",\"2024-09-19T00:00:00\",\"2024-09-20T00:00:00\",\"2024-09-23T00:00:00\",\"2024-09-24T00:00:00\",\"2024-09-25T00:00:00\",\"2024-09-26T00:00:00\",\"2024-09-27T00:00:00\",\"2024-09-30T00:00:00\",\"2024-10-01T00:00:00\",\"2024-10-03T00:00:00\",\"2024-10-04T00:00:00\",\"2024-10-07T00:00:00\",\"2024-10-08T00:00:00\",\"2024-10-09T00:00:00\",\"2024-10-10T00:00:00\",\"2024-10-11T00:00:00\",\"2024-10-14T00:00:00\",\"2024-10-15T00:00:00\",\"2024-10-16T00:00:00\",\"2024-10-17T00:00:00\",\"2024-10-18T00:00:00\",\"2024-10-21T00:00:00\",\"2024-10-22T00:00:00\",\"2024-10-23T00:00:00\",\"2024-10-24T00:00:00\",\"2024-10-25T00:00:00\",\"2024-10-28T00:00:00\",\"2024-10-29T00:00:00\",\"2024-10-30T00:00:00\",\"2024-10-31T00:00:00\",\"2024-11-01T00:00:00\",\"2024-11-04T00:00:00\",\"2024-11-05T00:00:00\",\"2024-11-06T00:00:00\",\"2024-11-07T00:00:00\",\"2024-11-08T00:00:00\",\"2024-11-11T00:00:00\",\"2024-11-12T00:00:00\",\"2024-11-13T00:00:00\",\"2024-11-14T00:00:00\",\"2024-11-18T00:00:00\",\"2024-11-19T00:00:00\",\"2024-11-21T00:00:00\",\"2024-11-22T00:00:00\",\"2024-11-25T00:00:00\",\"2024-11-26T00:00:00\",\"2024-11-27T00:00:00\",\"2024-11-28T00:00:00\",\"2024-11-29T00:00:00\",\"2024-12-02T00:00:00\",\"2024-12-03T00:00:00\",\"2024-12-04T00:00:00\",\"2024-12-05T00:00:00\",\"2024-12-06T00:00:00\",\"2024-12-09T00:00:00\",\"2024-12-10T00:00:00\",\"2024-12-11T00:00:00\",\"2024-12-12T00:00:00\",\"2024-12-13T00:00:00\",\"2024-12-16T00:00:00\",\"2024-12-17T00:00:00\",\"2024-12-18T00:00:00\",\"2024-12-19T00:00:00\",\"2024-12-20T00:00:00\",\"2024-12-23T00:00:00\",\"2024-12-24T00:00:00\",\"2024-12-26T00:00:00\",\"2024-12-27T00:00:00\",\"2024-12-30T00:00:00\",\"2024-12-31T00:00:00\",\"2025-01-01T00:00:00\",\"2025-01-02T00:00:00\",\"2025-01-03T00:00:00\",\"2025-01-06T00:00:00\",\"2025-01-07T00:00:00\",\"2025-01-08T00:00:00\",\"2025-01-09T00:00:00\",\"2025-01-10T00:00:00\",\"2025-01-13T00:00:00\",\"2025-01-14T00:00:00\",\"2025-01-15T00:00:00\",\"2025-01-16T00:00:00\",\"2025-01-17T00:00:00\",\"2025-01-20T00:00:00\",\"2025-01-21T00:00:00\",\"2025-01-22T00:00:00\",\"2025-01-23T00:00:00\",\"2025-01-24T00:00:00\",\"2025-01-27T00:00:00\",\"2025-01-28T00:00:00\",\"2025-01-29T00:00:00\",\"2025-01-30T00:00:00\",\"2025-01-31T00:00:00\",\"2025-02-01T00:00:00\",\"2025-02-03T00:00:00\",\"2025-02-04T00:00:00\",\"2025-02-05T00:00:00\",\"2025-02-06T00:00:00\",\"2025-02-07T00:00:00\",\"2025-02-10T00:00:00\",\"2025-02-11T00:00:00\",\"2025-02-12T00:00:00\",\"2025-02-13T00:00:00\",\"2025-02-14T00:00:00\",\"2025-02-17T00:00:00\",\"2025-02-18T00:00:00\",\"2025-02-19T00:00:00\",\"2025-02-20T00:00:00\",\"2025-02-21T00:00:00\",\"2025-02-24T00:00:00\",\"2025-02-25T00:00:00\",\"2025-02-27T00:00:00\",\"2025-02-28T00:00:00\",\"2025-03-03T00:00:00\",\"2025-03-04T00:00:00\",\"2025-03-05T00:00:00\",\"2025-03-06T00:00:00\",\"2025-03-07T00:00:00\",\"2025-03-10T00:00:00\",\"2025-03-11T00:00:00\",\"2025-03-12T00:00:00\",\"2025-03-13T00:00:00\",\"2025-03-17T00:00:00\",\"2025-03-18T00:00:00\",\"2025-03-19T00:00:00\",\"2025-03-20T00:00:00\",\"2025-03-21T00:00:00\",\"2025-03-24T00:00:00\",\"2025-03-25T00:00:00\",\"2025-03-26T00:00:00\",\"2025-03-27T00:00:00\",\"2025-03-28T00:00:00\",\"2025-04-01T00:00:00\",\"2025-04-02T00:00:00\",\"2025-04-03T00:00:00\",\"2025-04-04T00:00:00\",\"2025-04-07T00:00:00\",\"2025-04-08T00:00:00\",\"2025-04-09T00:00:00\",\"2025-04-11T00:00:00\",\"2025-04-15T00:00:00\",\"2025-04-16T00:00:00\",\"2025-04-17T00:00:00\",\"2025-04-21T00:00:00\",\"2025-04-22T00:00:00\",\"2025-04-23T00:00:00\",\"2025-04-24T00:00:00\",\"2025-04-25T00:00:00\",\"2025-04-28T00:00:00\",\"2025-04-29T00:00:00\",\"2025-04-30T00:00:00\",\"2025-05-02T00:00:00\"],\"y\":[2598.785888671875,2619.588134765625,2602.318603515625,2657.5126953125,2696.565673828125,2712.51025390625,2714.472900390625,2709.420166015625,2741.260498046875,2785.906494140625,2785.906494140625,2794.2470703125,2770.991943359375,2750.533203125,2752.05419921875,2688.51953125,2681.60205078125,2695.63330078125,2690.776611328125,2719.4775390625,2842.621337890625,2825.98974609375,2831.092041015625,2843.9462890625,2887.12060546875,2798.46630859375,2882.753662109375,2850.717041015625,2803.2744140625,2772.709228515625,2786.887939453125,2854.886962890625,2847.64501953125,2844.98486328125,2819.366943359375,2945.583251953125,2953.90869140625,3067.464111328125,3062.1435546875,3092.096435546875,3037.31396484375,3026.919189453125,3063.473388671875,2999.084716796875,3017.706787109375,2912.477294921875,2859.22216796875,2962.23486328125,2871.341064453125,2704.531005859375,2839.861328125,2950.756103515625,2883.608154296875,2783.84716796875,2790.20263671875,2899.964111328125,3043.669189453125,2976.8662109375,2877.6474609375,2872.769775390625,2948.194091796875,3139.3408203125,3102.688232421875,3094.16552734375,3100.47119140625,3024.2587890625,2953.3173828125,3005.291748046875,3069.631591796875,2984.1572265625,3068.005859375,3154.613037109375,3105.20068359375,3190.921142578125,3210.725341796875,3182.595703125,3205.552734375,3159.3427734375,3243.239990234375,3155.598388671875,3260.876953125,3250.13720703125,3228.75634765625,3133.28173828125,3091.406494140625,3049.8271484375,3160.229248046875,3080.4697265625,3153.28271484375,3246.343994140625,3237.279296875,3264.966064453125,3347.3857421875,3431.578857421875,3495.869384765625,3366.05712890625,3474.48876953125,3405.46875,3397.1923828125,3410.4443359375,3428.918701171875,3497.446044921875,3254.029296875,3391.428466796875,3325.51220703125,3357.9775390625,3396.9951171875,3388.12744140625,3573.01806640625,3611.444580078125,3524.985107421875,3595.5810546875,3518.925048828125,3464.48779296875,3496.6083984375,3602.57666015625,3630.6083984375,3595.482421875,3498.874755859375,3559.617919921875,3600.16259765625,3707.60888671875,3743.670654296875,3670.167724609375,3709.924560546875,3723.482177734375,3946.49560546875,4033.384765625,4072.969970703125,4028.041015625,3999.440673828125,4182.91796875,4127.30029296875,4086.132568359375,4012.7509765625,4009.337158203125,4029.1787109375,3994.93798828125,3989.93994140625,4240.16796875,4646.361328125,4487.1796875,4368.5224609375,4323.19775390625,3949.760986328125,3839.912109375,4091.08056640625,4210.4296875,4325.4248046875,4227.55126953125,4091.3818359375,4135.9287109375,4239.060546875,4511.1015625,4375.32861328125,4453.5576171875,4353.35302734375,4414.26953125,4399.28857421875,4343.58056640625,4303.79638671875,4302.06005859375,4227.7001953125,4383.3154296875,4344.423828125,4401.42138671875,4382.9677734375,4306.57421875,4214.5048828125,4218.7216796875,4336.189453125,4376.37060546875,4366.59814453125,4484.71044921875,4481.53564453125,4490.46484375,4389.8134765625,4424.48876953125,4575.09326171875,4492.15185546875,4388.5732421875,4440.7099609375,4419.875,4374.38623046875,4544.13916015625,4387.58154296875,4232.9091796875,4076.698486328125,4375.62646484375,4375.62646484375,4455.095703125,4475.732421875,4564.37841796875,4589.8759765625,4798.470703125,4813.45166015625,4704.6650390625,4608.1318359375,4365.8046875,4524.34619140625,4465.166015625,4281.52294921875,4242.58203125,4297.0498046875,4347.30078125,4408.71435546875,4483.12353515625,4506.88427734375,4528.66162109375,4635.86083984375,4625.791015625,4651.517578125,4697.546875,4659.33056640625,4470.8349609375,4560.05712890625,4473.77099609375,4516.41650390625,4511.19140625,4428.09033203125,4523.23388671875,4728.896484375,4826.87548828125,4869.96875,4904.85107421875,5077.92041015625,5095.7353515625,5156.99072265625,5219.0927734375,5045.376953125,5244.32177734375,5186.25048828125,5197.09814453125,5250.98974609375,5162.06640625,5190.0322265625,5111.11083984375,5106.6826171875,5089.017578125,4927.34326171875,4879.57275390625,4905.14990234375,4940.28125,5017.65966796875,5047.96435546875,5051.14892578125,5074.38720703125,5178.4375,5071.7001953125,4829.41357421875,4855.48828125,4685.455078125,4639.72412109375,4501.1396484375,4261.390625,4199.43798828125,4284.828125,4422.9150390625,4396.98974609375,4409.7783203125,4227.751953125,4055.77783203125,4139.37646484375,4081.50439453125,3790.45166015625,3702.623291015625,3926.050537109375,3619.82080078125,3586.281982421875,3520.398193359375,3381.763916015625,3497.060302734375,3730.837890625,3645.0,3663.050048828125,3526.75,3378.35009765625,3528.0,3410.199951171875,3375.35009765625,3381.800048828125,3278.0,3371.050048828125,3439.14990234375,3427.5,3417.75,3345.14990234375,3257.75,3143.10009765625,3134.0,3138.0,3195.300048828125,3302.64990234375,3365.699951171875,3347.75,3364.550048828125,3323.800048828125,3410.10009765625,3425.25,3425.25,3815.949951171875,3706.199951171875,3815.699951171875,3812.39990234375,3657.75,3684.550048828125,3687.89990234375,3723.35009765625,3671.25,3756.75,3823.300048828125,3683.300048828125,3528.85009765625,3573.0,3590.199951171875,3716.699951171875,3832.89990234375,3894.39990234375,3882.5,4000.800048828125,4005.10009765625,4102.0,4045.89990234375,3938.10009765625,3944.10009765625,3999.800048828125,3906.300048828125,3841.0],\"type\":\"scatter\",\"xaxis\":\"x2\",\"yaxis\":\"y2\"},{\"marker\":{\"color\":\"green\",\"size\":10,\"symbol\":\"triangle-up\"},\"mode\":\"markers\",\"name\":\"Entry\",\"x\":[\"2024-01-05T00:00:00\",\"2024-01-18T00:00:00\",\"2024-01-31T00:00:00\",\"2024-02-08T00:00:00\",\"2024-02-12T00:00:00\",\"2024-02-16T00:00:00\",\"2024-02-21T00:00:00\",\"2024-02-29T00:00:00\",\"2024-03-04T00:00:00\",\"2024-03-12T00:00:00\",\"2024-03-18T00:00:00\",\"2024-03-20T00:00:00\",\"2024-03-22T00:00:00\",\"2024-03-28T00:00:00\",\"2024-04-02T00:00:00\",\"2024-04-09T00:00:00\",\"2024-04-15T00:00:00\",\"2024-04-18T00:00:00\",\"2024-04-29T00:00:00\",\"2024-05-02T00:00:00\",\"2024-05-08T00:00:00\",\"2024-05-13T00:00:00\",\"2024-05-15T00:00:00\",\"2024-05-27T00:00:00\",\"2024-05-29T00:00:00\",\"2024-06-03T00:00:00\",\"2024-06-05T00:00:00\",\"2024-06-11T00:00:00\",\"2024-06-20T00:00:00\",\"2024-06-25T00:00:00\",\"2024-06-28T00:00:00\",\"2024-07-02T00:00:00\",\"2024-07-16T00:00:00\",\"2024-07-23T00:00:00\",\"2024-07-30T00:00:00\",\"2024-08-05T00:00:00\",\"2024-08-09T00:00:00\",\"2024-08-14T00:00:00\",\"2024-08-19T00:00:00\",\"2024-08-23T00:00:00\",\"2024-08-27T00:00:00\",\"2024-09-03T00:00:00\",\"2024-09-09T00:00:00\",\"2024-09-12T00:00:00\",\"2024-09-20T00:00:00\",\"2024-09-24T00:00:00\",\"2024-09-26T00:00:00\",\"2024-10-03T00:00:00\",\"2024-10-09T00:00:00\",\"2024-10-22T00:00:00\",\"2024-10-31T00:00:00\",\"2024-11-14T00:00:00\",\"2024-11-22T00:00:00\",\"2024-11-26T00:00:00\",\"2024-12-09T00:00:00\",\"2024-12-16T00:00:00\",\"2024-12-30T00:00:00\",\"2025-01-06T00:00:00\",\"2025-01-17T00:00:00\",\"2025-01-22T00:00:00\",\"2025-02-06T00:00:00\",\"2025-02-11T00:00:00\",\"2025-02-20T00:00:00\",\"2025-02-27T00:00:00\",\"2025-03-06T00:00:00\",\"2025-03-13T00:00:00\",\"2025-03-26T00:00:00\",\"2025-04-01T00:00:00\",\"2025-04-03T00:00:00\",\"2025-04-07T00:00:00\",\"2025-04-15T00:00:00\",\"2025-04-28T00:00:00\"],\"y\":[2696.565673828125,2750.533203125,2842.621337890625,2882.753662109375,2803.2744140625,2847.64501953125,2945.583251953125,3026.919189453125,2999.084716796875,2871.341064453125,2883.608154296875,2790.20263671875,3043.669189453125,2872.769775390625,3139.3408203125,2953.3173828125,2984.1572265625,3154.613037109375,3243.239990234375,3260.876953125,3091.406494140625,3080.4697265625,3246.343994140625,3474.48876953125,3397.1923828125,3497.446044921875,3391.428466796875,3388.12744140625,3464.48779296875,3630.6083984375,3559.617919921875,3707.60888671875,4182.91796875,4009.337158203125,4646.361328125,3949.760986328125,4325.4248046875,4135.9287109375,4511.1015625,4414.26953125,4343.58056640625,4344.423828125,4214.5048828125,4376.37060546875,4424.48876953125,4492.15185546875,4440.7099609375,4387.58154296875,4375.62646484375,4365.8046875,4408.71435546875,4560.05712890625,4428.09033203125,4728.896484375,5244.32177734375,5190.0322265625,5047.96435546875,4829.41357421875,4396.98974609375,4055.77783203125,3645.0,3378.35009765625,3439.14990234375,3257.75,3302.64990234375,3410.10009765625,3684.550048828125,3671.25,3823.300048828125,3528.85009765625,3832.89990234375,3944.10009765625],\"type\":\"scatter\",\"xaxis\":\"x2\",\"yaxis\":\"y2\"},{\"marker\":{\"color\":\"red\",\"size\":10,\"symbol\":\"triangle-down\"},\"mode\":\"markers\",\"name\":\"Exit\",\"x\":[\"2024-01-17T00:00:00\",\"2024-01-30T00:00:00\",\"2024-02-07T00:00:00\",\"2024-02-09T00:00:00\",\"2024-02-15T00:00:00\",\"2024-02-20T00:00:00\",\"2024-02-28T00:00:00\",\"2024-03-01T00:00:00\",\"2024-03-11T00:00:00\",\"2024-03-15T00:00:00\",\"2024-03-19T00:00:00\",\"2024-03-21T00:00:00\",\"2024-03-27T00:00:00\",\"2024-04-01T00:00:00\",\"2024-04-08T00:00:00\",\"2024-04-12T00:00:00\",\"2024-04-16T00:00:00\",\"2024-04-26T00:00:00\",\"2024-04-30T00:00:00\",\"2024-05-07T00:00:00\",\"2024-05-10T00:00:00\",\"2024-05-14T00:00:00\",\"2024-05-24T00:00:00\",\"2024-05-28T00:00:00\",\"2024-05-31T00:00:00\",\"2024-06-04T00:00:00\",\"2024-06-10T00:00:00\",\"2024-06-19T00:00:00\",\"2024-06-24T00:00:00\",\"2024-06-27T00:00:00\",\"2024-07-01T00:00:00\",\"2024-07-15T00:00:00\",\"2024-07-22T00:00:00\",\"2024-07-29T00:00:00\",\"2024-08-02T00:00:00\",\"2024-08-08T00:00:00\",\"2024-08-13T00:00:00\",\"2024-08-16T00:00:00\",\"2024-08-22T00:00:00\",\"2024-08-26T00:00:00\",\"2024-09-02T00:00:00\",\"2024-09-06T00:00:00\",\"2024-09-11T00:00:00\",\"2024-09-19T00:00:00\",\"2024-09-23T00:00:00\",\"2024-09-25T00:00:00\",\"2024-10-01T00:00:00\",\"2024-10-08T00:00:00\",\"2024-10-21T00:00:00\",\"2024-10-30T00:00:00\",\"2024-11-13T00:00:00\",\"2024-11-21T00:00:00\",\"2024-11-25T00:00:00\",\"2024-12-06T00:00:00\",\"2024-12-13T00:00:00\",\"2024-12-27T00:00:00\",\"2025-01-03T00:00:00\",\"2025-01-16T00:00:00\",\"2025-01-21T00:00:00\",\"2025-02-05T00:00:00\",\"2025-02-10T00:00:00\",\"2025-02-19T00:00:00\",\"2025-02-25T00:00:00\",\"2025-03-05T00:00:00\",\"2025-03-12T00:00:00\",\"2025-03-25T00:00:00\",\"2025-03-28T00:00:00\",\"2025-04-02T00:00:00\",\"2025-04-04T00:00:00\",\"2025-04-11T00:00:00\",\"2025-04-25T00:00:00\",\"2025-05-02T00:00:00\"],\"y\":[2770.991943359375,2719.4775390625,2798.46630859375,2850.717041015625,2854.886962890625,2819.366943359375,3037.31396484375,3063.473388671875,2962.23486328125,2950.756103515625,2783.84716796875,2899.964111328125,2877.6474609375,2948.194091796875,3024.2587890625,3069.631591796875,3068.005859375,3159.3427734375,3155.598388671875,3133.28173828125,3160.229248046875,3153.28271484375,3366.05712890625,3405.46875,3428.918701171875,3254.029296875,3396.9951171875,3518.925048828125,3602.57666015625,3498.874755859375,3600.16259765625,3999.440673828125,4012.7509765625,4240.16796875,4323.19775390625,4210.4296875,4091.3818359375,4239.060546875,4353.35302734375,4399.28857421875,4383.3154296875,4306.57421875,4336.189453125,4389.8134765625,4575.09326171875,4388.5732421875,4544.13916015625,4375.62646484375,4608.1318359375,4347.30078125,4470.8349609375,4511.19140625,4523.23388671875,5045.376953125,5162.06640625,5017.65966796875,5071.7001953125,4422.9150390625,4227.751953125,3730.837890625,3526.75,3371.050048828125,3345.14990234375,3195.300048828125,3323.800048828125,3657.75,3723.35009765625,3756.75,3683.300048828125,3716.699951171875,3938.10009765625,3841.0],\"type\":\"scatter\",\"xaxis\":\"x2\",\"yaxis\":\"y2\"}],                        {\"template\":{\"data\":{\"barpolar\":[{\"marker\":{\"line\":{\"color\":\"white\",\"width\":0.5},\"pattern\":{\"fillmode\":\"overlay\",\"size\":10,\"solidity\":0.2}},\"type\":\"barpolar\"}],\"bar\":[{\"error_x\":{\"color\":\"#2a3f5f\"},\"error_y\":{\"color\":\"#2a3f5f\"},\"marker\":{\"line\":{\"color\":\"white\",\"width\":0.5},\"pattern\":{\"fillmode\":\"overlay\",\"size\":10,\"solidity\":0.2}},\"type\":\"bar\"}],\"carpet\":[{\"aaxis\":{\"endlinecolor\":\"#2a3f5f\",\"gridcolor\":\"#C8D4E3\",\"linecolor\":\"#C8D4E3\",\"minorgridcolor\":\"#C8D4E3\",\"startlinecolor\":\"#2a3f5f\"},\"baxis\":{\"endlinecolor\":\"#2a3f5f\",\"gridcolor\":\"#C8D4E3\",\"linecolor\":\"#C8D4E3\",\"minorgridcolor\":\"#C8D4E3\",\"startlinecolor\":\"#2a3f5f\"},\"type\":\"carpet\"}],\"choropleth\":[{\"colorbar\":{\"outlinewidth\":0,\"ticks\":\"\"},\"type\":\"choropleth\"}],\"contourcarpet\":[{\"colorbar\":{\"outlinewidth\":0,\"ticks\":\"\"},\"type\":\"contourcarpet\"}],\"contour\":[{\"colorbar\":{\"outlinewidth\":0,\"ticks\":\"\"},\"colorscale\":[[0.0,\"#0d0887\"],[0.1111111111111111,\"#46039f\"],[0.2222222222222222,\"#7201a8\"],[0.3333333333333333,\"#9c179e\"],[0.4444444444444444,\"#bd3786\"],[0.5555555555555556,\"#d8576b\"],[0.6666666666666666,\"#ed7953\"],[0.7777777777777778,\"#fb9f3a\"],[0.8888888888888888,\"#fdca26\"],[1.0,\"#f0f921\"]],\"type\":\"contour\"}],\"heatmapgl\":[{\"colorbar\":{\"outlinewidth\":0,\"ticks\":\"\"},\"colorscale\":[[0.0,\"#0d0887\"],[0.1111111111111111,\"#46039f\"],[0.2222222222222222,\"#7201a8\"],[0.3333333333333333,\"#9c179e\"],[0.4444444444444444,\"#bd3786\"],[0.5555555555555556,\"#d8576b\"],[0.6666666666666666,\"#ed7953\"],[0.7777777777777778,\"#fb9f3a\"],[0.8888888888888888,\"#fdca26\"],[1.0,\"#f0f921\"]],\"type\":\"heatmapgl\"}],\"heatmap\":[{\"colorbar\":{\"outlinewidth\":0,\"ticks\":\"\"},\"colorscale\":[[0.0,\"#0d0887\"],[0.1111111111111111,\"#46039f\"],[0.2222222222222222,\"#7201a8\"],[0.3333333333333333,\"#9c179e\"],[0.4444444444444444,\"#bd3786\"],[0.5555555555555556,\"#d8576b\"],[0.6666666666666666,\"#ed7953\"],[0.7777777777777778,\"#fb9f3a\"],[0.8888888888888888,\"#fdca26\"],[1.0,\"#f0f921\"]],\"type\":\"heatmap\"}],\"histogram2dcontour\":[{\"colorbar\":{\"outlinewidth\":0,\"ticks\":\"\"},\"colorscale\":[[0.0,\"#0d0887\"],[0.1111111111111111,\"#46039f\"],[0.2222222222222222,\"#7201a8\"],[0.3333333333333333,\"#9c179e\"],[0.4444444444444444,\"#bd3786\"],[0.5555555555555556,\"#d8576b\"],[0.6666666666666666,\"#ed7953\"],[0.7777777777777778,\"#fb9f3a\"],[0.8888888888888888,\"#fdca26\"],[1.0,\"#f0f921\"]],\"type\":\"histogram2dcontour\"}],\"histogram2d\":[{\"colorbar\":{\"outlinewidth\":0,\"ticks\":\"\"},\"colorscale\":[[0.0,\"#0d0887\"],[0.1111111111111111,\"#46039f\"],[0.2222222222222222,\"#7201a8\"],[0.3333333333333333,\"#9c179e\"],[0.4444444444444444,\"#bd3786\"],[0.5555555555555556,\"#d8576b\"],[0.6666666666666666,\"#ed7953\"],[0.7777777777777778,\"#fb9f3a\"],[0.8888888888888888,\"#fdca26\"],[1.0,\"#f0f921\"]],\"type\":\"histogram2d\"}],\"histogram\":[{\"marker\":{\"pattern\":{\"fillmode\":\"overlay\",\"size\":10,\"solidity\":0.2}},\"type\":\"histogram\"}],\"mesh3d\":[{\"colorbar\":{\"outlinewidth\":0,\"ticks\":\"\"},\"type\":\"mesh3d\"}],\"parcoords\":[{\"line\":{\"colorbar\":{\"outlinewidth\":0,\"ticks\":\"\"}},\"type\":\"parcoords\"}],\"pie\":[{\"automargin\":true,\"type\":\"pie\"}],\"scatter3d\":[{\"line\":{\"colorbar\":{\"outlinewidth\":0,\"ticks\":\"\"}},\"marker\":{\"colorbar\":{\"outlinewidth\":0,\"ticks\":\"\"}},\"type\":\"scatter3d\"}],\"scattercarpet\":[{\"marker\":{\"colorbar\":{\"outlinewidth\":0,\"ticks\":\"\"}},\"type\":\"scattercarpet\"}],\"scattergeo\":[{\"marker\":{\"colorbar\":{\"outlinewidth\":0,\"ticks\":\"\"}},\"type\":\"scattergeo\"}],\"scattergl\":[{\"marker\":{\"colorbar\":{\"outlinewidth\":0,\"ticks\":\"\"}},\"type\":\"scattergl\"}],\"scattermapbox\":[{\"marker\":{\"colorbar\":{\"outlinewidth\":0,\"ticks\":\"\"}},\"type\":\"scattermapbox\"}],\"scatterpolargl\":[{\"marker\":{\"colorbar\":{\"outlinewidth\":0,\"ticks\":\"\"}},\"type\":\"scatterpolargl\"}],\"scatterpolar\":[{\"marker\":{\"colorbar\":{\"outlinewidth\":0,\"ticks\":\"\"}},\"type\":\"scatterpolar\"}],\"scatter\":[{\"fillpattern\":{\"fillmode\":\"overlay\",\"size\":10,\"solidity\":0.2},\"type\":\"scatter\"}],\"scatterternary\":[{\"marker\":{\"colorbar\":{\"outlinewidth\":0,\"ticks\":\"\"}},\"type\":\"scatterternary\"}],\"surface\":[{\"colorbar\":{\"outlinewidth\":0,\"ticks\":\"\"},\"colorscale\":[[0.0,\"#0d0887\"],[0.1111111111111111,\"#46039f\"],[0.2222222222222222,\"#7201a8\"],[0.3333333333333333,\"#9c179e\"],[0.4444444444444444,\"#bd3786\"],[0.5555555555555556,\"#d8576b\"],[0.6666666666666666,\"#ed7953\"],[0.7777777777777778,\"#fb9f3a\"],[0.8888888888888888,\"#fdca26\"],[1.0,\"#f0f921\"]],\"type\":\"surface\"}],\"table\":[{\"cells\":{\"fill\":{\"color\":\"#EBF0F8\"},\"line\":{\"color\":\"white\"}},\"header\":{\"fill\":{\"color\":\"#C8D4E3\"},\"line\":{\"color\":\"white\"}},\"type\":\"table\"}]},\"layout\":{\"annotationdefaults\":{\"arrowcolor\":\"#2a3f5f\",\"arrowhead\":0,\"arrowwidth\":1},\"autotypenumbers\":\"strict\",\"coloraxis\":{\"colorbar\":{\"outlinewidth\":0,\"ticks\":\"\"}},\"colorscale\":{\"diverging\":[[0,\"#8e0152\"],[0.1,\"#c51b7d\"],[0.2,\"#de77ae\"],[0.3,\"#f1b6da\"],[0.4,\"#fde0ef\"],[0.5,\"#f7f7f7\"],[0.6,\"#e6f5d0\"],[0.7,\"#b8e186\"],[0.8,\"#7fbc41\"],[0.9,\"#4d9221\"],[1,\"#276419\"]],\"sequential\":[[0.0,\"#0d0887\"],[0.1111111111111111,\"#46039f\"],[0.2222222222222222,\"#7201a8\"],[0.3333333333333333,\"#9c179e\"],[0.4444444444444444,\"#bd3786\"],[0.5555555555555556,\"#d8576b\"],[0.6666666666666666,\"#ed7953\"],[0.7777777777777778,\"#fb9f3a\"],[0.8888888888888888,\"#fdca26\"],[1.0,\"#f0f921\"]],\"sequentialminus\":[[0.0,\"#0d0887\"],[0.1111111111111111,\"#46039f\"],[0.2222222222222222,\"#7201a8\"],[0.3333333333333333,\"#9c179e\"],[0.4444444444444444,\"#bd3786\"],[0.5555555555555556,\"#d8576b\"],[0.6666666666666666,\"#ed7953\"],[0.7777777777777778,\"#fb9f3a\"],[0.8888888888888888,\"#fdca26\"],[1.0,\"#f0f921\"]]},\"colorway\":[\"#636efa\",\"#EF553B\",\"#00cc96\",\"#ab63fa\",\"#FFA15A\",\"#19d3f3\",\"#FF6692\",\"#B6E880\",\"#FF97FF\",\"#FECB52\"],\"font\":{\"color\":\"#2a3f5f\"},\"geo\":{\"bgcolor\":\"white\",\"lakecolor\":\"white\",\"landcolor\":\"white\",\"showlakes\":true,\"showland\":true,\"subunitcolor\":\"#C8D4E3\"},\"hoverlabel\":{\"align\":\"left\"},\"hovermode\":\"closest\",\"mapbox\":{\"style\":\"light\"},\"paper_bgcolor\":\"white\",\"plot_bgcolor\":\"white\",\"polar\":{\"angularaxis\":{\"gridcolor\":\"#EBF0F8\",\"linecolor\":\"#EBF0F8\",\"ticks\":\"\"},\"bgcolor\":\"white\",\"radialaxis\":{\"gridcolor\":\"#EBF0F8\",\"linecolor\":\"#EBF0F8\",\"ticks\":\"\"}},\"scene\":{\"xaxis\":{\"backgroundcolor\":\"white\",\"gridcolor\":\"#DFE8F3\",\"gridwidth\":2,\"linecolor\":\"#EBF0F8\",\"showbackground\":true,\"ticks\":\"\",\"zerolinecolor\":\"#EBF0F8\"},\"yaxis\":{\"backgroundcolor\":\"white\",\"gridcolor\":\"#DFE8F3\",\"gridwidth\":2,\"linecolor\":\"#EBF0F8\",\"showbackground\":true,\"ticks\":\"\",\"zerolinecolor\":\"#EBF0F8\"},\"zaxis\":{\"backgroundcolor\":\"white\",\"gridcolor\":\"#DFE8F3\",\"gridwidth\":2,\"linecolor\":\"#EBF0F8\",\"showbackground\":true,\"ticks\":\"\",\"zerolinecolor\":\"#EBF0F8\"}},\"shapedefaults\":{\"line\":{\"color\":\"#2a3f5f\"}},\"ternary\":{\"aaxis\":{\"gridcolor\":\"#DFE8F3\",\"linecolor\":\"#A2B1C6\",\"ticks\":\"\"},\"baxis\":{\"gridcolor\":\"#DFE8F3\",\"linecolor\":\"#A2B1C6\",\"ticks\":\"\"},\"bgcolor\":\"white\",\"caxis\":{\"gridcolor\":\"#DFE8F3\",\"linecolor\":\"#A2B1C6\",\"ticks\":\"\"}},\"title\":{\"x\":0.05},\"xaxis\":{\"automargin\":true,\"gridcolor\":\"#EBF0F8\",\"linecolor\":\"#EBF0F8\",\"ticks\":\"\",\"title\":{\"standoff\":15},\"zerolinecolor\":\"#EBF0F8\",\"zerolinewidth\":2},\"yaxis\":{\"automargin\":true,\"gridcolor\":\"#EBF0F8\",\"linecolor\":\"#EBF0F8\",\"ticks\":\"\",\"title\":{\"standoff\":15},\"zerolinecolor\":\"#EBF0F8\",\"zerolinewidth\":2}}},\"xaxis\":{\"anchor\":\"y\",\"domain\":[0.0,1.0],\"matches\":\"x2\",\"showticklabels\":false},\"yaxis\":{\"anchor\":\"x\",\"domain\":[0.55,1.0],\"title\":{\"text\":\"Capital\"}},\"xaxis2\":{\"anchor\":\"y2\",\"domain\":[0.0,1.0],\"title\":{\"text\":\"Time\"}},\"yaxis2\":{\"anchor\":\"x2\",\"domain\":[0.0,0.45],\"title\":{\"text\":\"Price\"}},\"annotations\":[{\"font\":{\"size\":16},\"showarrow\":false,\"text\":\"Equity Curve\",\"x\":0.5,\"xanchor\":\"center\",\"xref\":\"paper\",\"y\":1.0,\"yanchor\":\"bottom\",\"yref\":\"paper\"},{\"font\":{\"size\":16},\"showarrow\":false,\"text\":\"Price Action with Entry and Exit Points\",\"x\":0.5,\"xanchor\":\"center\",\"xref\":\"paper\",\"y\":0.45,\"yanchor\":\"bottom\",\"yref\":\"paper\"}],\"title\":{\"text\":\"Backtest Visualizations\"},\"height\":800,\"showlegend\":true},                        {\"responsive\": true}                    ).then(function(){\n",
              "                            \n",
              "var gd = document.getElementById('185bf8cd-8951-4a02-b7e6-78c2982762ae');\n",
              "var x = new MutationObserver(function (mutations, observer) {{\n",
              "        var display = window.getComputedStyle(gd).display;\n",
              "        if (!display || display === 'none') {{\n",
              "            console.log([gd, 'removed!']);\n",
              "            Plotly.purge(gd);\n",
              "            observer.disconnect();\n",
              "        }}\n",
              "}});\n",
              "\n",
              "// Listen for the removal of the full notebook cells\n",
              "var notebookContainer = gd.closest('#notebook-container');\n",
              "if (notebookContainer) {{\n",
              "    x.observe(notebookContainer, {childList: true});\n",
              "}}\n",
              "\n",
              "// Listen for the clearing of the current output cell\n",
              "var outputEl = gd.closest('.output');\n",
              "if (outputEl) {{\n",
              "    x.observe(outputEl, {childList: true});\n",
              "}}\n",
              "\n",
              "                        })                };                            </script>        </div>\n",
              "</body>\n",
              "</html>"
            ]
          },
          "metadata": {}
        },
        {
          "output_type": "execute_result",
          "data": {
            "text/plain": [
              "   Entry Candle Exit Candle          PnL  Number of units Trade type\n",
              "0    2024-01-05  2024-01-17  2753.771973             37.0       Long\n",
              "1    2024-01-18  2024-01-30  1149.059570             37.0      Short\n",
              "2    2024-01-31  2024-02-07 -1589.581055             36.0       Long\n",
              "3    2024-02-08  2024-02-09 -1121.281738             35.0       Long\n",
              "4    2024-02-12  2024-02-15 -1858.051758             36.0      Short\n",
              "..          ...         ...          ...              ...        ...\n",
              "67   2025-04-01  2025-04-02 -1197.000000             14.0      Short\n",
              "68   2025-04-03  2025-04-04 -1960.000000             14.0       Long\n",
              "69   2025-04-07  2025-04-11 -2629.897949             14.0      Short\n",
              "70   2025-04-15  2025-04-25  1262.402344             12.0       Long\n",
              "71   2025-04-28  2025-05-02  1237.201172             12.0      Short\n",
              "\n",
              "[72 rows x 5 columns]"
            ],
            "text/html": [
              "\n",
              "  <div id=\"df-7c49389e-01ba-4833-a2c4-2375b4d7ebaf\" class=\"colab-df-container\">\n",
              "    <div>\n",
              "<style scoped>\n",
              "    .dataframe tbody tr th:only-of-type {\n",
              "        vertical-align: middle;\n",
              "    }\n",
              "\n",
              "    .dataframe tbody tr th {\n",
              "        vertical-align: top;\n",
              "    }\n",
              "\n",
              "    .dataframe thead th {\n",
              "        text-align: right;\n",
              "    }\n",
              "</style>\n",
              "<table border=\"1\" class=\"dataframe\">\n",
              "  <thead>\n",
              "    <tr style=\"text-align: right;\">\n",
              "      <th></th>\n",
              "      <th>Entry Candle</th>\n",
              "      <th>Exit Candle</th>\n",
              "      <th>PnL</th>\n",
              "      <th>Number of units</th>\n",
              "      <th>Trade type</th>\n",
              "    </tr>\n",
              "  </thead>\n",
              "  <tbody>\n",
              "    <tr>\n",
              "      <th>0</th>\n",
              "      <td>2024-01-05</td>\n",
              "      <td>2024-01-17</td>\n",
              "      <td>2753.771973</td>\n",
              "      <td>37.0</td>\n",
              "      <td>Long</td>\n",
              "    </tr>\n",
              "    <tr>\n",
              "      <th>1</th>\n",
              "      <td>2024-01-18</td>\n",
              "      <td>2024-01-30</td>\n",
              "      <td>1149.059570</td>\n",
              "      <td>37.0</td>\n",
              "      <td>Short</td>\n",
              "    </tr>\n",
              "    <tr>\n",
              "      <th>2</th>\n",
              "      <td>2024-01-31</td>\n",
              "      <td>2024-02-07</td>\n",
              "      <td>-1589.581055</td>\n",
              "      <td>36.0</td>\n",
              "      <td>Long</td>\n",
              "    </tr>\n",
              "    <tr>\n",
              "      <th>3</th>\n",
              "      <td>2024-02-08</td>\n",
              "      <td>2024-02-09</td>\n",
              "      <td>-1121.281738</td>\n",
              "      <td>35.0</td>\n",
              "      <td>Long</td>\n",
              "    </tr>\n",
              "    <tr>\n",
              "      <th>4</th>\n",
              "      <td>2024-02-12</td>\n",
              "      <td>2024-02-15</td>\n",
              "      <td>-1858.051758</td>\n",
              "      <td>36.0</td>\n",
              "      <td>Short</td>\n",
              "    </tr>\n",
              "    <tr>\n",
              "      <th>...</th>\n",
              "      <td>...</td>\n",
              "      <td>...</td>\n",
              "      <td>...</td>\n",
              "      <td>...</td>\n",
              "      <td>...</td>\n",
              "    </tr>\n",
              "    <tr>\n",
              "      <th>67</th>\n",
              "      <td>2025-04-01</td>\n",
              "      <td>2025-04-02</td>\n",
              "      <td>-1197.000000</td>\n",
              "      <td>14.0</td>\n",
              "      <td>Short</td>\n",
              "    </tr>\n",
              "    <tr>\n",
              "      <th>68</th>\n",
              "      <td>2025-04-03</td>\n",
              "      <td>2025-04-04</td>\n",
              "      <td>-1960.000000</td>\n",
              "      <td>14.0</td>\n",
              "      <td>Long</td>\n",
              "    </tr>\n",
              "    <tr>\n",
              "      <th>69</th>\n",
              "      <td>2025-04-07</td>\n",
              "      <td>2025-04-11</td>\n",
              "      <td>-2629.897949</td>\n",
              "      <td>14.0</td>\n",
              "      <td>Short</td>\n",
              "    </tr>\n",
              "    <tr>\n",
              "      <th>70</th>\n",
              "      <td>2025-04-15</td>\n",
              "      <td>2025-04-25</td>\n",
              "      <td>1262.402344</td>\n",
              "      <td>12.0</td>\n",
              "      <td>Long</td>\n",
              "    </tr>\n",
              "    <tr>\n",
              "      <th>71</th>\n",
              "      <td>2025-04-28</td>\n",
              "      <td>2025-05-02</td>\n",
              "      <td>1237.201172</td>\n",
              "      <td>12.0</td>\n",
              "      <td>Short</td>\n",
              "    </tr>\n",
              "  </tbody>\n",
              "</table>\n",
              "<p>72 rows × 5 columns</p>\n",
              "</div>\n",
              "    <div class=\"colab-df-buttons\">\n",
              "\n",
              "  <div class=\"colab-df-container\">\n",
              "    <button class=\"colab-df-convert\" onclick=\"convertToInteractive('df-7c49389e-01ba-4833-a2c4-2375b4d7ebaf')\"\n",
              "            title=\"Convert this dataframe to an interactive table.\"\n",
              "            style=\"display:none;\">\n",
              "\n",
              "  <svg xmlns=\"http://www.w3.org/2000/svg\" height=\"24px\" viewBox=\"0 -960 960 960\">\n",
              "    <path d=\"M120-120v-720h720v720H120Zm60-500h600v-160H180v160Zm220 220h160v-160H400v160Zm0 220h160v-160H400v160ZM180-400h160v-160H180v160Zm440 0h160v-160H620v160ZM180-180h160v-160H180v160Zm440 0h160v-160H620v160Z\"/>\n",
              "  </svg>\n",
              "    </button>\n",
              "\n",
              "  <style>\n",
              "    .colab-df-container {\n",
              "      display:flex;\n",
              "      gap: 12px;\n",
              "    }\n",
              "\n",
              "    .colab-df-convert {\n",
              "      background-color: #E8F0FE;\n",
              "      border: none;\n",
              "      border-radius: 50%;\n",
              "      cursor: pointer;\n",
              "      display: none;\n",
              "      fill: #1967D2;\n",
              "      height: 32px;\n",
              "      padding: 0 0 0 0;\n",
              "      width: 32px;\n",
              "    }\n",
              "\n",
              "    .colab-df-convert:hover {\n",
              "      background-color: #E2EBFA;\n",
              "      box-shadow: 0px 1px 2px rgba(60, 64, 67, 0.3), 0px 1px 3px 1px rgba(60, 64, 67, 0.15);\n",
              "      fill: #174EA6;\n",
              "    }\n",
              "\n",
              "    .colab-df-buttons div {\n",
              "      margin-bottom: 4px;\n",
              "    }\n",
              "\n",
              "    [theme=dark] .colab-df-convert {\n",
              "      background-color: #3B4455;\n",
              "      fill: #D2E3FC;\n",
              "    }\n",
              "\n",
              "    [theme=dark] .colab-df-convert:hover {\n",
              "      background-color: #434B5C;\n",
              "      box-shadow: 0px 1px 3px 1px rgba(0, 0, 0, 0.15);\n",
              "      filter: drop-shadow(0px 1px 2px rgba(0, 0, 0, 0.3));\n",
              "      fill: #FFFFFF;\n",
              "    }\n",
              "  </style>\n",
              "\n",
              "    <script>\n",
              "      const buttonEl =\n",
              "        document.querySelector('#df-7c49389e-01ba-4833-a2c4-2375b4d7ebaf button.colab-df-convert');\n",
              "      buttonEl.style.display =\n",
              "        google.colab.kernel.accessAllowed ? 'block' : 'none';\n",
              "\n",
              "      async function convertToInteractive(key) {\n",
              "        const element = document.querySelector('#df-7c49389e-01ba-4833-a2c4-2375b4d7ebaf');\n",
              "        const dataTable =\n",
              "          await google.colab.kernel.invokeFunction('convertToInteractive',\n",
              "                                                    [key], {});\n",
              "        if (!dataTable) return;\n",
              "\n",
              "        const docLinkHtml = 'Like what you see? Visit the ' +\n",
              "          '<a target=\"_blank\" href=https://colab.research.google.com/notebooks/data_table.ipynb>data table notebook</a>'\n",
              "          + ' to learn more about interactive tables.';\n",
              "        element.innerHTML = '';\n",
              "        dataTable['output_type'] = 'display_data';\n",
              "        await google.colab.output.renderOutput(dataTable, element);\n",
              "        const docLink = document.createElement('div');\n",
              "        docLink.innerHTML = docLinkHtml;\n",
              "        element.appendChild(docLink);\n",
              "      }\n",
              "    </script>\n",
              "  </div>\n",
              "\n",
              "\n",
              "    <div id=\"df-68004b56-f012-4ea4-9cea-92d2f07791e0\">\n",
              "      <button class=\"colab-df-quickchart\" onclick=\"quickchart('df-68004b56-f012-4ea4-9cea-92d2f07791e0')\"\n",
              "                title=\"Suggest charts\"\n",
              "                style=\"display:none;\">\n",
              "\n",
              "<svg xmlns=\"http://www.w3.org/2000/svg\" height=\"24px\"viewBox=\"0 0 24 24\"\n",
              "     width=\"24px\">\n",
              "    <g>\n",
              "        <path d=\"M19 3H5c-1.1 0-2 .9-2 2v14c0 1.1.9 2 2 2h14c1.1 0 2-.9 2-2V5c0-1.1-.9-2-2-2zM9 17H7v-7h2v7zm4 0h-2V7h2v10zm4 0h-2v-4h2v4z\"/>\n",
              "    </g>\n",
              "</svg>\n",
              "      </button>\n",
              "\n",
              "<style>\n",
              "  .colab-df-quickchart {\n",
              "      --bg-color: #E8F0FE;\n",
              "      --fill-color: #1967D2;\n",
              "      --hover-bg-color: #E2EBFA;\n",
              "      --hover-fill-color: #174EA6;\n",
              "      --disabled-fill-color: #AAA;\n",
              "      --disabled-bg-color: #DDD;\n",
              "  }\n",
              "\n",
              "  [theme=dark] .colab-df-quickchart {\n",
              "      --bg-color: #3B4455;\n",
              "      --fill-color: #D2E3FC;\n",
              "      --hover-bg-color: #434B5C;\n",
              "      --hover-fill-color: #FFFFFF;\n",
              "      --disabled-bg-color: #3B4455;\n",
              "      --disabled-fill-color: #666;\n",
              "  }\n",
              "\n",
              "  .colab-df-quickchart {\n",
              "    background-color: var(--bg-color);\n",
              "    border: none;\n",
              "    border-radius: 50%;\n",
              "    cursor: pointer;\n",
              "    display: none;\n",
              "    fill: var(--fill-color);\n",
              "    height: 32px;\n",
              "    padding: 0;\n",
              "    width: 32px;\n",
              "  }\n",
              "\n",
              "  .colab-df-quickchart:hover {\n",
              "    background-color: var(--hover-bg-color);\n",
              "    box-shadow: 0 1px 2px rgba(60, 64, 67, 0.3), 0 1px 3px 1px rgba(60, 64, 67, 0.15);\n",
              "    fill: var(--button-hover-fill-color);\n",
              "  }\n",
              "\n",
              "  .colab-df-quickchart-complete:disabled,\n",
              "  .colab-df-quickchart-complete:disabled:hover {\n",
              "    background-color: var(--disabled-bg-color);\n",
              "    fill: var(--disabled-fill-color);\n",
              "    box-shadow: none;\n",
              "  }\n",
              "\n",
              "  .colab-df-spinner {\n",
              "    border: 2px solid var(--fill-color);\n",
              "    border-color: transparent;\n",
              "    border-bottom-color: var(--fill-color);\n",
              "    animation:\n",
              "      spin 1s steps(1) infinite;\n",
              "  }\n",
              "\n",
              "  @keyframes spin {\n",
              "    0% {\n",
              "      border-color: transparent;\n",
              "      border-bottom-color: var(--fill-color);\n",
              "      border-left-color: var(--fill-color);\n",
              "    }\n",
              "    20% {\n",
              "      border-color: transparent;\n",
              "      border-left-color: var(--fill-color);\n",
              "      border-top-color: var(--fill-color);\n",
              "    }\n",
              "    30% {\n",
              "      border-color: transparent;\n",
              "      border-left-color: var(--fill-color);\n",
              "      border-top-color: var(--fill-color);\n",
              "      border-right-color: var(--fill-color);\n",
              "    }\n",
              "    40% {\n",
              "      border-color: transparent;\n",
              "      border-right-color: var(--fill-color);\n",
              "      border-top-color: var(--fill-color);\n",
              "    }\n",
              "    60% {\n",
              "      border-color: transparent;\n",
              "      border-right-color: var(--fill-color);\n",
              "    }\n",
              "    80% {\n",
              "      border-color: transparent;\n",
              "      border-right-color: var(--fill-color);\n",
              "      border-bottom-color: var(--fill-color);\n",
              "    }\n",
              "    90% {\n",
              "      border-color: transparent;\n",
              "      border-bottom-color: var(--fill-color);\n",
              "    }\n",
              "  }\n",
              "</style>\n",
              "\n",
              "      <script>\n",
              "        async function quickchart(key) {\n",
              "          const quickchartButtonEl =\n",
              "            document.querySelector('#' + key + ' button');\n",
              "          quickchartButtonEl.disabled = true;  // To prevent multiple clicks.\n",
              "          quickchartButtonEl.classList.add('colab-df-spinner');\n",
              "          try {\n",
              "            const charts = await google.colab.kernel.invokeFunction(\n",
              "                'suggestCharts', [key], {});\n",
              "          } catch (error) {\n",
              "            console.error('Error during call to suggestCharts:', error);\n",
              "          }\n",
              "          quickchartButtonEl.classList.remove('colab-df-spinner');\n",
              "          quickchartButtonEl.classList.add('colab-df-quickchart-complete');\n",
              "        }\n",
              "        (() => {\n",
              "          let quickchartButtonEl =\n",
              "            document.querySelector('#df-68004b56-f012-4ea4-9cea-92d2f07791e0 button');\n",
              "          quickchartButtonEl.style.display =\n",
              "            google.colab.kernel.accessAllowed ? 'block' : 'none';\n",
              "        })();\n",
              "      </script>\n",
              "    </div>\n",
              "\n",
              "    </div>\n",
              "  </div>\n"
            ],
            "application/vnd.google.colaboratory.intrinsic+json": {
              "type": "dataframe",
              "summary": "{\n  \"name\": \"perform_backtest(data, lev=1, initial_capital=100000 , lot_size=1, tsl=100)\",\n  \"rows\": 72,\n  \"fields\": [\n    {\n      \"column\": \"Entry Candle\",\n      \"properties\": {\n        \"dtype\": \"date\",\n        \"min\": \"2024-01-05 00:00:00\",\n        \"max\": \"2025-04-28 00:00:00\",\n        \"num_unique_values\": 72,\n        \"samples\": [\n          \"2024-02-12 00:00:00\",\n          \"2025-02-20 00:00:00\",\n          \"2024-04-29 00:00:00\"\n        ],\n        \"semantic_type\": \"\",\n        \"description\": \"\"\n      }\n    },\n    {\n      \"column\": \"Exit Candle\",\n      \"properties\": {\n        \"dtype\": \"date\",\n        \"min\": \"2024-01-17 00:00:00\",\n        \"max\": \"2025-05-02 00:00:00\",\n        \"num_unique_values\": 72,\n        \"samples\": [\n          \"2024-02-15 00:00:00\",\n          \"2025-02-25 00:00:00\",\n          \"2024-04-30 00:00:00\"\n        ],\n        \"semantic_type\": \"\",\n        \"description\": \"\"\n      }\n    },\n    {\n      \"column\": \"PnL\",\n      \"properties\": {\n        \"dtype\": \"number\",\n        \"std\": 2103.8690587176943,\n        \"min\": -4980.65185546875,\n        \"max\": 4669.30859375,\n        \"num_unique_values\": 72,\n        \"samples\": [\n          -1858.0517578125,\n          -1410.0,\n          -2015.7568359375\n        ],\n        \"semantic_type\": \"\",\n        \"description\": \"\"\n      }\n    },\n    {\n      \"column\": \"Number of units\",\n      \"properties\": {\n        \"dtype\": \"number\",\n        \"std\": 9.1773412026194,\n        \"min\": 8.0,\n        \"max\": 37.0,\n        \"num_unique_values\": 24,\n        \"samples\": [\n          24.0,\n          15.0,\n          37.0\n        ],\n        \"semantic_type\": \"\",\n        \"description\": \"\"\n      }\n    },\n    {\n      \"column\": \"Trade type\",\n      \"properties\": {\n        \"dtype\": \"category\",\n        \"num_unique_values\": 2,\n        \"samples\": [\n          \"Short\",\n          \"Long\"\n        ],\n        \"semantic_type\": \"\",\n        \"description\": \"\"\n      }\n    }\n  ]\n}"
            }
          },
          "metadata": {},
          "execution_count": 48
        }
      ]
    },
    {
      "cell_type": "markdown",
      "source": [
        "# 4. Incorporating a Complementary Indicator:"
      ],
      "metadata": {
        "id": "LTYnzZNOsRDC"
      }
    },
    {
      "cell_type": "code",
      "source": [
        "def add_bollinger_bands(df, window=20, num_std=2):\n",
        "    df['bb_mid'] = df['close'].rolling(window).mean()\n",
        "    rolling_std = df['close'].rolling(window).std()\n",
        "    df['bb_upper'] = df['bb_mid'] + num_std * rolling_std\n",
        "    df['bb_lower'] = df['bb_mid'] - num_std * rolling_std\n",
        "    return df\n"
      ],
      "metadata": {
        "id": "KPNv0v2LuY4d"
      },
      "execution_count": null,
      "outputs": []
    },
    {
      "cell_type": "code",
      "source": [
        "stock = add_bollinger_bands(stock)"
      ],
      "metadata": {
        "id": "PzsuBIkb54ES"
      },
      "execution_count": null,
      "outputs": []
    },
    {
      "cell_type": "code",
      "source": [
        "def calculate_supertrend(df, period=10, multiplier=3):\n",
        "    hl2 = (df['high'] + df['low']) / 2\n",
        "    atr = df['high'].rolling(period).max() - df['low'].rolling(period).min()\n",
        "    atr = atr.ewm(span=period, adjust=False).mean()\n",
        "\n",
        "    upperband = hl2 + (multiplier * atr)\n",
        "    lowerband = hl2 - (multiplier * atr)\n",
        "\n",
        "    supertrend = [True]  # True = uptrend, False = downtrend\n",
        "\n",
        "    for i in range(1, len(df)):\n",
        "        if df['close'][i] > upperband[i - 1]:\n",
        "            supertrend.append(True)\n",
        "        elif df['close'][i] < lowerband[i - 1]:\n",
        "            supertrend.append(False)\n",
        "        else:\n",
        "            supertrend.append(supertrend[i - 1])\n",
        "\n",
        "    df['supertrend'] = ['up' if val else 'down' for val in supertrend]\n",
        "    return df\n"
      ],
      "metadata": {
        "id": "SBRzv6-H6Mib"
      },
      "execution_count": null,
      "outputs": []
    },
    {
      "cell_type": "code",
      "source": [
        "def calculate_mfi(df, period=14):\n",
        "    typical_price = (df['high'] + df['low'] + df['close']) / 3\n",
        "    money_flow = typical_price * df['volume']\n",
        "    positive_flow = []\n",
        "    negative_flow = []\n",
        "\n",
        "    for i in range(1, len(typical_price)):\n",
        "        if typical_price[i] > typical_price[i - 1]:\n",
        "            positive_flow.append(money_flow[i])\n",
        "            negative_flow.append(0)\n",
        "        else:\n",
        "            negative_flow.append(money_flow[i])\n",
        "            positive_flow.append(0)\n",
        "\n",
        "    positive_mf = pd.Series(positive_flow).rolling(period).sum()\n",
        "    negative_mf = pd.Series(negative_flow).rolling(period).sum()\n",
        "\n",
        "    mfi = 100 - (100 / (1 + (positive_mf / negative_mf)))\n",
        "    mfi = pd.Series([None] + mfi.tolist())\n",
        "    df['mfi'] = mfi\n",
        "    return df\n"
      ],
      "metadata": {
        "id": "RuhNd4Wv6Qcu"
      },
      "execution_count": null,
      "outputs": []
    },
    {
      "cell_type": "code",
      "source": [
        "def generate_strategy_Y_signals(df):\n",
        "    signals = []\n",
        "\n",
        "    for i in range(1, len(df)):\n",
        "        row = df.iloc[i]\n",
        "        prev = df.iloc[i - 1]\n",
        "\n",
        "        buy = (\n",
        "            row['supertrend'] == 'up' and\n",
        "            row['mfi'] < 30 and\n",
        "            prev['close'] < prev['bb_lower'] and row['close'] > row['bb_lower']\n",
        "        )\n",
        "\n",
        "        sell = (\n",
        "            row['supertrend'] == 'down' and\n",
        "            row['mfi'] > 70 and\n",
        "            prev['close'] > prev['bb_upper'] and row['close'] < row['bb_upper']\n",
        "        )\n",
        "\n",
        "        if buy:\n",
        "            signals.append(1)\n",
        "        elif sell:\n",
        "            signals.append(-1)\n",
        "        else:\n",
        "            signals.append(0)\n",
        "\n",
        "    # Pad first row with 0 since we used i-1\n",
        "    signals = [0] + signals\n",
        "    df['signals'] = signals\n",
        "    return df\n"
      ],
      "metadata": {
        "id": "okm7eVF5uZsH"
      },
      "execution_count": null,
      "outputs": []
    },
    {
      "cell_type": "code",
      "source": [
        "if 'timestamp' in stock.columns and stock.index.name == 'timestamp':\n",
        "    stock.reset_index(inplace=True)\n",
        "elif stock.index.name is not None:\n",
        "    stock.reset_index(inplace=True)\n",
        "\n",
        "\n",
        "if 'datetime' in stock.columns and 'timestamp' not in stock.columns:\n",
        "    stock.rename(columns={'datetime': 'timestamp'}, inplace=True)\n",
        "elif 'index' in stock.columns and 'timestamp' not in stock.columns:\n",
        "    stock.rename(columns={'index': 'timestamp'}, inplace=True)\n",
        "\n",
        "\n",
        "stock = stock.loc[:, ~stock.columns.duplicated()]\n",
        "\n",
        "\n",
        "if 'timestamp' in stock.columns:\n",
        "    stock['timestamp'] = pd.to_datetime(stock['timestamp'])\n",
        "else:\n",
        "    raise KeyError(\"No 'timestamp' column found after renaming.\")\n",
        "\n",
        "\n",
        "\n",
        "\n",
        "stock = calculate_supertrend(stock)\n",
        "stock = calculate_mfi(stock)\n",
        "stock = add_bollinger_bands(stock)\n",
        "\n",
        "\n",
        "stock = generate_strategy_Y_signals(stock)\n",
        "\n",
        "\n",
        "perform_backtest(stock, lev=1, initial_capital=100000, lot_size=1, tsl=100)\n"
      ],
      "metadata": {
        "colab": {
          "base_uri": "https://localhost:8080/",
          "height": 1000
        },
        "collapsed": true,
        "id": "yOcOtAzTx1G_",
        "outputId": "25e25b97-3524-4ef4-b78a-dd6c861f2688"
      },
      "execution_count": null,
      "outputs": [
        {
          "output_type": "stream",
          "name": "stderr",
          "text": [
            "<ipython-input-57-1824040774>:18: SettingWithCopyWarning:\n",
            "\n",
            "\n",
            "A value is trying to be set on a copy of a slice from a DataFrame.\n",
            "Try using .loc[row_indexer,col_indexer] = value instead\n",
            "\n",
            "See the caveats in the documentation: https://pandas.pydata.org/pandas-docs/stable/user_guide/indexing.html#returning-a-view-versus-a-copy\n",
            "\n",
            "<ipython-input-53-268681738>:19: SettingWithCopyWarning:\n",
            "\n",
            "\n",
            "A value is trying to be set on a copy of a slice from a DataFrame.\n",
            "Try using .loc[row_indexer,col_indexer] = value instead\n",
            "\n",
            "See the caveats in the documentation: https://pandas.pydata.org/pandas-docs/stable/user_guide/indexing.html#returning-a-view-versus-a-copy\n",
            "\n"
          ]
        },
        {
          "output_type": "stream",
          "name": "stdout",
          "text": [
            "BACKTEST RESULTS:\n",
            "Backtest Period: 0 years and 0 months\n",
            "Benchmark Returns: 77.42 %\n",
            "Initial Capital: 100000\n",
            "Final Capital: 123732.40\n",
            "Profit percentage: 23.73 %\n",
            "Leverage applied: 1\n",
            "Maximum Portfolio balance: 123732.40\n",
            "Minimum Portfolio balance: 100000.00\n",
            "Number of trades: 1\n",
            "Winning Trades: 1\n",
            "Losing Trades: 0\n",
            "Win Rate: 100.00 %\n",
            "Average Profit: 23732.40\n",
            "Average Loss: 0.00\n",
            "No of Long Trades: 1\n",
            "No of Short Trades: 0\n",
            "Average drawdown: 0.00 %\n",
            "Maximum drawdown: 0.00 %\n",
            "Sharpe Ratio: nan\n",
            "Sortino Ratio: nan\n",
            "Maximum Holding Time: 0 days, 00:00:00\n",
            "Average Holding Time: 0 days, 00:00:00\n"
          ]
        },
        {
          "output_type": "stream",
          "name": "stderr",
          "text": [
            "/usr/local/lib/python3.11/dist-packages/plotly/io/_json.py:560: UserWarning:\n",
            "\n",
            "Discarding nonzero nanoseconds in conversion.\n",
            "\n"
          ]
        },
        {
          "output_type": "display_data",
          "data": {
            "text/html": [
              "<html>\n",
              "<head><meta charset=\"utf-8\" /></head>\n",
              "<body>\n",
              "    <div>            <script src=\"https://cdnjs.cloudflare.com/ajax/libs/mathjax/2.7.5/MathJax.js?config=TeX-AMS-MML_SVG\"></script><script type=\"text/javascript\">if (window.MathJax && window.MathJax.Hub && window.MathJax.Hub.Config) {window.MathJax.Hub.Config({SVG: {font: \"STIX-Web\"}});}</script>                <script type=\"text/javascript\">window.PlotlyConfig = {MathJaxConfig: 'local'};</script>\n",
              "        <script charset=\"utf-8\" src=\"https://cdn.plot.ly/plotly-2.35.2.min.js\"></script>                <div id=\"77154817-0148-467d-ae04-958bd8fff414\" class=\"plotly-graph-div\" style=\"height:800px; width:100%;\"></div>            <script type=\"text/javascript\">                                    window.PLOTLYENV=window.PLOTLYENV || {};                                    if (document.getElementById(\"77154817-0148-467d-ae04-958bd8fff414\")) {                    Plotly.newPlot(                        \"77154817-0148-467d-ae04-958bd8fff414\",                        [{\"line\":{\"color\":\"green\"},\"mode\":\"lines\",\"name\":\"Capital\",\"y\":[100000,123732.40234375],\"type\":\"scatter\",\"xaxis\":\"x\",\"yaxis\":\"y\"},{\"line\":{\"color\":\"blue\"},\"mode\":\"lines\",\"name\":\"Close Price\",\"x\":[\"1970-01-01T00:00:00\",\"1970-01-01T00:00:00\",\"1970-01-01T00:00:00\",\"1970-01-01T00:00:00\",\"1970-01-01T00:00:00\",\"1970-01-01T00:00:00\",\"1970-01-01T00:00:00\",\"1970-01-01T00:00:00\",\"1970-01-01T00:00:00\",\"1970-01-01T00:00:00\",\"1970-01-01T00:00:00\",\"1970-01-01T00:00:00\",\"1970-01-01T00:00:00\",\"1970-01-01T00:00:00\",\"1970-01-01T00:00:00\",\"1970-01-01T00:00:00\",\"1970-01-01T00:00:00\",\"1970-01-01T00:00:00\",\"1970-01-01T00:00:00\",\"1970-01-01T00:00:00\",\"1970-01-01T00:00:00\",\"1970-01-01T00:00:00\",\"1970-01-01T00:00:00\",\"1970-01-01T00:00:00\",\"1970-01-01T00:00:00\",\"1970-01-01T00:00:00\",\"1970-01-01T00:00:00\",\"1970-01-01T00:00:00\",\"1970-01-01T00:00:00\",\"1970-01-01T00:00:00\",\"1970-01-01T00:00:00\",\"1970-01-01T00:00:00\",\"1970-01-01T00:00:00\",\"1970-01-01T00:00:00\",\"1970-01-01T00:00:00\",\"1970-01-01T00:00:00\",\"1970-01-01T00:00:00\",\"1970-01-01T00:00:00\",\"1970-01-01T00:00:00\",\"1970-01-01T00:00:00\",\"1970-01-01T00:00:00\",\"1970-01-01T00:00:00\",\"1970-01-01T00:00:00\",\"1970-01-01T00:00:00\",\"1970-01-01T00:00:00\",\"1970-01-01T00:00:00\",\"1970-01-01T00:00:00\",\"1970-01-01T00:00:00\",\"1970-01-01T00:00:00\",\"1970-01-01T00:00:00\",\"1970-01-01T00:00:00\",\"1970-01-01T00:00:00\",\"1970-01-01T00:00:00\",\"1970-01-01T00:00:00\",\"1970-01-01T00:00:00\",\"1970-01-01T00:00:00\",\"1970-01-01T00:00:00\",\"1970-01-01T00:00:00\",\"1970-01-01T00:00:00\",\"1970-01-01T00:00:00\",\"1970-01-01T00:00:00\",\"1970-01-01T00:00:00\",\"1970-01-01T00:00:00\",\"1970-01-01T00:00:00\",\"1970-01-01T00:00:00\",\"1970-01-01T00:00:00\",\"1970-01-01T00:00:00\",\"1970-01-01T00:00:00\",\"1970-01-01T00:00:00\",\"1970-01-01T00:00:00\",\"1970-01-01T00:00:00\",\"1970-01-01T00:00:00\",\"1970-01-01T00:00:00\",\"1970-01-01T00:00:00\",\"1970-01-01T00:00:00\",\"1970-01-01T00:00:00\",\"1970-01-01T00:00:00\",\"1970-01-01T00:00:00\",\"1970-01-01T00:00:00\",\"1970-01-01T00:00:00\",\"1970-01-01T00:00:00\",\"1970-01-01T00:00:00\",\"1970-01-01T00:00:00\",\"1970-01-01T00:00:00\",\"1970-01-01T00:00:00\",\"1970-01-01T00:00:00\",\"1970-01-01T00:00:00\",\"1970-01-01T00:00:00\",\"1970-01-01T00:00:00\",\"1970-01-01T00:00:00\",\"1970-01-01T00:00:00\",\"1970-01-01T00:00:00\",\"1970-01-01T00:00:00\",\"1970-01-01T00:00:00\",\"1970-01-01T00:00:00\",\"1970-01-01T00:00:00\",\"1970-01-01T00:00:00\",\"1970-01-01T00:00:00\",\"1970-01-01T00:00:00\",\"1970-01-01T00:00:00\",\"1970-01-01T00:00:00\",\"1970-01-01T00:00:00\",\"1970-01-01T00:00:00\",\"1970-01-01T00:00:00\",\"1970-01-01T00:00:00\",\"1970-01-01T00:00:00\",\"1970-01-01T00:00:00\",\"1970-01-01T00:00:00\",\"1970-01-01T00:00:00\",\"1970-01-01T00:00:00\",\"1970-01-01T00:00:00\",\"1970-01-01T00:00:00\",\"1970-01-01T00:00:00\",\"1970-01-01T00:00:00\",\"1970-01-01T00:00:00\",\"1970-01-01T00:00:00\",\"1970-01-01T00:00:00\",\"1970-01-01T00:00:00\",\"1970-01-01T00:00:00\",\"1970-01-01T00:00:00\",\"1970-01-01T00:00:00\",\"1970-01-01T00:00:00\",\"1970-01-01T00:00:00\",\"1970-01-01T00:00:00\",\"1970-01-01T00:00:00\",\"1970-01-01T00:00:00\",\"1970-01-01T00:00:00\",\"1970-01-01T00:00:00\",\"1970-01-01T00:00:00\",\"1970-01-01T00:00:00\",\"1970-01-01T00:00:00\",\"1970-01-01T00:00:00\",\"1970-01-01T00:00:00\",\"1970-01-01T00:00:00\",\"1970-01-01T00:00:00\",\"1970-01-01T00:00:00\",\"1970-01-01T00:00:00\",\"1970-01-01T00:00:00\",\"1970-01-01T00:00:00\",\"1970-01-01T00:00:00\",\"1970-01-01T00:00:00\",\"1970-01-01T00:00:00\",\"1970-01-01T00:00:00\",\"1970-01-01T00:00:00\",\"1970-01-01T00:00:00\",\"1970-01-01T00:00:00\",\"1970-01-01T00:00:00\",\"1970-01-01T00:00:00\",\"1970-01-01T00:00:00\",\"1970-01-01T00:00:00\",\"1970-01-01T00:00:00\",\"1970-01-01T00:00:00\",\"1970-01-01T00:00:00\",\"1970-01-01T00:00:00\",\"1970-01-01T00:00:00\",\"1970-01-01T00:00:00\",\"1970-01-01T00:00:00\",\"1970-01-01T00:00:00\",\"1970-01-01T00:00:00\",\"1970-01-01T00:00:00\",\"1970-01-01T00:00:00\",\"1970-01-01T00:00:00\",\"1970-01-01T00:00:00\",\"1970-01-01T00:00:00\",\"1970-01-01T00:00:00\",\"1970-01-01T00:00:00\",\"1970-01-01T00:00:00\",\"1970-01-01T00:00:00\",\"1970-01-01T00:00:00\",\"1970-01-01T00:00:00\",\"1970-01-01T00:00:00\",\"1970-01-01T00:00:00\",\"1970-01-01T00:00:00\",\"1970-01-01T00:00:00\",\"1970-01-01T00:00:00\",\"1970-01-01T00:00:00\",\"1970-01-01T00:00:00\",\"1970-01-01T00:00:00\",\"1970-01-01T00:00:00\",\"1970-01-01T00:00:00\",\"1970-01-01T00:00:00\",\"1970-01-01T00:00:00\",\"1970-01-01T00:00:00\",\"1970-01-01T00:00:00\",\"1970-01-01T00:00:00\",\"1970-01-01T00:00:00\",\"1970-01-01T00:00:00\",\"1970-01-01T00:00:00\",\"1970-01-01T00:00:00\",\"1970-01-01T00:00:00\",\"1970-01-01T00:00:00\",\"1970-01-01T00:00:00\",\"1970-01-01T00:00:00\",\"1970-01-01T00:00:00\",\"1970-01-01T00:00:00\",\"1970-01-01T00:00:00\",\"1970-01-01T00:00:00\",\"1970-01-01T00:00:00\",\"1970-01-01T00:00:00\",\"1970-01-01T00:00:00\",\"1970-01-01T00:00:00\",\"1970-01-01T00:00:00\",\"1970-01-01T00:00:00\",\"1970-01-01T00:00:00\",\"1970-01-01T00:00:00\",\"1970-01-01T00:00:00\",\"1970-01-01T00:00:00\",\"1970-01-01T00:00:00\",\"1970-01-01T00:00:00\",\"1970-01-01T00:00:00\",\"1970-01-01T00:00:00\",\"1970-01-01T00:00:00\",\"1970-01-01T00:00:00\",\"1970-01-01T00:00:00\",\"1970-01-01T00:00:00\",\"1970-01-01T00:00:00\",\"1970-01-01T00:00:00\",\"1970-01-01T00:00:00\",\"1970-01-01T00:00:00\",\"1970-01-01T00:00:00\",\"1970-01-01T00:00:00\",\"1970-01-01T00:00:00\",\"1970-01-01T00:00:00\",\"1970-01-01T00:00:00\",\"1970-01-01T00:00:00\",\"1970-01-01T00:00:00\",\"1970-01-01T00:00:00\",\"1970-01-01T00:00:00\",\"1970-01-01T00:00:00\",\"1970-01-01T00:00:00\",\"1970-01-01T00:00:00\",\"1970-01-01T00:00:00\",\"1970-01-01T00:00:00\",\"1970-01-01T00:00:00\",\"1970-01-01T00:00:00\",\"1970-01-01T00:00:00\",\"1970-01-01T00:00:00\",\"1970-01-01T00:00:00\",\"1970-01-01T00:00:00\",\"1970-01-01T00:00:00\",\"1970-01-01T00:00:00\",\"1970-01-01T00:00:00\",\"1970-01-01T00:00:00\",\"1970-01-01T00:00:00\",\"1970-01-01T00:00:00\",\"1970-01-01T00:00:00\",\"1970-01-01T00:00:00\",\"1970-01-01T00:00:00\",\"1970-01-01T00:00:00\",\"1970-01-01T00:00:00\",\"1970-01-01T00:00:00\",\"1970-01-01T00:00:00\",\"1970-01-01T00:00:00\",\"1970-01-01T00:00:00\",\"1970-01-01T00:00:00\",\"1970-01-01T00:00:00\",\"1970-01-01T00:00:00\",\"1970-01-01T00:00:00\",\"1970-01-01T00:00:00\",\"1970-01-01T00:00:00\",\"1970-01-01T00:00:00\",\"1970-01-01T00:00:00\",\"1970-01-01T00:00:00\",\"1970-01-01T00:00:00\",\"1970-01-01T00:00:00\",\"1970-01-01T00:00:00\",\"1970-01-01T00:00:00\",\"1970-01-01T00:00:00\",\"1970-01-01T00:00:00\",\"1970-01-01T00:00:00\",\"1970-01-01T00:00:00\",\"1970-01-01T00:00:00\",\"1970-01-01T00:00:00\",\"1970-01-01T00:00:00\",\"1970-01-01T00:00:00\",\"1970-01-01T00:00:00\",\"1970-01-01T00:00:00\",\"1970-01-01T00:00:00\",\"1970-01-01T00:00:00\",\"1970-01-01T00:00:00\",\"1970-01-01T00:00:00\",\"1970-01-01T00:00:00\",\"1970-01-01T00:00:00\",\"1970-01-01T00:00:00\",\"1970-01-01T00:00:00\",\"1970-01-01T00:00:00\",\"1970-01-01T00:00:00\",\"1970-01-01T00:00:00\",\"1970-01-01T00:00:00\",\"1970-01-01T00:00:00\",\"1970-01-01T00:00:00\",\"1970-01-01T00:00:00\",\"1970-01-01T00:00:00\",\"1970-01-01T00:00:00\",\"1970-01-01T00:00:00\",\"1970-01-01T00:00:00\",\"1970-01-01T00:00:00\",\"1970-01-01T00:00:00\",\"1970-01-01T00:00:00\",\"1970-01-01T00:00:00\",\"1970-01-01T00:00:00\",\"1970-01-01T00:00:00\",\"1970-01-01T00:00:00\",\"1970-01-01T00:00:00\",\"1970-01-01T00:00:00\",\"1970-01-01T00:00:00\",\"1970-01-01T00:00:00\",\"1970-01-01T00:00:00\",\"1970-01-01T00:00:00\",\"1970-01-01T00:00:00\",\"1970-01-01T00:00:00\",\"1970-01-01T00:00:00\",\"1970-01-01T00:00:00\",\"1970-01-01T00:00:00\",\"1970-01-01T00:00:00\",\"1970-01-01T00:00:00\",\"1970-01-01T00:00:00\",\"1970-01-01T00:00:00\",\"1970-01-01T00:00:00\",\"1970-01-01T00:00:00\",\"1970-01-01T00:00:00\",\"1970-01-01T00:00:00\",\"1970-01-01T00:00:00\",\"1970-01-01T00:00:00\",\"1970-01-01T00:00:00\",\"1970-01-01T00:00:00\",\"1970-01-01T00:00:00\",\"1970-01-01T00:00:00\",\"1970-01-01T00:00:00\",\"1970-01-01T00:00:00\",\"1970-01-01T00:00:00\",\"1970-01-01T00:00:00\",\"1970-01-01T00:00:00\",\"1970-01-01T00:00:00\",\"1970-01-01T00:00:00\",\"1970-01-01T00:00:00\",\"1970-01-01T00:00:00\",\"1970-01-01T00:00:00\",\"1970-01-01T00:00:00\",\"1970-01-01T00:00:00\",\"1970-01-01T00:00:00\",\"1970-01-01T00:00:00\",\"1970-01-01T00:00:00\",\"1970-01-01T00:00:00\",\"1970-01-01T00:00:00\",\"1970-01-01T00:00:00\",\"1970-01-01T00:00:00\",\"1970-01-01T00:00:00\",\"1970-01-01T00:00:00\",\"1970-01-01T00:00:00\",\"1970-01-01T00:00:00\",\"1970-01-01T00:00:00\",\"1970-01-01T00:00:00\",\"1970-01-01T00:00:00\",\"1970-01-01T00:00:00\",\"1970-01-01T00:00:00\",\"1970-01-01T00:00:00\",\"1970-01-01T00:00:00\",\"1970-01-01T00:00:00\",\"1970-01-01T00:00:00\",\"1970-01-01T00:00:00\",\"1970-01-01T00:00:00\",\"1970-01-01T00:00:00\",\"1970-01-01T00:00:00\",\"1970-01-01T00:00:00\",\"1970-01-01T00:00:00\",\"1970-01-01T00:00:00\",\"1970-01-01T00:00:00\",\"1970-01-01T00:00:00\",\"1970-01-01T00:00:00\",\"1970-01-01T00:00:00\",\"1970-01-01T00:00:00\",\"1970-01-01T00:00:00\",\"1970-01-01T00:00:00\",\"1970-01-01T00:00:00\",\"1970-01-01T00:00:00\",\"1970-01-01T00:00:00\",\"1970-01-01T00:00:00\",\"1970-01-01T00:00:00\",\"1970-01-01T00:00:00\",\"1970-01-01T00:00:00\",\"1970-01-01T00:00:00\",\"1970-01-01T00:00:00\",\"1970-01-01T00:00:00\",\"1970-01-01T00:00:00\",\"1970-01-01T00:00:00\",\"1970-01-01T00:00:00\",\"1970-01-01T00:00:00\",\"1970-01-01T00:00:00\",\"1970-01-01T00:00:00\",\"1970-01-01T00:00:00\",\"1970-01-01T00:00:00\",\"1970-01-01T00:00:00\",\"1970-01-01T00:00:00\",\"1970-01-01T00:00:00\",\"1970-01-01T00:00:00\",\"1970-01-01T00:00:00\",\"1970-01-01T00:00:00\",\"1970-01-01T00:00:00\",\"1970-01-01T00:00:00\",\"1970-01-01T00:00:00\",\"1970-01-01T00:00:00\",\"1970-01-01T00:00:00\",\"1970-01-01T00:00:00\",\"1970-01-01T00:00:00\",\"1970-01-01T00:00:00\",\"1970-01-01T00:00:00\",\"1970-01-01T00:00:00\",\"1970-01-01T00:00:00\",\"1970-01-01T00:00:00\",\"1970-01-01T00:00:00\",\"1970-01-01T00:00:00\",\"1970-01-01T00:00:00\",\"1970-01-01T00:00:00\",\"1970-01-01T00:00:00\",\"1970-01-01T00:00:00\",\"1970-01-01T00:00:00\",\"1970-01-01T00:00:00\",\"1970-01-01T00:00:00\",\"1970-01-01T00:00:00\",\"1970-01-01T00:00:00\",\"1970-01-01T00:00:00\",\"1970-01-01T00:00:00\",\"1970-01-01T00:00:00\",\"1970-01-01T00:00:00\",\"1970-01-01T00:00:00\",\"1970-01-01T00:00:00\",\"1970-01-01T00:00:00\",\"1970-01-01T00:00:00\",\"1970-01-01T00:00:00\",\"1970-01-01T00:00:00\",\"1970-01-01T00:00:00\",\"1970-01-01T00:00:00\",\"1970-01-01T00:00:00\",\"1970-01-01T00:00:00\",\"1970-01-01T00:00:00\",\"1970-01-01T00:00:00\",\"1970-01-01T00:00:00\",\"1970-01-01T00:00:00\",\"1970-01-01T00:00:00\",\"1970-01-01T00:00:00\",\"1970-01-01T00:00:00\",\"1970-01-01T00:00:00\",\"1970-01-01T00:00:00\",\"1970-01-01T00:00:00\",\"1970-01-01T00:00:00\",\"1970-01-01T00:00:00\",\"1970-01-01T00:00:00\",\"1970-01-01T00:00:00\",\"1970-01-01T00:00:00\",\"1970-01-01T00:00:00\",\"1970-01-01T00:00:00\",\"1970-01-01T00:00:00\",\"1970-01-01T00:00:00\",\"1970-01-01T00:00:00\",\"1970-01-01T00:00:00\",\"1970-01-01T00:00:00\",\"1970-01-01T00:00:00\",\"1970-01-01T00:00:00\",\"1970-01-01T00:00:00\",\"1970-01-01T00:00:00\",\"1970-01-01T00:00:00\",\"1970-01-01T00:00:00\",\"1970-01-01T00:00:00\",\"1970-01-01T00:00:00\",\"1970-01-01T00:00:00\",\"1970-01-01T00:00:00\",\"1970-01-01T00:00:00\",\"1970-01-01T00:00:00\",\"1970-01-01T00:00:00\",\"1970-01-01T00:00:00\",\"1970-01-01T00:00:00\",\"1970-01-01T00:00:00\",\"1970-01-01T00:00:00\",\"1970-01-01T00:00:00\",\"1970-01-01T00:00:00\",\"1970-01-01T00:00:00\",\"1970-01-01T00:00:00\",\"1970-01-01T00:00:00\",\"1970-01-01T00:00:00\",\"1970-01-01T00:00:00\",\"1970-01-01T00:00:00\",\"1970-01-01T00:00:00\",\"1970-01-01T00:00:00\",\"1970-01-01T00:00:00\",\"1970-01-01T00:00:00\",\"1970-01-01T00:00:00\",\"1970-01-01T00:00:00\",\"1970-01-01T00:00:00\",\"1970-01-01T00:00:00\",\"1970-01-01T00:00:00\",\"1970-01-01T00:00:00\",\"1970-01-01T00:00:00\",\"1970-01-01T00:00:00\",\"1970-01-01T00:00:00\",\"1970-01-01T00:00:00\",\"1970-01-01T00:00:00\",\"1970-01-01T00:00:00\",\"1970-01-01T00:00:00\",\"1970-01-01T00:00:00\",\"1970-01-01T00:00:00\",\"1970-01-01T00:00:00\",\"1970-01-01T00:00:00\",\"1970-01-01T00:00:00\",\"1970-01-01T00:00:00\",\"1970-01-01T00:00:00\",\"1970-01-01T00:00:00\",\"1970-01-01T00:00:00\",\"1970-01-01T00:00:00\",\"1970-01-01T00:00:00\",\"1970-01-01T00:00:00\",\"1970-01-01T00:00:00\",\"1970-01-01T00:00:00\",\"1970-01-01T00:00:00\",\"1970-01-01T00:00:00\",\"1970-01-01T00:00:00\",\"1970-01-01T00:00:00\",\"1970-01-01T00:00:00\",\"1970-01-01T00:00:00\",\"1970-01-01T00:00:00\",\"1970-01-01T00:00:00\",\"1970-01-01T00:00:00\",\"1970-01-01T00:00:00\",\"1970-01-01T00:00:00\",\"1970-01-01T00:00:00\",\"1970-01-01T00:00:00\",\"1970-01-01T00:00:00\",\"1970-01-01T00:00:00\",\"1970-01-01T00:00:00\",\"1970-01-01T00:00:00\",\"1970-01-01T00:00:00\",\"1970-01-01T00:00:00\",\"1970-01-01T00:00:00\",\"1970-01-01T00:00:00\",\"1970-01-01T00:00:00\",\"1970-01-01T00:00:00\",\"1970-01-01T00:00:00\",\"1970-01-01T00:00:00\",\"1970-01-01T00:00:00\",\"1970-01-01T00:00:00\",\"1970-01-01T00:00:00\",\"1970-01-01T00:00:00\",\"1970-01-01T00:00:00\",\"1970-01-01T00:00:00\",\"1970-01-01T00:00:00\",\"1970-01-01T00:00:00\",\"1970-01-01T00:00:00\",\"1970-01-01T00:00:00\",\"1970-01-01T00:00:00\",\"1970-01-01T00:00:00\",\"1970-01-01T00:00:00\",\"1970-01-01T00:00:00\",\"1970-01-01T00:00:00\",\"1970-01-01T00:00:00\",\"1970-01-01T00:00:00\",\"1970-01-01T00:00:00\",\"1970-01-01T00:00:00\",\"1970-01-01T00:00:00\",\"1970-01-01T00:00:00\",\"1970-01-01T00:00:00\",\"1970-01-01T00:00:00\",\"1970-01-01T00:00:00\",\"1970-01-01T00:00:00\",\"1970-01-01T00:00:00\",\"1970-01-01T00:00:00\",\"1970-01-01T00:00:00\",\"1970-01-01T00:00:00\",\"1970-01-01T00:00:00\",\"1970-01-01T00:00:00\",\"1970-01-01T00:00:00\",\"1970-01-01T00:00:00\",\"1970-01-01T00:00:00\",\"1970-01-01T00:00:00\",\"1970-01-01T00:00:00\",\"1970-01-01T00:00:00\",\"1970-01-01T00:00:00\",\"1970-01-01T00:00:00\",\"1970-01-01T00:00:00\",\"1970-01-01T00:00:00\",\"1970-01-01T00:00:00\",\"1970-01-01T00:00:00\",\"1970-01-01T00:00:00\",\"1970-01-01T00:00:00\",\"1970-01-01T00:00:00\",\"1970-01-01T00:00:00\",\"1970-01-01T00:00:00\",\"1970-01-01T00:00:00\",\"1970-01-01T00:00:00\",\"1970-01-01T00:00:00\",\"1970-01-01T00:00:00\",\"1970-01-01T00:00:00\",\"1970-01-01T00:00:00\",\"1970-01-01T00:00:00\",\"1970-01-01T00:00:00\",\"1970-01-01T00:00:00\",\"1970-01-01T00:00:00\",\"1970-01-01T00:00:00\",\"1970-01-01T00:00:00\",\"1970-01-01T00:00:00\",\"1970-01-01T00:00:00\",\"1970-01-01T00:00:00\",\"1970-01-01T00:00:00\",\"1970-01-01T00:00:00\",\"1970-01-01T00:00:00\",\"1970-01-01T00:00:00\",\"1970-01-01T00:00:00\",\"1970-01-01T00:00:00\",\"1970-01-01T00:00:00\",\"1970-01-01T00:00:00\",\"1970-01-01T00:00:00\",\"1970-01-01T00:00:00\",\"1970-01-01T00:00:00\",\"1970-01-01T00:00:00\",\"1970-01-01T00:00:00\",\"1970-01-01T00:00:00\",\"1970-01-01T00:00:00\",\"1970-01-01T00:00:00\",\"1970-01-01T00:00:00\",\"1970-01-01T00:00:00\",\"1970-01-01T00:00:00\",\"1970-01-01T00:00:00\",\"1970-01-01T00:00:00\",\"1970-01-01T00:00:00\",\"1970-01-01T00:00:00\",\"1970-01-01T00:00:00\",\"1970-01-01T00:00:00\",\"1970-01-01T00:00:00\",\"1970-01-01T00:00:00\",\"1970-01-01T00:00:00\",\"1970-01-01T00:00:00\",\"1970-01-01T00:00:00\",\"1970-01-01T00:00:00\",\"1970-01-01T00:00:00\",\"1970-01-01T00:00:00\",\"1970-01-01T00:00:00\",\"1970-01-01T00:00:00\",\"1970-01-01T00:00:00\",\"1970-01-01T00:00:00\",\"1970-01-01T00:00:00\",\"1970-01-01T00:00:00\",\"1970-01-01T00:00:00\",\"1970-01-01T00:00:00\",\"1970-01-01T00:00:00\",\"1970-01-01T00:00:00\",\"1970-01-01T00:00:00\",\"1970-01-01T00:00:00\",\"1970-01-01T00:00:00\",\"1970-01-01T00:00:00\",\"1970-01-01T00:00:00\",\"1970-01-01T00:00:00\",\"1970-01-01T00:00:00\",\"1970-01-01T00:00:00\",\"1970-01-01T00:00:00\",\"1970-01-01T00:00:00\",\"1970-01-01T00:00:00\",\"1970-01-01T00:00:00\",\"1970-01-01T00:00:00\",\"1970-01-01T00:00:00\",\"1970-01-01T00:00:00\",\"1970-01-01T00:00:00\",\"1970-01-01T00:00:00\",\"1970-01-01T00:00:00\",\"1970-01-01T00:00:00\",\"1970-01-01T00:00:00\",\"1970-01-01T00:00:00\",\"1970-01-01T00:00:00\",\"1970-01-01T00:00:00\",\"1970-01-01T00:00:00\",\"1970-01-01T00:00:00\",\"1970-01-01T00:00:00\",\"1970-01-01T00:00:00\",\"1970-01-01T00:00:00\",\"1970-01-01T00:00:00\",\"1970-01-01T00:00:00\",\"1970-01-01T00:00:00\",\"1970-01-01T00:00:00\",\"1970-01-01T00:00:00\",\"1970-01-01T00:00:00\",\"1970-01-01T00:00:00\",\"1970-01-01T00:00:00\",\"1970-01-01T00:00:00\",\"1970-01-01T00:00:00\",\"1970-01-01T00:00:00\",\"1970-01-01T00:00:00\",\"1970-01-01T00:00:00\",\"1970-01-01T00:00:00\",\"1970-01-01T00:00:00\",\"1970-01-01T00:00:00\",\"1970-01-01T00:00:00\",\"1970-01-01T00:00:00\",\"1970-01-01T00:00:00\",\"1970-01-01T00:00:00\",\"1970-01-01T00:00:00\",\"1970-01-01T00:00:00\",\"1970-01-01T00:00:00\",\"1970-01-01T00:00:00\",\"1970-01-01T00:00:00\",\"1970-01-01T00:00:00\",\"1970-01-01T00:00:00\",\"1970-01-01T00:00:00\",\"1970-01-01T00:00:00\",\"1970-01-01T00:00:00\",\"1970-01-01T00:00:00\",\"1970-01-01T00:00:00\",\"1970-01-01T00:00:00\",\"1970-01-01T00:00:00\",\"1970-01-01T00:00:00\",\"1970-01-01T00:00:00\",\"1970-01-01T00:00:00\",\"1970-01-01T00:00:00\",\"1970-01-01T00:00:00\",\"1970-01-01T00:00:00\",\"1970-01-01T00:00:00\",\"1970-01-01T00:00:00\",\"1970-01-01T00:00:00\",\"1970-01-01T00:00:00\",\"1970-01-01T00:00:00\",\"1970-01-01T00:00:00\",\"1970-01-01T00:00:00\",\"1970-01-01T00:00:00\",\"1970-01-01T00:00:00\",\"1970-01-01T00:00:00\",\"1970-01-01T00:00:00\",\"1970-01-01T00:00:00\",\"1970-01-01T00:00:00\",\"1970-01-01T00:00:00\",\"1970-01-01T00:00:00\",\"1970-01-01T00:00:00\",\"1970-01-01T00:00:00\",\"1970-01-01T00:00:00\",\"1970-01-01T00:00:00\",\"1970-01-01T00:00:00\",\"1970-01-01T00:00:00\",\"1970-01-01T00:00:00\",\"1970-01-01T00:00:00\",\"1970-01-01T00:00:00\",\"1970-01-01T00:00:00\",\"1970-01-01T00:00:00\",\"1970-01-01T00:00:00\",\"1970-01-01T00:00:00\",\"1970-01-01T00:00:00\",\"1970-01-01T00:00:00\",\"1970-01-01T00:00:00\",\"1970-01-01T00:00:00\",\"1970-01-01T00:00:00\",\"1970-01-01T00:00:00\",\"1970-01-01T00:00:00\",\"1970-01-01T00:00:00\",\"1970-01-01T00:00:00\",\"1970-01-01T00:00:00\",\"1970-01-01T00:00:00\",\"1970-01-01T00:00:00\",\"1970-01-01T00:00:00\",\"1970-01-01T00:00:00\",\"1970-01-01T00:00:00\",\"1970-01-01T00:00:00\",\"1970-01-01T00:00:00\",\"1970-01-01T00:00:00\",\"1970-01-01T00:00:00\",\"1970-01-01T00:00:00\",\"1970-01-01T00:00:00\",\"1970-01-01T00:00:00\",\"1970-01-01T00:00:00\",\"1970-01-01T00:00:00\",\"1970-01-01T00:00:00\",\"1970-01-01T00:00:00\",\"1970-01-01T00:00:00\",\"1970-01-01T00:00:00\",\"1970-01-01T00:00:00\",\"1970-01-01T00:00:00\",\"1970-01-01T00:00:00\",\"1970-01-01T00:00:00\",\"1970-01-01T00:00:00\",\"1970-01-01T00:00:00\",\"1970-01-01T00:00:00\",\"1970-01-01T00:00:00\",\"1970-01-01T00:00:00\",\"1970-01-01T00:00:00\",\"1970-01-01T00:00:00\",\"1970-01-01T00:00:00\",\"1970-01-01T00:00:00\",\"1970-01-01T00:00:00\",\"1970-01-01T00:00:00\",\"1970-01-01T00:00:00\",\"1970-01-01T00:00:00\",\"1970-01-01T00:00:00\",\"1970-01-01T00:00:00\",\"1970-01-01T00:00:00\",\"1970-01-01T00:00:00\",\"1970-01-01T00:00:00\",\"1970-01-01T00:00:00\",\"1970-01-01T00:00:00\",\"1970-01-01T00:00:00\",\"1970-01-01T00:00:00\",\"1970-01-01T00:00:00\",\"1970-01-01T00:00:00\",\"1970-01-01T00:00:00\",\"1970-01-01T00:00:00\",\"1970-01-01T00:00:00\",\"1970-01-01T00:00:00\",\"1970-01-01T00:00:00\",\"1970-01-01T00:00:00\",\"1970-01-01T00:00:00\",\"1970-01-01T00:00:00\",\"1970-01-01T00:00:00\",\"1970-01-01T00:00:00\",\"1970-01-01T00:00:00\",\"1970-01-01T00:00:00\",\"1970-01-01T00:00:00\",\"1970-01-01T00:00:00\",\"1970-01-01T00:00:00\",\"1970-01-01T00:00:00\",\"1970-01-01T00:00:00\",\"1970-01-01T00:00:00\",\"1970-01-01T00:00:00\",\"1970-01-01T00:00:00\",\"1970-01-01T00:00:00\",\"1970-01-01T00:00:00\",\"1970-01-01T00:00:00\",\"1970-01-01T00:00:00\",\"1970-01-01T00:00:00\",\"1970-01-01T00:00:00\",\"1970-01-01T00:00:00\",\"1970-01-01T00:00:00\",\"1970-01-01T00:00:00\",\"1970-01-01T00:00:00\",\"1970-01-01T00:00:00\",\"1970-01-01T00:00:00\",\"1970-01-01T00:00:00\",\"1970-01-01T00:00:00\",\"1970-01-01T00:00:00\",\"1970-01-01T00:00:00\",\"1970-01-01T00:00:00\",\"1970-01-01T00:00:00\",\"1970-01-01T00:00:00\",\"1970-01-01T00:00:00\",\"1970-01-01T00:00:00\",\"1970-01-01T00:00:00\",\"1970-01-01T00:00:00\",\"1970-01-01T00:00:00\",\"1970-01-01T00:00:00\",\"1970-01-01T00:00:00\",\"1970-01-01T00:00:00\",\"1970-01-01T00:00:00\",\"1970-01-01T00:00:00\",\"1970-01-01T00:00:00\",\"1970-01-01T00:00:00\",\"1970-01-01T00:00:00\",\"1970-01-01T00:00:00\",\"1970-01-01T00:00:00\",\"1970-01-01T00:00:00\",\"1970-01-01T00:00:00\",\"1970-01-01T00:00:00\",\"1970-01-01T00:00:00\",\"1970-01-01T00:00:00\",\"1970-01-01T00:00:00\",\"1970-01-01T00:00:00\",\"1970-01-01T00:00:00\",\"1970-01-01T00:00:00\",\"1970-01-01T00:00:00\",\"1970-01-01T00:00:00\",\"1970-01-01T00:00:00\",\"1970-01-01T00:00:00\",\"1970-01-01T00:00:00\",\"1970-01-01T00:00:00\",\"1970-01-01T00:00:00\",\"1970-01-01T00:00:00\",\"1970-01-01T00:00:00\",\"1970-01-01T00:00:00\",\"1970-01-01T00:00:00\",\"1970-01-01T00:00:00\",\"1970-01-01T00:00:00\",\"1970-01-01T00:00:00\",\"1970-01-01T00:00:00\",\"1970-01-01T00:00:00\",\"1970-01-01T00:00:00\",\"1970-01-01T00:00:00\",\"1970-01-01T00:00:00\",\"1970-01-01T00:00:00\",\"1970-01-01T00:00:00\",\"1970-01-01T00:00:00\",\"1970-01-01T00:00:00\",\"1970-01-01T00:00:00\",\"1970-01-01T00:00:00\",\"1970-01-01T00:00:00\",\"1970-01-01T00:00:00\",\"1970-01-01T00:00:00\",\"1970-01-01T00:00:00\",\"1970-01-01T00:00:00\",\"1970-01-01T00:00:00\",\"1970-01-01T00:00:00\",\"1970-01-01T00:00:00\",\"1970-01-01T00:00:00\",\"1970-01-01T00:00:00\",\"1970-01-01T00:00:00\",\"1970-01-01T00:00:00\",\"1970-01-01T00:00:00\",\"1970-01-01T00:00:00\",\"1970-01-01T00:00:00\",\"1970-01-01T00:00:00\",\"1970-01-01T00:00:00\",\"1970-01-01T00:00:00\",\"1970-01-01T00:00:00\",\"1970-01-01T00:00:00\",\"1970-01-01T00:00:00\",\"1970-01-01T00:00:00\",\"1970-01-01T00:00:00\",\"1970-01-01T00:00:00\",\"1970-01-01T00:00:00\",\"1970-01-01T00:00:00\",\"1970-01-01T00:00:00\",\"1970-01-01T00:00:00\",\"1970-01-01T00:00:00\",\"1970-01-01T00:00:00\",\"1970-01-01T00:00:00\",\"1970-01-01T00:00:00\",\"1970-01-01T00:00:00\",\"1970-01-01T00:00:00\",\"1970-01-01T00:00:00\",\"1970-01-01T00:00:00\",\"1970-01-01T00:00:00\",\"1970-01-01T00:00:00\",\"1970-01-01T00:00:00\",\"1970-01-01T00:00:00\",\"1970-01-01T00:00:00\",\"1970-01-01T00:00:00\",\"1970-01-01T00:00:00\",\"1970-01-01T00:00:00\",\"1970-01-01T00:00:00\",\"1970-01-01T00:00:00\",\"1970-01-01T00:00:00\",\"1970-01-01T00:00:00\",\"1970-01-01T00:00:00\",\"1970-01-01T00:00:00\",\"1970-01-01T00:00:00\",\"1970-01-01T00:00:00\",\"1970-01-01T00:00:00\",\"1970-01-01T00:00:00\",\"1970-01-01T00:00:00\",\"1970-01-01T00:00:00\",\"1970-01-01T00:00:00\",\"1970-01-01T00:00:00\",\"1970-01-01T00:00:00\",\"1970-01-01T00:00:00\",\"1970-01-01T00:00:00\",\"1970-01-01T00:00:00\",\"1970-01-01T00:00:00\",\"1970-01-01T00:00:00\",\"1970-01-01T00:00:00\",\"1970-01-01T00:00:00\",\"1970-01-01T00:00:00\",\"1970-01-01T00:00:00\",\"1970-01-01T00:00:00\",\"1970-01-01T00:00:00\",\"1970-01-01T00:00:00\",\"1970-01-01T00:00:00\",\"1970-01-01T00:00:00\",\"1970-01-01T00:00:00\",\"1970-01-01T00:00:00\",\"1970-01-01T00:00:00\",\"1970-01-01T00:00:00\",\"1970-01-01T00:00:00\",\"1970-01-01T00:00:00\",\"1970-01-01T00:00:00\",\"1970-01-01T00:00:00\",\"1970-01-01T00:00:00\",\"1970-01-01T00:00:00\",\"1970-01-01T00:00:00\",\"1970-01-01T00:00:00\",\"1970-01-01T00:00:00\",\"1970-01-01T00:00:00\",\"1970-01-01T00:00:00\",\"1970-01-01T00:00:00\",\"1970-01-01T00:00:00\",\"1970-01-01T00:00:00\",\"1970-01-01T00:00:00\",\"1970-01-01T00:00:00\",\"1970-01-01T00:00:00\",\"1970-01-01T00:00:00\",\"1970-01-01T00:00:00\",\"1970-01-01T00:00:00\",\"1970-01-01T00:00:00\",\"1970-01-01T00:00:00\",\"1970-01-01T00:00:00\",\"1970-01-01T00:00:00\",\"1970-01-01T00:00:00\",\"1970-01-01T00:00:00\",\"1970-01-01T00:00:00\",\"1970-01-01T00:00:00\",\"1970-01-01T00:00:00\",\"1970-01-01T00:00:00\",\"1970-01-01T00:00:00\",\"1970-01-01T00:00:00\",\"1970-01-01T00:00:00\",\"1970-01-01T00:00:00\",\"1970-01-01T00:00:00\",\"1970-01-01T00:00:00\",\"1970-01-01T00:00:00\",\"1970-01-01T00:00:00\",\"1970-01-01T00:00:00\",\"1970-01-01T00:00:00.000001\",\"1970-01-01T00:00:00.000001\",\"1970-01-01T00:00:00.000001\",\"1970-01-01T00:00:00.000001\",\"1970-01-01T00:00:00.000001\",\"1970-01-01T00:00:00.000001\",\"1970-01-01T00:00:00.000001\",\"1970-01-01T00:00:00.000001\",\"1970-01-01T00:00:00.000001\",\"1970-01-01T00:00:00.000001\",\"1970-01-01T00:00:00.000001\",\"1970-01-01T00:00:00.000001\",\"1970-01-01T00:00:00.000001\",\"1970-01-01T00:00:00.000001\",\"1970-01-01T00:00:00.000001\",\"1970-01-01T00:00:00.000001\",\"1970-01-01T00:00:00.000001\",\"1970-01-01T00:00:00.000001\",\"1970-01-01T00:00:00.000001\",\"1970-01-01T00:00:00.000001\",\"1970-01-01T00:00:00.000001\",\"1970-01-01T00:00:00.000001\",\"1970-01-01T00:00:00.000001\",\"1970-01-01T00:00:00.000001\",\"1970-01-01T00:00:00.000001\",\"1970-01-01T00:00:00.000001\",\"1970-01-01T00:00:00.000001\",\"1970-01-01T00:00:00.000001\",\"1970-01-01T00:00:00.000001\",\"1970-01-01T00:00:00.000001\",\"1970-01-01T00:00:00.000001\",\"1970-01-01T00:00:00.000001\",\"1970-01-01T00:00:00.000001\",\"1970-01-01T00:00:00.000001\",\"1970-01-01T00:00:00.000001\",\"1970-01-01T00:00:00.000001\",\"1970-01-01T00:00:00.000001\",\"1970-01-01T00:00:00.000001\",\"1970-01-01T00:00:00.000001\",\"1970-01-01T00:00:00.000001\",\"1970-01-01T00:00:00.000001\",\"1970-01-01T00:00:00.000001\",\"1970-01-01T00:00:00.000001\",\"1970-01-01T00:00:00.000001\",\"1970-01-01T00:00:00.000001\",\"1970-01-01T00:00:00.000001\",\"1970-01-01T00:00:00.000001\",\"1970-01-01T00:00:00.000001\",\"1970-01-01T00:00:00.000001\",\"1970-01-01T00:00:00.000001\",\"1970-01-01T00:00:00.000001\",\"1970-01-01T00:00:00.000001\",\"1970-01-01T00:00:00.000001\",\"1970-01-01T00:00:00.000001\",\"1970-01-01T00:00:00.000001\",\"1970-01-01T00:00:00.000001\",\"1970-01-01T00:00:00.000001\",\"1970-01-01T00:00:00.000001\",\"1970-01-01T00:00:00.000001\",\"1970-01-01T00:00:00.000001\",\"1970-01-01T00:00:00.000001\",\"1970-01-01T00:00:00.000001\",\"1970-01-01T00:00:00.000001\",\"1970-01-01T00:00:00.000001\",\"1970-01-01T00:00:00.000001\",\"1970-01-01T00:00:00.000001\",\"1970-01-01T00:00:00.000001\",\"1970-01-01T00:00:00.000001\",\"1970-01-01T00:00:00.000001\",\"1970-01-01T00:00:00.000001\",\"1970-01-01T00:00:00.000001\",\"1970-01-01T00:00:00.000001\",\"1970-01-01T00:00:00.000001\",\"1970-01-01T00:00:00.000001\",\"1970-01-01T00:00:00.000001\",\"1970-01-01T00:00:00.000001\",\"1970-01-01T00:00:00.000001\",\"1970-01-01T00:00:00.000001\",\"1970-01-01T00:00:00.000001\",\"1970-01-01T00:00:00.000001\",\"1970-01-01T00:00:00.000001\",\"1970-01-01T00:00:00.000001\",\"1970-01-01T00:00:00.000001\",\"1970-01-01T00:00:00.000001\",\"1970-01-01T00:00:00.000001\",\"1970-01-01T00:00:00.000001\",\"1970-01-01T00:00:00.000001\",\"1970-01-01T00:00:00.000001\",\"1970-01-01T00:00:00.000001\",\"1970-01-01T00:00:00.000001\",\"1970-01-01T00:00:00.000001\",\"1970-01-01T00:00:00.000001\",\"1970-01-01T00:00:00.000001\",\"1970-01-01T00:00:00.000001\",\"1970-01-01T00:00:00.000001\",\"1970-01-01T00:00:00.000001\",\"1970-01-01T00:00:00.000001\",\"1970-01-01T00:00:00.000001\",\"1970-01-01T00:00:00.000001\",\"1970-01-01T00:00:00.000001\",\"1970-01-01T00:00:00.000001\",\"1970-01-01T00:00:00.000001\",\"1970-01-01T00:00:00.000001\",\"1970-01-01T00:00:00.000001\",\"1970-01-01T00:00:00.000001\",\"1970-01-01T00:00:00.000001\",\"1970-01-01T00:00:00.000001\",\"1970-01-01T00:00:00.000001\",\"1970-01-01T00:00:00.000001\",\"1970-01-01T00:00:00.000001\",\"1970-01-01T00:00:00.000001\",\"1970-01-01T00:00:00.000001\",\"1970-01-01T00:00:00.000001\",\"1970-01-01T00:00:00.000001\",\"1970-01-01T00:00:00.000001\",\"1970-01-01T00:00:00.000001\",\"1970-01-01T00:00:00.000001\",\"1970-01-01T00:00:00.000001\",\"1970-01-01T00:00:00.000001\",\"1970-01-01T00:00:00.000001\",\"1970-01-01T00:00:00.000001\",\"1970-01-01T00:00:00.000001\",\"1970-01-01T00:00:00.000001\",\"1970-01-01T00:00:00.000001\",\"1970-01-01T00:00:00.000001\",\"1970-01-01T00:00:00.000001\",\"1970-01-01T00:00:00.000001\",\"1970-01-01T00:00:00.000001\",\"1970-01-01T00:00:00.000001\",\"1970-01-01T00:00:00.000001\",\"1970-01-01T00:00:00.000001\",\"1970-01-01T00:00:00.000001\",\"1970-01-01T00:00:00.000001\",\"1970-01-01T00:00:00.000001\",\"1970-01-01T00:00:00.000001\",\"1970-01-01T00:00:00.000001\",\"1970-01-01T00:00:00.000001\",\"1970-01-01T00:00:00.000001\",\"1970-01-01T00:00:00.000001\",\"1970-01-01T00:00:00.000001\",\"1970-01-01T00:00:00.000001\",\"1970-01-01T00:00:00.000001\",\"1970-01-01T00:00:00.000001\",\"1970-01-01T00:00:00.000001\",\"1970-01-01T00:00:00.000001\",\"1970-01-01T00:00:00.000001\",\"1970-01-01T00:00:00.000001\",\"1970-01-01T00:00:00.000001\",\"1970-01-01T00:00:00.000001\",\"1970-01-01T00:00:00.000001\",\"1970-01-01T00:00:00.000001\",\"1970-01-01T00:00:00.000001\",\"1970-01-01T00:00:00.000001\",\"1970-01-01T00:00:00.000001\",\"1970-01-01T00:00:00.000001\",\"1970-01-01T00:00:00.000001\",\"1970-01-01T00:00:00.000001\",\"1970-01-01T00:00:00.000001\",\"1970-01-01T00:00:00.000001\",\"1970-01-01T00:00:00.000001\",\"1970-01-01T00:00:00.000001\",\"1970-01-01T00:00:00.000001\",\"1970-01-01T00:00:00.000001\",\"1970-01-01T00:00:00.000001\",\"1970-01-01T00:00:00.000001\",\"1970-01-01T00:00:00.000001\",\"1970-01-01T00:00:00.000001\",\"1970-01-01T00:00:00.000001\",\"1970-01-01T00:00:00.000001\",\"1970-01-01T00:00:00.000001\",\"1970-01-01T00:00:00.000001\",\"1970-01-01T00:00:00.000001\",\"1970-01-01T00:00:00.000001\",\"1970-01-01T00:00:00.000001\",\"1970-01-01T00:00:00.000001\",\"1970-01-01T00:00:00.000001\",\"1970-01-01T00:00:00.000001\",\"1970-01-01T00:00:00.000001\",\"1970-01-01T00:00:00.000001\",\"1970-01-01T00:00:00.000001\",\"1970-01-01T00:00:00.000001\",\"1970-01-01T00:00:00.000001\",\"1970-01-01T00:00:00.000001\",\"1970-01-01T00:00:00.000001\",\"1970-01-01T00:00:00.000001\",\"1970-01-01T00:00:00.000001\",\"1970-01-01T00:00:00.000001\",\"1970-01-01T00:00:00.000001\",\"1970-01-01T00:00:00.000001\",\"1970-01-01T00:00:00.000001\",\"1970-01-01T00:00:00.000001\",\"1970-01-01T00:00:00.000001\",\"1970-01-01T00:00:00.000001\",\"1970-01-01T00:00:00.000001\",\"1970-01-01T00:00:00.000001\",\"1970-01-01T00:00:00.000001\",\"1970-01-01T00:00:00.000001\",\"1970-01-01T00:00:00.000001\",\"1970-01-01T00:00:00.000001\",\"1970-01-01T00:00:00.000001\",\"1970-01-01T00:00:00.000001\",\"1970-01-01T00:00:00.000001\",\"1970-01-01T00:00:00.000001\",\"1970-01-01T00:00:00.000001\",\"1970-01-01T00:00:00.000001\",\"1970-01-01T00:00:00.000001\",\"1970-01-01T00:00:00.000001\",\"1970-01-01T00:00:00.000001\",\"1970-01-01T00:00:00.000001\",\"1970-01-01T00:00:00.000001\",\"1970-01-01T00:00:00.000001\",\"1970-01-01T00:00:00.000001\",\"1970-01-01T00:00:00.000001\",\"1970-01-01T00:00:00.000001\",\"1970-01-01T00:00:00.000001\",\"1970-01-01T00:00:00.000001\",\"1970-01-01T00:00:00.000001\",\"1970-01-01T00:00:00.000001\",\"1970-01-01T00:00:00.000001\",\"1970-01-01T00:00:00.000001\",\"1970-01-01T00:00:00.000001\",\"1970-01-01T00:00:00.000001\",\"1970-01-01T00:00:00.000001\",\"1970-01-01T00:00:00.000001\",\"1970-01-01T00:00:00.000001\",\"1970-01-01T00:00:00.000001\",\"1970-01-01T00:00:00.000001\",\"1970-01-01T00:00:00.000001\",\"1970-01-01T00:00:00.000001\",\"1970-01-01T00:00:00.000001\",\"1970-01-01T00:00:00.000001\",\"1970-01-01T00:00:00.000001\",\"1970-01-01T00:00:00.000001\",\"1970-01-01T00:00:00.000001\",\"1970-01-01T00:00:00.000001\",\"1970-01-01T00:00:00.000001\",\"1970-01-01T00:00:00.000001\",\"1970-01-01T00:00:00.000001\",\"1970-01-01T00:00:00.000001\"],\"y\":[1928.7093505859375,1891.118408203125,1865.3717041015625,1856.5914306640625,1871.1337890625,1872.9632568359375,1864.0911865234375,1870.0362548828125,1854.8077392578125,1861.5302734375,1867.841064453125,1843.969482421875,1937.947021484375,1922.2154541015625,1904.3800048828125,1913.4351806640625,1972.976806640625,2011.84765625,2069.97265625,2076.1005859375,2029.4544677734375,2016.14697265625,2032.610107421875,2030.461181640625,1986.51318359375,2043.173828125,2048.53662109375,2017.3692626953125,2023.9237060546875,2039.64501953125,2008.3861083984375,1990.2823486328125,1977.6322021484375,2022.9158935546875,2117.287353515625,2086.3955078125,2089.557373046875,2091.299560546875,2066.3203125,2062.24072265625,2071.22509765625,2115.7744140625,2104.0869140625,2092.582763671875,2089.9248046875,2069.25341796875,2066.594482421875,2055.319580078125,2065.6328125,2080.6201171875,2068.5654296875,2065.12841796875,2061.23291015625,2060.774658203125,2055.778564453125,2065.724609375,2061.04931640625,2052.020263671875,2069.161376953125,2059.17041015625,2076.403564453125,2107.891357421875,2098.082763671875,2133.145751953125,2152.532958984375,2133.6953125,2136.903564453125,2176.27490234375,2283.80078125,2283.80078125,2294.43408203125,2255.888427734375,2245.75830078125,2259.875732421875,2312.721923828125,2261.846435546875,2137.9130859375,2220.459228515625,2224.125,2281.050537109375,2284.626220703125,2313.180419921875,2480.336181640625,2488.127197265625,2507.97314453125,2590.244873046875,2578.5576171875,2594.1865234375,2591.024169921875,2586.467529296875,2522.947021484375,2543.84423828125,2496.204345703125,2521.474609375,2462.92529296875,2459.012451171875,2473.419921875,2474.708251953125,2421.26904296875,2413.949951171875,2423.57080078125,2453.212890625,2397.747802734375,2424.44482421875,2442.442138671875,2472.40673828125,2492.429931640625,2510.058837890625,2439.174560546875,2474.340576171875,2458.921142578125,2445.848388671875,2458.2763671875,2454.317626953125,2418.046875,2427.482666015625,2448.978515625,2507.8955078125,2505.870361328125,2486.768310546875,2504.535400390625,2466.837158203125,2510.2431640625,2531.1865234375,2494.27099609375,2510.933837890625,2520.277587890625,2575.14404296875,2587.57177734375,2563.1767578125,2562.5322265625,2575.512451171875,2542.2333984375,2590.701904296875,2612.796630859375,2633.785400390625,2596.1796875,2644.371337890625,2677.742919921875,2678.295166015625,2696.7529296875,2697.765869140625,2678.24951171875,2635.39599609375,2695.6943359375,2798.062744140625,2847.360595703125,2809.155517578125,2791.94140625,2873.044189453125,2924.182861328125,2922.7099609375,2908.072509765625,2998.23095703125,2982.228515625,2971.529296875,3007.45361328125,3051.818603515625,3019.5830078125,3046.5615234375,3035.677734375,3007.777099609375,2948.2861328125,2869.703857421875,2895.529541015625,2954.650146484375,2951.514892578125,2940.8154296875,2912.684326171875,2964.473388671875,2930.16259765625,2963.7353515625,2957.002197265625,2942.983154296875,2895.990478515625,2867.351318359375,2834.424072265625,2819.897216796875,2833.271728515625,2728.67822265625,2748.739501953125,2719.133056640625,2762.66650390625,2669.510986328125,2697.08837890625,2772.8583984375,2821.51171875,2812.84130859375,2774.4267578125,2773.41162109375,2813.993896484375,2832.44091796875,2820.450927734375,2828.013427734375,2868.504150390625,2871.1787109375,2800.66650390625,2813.30322265625,2886.582275390625,2898.52685546875,2878.6962890625,2826.814697265625,2828.61376953125,2913.23779296875,2931.038330078125,2919.186279296875,2987.3466796875,3011.1435546875,3017.322998046875,3059.70458984375,3064.2236328125,2994.4033203125,2862.970458984375,2968.946533203125,2946.9951171875,2916.2353515625,2900.325439453125,2876.57470703125,2867.99658203125,2859.97314453125,2888.75,2881.46337890625,2873.300537109375,2799.8828125,2801.1279296875,2812.8876953125,2855.26904296875,2869.7958984375,2889.580078125,2901.20166015625,2880.07958984375,2847.798095703125,2814.502197265625,2831.33447265625,2848.90478515625,2842.632080078125,2822.341552734375,2841.24951171875,2842.172607421875,2886.197021484375,2927.44140625,2947.368896484375,2913.63232421875,2928.044189453125,2922.343994140625,2900.516845703125,2911.453857421875,2913.770751953125,2950.334716796875,2966.044677734375,2966.137451171875,2981.476806640625,3034.30712890625,3036.669921875,3024.06494140625,3034.817138671875,3075.0419921875,3056.087890625,3033.65771484375,3059.702392578125,3022.813720703125,3126.806396484375,3133.478759765625,3092.652099609375,3096.4521484375,3100.993408203125,3097.05419921875,3082.1787109375,3078.054443359375,3023.64794921875,3035.372314453125,3020.126220703125,2973.45947265625,2959.510009765625,2954.36669921875,2979.391357421875,2975.117919921875,2967.548583984375,2958.07373046875,2977.765869140625,2987.5654296875,2984.31396484375,2970.1025390625,2956.541259765625,2970.334716796875,2968.477294921875,2942.143310546875,2990.39794921875,3051.239501953125,3041.068115234375,3050.35595703125,3074.3681640625,3086.35009765625,3096.754150390625,3106.320556640625,3113.333740234375,3217.041748046875,3225.91259765625,3300.3154296875,3307.281982421875,3306.305908203125,3378.66455078125,3356.1865234375,3398.728515625,3410.66455078125,3455.529052734375,3438.020263671875,3517.11279296875,3450.69921875,3563.8349609375,3568.758056640625,3578.000244140625,3544.4677734375,3505.6875,3521.710693359375,3571.823974609375,3609.489013671875,3673.255859375,3625.65087890625,3555.568359375,3551.527587890625,3588.171630859375,3587.42822265625,3594.02294921875,3595.927734375,3564.020751953125,3510.33251953125,3522.175048828125,3506.988525390625,3464.864013671875,3504.898681640625,3560.630859375,3539.82373046875,3615.9912109375,3655.699462890625,3423.4365234375,3393.0166015625,3395.19921875,3360.99755859375,3394.221923828125,3382.123291015625,3358.578125,3287.52294921875,3256.206787109375,3250.715576171875,3241.083251953125,3247.737548828125,3184.360107421875,3162.117919921875,3235.31298828125,3242.572509765625,3250.063720703125,3265.3271484375,3259.8359375,3262.581298828125,3242.66552734375,3246.294921875,3281.520263671875,3306.88037109375,3309.765380859375,3277.65771484375,3234.661865234375,3218.5615234375,3224.005859375,3204.5087890625,3206.92822265625,3207.812744140625,3259.137939453125,3284.4052734375,3329.681396484375,3390.2666015625,3387.986572265625,3291.15234375,3335.91650390625,3375.37646484375,3351.970458984375,3384.58935546875,3359.322509765625,3372.491455078125,3322.748046875,3333.218017578125,3335.777099609375,3310.230224609375,3358.066162109375,3378.95947265625,3408.69384765625,3416.324951171875,3439.77685546875,3449.50244140625,3438.474365234375,3474.816650390625,3479.09765625,3552.990966796875,3615.34423828125,3593.195068359375,3543.405029296875,3586.261474609375,3610.78466796875,3644.334228515625,3592.218017578125,3627.58251953125,3692.960205078125,3740.423828125,3713.8544921875,3649.572265625,3567.438232421875,3573.91748046875,3515.976318359375,3514.623779296875,3402.14404296875,3440.181396484375,3483.2529296875,3543.2919921875,3595.080322265625,3565.620361328125,3556.5771484375,3523.108154296875,3489.965576171875,3505.907470703125,3515.044189453125,3444.74951171875,3480.922119140625,3559.28076171875,3554.8994140625,3527.9560546875,3536.999267578125,3467.5439453125,3343.549560546875,3322.48046875,3171.309814453125,3282.34521484375,3313.530029296875,3306.025390625,3304.3935546875,3285.701904296875,3248.92236328125,3356.18212890625,3386.621826171875,3375.76025390625,3355.436279296875,3396.3173828125,3350.5419921875,3408.34326171875,3424.052978515625,3381.120849609375,3450.343017578125,3461.017578125,3495.931640625,3456.40283203125,3456.63623046875,3454.445068359375,3478.87158203125,3486.7021484375,3504.229248046875,3515.044189453125,3556.48388671875,3501.059326171875,3434.680419921875,3436.078857421875,3446.1015625,3441.160400390625,3413.984130859375,3289.15087890625,3236.80322265625,3315.9541015625,3382.93896484375,3367.92919921875,3307.9365234375,3306.16552734375,3320.055908203125,3341.591796875,3306.53857421875,3302.529541015625,3244.12109375,3275.492919921875,3200.1640625,3211.818115234375,3205.898193359375,3180.959228515625,3177.835693359375,3183.662841796875,3148.142578125,3217.8779296875,3215.267333984375,3041.069580078125,3070.017822265625,3096.820556640625,3065.35546875,2973.047607421875,3028.705078125,3060.944091796875,3167.893798828125,3157.663818359375,3149.076171875,3212.7109375,3228.806640625,3220.171875,3156.114990234375,3195.0185546875,3216.55908203125,3153.487548828125,3021.805908203125,3013.312255859375,3009.3232421875,2948.9736328125,2899.135498046875,2921.19189453125,3014.625732421875,3024.950439453125,3105.526611328125,3090.791015625,3111.06396484375,3114.302001953125,3088.350830078125,3066.38818359375,3111.439697265625,3036.306884765625,3018.709228515625,3060.428466796875,3085.86376953125,3064.83984375,2922.506103515625,2895.193603515625,2852.066162109375,2821.95361328125,2818.04833984375,2882.885986328125,2893.001953125,2978.2138671875,2989.976806640625,2984.048583984375,2980.048828125,2932.19677734375,3000.845458984375,3068.270751953125,3107.22998046875,3104.312744140625,3097.725830078125,3142.613525390625,3157.152587890625,3166.657470703125,3175.503662109375,3156.494140625,3220.719970703125,3201.005126953125,3192.677734375,3200.582275390625,3181.902099609375,3186.136962890625,3156.776611328125,3090.95068359375,3063.425048828125,3028.46533203125,3032.2294921875,2947.864990234375,3021.8310546875,2947.06494140625,2945.84130859375,2948.66455078125,2942.68896484375,2963.909912109375,2982.777587890625,3027.94775390625,3051.755859375,3038.957763671875,2936.43115234375,2921.327392578125,2831.31689453125,2850.231689453125,2861.0537109375,2824.2587890625,2830.093017578125,2806.23779296875,2817.85986328125,2839.551025390625,2856.67724609375,2820.5888671875,2827.41162109375,2808.966552734375,2908.906005859375,2919.069091796875,2884.203369140625,2934.6904296875,2888.579345703125,2917.93994140625,2920.33935546875,2916.43408203125,2935.86962890625,2966.95751953125,2945.3994140625,2978.84521484375,2960.069580078125,2982.996337890625,2983.3740234375,2978.940185546875,2984.458984375,3012.668701171875,3075.45751953125,3058.474609375,3025.5,3035.548095703125,3050.927490234375,3034.274658203125,3024.46240234375,3128.528076171875,3146.973388671875,3144.23681640625,3165.701416015625,3159.7099609375,3154.4736328125,3097.912109375,3127.584716796875,3121.310791015625,3189.09912109375,3198.0625,3203.345947265625,3205.32763671875,3199.147705078125,3279.201171875,3244.7646484375,3232.263427734375,3194.005859375,3189.523681640625,3161.172607421875,3106.6396484375,3100.695556640625,3143.765869140625,3175.135986328125,3118.29150390625,3057.106689453125,3021.06591796875,3060.59765625,3083.807373046875,3075.45751953125,3045.8798828125,3069.04150390625,3075.26904296875,3073.00439453125,3083.99560546875,3072.627197265625,3077.108642578125,3124.188232421875,3127.30126953125,3123.952392578125,3030.029296875,3132.30224609375,3100.648193359375,3140.5576171875,3145.8876953125,3183.81640625,3209.32470703125,3252.01513671875,3263.181640625,3246.9140625,3237.2880859375,3287.150146484375,3307.74951171875,3301.444580078125,3283.4443359375,3305.19873046875,3233.052001953125,3280.844970703125,3330.94775390625,3352.0283203125,3330.514892578125,3342.6435546875,3388.41455078125,3408.388427734375,3405.21142578125,3352.12451171875,3369.16259765625,3388.943603515625,3424.945068359375,3370.17333984375,3356.842041015625,3321.8994140625,3274.299560546875,3286.091552734375,3273.24072265625,3207.206787109375,3188.917724609375,3259.04248046875,3197.196044921875,3217.12158203125,3245.710693359375,3263.566650390625,3212.019775390625,3206.388671875,3159.173095703125,3094.679931640625,3079.230224609375,3065.8505859375,3060.363525390625,3025.71044921875,2989.90185546875,3013.67822265625,3007.758056640625,3003.763427734375,3005.496337890625,2999.33544921875,3021.47509765625,3085.96875,3080.289306640625,3118.600830078125,3100.215087890625,3141.3173828125,3093.57275390625,3120.381103515625,3069.556640625,3022.052734375,3013.630126953125,2974.01953125,2988.650390625,3042.60400390625,3056.031982421875,3057.187255859375,3078.50830078125,3068.6904296875,3098.819091796875,3098.96337890625,3060.94091796875,3100.215087890625,3109.840576171875,3128.996826171875,3160.425048828125,3163.84228515625,3159.365478515625,3151.809814453125,3133.280029296875,3136.263916015625,3088.6640625,3080.14501953125,3102.284423828125,3175.29736328125,3173.708984375,3179.7734375,3170.291748046875,3204.3671875,3196.136962890625,3192.14208984375,3166.441650390625,3199.650634765625,3181.9384765625,3165.863037109375,3111.380859375,3152.38720703125,3115.37548828125,3089.2412109375,3125.43505859375,3122.354248046875,3129.429443359375,3119.0048828125,3078.85693359375,3113.283203125,3130.059814453125,3159.636962890625,3140.533203125,3119.05322265625,3093.1611328125,3100.628173828125,3118.180419921875,3202.354736328125,3173.310546875,3208.7548828125,3219.519287109375,3222.379638671875,3228.5380859375,3172.970947265625,3173.40771484375,3161.28564453125,3239.49609375,3408.328857421875,3386.0732421875,3391.068115234375,3365.07861328125,3367.26611328125,3274.900390625,3300.616943359375,3304.894775390625,3294.34619140625,3302.70751953125,3262.35791015625,3326.576416015625,3356.328125,3345.244384765625,3305.6728515625,3348.06396484375,3387.440673828125,3374.36376953125,3366.48876953125,3346.654052734375,3353.168212890625,3354.189453125,3362.501953125,3340.480224609375,3273.73388671875,3307.32568359375,3288.366455078125,3304.02001953125,3293.81103515625,3287.54052734375,3281.94970703125,3282.53271484375,3296.922607421875,3263.718994140625,3285.498046875,3323.70849609375,3334.2578125,3334.791748046875,3359.439697265625,3346.459716796875,3384.13525390625,3481.508056640625,3468.917236328125,3461.33349609375,3498.52294921875,3506.155029296875,3506.057861328125,3485.883544921875,3503.724609375,3477.958984375,3486.27197265625,3489.7724609375,3438.679443359375,3430.75537109375,3416.414794921875,3439.65185546875,3489.82080078125,3520.982421875,3537.462646484375,3528.2744140625,3509.80126953125,3444.31884765625,3471.833984375,3426.33154296875,3409.802978515625,3390.55224609375,3368.52197265625,3406.441162109375,3324.169189453125,3304.624755859375,3252.61962890625,3266.461669921875,3293.36572265625,3283.812744140625,3246.673583984375,3275.380859375,3266.412841796875,3295.023193359375,3285.4697265625,3296.29052734375,3263.05029296875,3249.403076171875,3247.55078125,3318.466796875,3409.658203125,3414.141845703125,3430.859375,3421.696533203125,3441.143310546875,3419.7958984375,3369.935302734375,3382.65625,3425.156982421875,3399.666748046875,3423.10986328125,3423.8896484375,3442.55712890625,3513.229248046875,3523.7568359375,3535.25927734375,3551.050537109375,3579.5146484375,3502.94482421875,3574.786865234375,3763.651611328125,3761.897216796875,3719.981201171875,3684.742431640625,3692.005126953125,3727.58447265625,3699.851806640625,3715.107177734375,3704.09228515625,3697.755859375,3715.010009765625,3687.8134765625,3598.6689453125,3574.347900390625,3643.6552734375,3585.558349609375,3596.86572265625,3619.431884765625,3641.364990234375,3784.902099609375,3805.37255859375,3763.9443359375,3786.656982421875,3804.203125,3852.517333984375,3769.664306640625,3753.59228515625,3722.8154296875,3713.728759765625,3713.28955078125,3728.335693359375,3765.658447265625,3875.233642578125,3882.072998046875,4041.037353515625,3989.64501953125,4039.18115234375,4038.790283203125,4026.089111328125,4054.2275390625,4005.96142578125,4008.99072265625,4033.513671875,4009.57666015625,3938.106201171875,3899.855224609375,3993.260009765625,3959.063720703125,3909.185791015625,4010.16259765625,4024.379150390625,4001.076416015625,4000.34375,3987.007080078125,3919.982177734375,3970.9833984375,4014.266357421875,4027.70068359375,4095.99560546875,4053.7392578125,4110.994140625,4122.3759765625,4057.158447265625,3885.981201171875,3879.7275390625,3881.730712890625,3821.105712890625,3788.472412109375,3752.712890625,3787.300048828125,3826.821044921875,3794.6279296875,3856.670166015625,3911.384033203125,3887.886474609375,3881.34033203125,3855.937255859375,3893.162353515625,3909.52783203125,3850.709716796875,3783.880126953125,3773.328369140625,3738.35009765625,3775.86865234375,3785.73681640625,3743.089111328125,3763.75341796875,3733.611572265625,3781.33984375,3732.927734375,3774.598388671875,3755.1552734375,3831.022705078125,3887.59326171875,3885.638916015625,3869.273681640625,3804.495849609375,3857.15869140625,3811.62841796875,3791.305908203125,3839.086181640625,3773.296142578125,3759.616455078125,3771.2294921875,3831.70458984375,3788.451904296875,3786.040771484375,3779.00390625,3743.3291015625,3676.85009765625,3612.7333984375,3644.12744140625,3656.0849609375,3687.035888671875,3769.654541015625,3832.197021484375,3797.505859375,3791.0107421875,3770.885009765625,3816.647216796875,3771.27880859375,3754.597900390625,3741.409912109375,3727.18896484375,3750.316650390625,3756.2705078125,3777.5771484375,3794.701171875,3871.759521484375,3842.235107421875,3915.11083984375,3953.689208984375,3902.3662109375,3957.182861328125,3948.177978515625,3929.873046875,3922.294921875,3847.156005859375,3861.47509765625,4117.59814453125,4103.08154296875,4112.185546875,4247.11083984375,4244.00390625,4229.15771484375,4243.95458984375,4247.80126953125,4263.8310546875,4328.2939453125,4321.6357421875,4306.09912109375,4325.82763671875,4337.41845703125,4224.916015625,4098.65380859375,4114.58447265625,4143.4375,4115.916015625,4171.353515625,4138.70263671875,4139.9853515625,4236.95068359375,4356.11083984375,4429.05712890625,4461.9052734375,4489.72216796875,4440.89453125,4403.3115234375,4441.33837890625,4436.1103515625,4444.88916015625,4450.5615234375,4491.9423828125,4459.685546875,4451.10400390625,4418.453125,4415.1982421875,4396.2587890625,4389.15625,4446.6650390625,4418.55224609375,4456.3818359375,4461.21484375,4451.9921875,4444.4951171875,4287.15966796875,4237.8388671875,4226.7412109375,4210.56396484375,4213.32568359375,4216.72900390625,4234.23828125,4250.21826171875,4210.56396484375,4229.70068359375,4175.29931640625,4194.53466796875,4214.8544921875,4195.52099609375,4195.224609375,4170.021484375,4092.88330078125,4080.50341796875,4060.922607421875,4039.369384765625,4053.228759765625,4077.009765625,4034.29248046875,3970.660888671875,4020.844482421875,4002.69921875,4012.24169921875,4045.169677734375,4029.743896484375,4039.038818359375,3924.136474609375,3939.710205078125,3919.88427734375,3927.004150390625,4093.42431640625,4104.548828125,4100.69287109375,4151.8154296875,4150.529296875,4104.0048828125,4099.60498046875,3974.616455078125,3994.4423828125,4027.37060546875,4197.203125,4266.91552734375,4304.095703125,4284.17041015625,4197.4990234375,4223.15966796875,4228.89501953125,4254.70361328125,4305.77685546875,4414.20166015625,4395.859375,4402.43505859375,4383.05419921875,4378.01123046875,4405.20361328125,4423.9423828125,4365.89794921875,4280.166015625,4299.2998046875,4224.19775390625,4123.73193359375,4111.8662109375,4132.82958984375,4122.5458984375,4118.34326171875,4112.36083984375,4049.075439453125,4066.528564453125,4129.12158203125,4054.118408203125,4049.273193359375,3983.318115234375,4062.523681640625,3993.750244140625,4218.017578125,4243.18359375,4185.78125,4202.14697265625,4159.330078125,4087.964599609375,4041.87451171875,4000.294189453125,4119.98046875,4108.9287109375,4115.767578125,4029.335693359375,4004.704833984375,4063.680419921875,4063.92822265625,4076.16943359375,4037.265380859375,4032.804931640625,4070.866455078125,4055.057373046875,4046.78076171875,3993.900634765625,4001.38427734375,3928.631103515625,3915.348876953125,3875.701416015625,3900.183837890625,3870.10107421875,3839.076904296875,3750.761962890625,3746.103271484375,3752.645263671875,3643.218017578125,3597.573486328125,3580.723388671875,3452.5625,3462.276123046875,3500.9326171875,3515.80029296875,3569.869873046875,3579.385009765625,3558.02490234375,3543.801513671875,3475.31005859375,3480.117431640625,3466.885009765625,3466.885009765625,3466.29052734375,3531.75830078125,3546.576904296875,3596.978759765625,3625.525146484375,3603.7685546875,3619.03271484375,3574.379638671875,3519.517333984375,3512.7275390625,3373.16796875,3270.33203125,3245.20556640625,3263.93896484375,3217.997314453125,3203.0302734375,3219.583251953125,3244.957763671875,3269.83642578125,3292.336669921875,3285.199951171875,3382.931396484375,3371.6318359375,3417.623046875,3413.16259765625,3441.9072265625,3423.272705078125,3400.772705078125,3423.867431640625,3429.517333984375,3414.74853515625,3418.514892578125,3409.990966796875,3588.50390625,3484.03271484375,3517.435791015625,3548.36083984375,3529.9248046875,3487.79931640625,3467.47998046875,3494.737548828125,3446.367431640625,3483.63623046875,3506.13623046875,3467.876220703125,3466.885009765625,3467.28173828125,3432.88720703125,3419.4072265625,3375.199951171875,3380.89990234375,3371.10009765625,3384.199951171875,3421.89990234375],\"type\":\"scatter\",\"xaxis\":\"x2\",\"yaxis\":\"y2\"},{\"marker\":{\"color\":\"green\",\"size\":10,\"symbol\":\"triangle-up\"},\"mode\":\"markers\",\"name\":\"Entry\",\"x\":[\"1970-01-01T00:00:00\"],\"y\":[2762.66650390625],\"type\":\"scatter\",\"xaxis\":\"x2\",\"yaxis\":\"y2\"},{\"marker\":{\"color\":\"red\",\"size\":10,\"symbol\":\"triangle-down\"},\"mode\":\"markers\",\"name\":\"Exit\",\"x\":[\"1970-01-01T00:00:00.000001\"],\"y\":[3421.89990234375],\"type\":\"scatter\",\"xaxis\":\"x2\",\"yaxis\":\"y2\"}],                        {\"template\":{\"data\":{\"barpolar\":[{\"marker\":{\"line\":{\"color\":\"white\",\"width\":0.5},\"pattern\":{\"fillmode\":\"overlay\",\"size\":10,\"solidity\":0.2}},\"type\":\"barpolar\"}],\"bar\":[{\"error_x\":{\"color\":\"#2a3f5f\"},\"error_y\":{\"color\":\"#2a3f5f\"},\"marker\":{\"line\":{\"color\":\"white\",\"width\":0.5},\"pattern\":{\"fillmode\":\"overlay\",\"size\":10,\"solidity\":0.2}},\"type\":\"bar\"}],\"carpet\":[{\"aaxis\":{\"endlinecolor\":\"#2a3f5f\",\"gridcolor\":\"#C8D4E3\",\"linecolor\":\"#C8D4E3\",\"minorgridcolor\":\"#C8D4E3\",\"startlinecolor\":\"#2a3f5f\"},\"baxis\":{\"endlinecolor\":\"#2a3f5f\",\"gridcolor\":\"#C8D4E3\",\"linecolor\":\"#C8D4E3\",\"minorgridcolor\":\"#C8D4E3\",\"startlinecolor\":\"#2a3f5f\"},\"type\":\"carpet\"}],\"choropleth\":[{\"colorbar\":{\"outlinewidth\":0,\"ticks\":\"\"},\"type\":\"choropleth\"}],\"contourcarpet\":[{\"colorbar\":{\"outlinewidth\":0,\"ticks\":\"\"},\"type\":\"contourcarpet\"}],\"contour\":[{\"colorbar\":{\"outlinewidth\":0,\"ticks\":\"\"},\"colorscale\":[[0.0,\"#0d0887\"],[0.1111111111111111,\"#46039f\"],[0.2222222222222222,\"#7201a8\"],[0.3333333333333333,\"#9c179e\"],[0.4444444444444444,\"#bd3786\"],[0.5555555555555556,\"#d8576b\"],[0.6666666666666666,\"#ed7953\"],[0.7777777777777778,\"#fb9f3a\"],[0.8888888888888888,\"#fdca26\"],[1.0,\"#f0f921\"]],\"type\":\"contour\"}],\"heatmapgl\":[{\"colorbar\":{\"outlinewidth\":0,\"ticks\":\"\"},\"colorscale\":[[0.0,\"#0d0887\"],[0.1111111111111111,\"#46039f\"],[0.2222222222222222,\"#7201a8\"],[0.3333333333333333,\"#9c179e\"],[0.4444444444444444,\"#bd3786\"],[0.5555555555555556,\"#d8576b\"],[0.6666666666666666,\"#ed7953\"],[0.7777777777777778,\"#fb9f3a\"],[0.8888888888888888,\"#fdca26\"],[1.0,\"#f0f921\"]],\"type\":\"heatmapgl\"}],\"heatmap\":[{\"colorbar\":{\"outlinewidth\":0,\"ticks\":\"\"},\"colorscale\":[[0.0,\"#0d0887\"],[0.1111111111111111,\"#46039f\"],[0.2222222222222222,\"#7201a8\"],[0.3333333333333333,\"#9c179e\"],[0.4444444444444444,\"#bd3786\"],[0.5555555555555556,\"#d8576b\"],[0.6666666666666666,\"#ed7953\"],[0.7777777777777778,\"#fb9f3a\"],[0.8888888888888888,\"#fdca26\"],[1.0,\"#f0f921\"]],\"type\":\"heatmap\"}],\"histogram2dcontour\":[{\"colorbar\":{\"outlinewidth\":0,\"ticks\":\"\"},\"colorscale\":[[0.0,\"#0d0887\"],[0.1111111111111111,\"#46039f\"],[0.2222222222222222,\"#7201a8\"],[0.3333333333333333,\"#9c179e\"],[0.4444444444444444,\"#bd3786\"],[0.5555555555555556,\"#d8576b\"],[0.6666666666666666,\"#ed7953\"],[0.7777777777777778,\"#fb9f3a\"],[0.8888888888888888,\"#fdca26\"],[1.0,\"#f0f921\"]],\"type\":\"histogram2dcontour\"}],\"histogram2d\":[{\"colorbar\":{\"outlinewidth\":0,\"ticks\":\"\"},\"colorscale\":[[0.0,\"#0d0887\"],[0.1111111111111111,\"#46039f\"],[0.2222222222222222,\"#7201a8\"],[0.3333333333333333,\"#9c179e\"],[0.4444444444444444,\"#bd3786\"],[0.5555555555555556,\"#d8576b\"],[0.6666666666666666,\"#ed7953\"],[0.7777777777777778,\"#fb9f3a\"],[0.8888888888888888,\"#fdca26\"],[1.0,\"#f0f921\"]],\"type\":\"histogram2d\"}],\"histogram\":[{\"marker\":{\"pattern\":{\"fillmode\":\"overlay\",\"size\":10,\"solidity\":0.2}},\"type\":\"histogram\"}],\"mesh3d\":[{\"colorbar\":{\"outlinewidth\":0,\"ticks\":\"\"},\"type\":\"mesh3d\"}],\"parcoords\":[{\"line\":{\"colorbar\":{\"outlinewidth\":0,\"ticks\":\"\"}},\"type\":\"parcoords\"}],\"pie\":[{\"automargin\":true,\"type\":\"pie\"}],\"scatter3d\":[{\"line\":{\"colorbar\":{\"outlinewidth\":0,\"ticks\":\"\"}},\"marker\":{\"colorbar\":{\"outlinewidth\":0,\"ticks\":\"\"}},\"type\":\"scatter3d\"}],\"scattercarpet\":[{\"marker\":{\"colorbar\":{\"outlinewidth\":0,\"ticks\":\"\"}},\"type\":\"scattercarpet\"}],\"scattergeo\":[{\"marker\":{\"colorbar\":{\"outlinewidth\":0,\"ticks\":\"\"}},\"type\":\"scattergeo\"}],\"scattergl\":[{\"marker\":{\"colorbar\":{\"outlinewidth\":0,\"ticks\":\"\"}},\"type\":\"scattergl\"}],\"scattermapbox\":[{\"marker\":{\"colorbar\":{\"outlinewidth\":0,\"ticks\":\"\"}},\"type\":\"scattermapbox\"}],\"scatterpolargl\":[{\"marker\":{\"colorbar\":{\"outlinewidth\":0,\"ticks\":\"\"}},\"type\":\"scatterpolargl\"}],\"scatterpolar\":[{\"marker\":{\"colorbar\":{\"outlinewidth\":0,\"ticks\":\"\"}},\"type\":\"scatterpolar\"}],\"scatter\":[{\"fillpattern\":{\"fillmode\":\"overlay\",\"size\":10,\"solidity\":0.2},\"type\":\"scatter\"}],\"scatterternary\":[{\"marker\":{\"colorbar\":{\"outlinewidth\":0,\"ticks\":\"\"}},\"type\":\"scatterternary\"}],\"surface\":[{\"colorbar\":{\"outlinewidth\":0,\"ticks\":\"\"},\"colorscale\":[[0.0,\"#0d0887\"],[0.1111111111111111,\"#46039f\"],[0.2222222222222222,\"#7201a8\"],[0.3333333333333333,\"#9c179e\"],[0.4444444444444444,\"#bd3786\"],[0.5555555555555556,\"#d8576b\"],[0.6666666666666666,\"#ed7953\"],[0.7777777777777778,\"#fb9f3a\"],[0.8888888888888888,\"#fdca26\"],[1.0,\"#f0f921\"]],\"type\":\"surface\"}],\"table\":[{\"cells\":{\"fill\":{\"color\":\"#EBF0F8\"},\"line\":{\"color\":\"white\"}},\"header\":{\"fill\":{\"color\":\"#C8D4E3\"},\"line\":{\"color\":\"white\"}},\"type\":\"table\"}]},\"layout\":{\"annotationdefaults\":{\"arrowcolor\":\"#2a3f5f\",\"arrowhead\":0,\"arrowwidth\":1},\"autotypenumbers\":\"strict\",\"coloraxis\":{\"colorbar\":{\"outlinewidth\":0,\"ticks\":\"\"}},\"colorscale\":{\"diverging\":[[0,\"#8e0152\"],[0.1,\"#c51b7d\"],[0.2,\"#de77ae\"],[0.3,\"#f1b6da\"],[0.4,\"#fde0ef\"],[0.5,\"#f7f7f7\"],[0.6,\"#e6f5d0\"],[0.7,\"#b8e186\"],[0.8,\"#7fbc41\"],[0.9,\"#4d9221\"],[1,\"#276419\"]],\"sequential\":[[0.0,\"#0d0887\"],[0.1111111111111111,\"#46039f\"],[0.2222222222222222,\"#7201a8\"],[0.3333333333333333,\"#9c179e\"],[0.4444444444444444,\"#bd3786\"],[0.5555555555555556,\"#d8576b\"],[0.6666666666666666,\"#ed7953\"],[0.7777777777777778,\"#fb9f3a\"],[0.8888888888888888,\"#fdca26\"],[1.0,\"#f0f921\"]],\"sequentialminus\":[[0.0,\"#0d0887\"],[0.1111111111111111,\"#46039f\"],[0.2222222222222222,\"#7201a8\"],[0.3333333333333333,\"#9c179e\"],[0.4444444444444444,\"#bd3786\"],[0.5555555555555556,\"#d8576b\"],[0.6666666666666666,\"#ed7953\"],[0.7777777777777778,\"#fb9f3a\"],[0.8888888888888888,\"#fdca26\"],[1.0,\"#f0f921\"]]},\"colorway\":[\"#636efa\",\"#EF553B\",\"#00cc96\",\"#ab63fa\",\"#FFA15A\",\"#19d3f3\",\"#FF6692\",\"#B6E880\",\"#FF97FF\",\"#FECB52\"],\"font\":{\"color\":\"#2a3f5f\"},\"geo\":{\"bgcolor\":\"white\",\"lakecolor\":\"white\",\"landcolor\":\"white\",\"showlakes\":true,\"showland\":true,\"subunitcolor\":\"#C8D4E3\"},\"hoverlabel\":{\"align\":\"left\"},\"hovermode\":\"closest\",\"mapbox\":{\"style\":\"light\"},\"paper_bgcolor\":\"white\",\"plot_bgcolor\":\"white\",\"polar\":{\"angularaxis\":{\"gridcolor\":\"#EBF0F8\",\"linecolor\":\"#EBF0F8\",\"ticks\":\"\"},\"bgcolor\":\"white\",\"radialaxis\":{\"gridcolor\":\"#EBF0F8\",\"linecolor\":\"#EBF0F8\",\"ticks\":\"\"}},\"scene\":{\"xaxis\":{\"backgroundcolor\":\"white\",\"gridcolor\":\"#DFE8F3\",\"gridwidth\":2,\"linecolor\":\"#EBF0F8\",\"showbackground\":true,\"ticks\":\"\",\"zerolinecolor\":\"#EBF0F8\"},\"yaxis\":{\"backgroundcolor\":\"white\",\"gridcolor\":\"#DFE8F3\",\"gridwidth\":2,\"linecolor\":\"#EBF0F8\",\"showbackground\":true,\"ticks\":\"\",\"zerolinecolor\":\"#EBF0F8\"},\"zaxis\":{\"backgroundcolor\":\"white\",\"gridcolor\":\"#DFE8F3\",\"gridwidth\":2,\"linecolor\":\"#EBF0F8\",\"showbackground\":true,\"ticks\":\"\",\"zerolinecolor\":\"#EBF0F8\"}},\"shapedefaults\":{\"line\":{\"color\":\"#2a3f5f\"}},\"ternary\":{\"aaxis\":{\"gridcolor\":\"#DFE8F3\",\"linecolor\":\"#A2B1C6\",\"ticks\":\"\"},\"baxis\":{\"gridcolor\":\"#DFE8F3\",\"linecolor\":\"#A2B1C6\",\"ticks\":\"\"},\"bgcolor\":\"white\",\"caxis\":{\"gridcolor\":\"#DFE8F3\",\"linecolor\":\"#A2B1C6\",\"ticks\":\"\"}},\"title\":{\"x\":0.05},\"xaxis\":{\"automargin\":true,\"gridcolor\":\"#EBF0F8\",\"linecolor\":\"#EBF0F8\",\"ticks\":\"\",\"title\":{\"standoff\":15},\"zerolinecolor\":\"#EBF0F8\",\"zerolinewidth\":2},\"yaxis\":{\"automargin\":true,\"gridcolor\":\"#EBF0F8\",\"linecolor\":\"#EBF0F8\",\"ticks\":\"\",\"title\":{\"standoff\":15},\"zerolinecolor\":\"#EBF0F8\",\"zerolinewidth\":2}}},\"xaxis\":{\"anchor\":\"y\",\"domain\":[0.0,1.0],\"matches\":\"x2\",\"showticklabels\":false},\"yaxis\":{\"anchor\":\"x\",\"domain\":[0.55,1.0],\"title\":{\"text\":\"Capital\"}},\"xaxis2\":{\"anchor\":\"y2\",\"domain\":[0.0,1.0],\"title\":{\"text\":\"Time\"}},\"yaxis2\":{\"anchor\":\"x2\",\"domain\":[0.0,0.45],\"title\":{\"text\":\"Price\"}},\"annotations\":[{\"font\":{\"size\":16},\"showarrow\":false,\"text\":\"Equity Curve\",\"x\":0.5,\"xanchor\":\"center\",\"xref\":\"paper\",\"y\":1.0,\"yanchor\":\"bottom\",\"yref\":\"paper\"},{\"font\":{\"size\":16},\"showarrow\":false,\"text\":\"Price Action with Entry and Exit Points\",\"x\":0.5,\"xanchor\":\"center\",\"xref\":\"paper\",\"y\":0.45,\"yanchor\":\"bottom\",\"yref\":\"paper\"}],\"title\":{\"text\":\"Backtest Visualizations\"},\"height\":800,\"showlegend\":true},                        {\"responsive\": true}                    ).then(function(){\n",
              "                            \n",
              "var gd = document.getElementById('77154817-0148-467d-ae04-958bd8fff414');\n",
              "var x = new MutationObserver(function (mutations, observer) {{\n",
              "        var display = window.getComputedStyle(gd).display;\n",
              "        if (!display || display === 'none') {{\n",
              "            console.log([gd, 'removed!']);\n",
              "            Plotly.purge(gd);\n",
              "            observer.disconnect();\n",
              "        }}\n",
              "}});\n",
              "\n",
              "// Listen for the removal of the full notebook cells\n",
              "var notebookContainer = gd.closest('#notebook-container');\n",
              "if (notebookContainer) {{\n",
              "    x.observe(notebookContainer, {childList: true});\n",
              "}}\n",
              "\n",
              "// Listen for the clearing of the current output cell\n",
              "var outputEl = gd.closest('.output');\n",
              "if (outputEl) {{\n",
              "    x.observe(outputEl, {childList: true});\n",
              "}}\n",
              "\n",
              "                        })                };                            </script>        </div>\n",
              "</body>\n",
              "</html>"
            ]
          },
          "metadata": {}
        },
        {
          "output_type": "execute_result",
          "data": {
            "text/plain": [
              "                   Entry Candle                   Exit Candle           PnL  \\\n",
              "0 1970-01-01 00:00:00.000000182 1970-01-01 00:00:00.000001238  23732.402344   \n",
              "\n",
              "   Number of units Trade type  \n",
              "0             36.0       Long  "
            ],
            "text/html": [
              "\n",
              "  <div id=\"df-727d8542-c9e2-4f49-a1e3-0561e60d229f\" class=\"colab-df-container\">\n",
              "    <div>\n",
              "<style scoped>\n",
              "    .dataframe tbody tr th:only-of-type {\n",
              "        vertical-align: middle;\n",
              "    }\n",
              "\n",
              "    .dataframe tbody tr th {\n",
              "        vertical-align: top;\n",
              "    }\n",
              "\n",
              "    .dataframe thead th {\n",
              "        text-align: right;\n",
              "    }\n",
              "</style>\n",
              "<table border=\"1\" class=\"dataframe\">\n",
              "  <thead>\n",
              "    <tr style=\"text-align: right;\">\n",
              "      <th></th>\n",
              "      <th>Entry Candle</th>\n",
              "      <th>Exit Candle</th>\n",
              "      <th>PnL</th>\n",
              "      <th>Number of units</th>\n",
              "      <th>Trade type</th>\n",
              "    </tr>\n",
              "  </thead>\n",
              "  <tbody>\n",
              "    <tr>\n",
              "      <th>0</th>\n",
              "      <td>1970-01-01 00:00:00.000000182</td>\n",
              "      <td>1970-01-01 00:00:00.000001238</td>\n",
              "      <td>23732.402344</td>\n",
              "      <td>36.0</td>\n",
              "      <td>Long</td>\n",
              "    </tr>\n",
              "  </tbody>\n",
              "</table>\n",
              "</div>\n",
              "    <div class=\"colab-df-buttons\">\n",
              "\n",
              "  <div class=\"colab-df-container\">\n",
              "    <button class=\"colab-df-convert\" onclick=\"convertToInteractive('df-727d8542-c9e2-4f49-a1e3-0561e60d229f')\"\n",
              "            title=\"Convert this dataframe to an interactive table.\"\n",
              "            style=\"display:none;\">\n",
              "\n",
              "  <svg xmlns=\"http://www.w3.org/2000/svg\" height=\"24px\" viewBox=\"0 -960 960 960\">\n",
              "    <path d=\"M120-120v-720h720v720H120Zm60-500h600v-160H180v160Zm220 220h160v-160H400v160Zm0 220h160v-160H400v160ZM180-400h160v-160H180v160Zm440 0h160v-160H620v160ZM180-180h160v-160H180v160Zm440 0h160v-160H620v160Z\"/>\n",
              "  </svg>\n",
              "    </button>\n",
              "\n",
              "  <style>\n",
              "    .colab-df-container {\n",
              "      display:flex;\n",
              "      gap: 12px;\n",
              "    }\n",
              "\n",
              "    .colab-df-convert {\n",
              "      background-color: #E8F0FE;\n",
              "      border: none;\n",
              "      border-radius: 50%;\n",
              "      cursor: pointer;\n",
              "      display: none;\n",
              "      fill: #1967D2;\n",
              "      height: 32px;\n",
              "      padding: 0 0 0 0;\n",
              "      width: 32px;\n",
              "    }\n",
              "\n",
              "    .colab-df-convert:hover {\n",
              "      background-color: #E2EBFA;\n",
              "      box-shadow: 0px 1px 2px rgba(60, 64, 67, 0.3), 0px 1px 3px 1px rgba(60, 64, 67, 0.15);\n",
              "      fill: #174EA6;\n",
              "    }\n",
              "\n",
              "    .colab-df-buttons div {\n",
              "      margin-bottom: 4px;\n",
              "    }\n",
              "\n",
              "    [theme=dark] .colab-df-convert {\n",
              "      background-color: #3B4455;\n",
              "      fill: #D2E3FC;\n",
              "    }\n",
              "\n",
              "    [theme=dark] .colab-df-convert:hover {\n",
              "      background-color: #434B5C;\n",
              "      box-shadow: 0px 1px 3px 1px rgba(0, 0, 0, 0.15);\n",
              "      filter: drop-shadow(0px 1px 2px rgba(0, 0, 0, 0.3));\n",
              "      fill: #FFFFFF;\n",
              "    }\n",
              "  </style>\n",
              "\n",
              "    <script>\n",
              "      const buttonEl =\n",
              "        document.querySelector('#df-727d8542-c9e2-4f49-a1e3-0561e60d229f button.colab-df-convert');\n",
              "      buttonEl.style.display =\n",
              "        google.colab.kernel.accessAllowed ? 'block' : 'none';\n",
              "\n",
              "      async function convertToInteractive(key) {\n",
              "        const element = document.querySelector('#df-727d8542-c9e2-4f49-a1e3-0561e60d229f');\n",
              "        const dataTable =\n",
              "          await google.colab.kernel.invokeFunction('convertToInteractive',\n",
              "                                                    [key], {});\n",
              "        if (!dataTable) return;\n",
              "\n",
              "        const docLinkHtml = 'Like what you see? Visit the ' +\n",
              "          '<a target=\"_blank\" href=https://colab.research.google.com/notebooks/data_table.ipynb>data table notebook</a>'\n",
              "          + ' to learn more about interactive tables.';\n",
              "        element.innerHTML = '';\n",
              "        dataTable['output_type'] = 'display_data';\n",
              "        await google.colab.output.renderOutput(dataTable, element);\n",
              "        const docLink = document.createElement('div');\n",
              "        docLink.innerHTML = docLinkHtml;\n",
              "        element.appendChild(docLink);\n",
              "      }\n",
              "    </script>\n",
              "  </div>\n",
              "\n",
              "\n",
              "    </div>\n",
              "  </div>\n"
            ],
            "application/vnd.google.colaboratory.intrinsic+json": {
              "type": "dataframe",
              "summary": "{\n  \"name\": \"perform_backtest(stock, lev=1, initial_capital=100000, lot_size=1, tsl=100)\",\n  \"rows\": 1,\n  \"fields\": [\n    {\n      \"column\": \"Entry Candle\",\n      \"properties\": {\n        \"dtype\": \"date\",\n        \"min\": \"1970-01-01 00:00:00.000000182\",\n        \"max\": \"1970-01-01 00:00:00.000000182\",\n        \"num_unique_values\": 1,\n        \"samples\": [\n          \"1970-01-01 00:00:00.000000182\"\n        ],\n        \"semantic_type\": \"\",\n        \"description\": \"\"\n      }\n    },\n    {\n      \"column\": \"Exit Candle\",\n      \"properties\": {\n        \"dtype\": \"date\",\n        \"min\": \"1970-01-01 00:00:00.000001238\",\n        \"max\": \"1970-01-01 00:00:00.000001238\",\n        \"num_unique_values\": 1,\n        \"samples\": [\n          \"1970-01-01 00:00:00.000001238\"\n        ],\n        \"semantic_type\": \"\",\n        \"description\": \"\"\n      }\n    },\n    {\n      \"column\": \"PnL\",\n      \"properties\": {\n        \"dtype\": \"number\",\n        \"std\": null,\n        \"min\": 23732.40234375,\n        \"max\": 23732.40234375,\n        \"num_unique_values\": 1,\n        \"samples\": [\n          23732.40234375\n        ],\n        \"semantic_type\": \"\",\n        \"description\": \"\"\n      }\n    },\n    {\n      \"column\": \"Number of units\",\n      \"properties\": {\n        \"dtype\": \"number\",\n        \"std\": null,\n        \"min\": 36.0,\n        \"max\": 36.0,\n        \"num_unique_values\": 1,\n        \"samples\": [\n          36.0\n        ],\n        \"semantic_type\": \"\",\n        \"description\": \"\"\n      }\n    },\n    {\n      \"column\": \"Trade type\",\n      \"properties\": {\n        \"dtype\": \"string\",\n        \"num_unique_values\": 1,\n        \"samples\": [\n          \"Long\"\n        ],\n        \"semantic_type\": \"\",\n        \"description\": \"\"\n      }\n    }\n  ]\n}"
            }
          },
          "metadata": {},
          "execution_count": 57
        }
      ]
    },
    {
      "cell_type": "markdown",
      "source": [
        "# **5. Strategy Enhancements:**"
      ],
      "metadata": {
        "id": "m29FZet1yrnz"
      }
    },
    {
      "cell_type": "markdown",
      "source": [
        "# Identify market regimes (e.g., sideways, choppy, low-volume) where the strategy may underperform or give false signals.\n"
      ],
      "metadata": {
        "id": "1AqNqhU3NnpZ"
      }
    },
    {
      "cell_type": "markdown",
      "source": [
        "In sideways or low-volatility markets, the price moves within a narrow range. This can lead to fake signals from Bollinger Bands, as small moves look like breakouts. Supertrend may also switch directions too often, causing unnecessary trades. In low-volume periods, the MFI indicator doesn't work well because the buying and selling pressure is too weak to be meaningful."
      ],
      "metadata": {
        "id": "nMZz-r6COS3s"
      }
    },
    {
      "cell_type": "markdown",
      "source": [
        "# Propose modifications to adapt the strategy for these regimes, considering time-frame sensitivity, indicator tuning, or additional filters."
      ],
      "metadata": {
        "id": "v5BwLwqhOT2b"
      }
    },
    {
      "cell_type": "markdown",
      "source": [
        " Adding a Volatility Filter to not to do trading when the market is too quiet(stable).\n",
        "\n",
        "Check the trend on a bigger chart to avoid false MFI signals when volume is low."
      ],
      "metadata": {
        "id": "UMhSiSQSObGF"
      }
    }
  ],
  "metadata": {
    "colab": {
      "provenance": []
    },
    "kernelspec": {
      "display_name": "Python 3",
      "name": "python3"
    },
    "language_info": {
      "name": "python"
    }
  },
  "nbformat": 4,
  "nbformat_minor": 0
}